{
 "cells": [
  {
   "cell_type": "markdown",
   "id": "87e926ec-d49c-46a9-9d5b-906d0748ec4f",
   "metadata": {},
   "source": [
    "# Target\n",
    "1. Try with cured data"
   ]
  },
  {
   "cell_type": "markdown",
   "id": "11fe228e-dffa-4684-9744-872d4c9302b1",
   "metadata": {},
   "source": [
    "# Prerequisites"
   ]
  },
  {
   "cell_type": "code",
   "execution_count": 2,
   "id": "dc13b46e-fb9b-4647-ac50-cbedca658781",
   "metadata": {},
   "outputs": [],
   "source": [
    "import mynnlib\n",
    "from mynnlib import *\n",
    "\n",
    "dataset_dir = \"insect-dataset/moth\""
   ]
  },
  {
   "cell_type": "markdown",
   "id": "4fb4bd81-83f3-4845-8347-ff7df83106f1",
   "metadata": {},
   "source": [
    "# Cure dataset manually\n",
    "1. larva, pupa & egg moved to separated class\n",
    "2. mossaic images or images containing multiple subject discarded or split\n",
    "3. unclear images discarded\n",
    "4. images with too small subject cropped\n",
    "7. <strong>Pending:</strong> To check what to do *-spp classes (seem to contain mixed species under same genus)"
   ]
  },
  {
   "cell_type": "code",
   "execution_count": 28,
   "id": "faebc2e7-a0fb-47b9-a8da-01aed57e4f04",
   "metadata": {},
   "outputs": [
    {
     "name": "stdout",
     "output_type": "stream",
     "text": [
      "Renaming insect-dataset\\moth\\data\\rinaca-grotei-species-group to rinaca-grotei-species\n",
      "Renaming insect-dataset\\moth\\data\\synegiodes-diffusifascia-obliquifascia-group to synegiodes-diffusifascia-obliquifascia\n",
      "Renaming insect-dataset\\moth\\cured-data\\rinaca-grotei-species-group to rinaca-grotei-species\n",
      "Renaming insect-dataset\\moth\\cured-data\\synegiodes-diffusifascia-obliquifascia-group to synegiodes-diffusifascia-obliquifascia\n"
     ]
    }
   ],
   "source": [
    "for dataset in [\"data\", \"cured-data\", \"discarded\"]:\n",
    "    for species_dir in Path(f\"{dataset_dir}/{dataset}\").iterdir():\n",
    "        if species_dir.is_dir():\n",
    "            new_name = species_dir.name.lower()\n",
    "            new_name_2 = re.sub(r\"(%20.*)|(-group$)\", \"\", new_name)\n",
    "            if new_name != new_name_2:\n",
    "                print(f\"Renaming {species_dir} to {new_name_2}\")\n",
    "                new_name = new_name_2\n",
    "            Path(species_dir).rename(f\"{dataset_dir}/{dataset}/{new_name}\")"
   ]
  },
  {
   "cell_type": "code",
   "execution_count": 2,
   "id": "5e04944b-03e8-46fb-b66e-9932396ab9e2",
   "metadata": {},
   "outputs": [
    {
     "name": "stdout",
     "output_type": "stream",
     "text": [
      "Original     image count:  44325,    class count:   3051\n",
      "Cured        image count:  43400,    class count:   3418\n",
      "Discarded    image count:    914\n"
     ]
    }
   ],
   "source": [
    "print(f\"Original     image count: {image_count(f\"{dataset_dir}/data\"):6},    class count: {class_count(f\"{dataset_dir}/data\"):6}\")\n",
    "print(f\"Cured        image count: {image_count(f\"{dataset_dir}/cured-data\"):6},    class count: {class_count(f\"{dataset_dir}/cured-data\"):6}\")\n",
    "print(f\"Discarded    image count: {image_count(f\"{dataset_dir}/discarded\"):6}\")"
   ]
  },
  {
   "cell_type": "code",
   "execution_count": 3,
   "id": "405b855d-9a8a-49eb-95c6-1ee8695f7940",
   "metadata": {},
   "outputs": [
    {
     "name": "stdout",
     "output_type": "stream",
     "text": [
      "Moth class count  :   3051\n",
      "Larva class count :    197\n",
      "Pupa class count  :    150\n",
      "Egg class count   :     20\n"
     ]
    }
   ],
   "source": [
    "print(f\"Moth class count  : {class_count(f\"{dataset_dir}/cured-data\", r\"^(?!.+(?:-(larva|pupa|egg))$).+$\"):6}\")\n",
    "print(f\"Larva class count : {class_count(f\"{dataset_dir}/cured-data\", r\"^.+-larva$\"):6}\")\n",
    "print(f\"Pupa class count  : {class_count(f\"{dataset_dir}/cured-data\", r\"^.+-pupa$\"):6}\")\n",
    "print(f\"Egg class count   : {class_count(f\"{dataset_dir}/cured-data\", r\"^.+-egg$\"):6}\")"
   ]
  },
  {
   "cell_type": "markdown",
   "id": "54412cef-3f0d-4e87-af6a-94541fe2b84d",
   "metadata": {
    "jp-MarkdownHeadingCollapsed": true
   },
   "source": [
    "-------------------\n",
    "\n",
    "# A) Train 25 epochs with a subset\n",
    "to see if curing data is effective"
   ]
  },
  {
   "cell_type": "code",
   "execution_count": 2,
   "id": "59874f59-20e5-469b-b3f3-53e3f1b2a7c8",
   "metadata": {},
   "outputs": [
    {
     "name": "stdout",
     "output_type": "stream",
     "text": [
      "Class count: 995\n",
      "Training data count: 10859\n",
      "Validation data count: 1210\n",
      "Test data count: 568\n"
     ]
    }
   ],
   "source": [
    "split_data_for_train_and_val(f\"{dataset_dir}/cured-data\", \n",
    "                             f\"{dataset_dir}/splits/test\", f\"{dataset_dir}/splits/val\", f\"{dataset_dir}/splits/train\", \n",
    "                             test_data_weight=0.05, val_data_weight=0.1, min_file_cnt_for_val=4, \n",
    "                             class_name_filter_regex=r\"^[a-c].*$\")"
   ]
  },
  {
   "cell_type": "code",
   "execution_count": 3,
   "id": "18357a91-ae8f-45a4-b864-3745616f2a24",
   "metadata": {},
   "outputs": [
    {
     "name": "stdout",
     "output_type": "stream",
     "text": [
      "train class count: 995\n",
      "val class count: 459\n",
      "feature count: 2048\n",
      "device: cuda:0\n"
     ]
    }
   ],
   "source": [
    "model_data = init_model_for_training(f'{dataset_dir}/splits/train', f'{dataset_dir}/splits/val', batch_size=32, arch=\"resnet152\", image_size=224)"
   ]
  },
  {
   "cell_type": "code",
   "execution_count": 6,
   "id": "b4a8e529-15e6-473b-9879-12c089629b8d",
   "metadata": {},
   "outputs": [
    {
     "name": "stdout",
     "output_type": "stream",
     "text": [
      "Epoch    1 /   25  | Train Loss: 5.2367 Acc: 0.1386  | Val Loss: 4.0382 Acc: 0.2281  | Elapsed time: 0:03:50.423420\n",
      "Epoch    2 /   25  | Train Loss: 3.0725 Acc: 0.3604  | Val Loss: 2.7407 Acc: 0.3934  | Elapsed time: 0:06:37.804391\n",
      "Epoch    3 /   25  | Train Loss: 1.8328 Acc: 0.5474  | Val Loss: 2.3702 Acc: 0.4653  | Elapsed time: 0:09:25.967207\n",
      "Epoch    4 /   25  | Train Loss: 1.1282 Acc: 0.6995  | Val Loss: 1.8240 Acc: 0.5628  | Elapsed time: 0:12:14.168783\n",
      "Epoch    5 /   25  | Train Loss: 0.7427 Acc: 0.7899  | Val Loss: 2.3665 Acc: 0.5430  | Elapsed time: 0:15:01.693821\n",
      "Epoch    6 /   25  | Train Loss: 0.5075 Acc: 0.8507  | Val Loss: 1.7807 Acc: 0.6157  | Elapsed time: 0:17:49.623621\n",
      "Epoch    7 /   25  | Train Loss: 0.3627 Acc: 0.8930  | Val Loss: 1.6757 Acc: 0.6603  | Elapsed time: 0:20:37.777056\n",
      "Epoch    8 /   25  | Train Loss: 0.1400 Acc: 0.9632  | Val Loss: 1.3546 Acc: 0.7281  | Elapsed time: 0:23:28.722778\n",
      "Epoch    9 /   25  | Train Loss: 0.0763 Acc: 0.9841  | Val Loss: 1.3383 Acc: 0.7372  | Elapsed time: 0:26:17.506238\n",
      "Epoch   10 /   25  | Train Loss: 0.0603 Acc: 0.9876  | Val Loss: 1.3159 Acc: 0.7430  | Elapsed time: 0:29:06.300760\n",
      "Epoch   11 /   25  | Train Loss: 0.0463 Acc: 0.9922  | Val Loss: 1.3462 Acc: 0.7298  | Elapsed time: 0:31:55.009238\n",
      "Epoch   12 /   25  | Train Loss: 0.0396 Acc: 0.9923  | Val Loss: 1.3537 Acc: 0.7372  | Elapsed time: 0:34:43.696430\n",
      "Epoch   13 /   25  | Train Loss: 0.0325 Acc: 0.9951  | Val Loss: 1.3570 Acc: 0.7438  | Elapsed time: 0:37:32.152548\n",
      "Epoch   14 /   25  | Train Loss: 0.0297 Acc: 0.9951  | Val Loss: 1.3756 Acc: 0.7479  | Elapsed time: 0:40:20.999056\n",
      "Epoch   15 /   25  | Train Loss: 0.0229 Acc: 0.9971  | Val Loss: 1.3662 Acc: 0.7471  | Elapsed time: 0:43:10.133929\n",
      "Epoch   16 /   25  | Train Loss: 0.0201 Acc: 0.9980  | Val Loss: 1.3761 Acc: 0.7430  | Elapsed time: 0:45:57.985406\n",
      "Epoch   17 /   25  | Train Loss: 0.0207 Acc: 0.9979  | Val Loss: 1.3708 Acc: 0.7545  | Elapsed time: 0:48:44.819139\n",
      "Epoch   18 /   25  | Train Loss: 0.0193 Acc: 0.9983  | Val Loss: 1.3628 Acc: 0.7471  | Elapsed time: 0:51:34.213989\n",
      "Epoch   19 /   25  | Train Loss: 0.0178 Acc: 0.9986  | Val Loss: 1.3775 Acc: 0.7421  | Elapsed time: 0:54:24.876221\n",
      "Epoch   20 /   25  | Train Loss: 0.0181 Acc: 0.9985  | Val Loss: 1.3728 Acc: 0.7471  | Elapsed time: 0:57:17.950232\n",
      "Epoch   21 /   25  | Train Loss: 0.0174 Acc: 0.9983  | Val Loss: 1.3777 Acc: 0.7512  | Elapsed time: 1:00:10.384314\n",
      "Epoch   22 /   25  | Train Loss: 0.0171 Acc: 0.9987  | Val Loss: 1.3544 Acc: 0.7562  | Elapsed time: 1:02:59.013795\n",
      "Epoch   23 /   25  | Train Loss: 0.0161 Acc: 0.9985  | Val Loss: 1.3814 Acc: 0.7455  | Elapsed time: 1:05:48.278727\n",
      "Epoch   24 /   25  | Train Loss: 0.0164 Acc: 0.9983  | Val Loss: 1.3542 Acc: 0.7529  | Elapsed time: 1:08:38.248899\n",
      "Epoch   25 /   25  | Train Loss: 0.0154 Acc: 0.9989  | Val Loss: 1.3879 Acc: 0.7529  | Elapsed time: 1:11:26.562996\n"
     ]
    },
    {
     "data": {
      "text/plain": [
       "'insect-dataset/moth/checkpoint.resnet152.2025.01.29.subset.pth'"
      ]
     },
     "execution_count": 6,
     "metadata": {},
     "output_type": "execute_result"
    }
   ],
   "source": [
    "train(model_data, 25, f\"{dataset_dir}/checkpoint_latest.pth\")\n",
    "shutil.copy(f\"{dataset_dir}/checkpoint_latest.pth\", f\"{dataset_dir}/checkpoint.resnet152.{datetime.datetime.now().strftime(\"%Y.%m.%d\")}.subset.pth\")"
   ]
  },
  {
   "cell_type": "code",
   "execution_count": 7,
   "id": "50c3e3e3-1e26-4c43-a960-64058be84e13",
   "metadata": {},
   "outputs": [
    {
     "name": "stdout",
     "output_type": "stream",
     "text": [
      "Accuracy: 448 / 568 -> 78.87%\n",
      "Elapsed time: 0:00:21.461196\n"
     ]
    }
   ],
   "source": [
    "test(model_data, f\"{dataset_dir}/splits/test\", False)"
   ]
  },
  {
   "cell_type": "code",
   "execution_count": 8,
   "id": "92aee45d-2813-4b18-ae96-97648cf8fff0",
   "metadata": {},
   "outputs": [
    {
     "name": "stdout",
     "output_type": "stream",
     "text": [
      "acidon-nigrobasis        : bradina-spp(0.750)  achaea-janata(0.104)  aphendala-spp(0.029)  aroa-spp(0.026)  \n",
      "Adoxophyes-privatana     : agathodes-ostentalis(0.888)  adoxophyes-spp(0.030)  archips-spp(0.027)  chalcoscelides-castaneipars(0.014)  \n",
      "alcanola-speideli        : alcanola-tympanistis(1.000)  casminola-spp(0.000)  achaea-janata(0.000)  araeopteron-proleuca(0.000)  \n",
      "artena-dotata-2          : artena-dotata(0.980)  calyptra-spp(0.006)  artena-submira(0.002)  botyodes-asialis(0.002)  \n",
      "artena-dotata            : artena-dotata(1.000)  chilkasa-falcata(0.000)  calyptra-spp(0.000)  artena-submira(0.000)  \n",
      "artena-submira-2         : achaea-janata(0.936)  artena-dotata(0.052)  crithote-spp(0.008)  artena-submira(0.001)  \n",
      "artena-submira           : artena-submira(0.797)  carea-angulata(0.123)  artena-dotata(0.029)  aiteta-musculina(0.019)  \n",
      "----------\n",
      "Top 4 accuracy: 4 / 7 -> 0.571\n",
      "Top 1 accuracy: 3 / 7 -> 0.429\n"
     ]
    }
   ],
   "source": [
    "test_top_k(model_data, f\"{dataset_dir}/splits/my-test\", 4)"
   ]
  },
  {
   "cell_type": "code",
   "execution_count": 9,
   "id": "d2054d8b-0d5e-42b2-bcaa-e4161ca1178d",
   "metadata": {},
   "outputs": [
    {
     "name": "stdout",
     "output_type": "stream",
     "text": [
      "Top 10 accuracy: 5 / 7 -> 0.714\n",
      "Top 1 accuracy: 3 / 7 -> 0.429\n"
     ]
    }
   ],
   "source": [
    "test_top_k(model_data, f\"{dataset_dir}/splits/my-test\", 10, print_preds=False)"
   ]
  },
  {
   "cell_type": "markdown",
   "id": "e2fcbb04-33dc-454e-96dd-70159a031293",
   "metadata": {
    "jp-MarkdownHeadingCollapsed": true
   },
   "source": [
    "---------------------\n",
    "\n",
    "# B.1) Train 25 epochs with 85% data"
   ]
  },
  {
   "cell_type": "code",
   "execution_count": 6,
   "id": "5b37b090-545a-400c-be14-877132172a3b",
   "metadata": {},
   "outputs": [
    {
     "name": "stdout",
     "output_type": "stream",
     "text": [
      "Class count: 3418\n",
      "Total data count: 43400\n",
      "Training data count: 37121\n",
      "Validation data count: 4156\n",
      "Test data count: 2123\n"
     ]
    }
   ],
   "source": [
    "split_data_for_train_and_val(f\"{dataset_dir}/cured-data\", \n",
    "                             f\"{dataset_dir}/splits/test\", f\"{dataset_dir}/splits/val\", f\"{dataset_dir}/splits/train\", \n",
    "                             test_data_weight=0.05, val_data_weight=0.1, min_file_cnt_for_val=4)"
   ]
  },
  {
   "cell_type": "code",
   "execution_count": 7,
   "id": "33acd870-c3d8-4b49-944a-807968529abf",
   "metadata": {},
   "outputs": [
    {
     "name": "stdout",
     "output_type": "stream",
     "text": [
      "train class count: 3418\n",
      "val class count: 1497\n",
      "feature count: 2048\n",
      "device: cuda:0\n"
     ]
    }
   ],
   "source": [
    "model_data = init_model_for_training(f'{dataset_dir}/splits/train', f'{dataset_dir}/splits/val', batch_size=32, arch=\"resnet152\", image_size=224)"
   ]
  },
  {
   "cell_type": "code",
   "execution_count": 8,
   "id": "dc2ae90b-3f49-42aa-9a6f-f9c59908e31e",
   "metadata": {},
   "outputs": [
    {
     "name": "stdout",
     "output_type": "stream",
     "text": [
      "Epoch    1 /   25  | Train Loss: 6.7675 Acc: 0.0489  | Val Loss: 5.6538 Acc: 0.0972  | Elapsed time: 0:10:10.929575\n",
      "Epoch    2 /   25  | Train Loss: 4.7947 Acc: 0.1798  | Val Loss: 4.0667 Acc: 0.2457  | Elapsed time: 0:20:32.012749\n",
      "Epoch    3 /   25  | Train Loss: 3.1786 Acc: 0.3552  | Val Loss: 3.0163 Acc: 0.3953  | Elapsed time: 0:30:32.945827\n",
      "Epoch    4 /   25  | Train Loss: 2.0249 Acc: 0.5286  | Val Loss: 2.4765 Acc: 0.4824  | Elapsed time: 0:40:38.863328\n",
      "Epoch    5 /   25  | Train Loss: 1.3507 Acc: 0.6614  | Val Loss: 2.2484 Acc: 0.5371  | Elapsed time: 0:50:44.304387\n",
      "Epoch    6 /   25  | Train Loss: 0.9185 Acc: 0.7590  | Val Loss: 1.9674 Acc: 0.5970  | Elapsed time: 1:00:40.249432\n",
      "Epoch    7 /   25  | Train Loss: 0.6144 Acc: 0.8305  | Val Loss: 1.9842 Acc: 0.6071  | Elapsed time: 1:10:35.976399\n",
      "Epoch    8 /   25  | Train Loss: 0.2617 Acc: 0.9320  | Val Loss: 1.5273 Acc: 0.7012  | Elapsed time: 1:20:36.299188\n",
      "Epoch    9 /   25  | Train Loss: 0.1662 Acc: 0.9582  | Val Loss: 1.5249 Acc: 0.7019  | Elapsed time: 1:30:22.831755\n",
      "Epoch   10 /   25  | Train Loss: 0.1330 Acc: 0.9665  | Val Loss: 1.5171 Acc: 0.7129  | Elapsed time: 1:40:09.697725\n",
      "Epoch   11 /   25  | Train Loss: 0.1086 Acc: 0.9748  | Val Loss: 1.5297 Acc: 0.7187  | Elapsed time: 1:49:56.947019\n",
      "Epoch   12 /   25  | Train Loss: 0.0883 Acc: 0.9807  | Val Loss: 1.5399 Acc: 0.7206  | Elapsed time: 1:59:43.885759\n",
      "Epoch   13 /   25  | Train Loss: 0.0755 Acc: 0.9828  | Val Loss: 1.6122 Acc: 0.7154  | Elapsed time: 2:09:32.387793\n",
      "Epoch   14 /   25  | Train Loss: 0.0632 Acc: 0.9865  | Val Loss: 1.5977 Acc: 0.7182  | Elapsed time: 2:19:19.689398\n",
      "Epoch   15 /   25  | Train Loss: 0.0493 Acc: 0.9905  | Val Loss: 1.5787 Acc: 0.7226  | Elapsed time: 2:29:07.272382\n",
      "Epoch   16 /   25  | Train Loss: 0.0456 Acc: 0.9913  | Val Loss: 1.5748 Acc: 0.7233  | Elapsed time: 2:38:54.764629\n",
      "Epoch   17 /   25  | Train Loss: 0.0423 Acc: 0.9920  | Val Loss: 1.5991 Acc: 0.7245  | Elapsed time: 2:48:42.781326\n",
      "Epoch   18 /   25  | Train Loss: 0.0418 Acc: 0.9930  | Val Loss: 1.5766 Acc: 0.7255  | Elapsed time: 2:58:35.445060\n",
      "Epoch   19 /   25  | Train Loss: 0.0404 Acc: 0.9928  | Val Loss: 1.5887 Acc: 0.7221  | Elapsed time: 3:08:43.592236\n",
      "Epoch   20 /   25  | Train Loss: 0.0398 Acc: 0.9930  | Val Loss: 1.6771 Acc: 0.7098  | Elapsed time: 3:18:48.262444\n",
      "Epoch   21 /   25  | Train Loss: 0.0375 Acc: 0.9940  | Val Loss: 1.5661 Acc: 0.7300  | Elapsed time: 3:28:52.159171\n",
      "Epoch   22 /   25  | Train Loss: 0.0363 Acc: 0.9942  | Val Loss: 1.5578 Acc: 0.7271  | Elapsed time: 3:39:00.098823\n",
      "Epoch   23 /   25  | Train Loss: 0.0372 Acc: 0.9936  | Val Loss: 1.5569 Acc: 0.7310  | Elapsed time: 3:49:07.331427\n",
      "Epoch   24 /   25  | Train Loss: 0.0360 Acc: 0.9945  | Val Loss: 1.5859 Acc: 0.7274  | Elapsed time: 3:59:19.639283\n",
      "Epoch   25 /   25  | Train Loss: 0.0357 Acc: 0.9939  | Val Loss: 1.5952 Acc: 0.7279  | Elapsed time: 4:08:57.758601\n"
     ]
    },
    {
     "data": {
      "text/plain": [
       "'insect-dataset/moth/checkpoint.resnet152.2025.01.30.pth'"
      ]
     },
     "execution_count": 8,
     "metadata": {},
     "output_type": "execute_result"
    }
   ],
   "source": [
    "train(model_data, 25, f\"{dataset_dir}/checkpoint_latest.pth\")\n",
    "shutil.copy(f\"{dataset_dir}/checkpoint_latest.pth\", f\"{dataset_dir}/checkpoint.resnet152.{datetime.datetime.now().strftime(\"%Y.%m.%d\")}.pth\")"
   ]
  },
  {
   "cell_type": "code",
   "execution_count": 9,
   "id": "df956571-5b12-456e-810c-75acc64b3225",
   "metadata": {},
   "outputs": [
    {
     "name": "stdout",
     "output_type": "stream",
     "text": [
      "Accuracy: 1524 / 2123 -> 71.79%\n",
      "Elapsed time: 0:01:07.207081\n"
     ]
    }
   ],
   "source": [
    "test(model_data, f\"{dataset_dir}/splits/test\", False)"
   ]
  },
  {
   "cell_type": "code",
   "execution_count": 10,
   "id": "3ca0fc98-3e21-4065-93c6-2fe8e15a9899",
   "metadata": {},
   "outputs": [
    {
     "name": "stdout",
     "output_type": "stream",
     "text": [
      "acidon-nigrobasis        : metanastria-spp(0.599)  dichromia-sagitta(0.376)  westermannia-argentea(0.011)  euthrix-laeta(0.005)  \n",
      "Adoxophyes-privatana     : eoophyla-spp(0.410)  parapoynx-bilinealis(0.136)  talanga-sexpunctalis(0.130)  limacodinae-genera-spp(0.043)  \n",
      "alcanola-speideli        : alcanola-tympanistis(0.887)  nolinae-genera-spp(0.065)  alcanola-speideli(0.024)  nola-internella-analis-complex(0.007)  \n",
      "artena-dotata-2          : artena-dotata(0.992)  simplicia-spp(0.006)  simplicia-schaldusalis(0.001)  simplicia-bimarginata(0.000)  \n",
      "artena-dotata            : chilkasa-falcata(0.546)  artena-dotata(0.449)  simplicia-bimarginata(0.004)  bastilla-praetermissa(0.000)  \n",
      "artena-submira-2         : achaea-janata(0.523)  buzara-onelia(0.307)  artena-submira(0.162)  artena-dotata(0.002)  \n",
      "artena-submira           : artena-dotata(0.498)  artena-submira(0.162)  hulodes-caranea(0.147)  episparis-tortuosalis(0.096)  \n",
      "clanis-phalaris-2        : clanis-phalaris(0.738)  clanis-undulosa(0.109)  clanidopsis-exusta(0.080)  phyllodes-eyndhovii(0.013)  \n",
      "clanis-phalaris          : theretra-gnoma(0.395)  clanis-bilineata(0.217)  chilkasa-falcata(0.105)  theretra-clotho(0.074)  \n",
      "clanis-undulosa          : clanis-titan(0.803)  clanis-undulosa(0.123)  ambulyx-belli(0.041)  theretra-alecto(0.022)  \n",
      "conogethes-sahyadriensis : conogethes-punctiferalis(0.846)  conogethes-spp(0.121)  argina-astrea(0.021)  pycnarmon-cribrata(0.010)  \n",
      "hemichloridia-euprepia   : hemichloridia-euprepia(0.961)  zygaenidae-genera-spp(0.008)  aergina-fumosa(0.007)  procridinae-genera-spp(0.003)  \n",
      "ilema-chloroptera        : ilema-chloroptera(0.996)  trabala-vishnou(0.003)  nygmiini-genera-spp(0.001)  miltochrista-dharma(0.000)  \n",
      "mocis-undata             : mocis-undata(1.000)  mocis-discios(0.000)  thyas-coronata(0.000)  dierna-patibulum(0.000)  \n",
      "omiza-miliaria-2         : trabala-vishnou(0.883)  digama-hearseyana(0.027)  hypochrosis-flavifusata(0.015)  anisephyra-ocularia(0.010)  \n",
      "omiza-miliaria           : cricula-trifenestrata(0.974)  fascellina-inornata(0.010)  hypopyra-spp(0.005)  chorodna-spp(0.003)  \n",
      "pseudojana-incandescens  : artena-submira(0.639)  thyas-coronata(0.165)  mocis-frugalis(0.048)  achaea-janata(0.039)  \n",
      "pycnarmon-cribrata       : herpetogramma-basalis(0.304)  sinobirma-myanmarensis(0.101)  patania-balteata(0.098)  conogethes-punctiferalis(0.083)  \n",
      "samia-canningii          : samia-canningii(1.000)  antheraea-assamensis(0.000)  attacus-taprobanis(0.000)  antheraea-paphia(0.000)  \n",
      "samia-cynthia            : samia-canningii(0.997)  samia-cynthia(0.002)  antheraea-paphia(0.000)  archaeoattacus-edwardsii(0.000)  \n",
      "somatina-rosacea         : somatina-rosacea(0.999)  eublemma-roseonivea(0.000)  eublemma-amabilis(0.000)  idaea-gemmaria(0.000)  \n",
      "theretra-alecto          : theretra-clotho(0.682)  deilephila-rivularis(0.213)  hippotion-rosetta(0.036)  theretra-alecto(0.025)  \n",
      "trabala-vishnou          : trabala-vishnou(0.905)  trabala-spp(0.062)  eupterote-spp(0.032)  iotaphora-iridicolor(0.001)  \n",
      "__dysphania-percota      : dysphania-percota(0.986)  abraxas-spp(0.005)  crambidae-genera-spp(0.003)  achaea-janata(0.002)  \n",
      "__eupterote-undata       : ganisa-spp(0.357)  mocis-frugalis(0.217)  thyas-coronata(0.131)  orudiza-protheclaria(0.095)  \n",
      "----------\n",
      "Top 4 accuracy: 16 / 25 -> 0.640\n",
      "Top 1 accuracy: 9 / 25 -> 0.360\n"
     ]
    }
   ],
   "source": [
    "test_top_k(model_data, f\"{dataset_dir}/my-test\", 4)"
   ]
  },
  {
   "cell_type": "code",
   "execution_count": 11,
   "id": "e1d098a1-84a4-46c6-b1d3-ab0754ebfe82",
   "metadata": {},
   "outputs": [
    {
     "name": "stdout",
     "output_type": "stream",
     "text": [
      "Top 10 accuracy: 17 / 25 -> 0.680\n",
      "Top 1 accuracy: 9 / 25 -> 0.360\n"
     ]
    }
   ],
   "source": [
    "test_top_k(model_data, f\"{dataset_dir}/my-test\", 10, print_preds=False)"
   ]
  },
  {
   "cell_type": "markdown",
   "id": "69620eb5-24f9-4518-99d9-f640a0e9bdfc",
   "metadata": {
    "jp-MarkdownHeadingCollapsed": true
   },
   "source": [
    "# B.2) Train 10 more epochs with 100% data "
   ]
  },
  {
   "cell_type": "code",
   "execution_count": 22,
   "id": "c1a93439-4185-45c5-89ca-1bf79efa3961",
   "metadata": {},
   "outputs": [],
   "source": [
    "model_data = torch.load(f\"{dataset_dir}/checkpoint.resnet152.2025.01.30.subset.85%.pth\", weights_only=False)"
   ]
  },
  {
   "cell_type": "code",
   "execution_count": 23,
   "id": "01f790bc-df3d-4ca3-9301-8a15a405d40b",
   "metadata": {},
   "outputs": [
    {
     "name": "stdout",
     "output_type": "stream",
     "text": [
      "train class count: 3418\n",
      "val class count: 1497\n",
      "0 new classes added: []\n",
      "feature count: 2048\n",
      "device: cuda:0\n"
     ]
    }
   ],
   "source": [
    "model_data = prepare_for_retraining(model_data, f'{dataset_dir}/cured-data', f'{dataset_dir}/splits/val')"
   ]
  },
  {
   "cell_type": "code",
   "execution_count": 25,
   "id": "58a064f6-392e-40bb-8c71-695e4a3288e8",
   "metadata": {},
   "outputs": [
    {
     "name": "stdout",
     "output_type": "stream",
     "text": [
      "Epoch    1 /   10  | Train Loss: 0.2908 Acc: 0.9493  | Val Loss: 1.5148 Acc: 0.7310  | Elapsed time: 0:11:16.128621\n",
      "Epoch    2 /   10  | Train Loss: 0.2859 Acc: 0.9500  | Val Loss: 1.4736 Acc: 0.7363  | Elapsed time: 0:22:29.273807\n",
      "Epoch    3 /   10  | Train Loss: 0.2851 Acc: 0.9504  | Val Loss: 1.4532 Acc: 0.7418  | Elapsed time: 0:33:24.596322\n",
      "Epoch    4 /   10  | Train Loss: 0.2815 Acc: 0.9505  | Val Loss: 1.4392 Acc: 0.7411  | Elapsed time: 0:44:20.138880\n",
      "Epoch    5 /   10  | Train Loss: 0.2796 Acc: 0.9520  | Val Loss: 1.4510 Acc: 0.7416  | Elapsed time: 0:55:14.220325\n",
      "Epoch    6 /   10  | Train Loss: 0.2776 Acc: 0.9509  | Val Loss: 1.4569 Acc: 0.7428  | Elapsed time: 1:06:08.409398\n",
      "Epoch    7 /   10  | Train Loss: 0.2835 Acc: 0.9503  | Val Loss: 1.4415 Acc: 0.7404  | Elapsed time: 1:17:13.398654\n",
      "Epoch    8 /   10  | Train Loss: 0.2787 Acc: 0.9515  | Val Loss: 1.4494 Acc: 0.7385  | Elapsed time: 1:28:23.434888\n",
      "Epoch    9 /   10  | Train Loss: 0.2779 Acc: 0.9512  | Val Loss: 1.4318 Acc: 0.7440  | Elapsed time: 1:39:39.272247\n",
      "Epoch   10 /   10  | Train Loss: 0.2808 Acc: 0.9504  | Val Loss: 1.4454 Acc: 0.7406  | Elapsed time: 1:50:46.107511\n"
     ]
    },
    {
     "data": {
      "text/plain": [
       "'insect-dataset/moth/checkpoint.resnet152.2025.01.30.final.pth'"
      ]
     },
     "execution_count": 25,
     "metadata": {},
     "output_type": "execute_result"
    }
   ],
   "source": [
    "train(model_data, 10, f\"{dataset_dir}/checkpoint_latest.pth\")\n",
    "shutil.copy(f\"{dataset_dir}/checkpoint_latest.pth\", f\"{dataset_dir}/checkpoint.resnet152.{datetime.datetime.now().strftime(\"%Y.%m.%d\")}.final.pth\")"
   ]
  },
  {
   "cell_type": "code",
   "execution_count": 26,
   "id": "d988260a-4bd5-49fd-b49e-133a15353935",
   "metadata": {},
   "outputs": [
    {
     "name": "stdout",
     "output_type": "stream",
     "text": [
      "Accuracy: 1549 / 2123 -> 72.96%\n",
      "Elapsed time: 0:01:04.509015\n"
     ]
    }
   ],
   "source": [
    "test(model_data, f\"{dataset_dir}/splits/test\", False)"
   ]
  },
  {
   "cell_type": "code",
   "execution_count": 27,
   "id": "640aa3b4-1c26-413d-b1d7-7d9b4c6847ae",
   "metadata": {},
   "outputs": [
    {
     "name": "stdout",
     "output_type": "stream",
     "text": [
      "acidon-nigrobasis        : metanastria-spp(0.652)  dichromia-sagitta(0.317)  euthrix-laeta(0.016)  westermannia-argentea(0.005)  \n",
      "Adoxophyes-privatana     : parapoynx-bilinealis(0.214)  eoophyla-spp(0.183)  talanga-sexpunctalis(0.140)  westermannia-superba(0.054)  \n",
      "alcanola-speideli        : alcanola-tympanistis(0.975)  nolinae-genera-spp(0.012)  alcanola-speideli(0.006)  casminola-spp(0.003)  \n",
      "artena-dotata-2          : artena-dotata(0.998)  simplicia-spp(0.001)  simplicia-schaldusalis(0.001)  mocis-undata(0.000)  \n",
      "artena-dotata            : artena-dotata(0.765)  chilkasa-falcata(0.231)  bastilla-praetermissa(0.002)  simplicia-bimarginata(0.001)  \n",
      "artena-submira-2         : achaea-janata(0.489)  artena-submira(0.402)  buzara-onelia(0.092)  artena-dotata(0.010)  \n",
      "artena-submira           : artena-dotata(0.394)  artena-submira(0.293)  episparis-tortuosalis(0.127)  hulodes-caranea(0.077)  \n",
      "clanis-phalaris-2        : clanis-phalaris(0.834)  clanis-undulosa(0.082)  clanidopsis-exusta(0.037)  clanis-titan(0.018)  \n",
      "clanis-phalaris          : clanis-bilineata(0.447)  theretra-gnoma(0.389)  theretra-clotho(0.035)  xanthanomis-vomeroi(0.027)  \n",
      "clanis-undulosa          : clanis-titan(0.807)  clanis-undulosa(0.095)  ambulyx-belli(0.077)  theretra-alecto(0.013)  \n",
      "conogethes-sahyadriensis : conogethes-punctiferalis(0.876)  conogethes-spp(0.075)  argina-astrea(0.041)  pycnarmon-cribrata(0.007)  \n",
      "hemichloridia-euprepia   : hemichloridia-euprepia(0.963)  zygaenidae-genera-spp(0.022)  cephonodes-hylas(0.003)  aergina-fumosa(0.003)  \n",
      "ilema-chloroptera        : ilema-chloroptera(0.998)  trabala-vishnou(0.002)  eudocima-materna(0.001)  miltochrista-dharma(0.000)  \n",
      "mocis-undata             : mocis-undata(1.000)  thyas-coronata(0.000)  mocis-discios(0.000)  dierna-patibulum(0.000)  \n",
      "omiza-miliaria-2         : trabala-vishnou(0.924)  digama-hearseyana(0.019)  hypochrosis-flavifusata(0.011)  lygniodes-vampyurs(0.008)  \n",
      "omiza-miliaria           : cricula-trifenestrata(0.982)  hypopyra-spp(0.005)  fascellina-inornata(0.004)  oreta-extensa(0.002)  \n",
      "pseudojana-incandescens  : artena-submira(0.708)  thyas-coronata(0.109)  thyas-juno(0.077)  asta-quadrilinea(0.034)  \n",
      "pycnarmon-cribrata       : sinobirma-myanmarensis(0.297)  corymica-spp(0.161)  trabala-vishnou(0.117)  herpetogramma-basalis(0.076)  \n",
      "samia-canningii          : samia-canningii(0.999)  attacus-taprobanis(0.001)  antheraea-assamensis(0.000)  antheraea-paphia(0.000)  \n",
      "samia-cynthia            : samia-canningii(0.998)  samia-cynthia(0.002)  antheraea-paphia(0.000)  attacus-taprobanis(0.000)  \n",
      "somatina-rosacea         : somatina-rosacea(0.998)  eublemma-roseonivea(0.002)  eublemma-amabilis(0.000)  idaea-gemmaria(0.000)  \n",
      "theretra-alecto          : deilephila-rivularis(0.805)  theretra-clotho(0.102)  theretra-alecto(0.023)  theretra-pallicosta(0.019)  \n",
      "trabala-vishnou          : trabala-vishnou(0.934)  trabala-spp(0.056)  eupterote-spp(0.008)  iotaphora-iridicolor(0.001)  \n",
      "__dysphania-percota      : dysphania-percota(0.979)  achaea-janata(0.005)  abraxas-spp(0.005)  alcis-albifera(0.003)  \n",
      "__eupterote-undata       : orudiza-protheclaria(0.358)  thyas-coronata(0.230)  ganisa-spp(0.173)  mocis-frugalis(0.080)  \n",
      "----------\n",
      "Top 4 accuracy: 16 / 25 -> 0.640\n",
      "Top 1 accuracy: 10 / 25 -> 0.400\n"
     ]
    }
   ],
   "source": [
    "test_top_k(model_data, f\"{dataset_dir}/my-test\", 4)"
   ]
  },
  {
   "cell_type": "code",
   "execution_count": 28,
   "id": "24ca7105-457e-4a61-8d67-07f2071ca2db",
   "metadata": {},
   "outputs": [
    {
     "name": "stdout",
     "output_type": "stream",
     "text": [
      "Top 10 accuracy: 18 / 25 -> 0.720\n",
      "Top 1 accuracy: 10 / 25 -> 0.400\n"
     ]
    }
   ],
   "source": [
    "test_top_k(model_data, f\"{dataset_dir}/my-test\", 10, print_preds=False)"
   ]
  },
  {
   "cell_type": "markdown",
   "id": "f684ee54-0fa3-42ed-8d77-ca0868ca2b2a",
   "metadata": {},
   "source": [
    "------------------\n",
    "\n",
    "# C) Train a new model for 25 epochs with 100% data\n",
    "as 10 epochs with 100% was not much effective on an existing model"
   ]
  },
  {
   "cell_type": "code",
   "execution_count": 30,
   "id": "467b1cbf-d8bd-45c5-b922-ea82e9f0a497",
   "metadata": {},
   "outputs": [
    {
     "name": "stdout",
     "output_type": "stream",
     "text": [
      "train class count: 3418\n",
      "val class count: 1497\n",
      "feature count: 2048\n",
      "device: cuda:0\n"
     ]
    }
   ],
   "source": [
    "model_data = init_model_for_training(f'{dataset_dir}/cured-data', f'{dataset_dir}/splits/val', batch_size=32, arch=\"resnet152\", image_size=224)"
   ]
  },
  {
   "cell_type": "code",
   "execution_count": 31,
   "id": "d6138e10-e3b4-4051-b26d-4c153a59a0de",
   "metadata": {},
   "outputs": [
    {
     "name": "stdout",
     "output_type": "stream",
     "text": [
      "Epoch    1 /   25  | Train Loss: 6.8505 Acc: 0.0372  | Val Loss: 5.4477 Acc: 0.1032  | Elapsed time: 0:10:59.910631\n",
      "Epoch    2 /   25  | Train Loss: 5.0939 Acc: 0.1475  | Val Loss: 3.8136 Acc: 0.2538  | Elapsed time: 0:22:07.756667\n",
      "Epoch    3 /   25  | Train Loss: 3.5369 Acc: 0.3106  | Val Loss: 2.3520 Acc: 0.4622  | Elapsed time: 0:33:06.047675\n",
      "Epoch    4 /   25  | Train Loss: 2.3449 Acc: 0.4740  | Val Loss: 1.5299 Acc: 0.6299  | Elapsed time: 0:44:16.652515\n",
      "Epoch    5 /   25  | Train Loss: 1.5730 Acc: 0.6142  | Val Loss: 0.9443 Acc: 0.7606  | Elapsed time: 0:55:22.436386\n",
      "Epoch    6 /   25  | Train Loss: 1.0853 Acc: 0.7201  | Val Loss: 0.6718 Acc: 0.8219  | Elapsed time: 1:06:31.106933\n",
      "Epoch    7 /   25  | Train Loss: 0.7697 Acc: 0.7933  | Val Loss: 0.6467 Acc: 0.8198  | Elapsed time: 1:17:35.935136\n",
      "Epoch    8 /   25  | Train Loss: 0.3484 Acc: 0.9092  | Val Loss: 0.1566 Acc: 0.9622  | Elapsed time: 1:28:44.654650\n",
      "Epoch    9 /   25  | Train Loss: 0.2454 Acc: 0.9377  | Val Loss: 0.1160 Acc: 0.9735  | Elapsed time: 1:40:05.534514\n",
      "Epoch   10 /   25  | Train Loss: 0.1984 Acc: 0.9499  | Val Loss: 0.7104 Acc: 0.8438  | Elapsed time: 1:51:33.048951\n",
      "Epoch   11 /   25  | Train Loss: 0.1612 Acc: 0.9602  | Val Loss: 0.0718 Acc: 0.9858  | Elapsed time: 2:02:51.663995\n",
      "Epoch   12 /   25  | Train Loss: 0.1358 Acc: 0.9666  | Val Loss: 0.0521 Acc: 0.9894  | Elapsed time: 2:14:19.629512\n",
      "Epoch   13 /   25  | Train Loss: 0.1139 Acc: 0.9730  | Val Loss: 0.0403 Acc: 0.9928  | Elapsed time: 2:25:41.190849\n",
      "Epoch   14 /   25  | Train Loss: 0.0929 Acc: 0.9796  | Val Loss: 0.0333 Acc: 0.9940  | Elapsed time: 2:36:49.466213\n",
      "Epoch   15 /   25  | Train Loss: 0.0732 Acc: 0.9845  | Val Loss: 0.0873 Acc: 0.9800  | Elapsed time: 2:47:55.939629\n",
      "Epoch   16 /   25  | Train Loss: 0.0672 Acc: 0.9873  | Val Loss: 0.3133 Acc: 0.9259  | Elapsed time: 2:58:53.486036\n",
      "Epoch   17 /   25  | Train Loss: 0.0661 Acc: 0.9865  | Val Loss: 0.0315 Acc: 0.9952  | Elapsed time: 3:09:49.202552\n",
      "Epoch   18 /   25  | Train Loss: 0.0623 Acc: 0.9878  | Val Loss: 0.0275 Acc: 0.9959  | Elapsed time: 3:20:45.961184\n",
      "Epoch   19 /   25  | Train Loss: 0.0608 Acc: 0.9884  | Val Loss: 0.1812 Acc: 0.9579  | Elapsed time: 3:31:42.502313\n",
      "Epoch   20 /   25  | Train Loss: 0.0580 Acc: 0.9892  | Val Loss: 0.2685 Acc: 0.9353  | Elapsed time: 3:42:39.051040\n",
      "Epoch   21 /   25  | Train Loss: 0.0579 Acc: 0.9893  | Val Loss: 0.2895 Acc: 0.9232  | Elapsed time: 3:53:35.777205\n",
      "Epoch   22 /   25  | Train Loss: 0.0526 Acc: 0.9910  | Val Loss: 0.2888 Acc: 0.9321  | Elapsed time: 4:04:31.052001\n",
      "Epoch   23 /   25  | Train Loss: 0.0552 Acc: 0.9894  | Val Loss: 0.2023 Acc: 0.9475  | Elapsed time: 4:15:25.621823\n",
      "Epoch   24 /   25  | Train Loss: 0.0544 Acc: 0.9903  | Val Loss: 0.0984 Acc: 0.9776  | Elapsed time: 4:26:21.035255\n",
      "Epoch   25 /   25  | Train Loss: 0.0547 Acc: 0.9901  | Val Loss: 0.0507 Acc: 0.9892  | Elapsed time: 4:37:17.013226\n"
     ]
    },
    {
     "data": {
      "text/plain": [
       "'insect-dataset/moth/checkpoint.resnet152.2025.01.30.final2.pth'"
      ]
     },
     "execution_count": 31,
     "metadata": {},
     "output_type": "execute_result"
    }
   ],
   "source": [
    "train(model_data, 25, f\"{dataset_dir}/checkpoint_latest.pth\")\n",
    "shutil.copy(f\"{dataset_dir}/checkpoint_latest.pth\", f\"{dataset_dir}/checkpoint.resnet152.{datetime.datetime.now().strftime(\"%Y.%m.%d\")}.final2.pth\")"
   ]
  },
  {
   "cell_type": "code",
   "execution_count": 32,
   "id": "258d5a2d-8127-4f99-bef3-91d9e5063f21",
   "metadata": {},
   "outputs": [
    {
     "name": "stdout",
     "output_type": "stream",
     "text": [
      "Accuracy: 2095 / 2123 -> 98.68%\n",
      "Elapsed time: 0:01:00.806047\n"
     ]
    }
   ],
   "source": [
    "test(model_data, f\"{dataset_dir}/splits/test\", False)"
   ]
  },
  {
   "cell_type": "markdown",
   "id": "3a99f031-719d-4b71-ae91-b8316d0b13a4",
   "metadata": {},
   "source": [
    "# Retest with new data"
   ]
  },
  {
   "cell_type": "code",
   "execution_count": 3,
   "id": "719de32c-80e6-4502-a73c-9342cb6608dd",
   "metadata": {},
   "outputs": [],
   "source": [
    "model_data = torch.load(f\"{dataset_dir}/checkpoint.2025.01.30.resnet152.mothsofindia.cured.25x100%.pth\", weights_only=False)"
   ]
  },
  {
   "cell_type": "code",
   "execution_count": 7,
   "id": "16a1585f-f3c3-4595-84da-b132c03e338b",
   "metadata": {},
   "outputs": [
    {
     "name": "stdout",
     "output_type": "stream",
     "text": [
      "acidon-nigrobasis             : chrysopera-combinans(0.251)  lebeda-nobilis(0.237)  miaromima-cornucopia(0.237)  \n",
      "acosmeryx-anceus              : macroglossum-gyrans(0.803)  eudocima-phalonia(0.120)  cretonia-spp(0.020)  \n",
      "Adoxophyes-privatana          : adoxophyes-spp(0.940)  westermannia-superba(0.032)  tortricidae-genera-spp(0.018)  \n",
      "agnidra-vinacea               : agnidra-vinacea(0.907)  fascellina-inornata(0.040)  eupterote-spp(0.036)  \n",
      "alcanola-speideli             : alcanola-tympanistis(0.924)  nola-spp(0.033)  nola-internella-analis-complex(0.015)  \n",
      "alcanola-spp-2                : alcanola-tympanistis(0.924)  nola-spp(0.033)  nola-internella-analis-complex(0.015)  \n",
      "alcanola-spp                  : ptisciana-seminivea(0.595)  alcanola-speideli(0.367)  spilosomina-genera-spp(0.008)  \n",
      "alcanola-tympanistis-2        : ptisciana-seminivea(0.649)  calliteara-spp(0.165)  alcanola-speideli(0.135)  \n",
      "alcanola-tympanistis          : alcanola-speideli(0.849)  nolinae-genera-spp(0.053)  neopheosia-fasciata(0.029)  \n",
      "angonyx-krishna-2             : pergesa-acteus(0.896)  trabala-vishnou(0.053)  thysanoplusia-orichalcea(0.018)  \n",
      "angonyx-krishna               : angonyx-krishna(0.801)  callambulyx-junonia(0.124)  achrosis-incitata-complex(0.061)  \n",
      "artena-dotata-2               : artena-dotata(0.927)  nephele-hespera(0.034)  simplicia-bimarginata(0.032)  \n",
      "artena-dotata                 : artena-dotata(0.996)  carea-angulata(0.002)  lebeda-nobilis(0.000)  \n",
      "artena-submira-2              : buzara-onelia(0.394)  artena-submira(0.362)  poaphilini-genera-spp(0.080)  \n",
      "artena-submira                : artena-submira(0.867)  acosmeryx-akanshi(0.061)  thyas-coronata(0.041)  \n",
      "attacus-atlas-2               : attacus-taprobanis(0.991)  attacus-atlas(0.007)  antheraea-paphia(0.002)  \n",
      "attacus-atlas-3               : attacus-taprobanis(0.823)  aegocera-bimacula(0.095)  attacus-atlas(0.077)  \n",
      "attacus-atlas                 : attacus-taprobanis(0.984)  attacus-atlas(0.006)  daphnis-nerii-larva(0.005)  \n",
      "attacus-taprobanis-2          : attacus-taprobanis(0.999)  samia-canningii(0.001)  attacus-atlas(0.000)  \n",
      "attacus-taprobanis            : attacus-taprobanis(0.875)  attacus-atlas(0.068)  samia-canningii(0.042)  \n",
      "buzara-onelia-2               : buzara-onelia(0.769)  poaphilini-genera-spp(0.124)  achaea-janata(0.104)  \n",
      "buzara-onelia                 : oraesia-emarginata(0.328)  poaphilini-genera-spp(0.315)  buzara-onelia(0.205)  \n",
      "calliteara-spp                : calliteara-grotei(0.644)  fentonia-baibarana(0.153)  lophophelma-ruficosta(0.078)  \n",
      "chrysopera-combinans          : chrysopera-combinans(0.693)  eudocima-phalonia(0.088)  corcobara-angulipennis(0.080)  \n",
      "clanis-bilineata-2            : elibia-dolichoides(0.994)  clanis-undulosa(0.003)  theretra-sumatrensis(0.001)  \n",
      "clanis-bilineata-3            : clanis-undulosa(0.538)  rhagastis-confusa(0.454)  rhagastis-olivacea(0.002)  \n",
      "clanis-bilineata-4            : clanis-undulosa(0.939)  clanis-titan(0.047)  carea-angulata(0.005)  \n",
      "clanis-bilineata-5            : clanis-bilineata(0.767)  theretra-nessus(0.113)  plagodis-inustaria(0.045)  \n",
      "clanis-bilineata              : rhagastis-confusa(0.542)  clanis-undulosa(0.386)  rhagastis-olivacea(0.031)  \n",
      "clanis-phalaris-2             : clanis-phalaris(0.670)  clanis-bilineata(0.191)  marumba-nympha(0.041)  \n",
      "clanis-phalaris               : theretra-alecto(0.569)  theretra-clotho(0.133)  clanis-bilineata(0.052)  \n",
      "clanis-undulosa               : theretra-sumatrensis(0.567)  theretra-pallicosta(0.144)  elibia-dolichoides(0.127)  \n",
      "conogethes-punctiferalis      : conogethes-spp(0.668)  conogethes-punctiferalis(0.328)  arctelene-arcuata(0.002)  \n",
      "conogethes-sahyadriensis-3    : conogethes-spp(0.691)  conogethes-punctiferalis(0.301)  conogethes-sahyadriensis(0.002)  \n",
      "conogethes-sahyadriensis-4    : conogethes-spp(0.966)  conogethes-punctiferalis(0.027)  raparna-ochreipennis(0.002)  \n",
      "conogethes-sahyadriensis      : conogethes-spp(0.738)  conogethes-punctiferalis(0.098)  pycnarmon-cribrata(0.094)  \n",
      "corcobara-angulipennis        : loepa-spp(0.483)  corymica-spp(0.232)  loepa-schintlmeisteri(0.094)  \n",
      "daphnis-nerii-2               : daphnis-nerii(1.000)  macroglossum-particolor(0.000)  eudocima-materna(0.000)  \n",
      "daphnis-nerii-3               : daphnis-nerii(0.997)  pergesa-acteus(0.002)  daphnis-hypothous(0.000)  \n",
      "daphnis-nerii-4               : daphnis-nerii(1.000)  daphnis-hypothous(0.000)  callambulyx-poecilus(0.000)  \n",
      "daphnis-nerii-5               : daphnis-nerii(1.000)  scopula-divisaria(0.000)  trigonodes-hyppasia(0.000)  \n",
      "daphnis-nerii                 : daphnis-nerii(1.000)  daphnis-hypothous(0.000)  pergesa-acteus(0.000)  \n",
      "eudocima-homaena-2            : eudocima-homaena(0.659)  eudocima-phalonia(0.327)  hemichloridia-euprepia(0.008)  \n",
      "eudocima-homaena-3            : eudocima-homaena(0.998)  anambulyx-elwesi(0.002)  eudocima-phalonia(0.000)  \n",
      "eudocima-homaena-4            : eudocima-homaena(0.975)  eudocima-phalonia(0.023)  toccolosida-rubriceps(0.001)  \n",
      "eudocima-homaena              : eudocima-homaena(1.000)  eudocima-phalonia(0.000)  eudocima-salaminia(0.000)  \n",
      "eudocima-phalonia-2           : eudocima-phalonia(0.993)  eudocima-materna(0.003)  eudocima-homaena(0.002)  \n",
      "eudocima-phalonia-3           : oraesia-emarginata(0.461)  eudocima-phalonia(0.402)  eudocima-homaena(0.101)  \n",
      "eudocima-phalonia             : eudocima-phalonia(0.976)  eudocima-materna(0.021)  macroglossum-particolor(0.001)  \n",
      "eupterote-undata-2            : eupterote-spp(0.799)  eupterote-undata(0.188)  ennominae-genera-spp(0.006)  \n",
      "eupterote-undata              : eupterote-spp(0.798)  eupterote-undata(0.200)  eupterote-mollifera(0.002)  \n",
      "geometrinae-spp-2             : pelagodes-thalassodes-spp(0.957)  comibaena-striataria(0.042)  omphacodes-directa(0.000)  \n",
      "geometrinae-spp               : cyclothea-disjuncta(0.919)  geometrinae-genera-spp(0.056)  theretra-lucasii-larva(0.021)  \n",
      "hemichloridia-euprepia        : hemichloridia-euprepia(1.000)  geometrinae-genera-spp(0.000)  hemithea-spp(0.000)  \n",
      "herdonia-gigantea             : herdonia-gigantea(0.930)  herdonia-thaiensis(0.039)  acontia-catenula(0.011)  \n",
      "hippotion-celerio-2           : hippotion-celerio(1.000)  euclasta-spp(0.000)  tarsolepis-fulgurifera(0.000)  \n",
      "hippotion-celerio-3           : hippotion-celerio(0.994)  theretra-oldenlandiae(0.005)  theretra-suffusa(0.000)  \n",
      "hippotion-celerio             : hippotion-celerio(0.888)  theretra-oldenlandiae(0.109)  hyles-livornica(0.003)  \n",
      "hippotion-rosetta-2           : hippotion-rosetta(0.291)  theretra-nessus(0.273)  theretra-lycetus(0.179)  \n",
      "hippotion-rosetta-3           : theretra-alecto(0.510)  hippotion-rafflesii(0.139)  hippotion-boerhaviae(0.122)  \n",
      "hippotion-rosetta-4           : theretra-oldenlandiae(0.581)  theretra-silhetensis(0.270)  elibia-dolichus(0.071)  \n",
      "hippotion-rosetta-5           : hippotion-spp(0.908)  theretra-silhetensis(0.037)  theretra-oldenlandiae(0.026)  \n",
      "hippotion-rosetta             : hippotion-rosetta(0.990)  theretra-lucasii(0.006)  theretra-alecto(0.002)  \n",
      "hyles-livornica-2             : hippotion-celerio(0.822)  hyles-livornica(0.178)  hyles-gallii(0.000)  \n",
      "hyles-livornica-3             : hyles-livornica(0.928)  hippotion-celerio(0.071)  euclasta-spp(0.000)  \n",
      "hyles-livornica-4             : hyles-livornica(0.525)  homaea-clathrum(0.209)  ourapteryx-convergens(0.147)  \n",
      "hyles-livornica-5             : hippotion-celerio(0.977)  agrius-convolvuli(0.020)  ecliptopera-rectilinea(0.002)  \n",
      "hyles-livornica               : hyles-livornica(0.698)  trigonodes-hyppasia(0.166)  hippotion-celerio(0.077)  \n",
      "ilema-chloroptera             : ilema-chloroptera(1.000)  asura-miltochrista-group-spp(0.000)  eudocima-materna(0.000)  \n",
      "lebeda-nobilis-2              : metanastria-hyrtaca(0.292)  ampelophaga-rubiginosa(0.194)  lyssa-zampa(0.182)  \n",
      "lebeda-nobilis                : lebeda-nobilis(1.000)  metanastria-hyrtaca(0.000)  metanastria-spp(0.000)  \n",
      "marumba-gaschkewitschii       : eudocima-homaena(0.366)  marumba-dyras(0.140)  theretra-clotho(0.068)  \n",
      "marumba-indicus               : marumba-dyras(0.754)  marumba-spectabilis(0.101)  bombyx-huttoni(0.075)  \n",
      "marumba-nympha-2              : marumba-nympha(0.990)  paralebeda-plagifera(0.002)  miresa-albipuncta(0.001)  \n",
      "marumba-nympha-3              : cricula-trifenestrata(0.433)  paralebeda-plagifera(0.280)  euthrix-laeta(0.077)  \n",
      "marumba-nympha                : marumba-nympha(0.446)  dichromia-pullata(0.434)  achaea-serva(0.054)  \n",
      "metanastria-hyrtaca           : metanastria-hyrtaca(0.988)  metanastria-spp(0.006)  lebeda-nobilis(0.004)  \n",
      "mocis-undata                  : mocis-undata(1.000)  mocis-discios(0.000)  thyas-coronata(0.000)  \n",
      "neopheosia-fasciata-2         : tonica-niviferana(0.993)  herdonia-gigantea(0.003)  neopheosia-fasciata(0.002)  \n",
      "neopheosia-fasciata           : anaplectoides-tamsi(0.409)  diphtherocome-spp(0.401)  gaurena-aurofasciata(0.109)  \n",
      "nephele-hespera-2             : nephele-hespera(0.995)  artena-dotata(0.003)  achrosis-incitata-complex(0.001)  \n",
      "nephele-hespera               : nephele-hespera(0.943)  eudocima-hypermnestra(0.034)  pyrausta-phoenicealis(0.011)  \n",
      "nola-spp                      : cidariini-genera-spp(0.296)  lymantria-grisea(0.277)  epipaschiinae-genera-spp(0.197)  \n",
      "olene-mendosa-2               : olene-mendosa(0.507)  neopheosia-fasciata(0.227)  lophophelma-ruficosta(0.097)  \n",
      "olene-mendosa                 : olene-mendosa(0.996)  orgyiini-genera-spp(0.003)  orgyia-postica(0.001)  \n",
      "omiza-miliaria-2              : trabala-vishnou(0.923)  trabala-spp(0.029)  hypochrosis-flavifusata(0.012)  \n",
      "omiza-miliaria                : agnidra-vinacea(0.539)  hypopyra-vespertilio(0.178)  cricula-trifenestrata(0.083)  \n",
      "oraesia-emarginata-2          : oraesia-emarginata(0.885)  odontopera-kametaria(0.023)  acosmeryx-pseudonaga(0.013)  \n",
      "oraesia-emarginata            : oraesia-emarginata(0.767)  oraesia-argyrosigna(0.039)  acantholipes-trajecta(0.026)  \n",
      "paralebeda-plagifera-2        : paralebeda-plagifera(0.935)  lebeda-nobilis(0.063)  metanastria-spp(0.001)  \n",
      "paralebeda-plagifera-3        : paralebeda-plagifera(0.550)  lebeda-nobilis(0.382)  hyblaea-firmamentum(0.022)  \n",
      "paralebeda-plagifera          : paralebeda-plagifera(0.453)  bombycinae-genera-spp(0.083)  achrosis-spp(0.072)  \n",
      "pseudojana-incandescens-2     : artena-submira(0.545)  ganisa-spp(0.186)  pseudojana-incandescens(0.179)  \n",
      "pseudojana-incandescens       : artena-submira(0.826)  pseudojana-incandescens(0.059)  oglasa-hypenoides(0.032)  \n",
      "pycnarmon-cribrata-2          : pycnarmon-cribrata(0.992)  pycnarmon-lactiferalis(0.005)  pycnarmon-meritalis(0.003)  \n",
      "pycnarmon-cribrata            : conogethes-punctiferalis(0.777)  miltochrista-dharma(0.027)  spilarctia-spp(0.022)  \n",
      "rectipalpula-billeti-2        : asota-ficus(0.518)  agrotera-effertalis(0.235)  prophantis-adusta(0.101)  \n",
      "rectipalpula-billeti-3        : euproctis-plagiata(0.793)  syllepte-sellalis(0.093)  rectipalpula-billeti(0.052)  \n",
      "rectipalpula-billeti          : rectipalpula-billeti(0.935)  prophantis-adusta(0.062)  nosophora-spp(0.001)  \n",
      "samia-canningii               : samia-canningii(1.000)  attacus-taprobanis(0.000)  plutodes-transmutata(0.000)  \n",
      "samia-cynthia                 : samia-canningii(1.000)  attacus-taprobanis(0.000)  attacus-atlas(0.000)  \n",
      "somatina-rosacea              : somatina-rosacea(0.997)  eublemma-roseonivea(0.002)  eublemma-amabilis(0.000)  \n",
      "theretra-alecto               : theretra-suffusa(0.798)  theretra-alecto(0.165)  clanis-phalaris(0.025)  \n",
      "theretra-suffusa-2            : hippotion-rosetta(0.699)  theretra-pallicosta(0.255)  theretra-alecto(0.039)  \n",
      "theretra-suffusa              : clanis-bilineata(0.396)  hippotion-rosetta(0.285)  hyles-livornica(0.085)  \n",
      "thyas-coronata-2              : thyas-coronata(0.999)  artena-submira(0.000)  eudocima-homaena(0.000)  \n",
      "thyas-coronata-5              : thyas-coronata(0.999)  artena-submira(0.000)  phyllodes-eyndhovii(0.000)  \n",
      "thyas-coronata                : thyas-coronata(0.988)  spirama-spp(0.004)  rectipalpula-billeti(0.004)  \n",
      "trabala-vishnou               : trabala-spp(0.958)  trabala-vishnou(0.040)  omiza-miliaria(0.001)  \n",
      "westermannia-superba-2        : westermannia-superba(0.871)  emmelia-lunana(0.087)  perina-nuda(0.010)  \n",
      "westermannia-superba-3        : plusiinae-genera-spp(0.293)  perina-nuda(0.238)  macroglossum-gyrans(0.161)  \n",
      "westermannia-superba-4        : westermannia-superba(0.996)  streblote-siva(0.003)  acontia-nitidula(0.001)  \n",
      "westermannia-superba          : westermannia-superba(0.995)  herdonia-gigantea(0.001)  chilena-similis(0.001)  \n",
      "__dysphania-percota           : dysphania-percota(1.000)  abraxas-spp(0.000)  lymantria-fuliginosa(0.000)  \n",
      "__eupterote-undata            : albara-reversaria(0.575)  orudiza-protheclaria(0.201)  apona-shevaroyensis(0.101)  \n",
      "----------\n",
      "Top 1 accuracy: 58 / 115 -> 0.504, genus matched: 78 / 115 -> 0.678\n",
      "Top 3 accuracy: 76 / 115 -> 0.661, genus matched: 95 / 115 -> 0.826\n",
      "Top 5 accuracy: 83 / 115 -> 0.722, genus matched: 98 / 115 -> 0.852\n",
      "Top 10 accuracy: 88 / 115 -> 0.765, genus matched: 101 / 115 -> 0.878\n"
     ]
    }
   ],
   "source": [
    "test_top_k(model_data, f\"{dataset_dir}/my-test\", 3)\n",
    "test_top_k(model_data, f\"{dataset_dir}/my-test\", 5, print_preds=False, print_top1_accuracy=False)\n",
    "test_top_k(model_data, f\"{dataset_dir}/my-test\", 10, print_preds=False, print_top1_accuracy=False)"
   ]
  },
  {
   "cell_type": "markdown",
   "id": "a0725f4d-1960-43b9-9edf-6cbf40bc27c8",
   "metadata": {},
   "source": [
    "### Overall seems worse than raw/uncured data"
   ]
  },
  {
   "cell_type": "code",
   "execution_count": null,
   "id": "279b226b-807c-4b34-971f-48b868bb5fc3",
   "metadata": {},
   "outputs": [],
   "source": []
  }
 ],
 "metadata": {
  "kernelspec": {
   "display_name": "Python 3 (ipykernel)",
   "language": "python",
   "name": "python3"
  },
  "language_info": {
   "codemirror_mode": {
    "name": "ipython",
    "version": 3
   },
   "file_extension": ".py",
   "mimetype": "text/x-python",
   "name": "python",
   "nbconvert_exporter": "python",
   "pygments_lexer": "ipython3",
   "version": "3.12.8"
  }
 },
 "nbformat": 4,
 "nbformat_minor": 5
}
