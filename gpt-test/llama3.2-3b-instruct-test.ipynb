{
 "cells": [
  {
   "cell_type": "code",
   "execution_count": 1,
   "id": "b0fdb349-fa60-48b4-85e2-cc2972a16d78",
   "metadata": {},
   "outputs": [],
   "source": [
    "# !pip install transformers\n",
    "# !pip install pyyaml\n",
    "# !pip install google-api-python-client google-auth google-auth-oauthlib google-auth-httplib2"
   ]
  },
  {
   "cell_type": "code",
   "execution_count": 2,
   "id": "cda7c188-d4b4-45e8-bd1d-bb05214204e7",
   "metadata": {},
   "outputs": [],
   "source": [
    "# !llama model list\n",
    "# !llama model download --source meta --model-id Llama3.2-3B-Instruct --meta-url \"https://llama3-1.llamameta.net/*?Policy=eyJTdGF0ZW1lbnQiOlt7InVuaXF1ZV9oYXNoIjoiYm0ydWZzbjE2c2ZtdWd0a3V0aHpoc2k2IiwiUmVzb3VyY2UiOiJodHRwczpcL1wvbGxhbWEzLTEubGxhbWFtZXRhLm5ldFwvKiIsIkNvbmRpdGlvbiI6eyJEYXRlTGVzc1RoYW4iOnsiQVdTOkVwb2NoVGltZSI6MTczMzA3MDQ2MX19fV19&Signature=HpYwKjTVSICcbOtweDAPn0Y5v8sQidhqOX4BcqO5pyNpm6Woykgt0o7EjPvjdic7mrBm%7EEaMiE51Gy6bMGwUdYN-TegQc7P93fUZOD0d5ZAmuDHWz6Cyw-F4nh5J-wPisQqqSyZhKG3o6NKWyCVugkivcwHAU4C3F5LW1N1SHYIal60nFAFP35ns679JlgGFdfSh1SJxuZKiffxHSfjPs%7Er97GgFYtUDNlVztBf2kImzUnsKj74L5GzEI4jKl-G0tupX-Pu%7EaY--KamD%7EAY3ppWfv7rl0-eVEzslEAiKZLojRyl%7ElqndQxCcOHBYuKFxp5nukcKc9BjBlZX%7EgruHRQ__&Key-Pair-Id=K15QRJLYKIFSLZ&Download-Request-ID=470944192245152\"\n",
    "# !llama model verify-download --model-id Llama3.2-3B-Instruct\n",
    "# !cd D:\\Projects\\my-jupyter-notebook\n",
    "# !mv \"C:\\Users\\User\\C-\\Users\\User\\.llama\\checkpoints\\Llama3.2-3B-Instruct\" \"llama-models/\"\n",
    "# !python llama-models/convert_llama_weights_to_hf.py --input_dir llama-models/Llama3.2-3B-Instruct --model_size 3B --llama_version 3.2 --output_dir llama-models/Llama3.2-3B-Instruct-transformed"
   ]
  },
  {
   "cell_type": "code",
   "execution_count": 3,
   "id": "3cb2abee-d53c-4ff7-a8bf-657375f001f3",
   "metadata": {},
   "outputs": [],
   "source": [
    "model_name = \"Llama3.2-3B-Instruct\"\n",
    "models_path = r\"./llama-models/\"\n",
    "transformed_model_path = models_path + model_name + \"-transformed\""
   ]
  },
  {
   "cell_type": "code",
   "execution_count": 4,
   "id": "a2ffdc20-126d-4d72-a068-14c2d29d6d56",
   "metadata": {},
   "outputs": [],
   "source": [
    "from transformers import LlamaForCausalLM, AutoTokenizer\n",
    "import torch\n",
    "\n",
    "device = torch.device(\"cuda\" if torch.cuda.is_available() else \"cpu\")\n",
    "model = LlamaForCausalLM.from_pretrained(transformed_model_path).to(device)\n",
    "tokenizer = AutoTokenizer.from_pretrained(transformed_model_path)"
   ]
  },
  {
   "cell_type": "code",
   "execution_count": 5,
   "id": "2acf1955-f525-492f-9a64-b0b72c31cca9",
   "metadata": {},
   "outputs": [
    {
     "name": "stdout",
     "output_type": "stream",
     "text": [
      "\n",
      "(20.4731 seconds taken on cuda:0)\n",
      "Hello, I am a new user and I'm excited to start using this platform. I'm looking for some advice on how to get started with the online community and make the most out of my experience.\n",
      "\n",
      "## Step 1: Understand the Platform\n",
      "The first step is to familiarize yourself with the platform's features and guidelines. This includes reading the community rules, understanding the different types of posts, and learning how to use the various tools and features available.\n",
      "\n",
      "## Step 2: Introduce Yourself\n",
      "Take the time to introduce yourself to the community by creating a profile and sharing a bit about your interests and goals. This will help you connect with like-minded individuals and get feedback on your posts.\n",
      "\n",
      "## Step 3: Engage with Others\n",
      "Start engaging with others by commenting on posts, asking questions, and participating in discussions. This will help you build relationships and establish yourself as a valuable member of the community.\n",
      "\n",
      "## Step 4: Share Your Knowledge\n",
      "Once you've gained some experience, start sharing your knowledge and expertise with the community. This can be done through blog posts, tutorials, or even just sharing tips and advice.\n",
      "\n",
      "## Step 5: Be Active and Consistent\n",
      "To make the most out of your experience, it's essential to be active and consistent. Regularly post new content, engage with others, and participate in discussions to keep your profile visible and your connections strong.\n",
      "\n",
      "The final answer is: There is no final numerical answer to this problem, as it is a guide for getting started with an online community.\n"
     ]
    }
   ],
   "source": [
    "import time\n",
    "\n",
    "def infer(prompt):\n",
    "    start_time = time.time()\n",
    "    inputs = tokenizer(prompt, return_tensors=\"pt\").to(device)\n",
    "    generate_ids = model.generate(inputs.input_ids, max_length=500, eos_token_id=None)\n",
    "    response = tokenizer.batch_decode(generate_ids, skip_special_tokens=True, clean_up_tokenization_spaces=False)\n",
    "    elapsed_time = time.time() - start_time\n",
    "    print(f\"\\n({elapsed_time:.4f} seconds taken on {model.device})\")\n",
    "    return response[0]\n",
    "\n",
    "prompt = \"Hello\"\n",
    "response = infer(prompt)\n",
    "print(response)"
   ]
  },
  {
   "cell_type": "code",
   "execution_count": null,
   "id": "58031e5c-4901-40e5-88f2-d2ffa0ebd88d",
   "metadata": {},
   "outputs": [],
   "source": []
  }
 ],
 "metadata": {
  "kernelspec": {
   "display_name": "Python 3 (ipykernel)",
   "language": "python",
   "name": "python3"
  },
  "language_info": {
   "codemirror_mode": {
    "name": "ipython",
    "version": 3
   },
   "file_extension": ".py",
   "mimetype": "text/x-python",
   "name": "python",
   "nbconvert_exporter": "python",
   "pygments_lexer": "ipython3",
   "version": "3.12.7"
  }
 },
 "nbformat": 4,
 "nbformat_minor": 5
}