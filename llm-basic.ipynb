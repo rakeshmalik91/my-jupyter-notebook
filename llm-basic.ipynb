{
 "cells": [
  {
   "cell_type": "code",
   "execution_count": null,
   "id": "118fed72",
   "metadata": {},
   "outputs": [
    {
     "name": "stdout",
     "output_type": "stream",
     "text": [
      "The dog chased the rat\n",
      "The cat chased the rat\n",
      "The cat chased the cat\n",
      "The dog chased the rat\n",
      "The cat sat on the rug\n",
      "The cat sat on the rug\n",
      "The dog chased the rat\n",
      "The cat sat on the rug\n",
      "The dog chased the cat\n",
      "The cat sat on the rug\n",
      "The dog sat\n",
      "The dog sat\n",
      "The cat chased\n",
      "The cat chased\n",
      "The cat chased\n",
      "The dog sat\n",
      "The cat sat\n",
      "The dog sat\n",
      "The dog chased\n",
      "The cat chased\n"
     ]
    }
   ],
   "source": [
    "import random\n",
    "\n",
    "model = {\n",
    "    (\"The\",): [\"cat\", \"dog\"],\n",
    "    (\"The\", \"cat\"): [\"sat\", \"chased\"],\n",
    "    (\"The\", \"dog\"): [\"sat\", \"chased\"],\n",
    "    (\"cat\", \"sat\"): [\"on\"],\n",
    "    (\"dog\", \"sat\"): [\"on\"],\n",
    "    (\"sat\", \"on\"): [\"the\"],\n",
    "    (\"on\", \"the\"): [\"mat\", \"rug\"],\n",
    "    (\"cat\", \"chased\"): [\"the\"],\n",
    "    (\"dog\", \"chased\"): [\"the\"],\n",
    "    (\"chased\", \"the\"): [\"rat\", \"cat\"]\n",
    "}\n",
    "\n",
    "def generate_sentence(start=(\"The\",), length=7):\n",
    "    sentence = list(start)\n",
    "    while len(sentence) < length:\n",
    "        key = tuple(sentence[-2:]) if len(sentence) >= 2 else tuple(sentence[-1:])\n",
    "        next_word = random.choice(model.get(key, [\"END\"]))\n",
    "        if next_word == \"END\":\n",
    "            break\n",
    "        sentence.append(next_word)\n",
    "    return \" \".join(sentence)\n",
    "\n",
    "for _ in range(10):\n",
    "    print(generate_sentence())\n",
    "for _ in range(10):\n",
    "    print(generate_sentence(length=3))"
   ]
  },
  {
   "cell_type": "code",
   "execution_count": null,
   "id": "6d7661d2",
   "metadata": {},
   "outputs": [],
   "source": []
  }
 ],
 "metadata": {
  "kernelspec": {
   "display_name": "Python 3 (ipykernel)",
   "language": "python",
   "name": "python3"
  }
 },
 "nbformat": 4,
 "nbformat_minor": 5
}
