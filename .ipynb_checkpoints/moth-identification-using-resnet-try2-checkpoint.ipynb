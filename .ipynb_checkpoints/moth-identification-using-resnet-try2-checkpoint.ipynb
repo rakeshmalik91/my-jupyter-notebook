{
 "cells": [
  {
   "cell_type": "code",
   "execution_count": null,
   "id": "45656b90-6763-4104-9aec-e35774545130",
   "metadata": {},
   "outputs": [],
   "source": [
    "# !pip install torchviz tensorflow"
   ]
  },
  {
   "cell_type": "code",
   "execution_count": 1,
   "id": "94886411-7ed5-4680-bd18-f19b2393e4b6",
   "metadata": {},
   "outputs": [],
   "source": [
    "dataset_dir = \"insect-dataset/moth\""
   ]
  },
  {
   "cell_type": "code",
   "execution_count": 2,
   "id": "a97cbc75-ade1-4397-a85f-3b9a1f105aa1",
   "metadata": {},
   "outputs": [],
   "source": [
    "import shutil\n",
    "import os\n",
    "import time\n",
    "import datetime\n",
    "import random\n",
    "import numpy as np\n",
    "from pathlib import Path\n",
    "from PIL import Image\n",
    "import pprint\n",
    "import torch\n",
    "from torchvision import transforms\n",
    "from torchvision import datasets\n",
    "from torch.utils.data import DataLoader\n",
    "from torchvision import models\n",
    "import torch.nn as nn\n",
    "import torch.nn.functional as F"
   ]
  },
  {
   "cell_type": "code",
   "execution_count": 3,
   "id": "d69c3dc7-9bc4-4d60-9d44-570fdafe1553",
   "metadata": {},
   "outputs": [],
   "source": [
    "def split_data_for_train_and_val(data_dir, test_dir, val_dir, train_dir, test_data_weight, val_data_weight, min_file_cnt_for_val):\n",
    "    if os.path.exists(test_dir):\n",
    "        shutil.rmtree(test_dir)\n",
    "    if os.path.exists(val_dir):\n",
    "        shutil.rmtree(val_dir)\n",
    "    if os.path.exists(train_dir):\n",
    "        shutil.rmtree(train_dir)\n",
    "\n",
    "    train_data_cnt = 0\n",
    "    val_data_cnt = 0\n",
    "    test_data_cnt = 0\n",
    "    class_cnt = 0\n",
    "    \n",
    "    for class_dir in Path(data_dir).iterdir():\n",
    "        if class_dir.is_dir() and os.listdir(class_dir):\n",
    "            class_cnt = class_cnt + 1\n",
    "            file_count = sum(1 for file in class_dir.iterdir() if file.is_file())\n",
    "            for file in Path(class_dir).iterdir():\n",
    "                if file.is_file():\n",
    "                    random_float = random.random()\n",
    "                    class_dir_name = class_dir.name\n",
    "                    if file_count >= min_file_cnt_for_val and random_float < test_data_weight:\n",
    "                        target_dir = test_dir\n",
    "                        test_data_cnt = test_data_cnt + 1\n",
    "                    elif file_count >= min_file_cnt_for_val and random_float < test_data_weight + val_data_weight:\n",
    "                        target_dir = val_dir\n",
    "                        val_data_cnt = val_data_cnt + 1\n",
    "                    else:\n",
    "                        target_dir = train_dir\n",
    "                        train_data_cnt = train_data_cnt + 1\n",
    "                    target_dir_path = f\"{target_dir}/{class_dir_name}\"\n",
    "                    if not os.path.exists(target_dir_path):\n",
    "                        os.makedirs(target_dir_path)\n",
    "                    shutil.copy(file, target_dir_path)\n",
    "\n",
    "    print(f\"Class count: {class_cnt}\")\n",
    "    print(f\"Training data count: {train_data_cnt}\")\n",
    "    print(f\"Validation data count: {val_data_cnt}\")\n",
    "    print(f\"Test data count: {test_data_cnt}\")"
   ]
  },
  {
   "cell_type": "code",
   "execution_count": 38,
   "id": "f61ba5f3-bbb2-494b-ad02-f18dae6bc7ab",
   "metadata": {},
   "outputs": [],
   "source": [
    "def init_model_for_training(train_dir, val_dir, batch_size, arch='resnet18', model=None):\n",
    "    transform = {\n",
    "        'train': transforms.Compose([\n",
    "            transforms.Resize((256, 256)),\n",
    "            transforms.CenterCrop((224, 224)),\n",
    "            transforms.RandomHorizontalFlip(),\n",
    "            transforms.RandomRotation(15),\n",
    "            transforms.ToTensor(),\n",
    "            transforms.Normalize([0.485, 0.456, 0.406], [0.229, 0.224, 0.225]),\n",
    "        ]),\n",
    "        'val': transforms.Compose([\n",
    "            transforms.Resize((256, 256)),\n",
    "            transforms.CenterCrop((224, 224)),\n",
    "            transforms.ToTensor(),\n",
    "            transforms.Normalize([0.485, 0.456, 0.406], [0.229, 0.224, 0.225]),\n",
    "        ]),\n",
    "    }\n",
    "    training_datasets = {\n",
    "        'train': datasets.ImageFolder(root=train_dir, transform=transform['train']),\n",
    "        'val': datasets.ImageFolder(root=val_dir, transform=transform['val']),\n",
    "    }\n",
    "    dataloaders = {\n",
    "        'train': DataLoader(training_datasets['train'], batch_size=batch_size, shuffle=True),\n",
    "        'val': DataLoader(training_datasets['val'], batch_size=batch_size, shuffle=False),\n",
    "    }\n",
    "    class_names = training_datasets['train'].classes\n",
    "\n",
    "    if not model:\n",
    "        if arch == 'resnet152':\n",
    "            model = models.resnet152(weights=models.ResNet152_Weights.DEFAULT)\n",
    "        elif arch == 'resnet50':\n",
    "            model = models.resnet50(weights=models.ResNet50_Weights.DEFAULT)\n",
    "        else:\n",
    "            model = models.resnet18(weights=models.ResNet18_Weights.DEFAULT)\n",
    "    num_classes = len(class_names)\n",
    "    num_features = model.fc.in_features\n",
    "    model.fc = nn.Linear(num_features, num_classes)\n",
    "    device = torch.device(\"cuda:0\" if torch.cuda.is_available() else \"cpu\")\n",
    "    model = model.to(device)\n",
    "    \n",
    "    criterion = nn.CrossEntropyLoss()\n",
    "    optimizer = torch.optim.Adam(model.parameters(), lr=0.001)\n",
    "    scheduler = torch.optim.lr_scheduler.StepLR(optimizer, step_size=7, gamma=0.1)\n",
    "\n",
    "    return {\n",
    "        'model': model,\n",
    "        'device': device,\n",
    "        'transform': transform,\n",
    "        'datasets': training_datasets,\n",
    "        'dataloaders': dataloaders,\n",
    "        'class_names': class_names,\n",
    "        'num_classes': num_classes,\n",
    "        'num_features': num_features,\n",
    "        'criterion': criterion,\n",
    "        'optimizer': optimizer,\n",
    "        'scheduler': scheduler\n",
    "    }"
   ]
  },
  {
   "cell_type": "code",
   "execution_count": 35,
   "id": "571bb930-7a23-42c4-b484-4d68d2040753",
   "metadata": {},
   "outputs": [],
   "source": [
    "def train(model_data, num_epochs, model_path, phases=['train', 'val']):\n",
    "    start_time = time.time()\n",
    "    for epoch in range(num_epochs):\n",
    "        print(f\"Epoch {(epoch+1):4} / {num_epochs:4}\", end=' ')\n",
    "        for phase in phases:\n",
    "            if phase == 'train':\n",
    "                model_data['model'].train()\n",
    "            else:\n",
    "                model_data['model'].eval()\n",
    "            running_loss = 0.0\n",
    "            running_corrects = 0\n",
    "            for inputs, labels in model_data['dataloaders'][phase]:\n",
    "                inputs, labels = inputs.to(model_data['device']), labels.to(model_data['device'])\n",
    "                model_data['optimizer'].zero_grad()\n",
    "                with torch.set_grad_enabled(phase == 'train'):\n",
    "                    outputs = model_data['model'](inputs)\n",
    "                    _, preds = torch.max(outputs, 1)\n",
    "                    loss = model_data['criterion'](outputs, labels)\n",
    "                    if phase == 'train':\n",
    "                        loss.backward()\n",
    "                        model_data['optimizer'].step()\n",
    "                running_loss += loss.item() * inputs.size(0)\n",
    "                running_corrects += torch.sum(preds == labels.data)\n",
    "    \n",
    "            epoch_loss = running_loss / len(model_data['datasets'][phase])\n",
    "            epoch_acc = running_corrects.double() / len(model_data['datasets'][phase])\n",
    "            print(f\" | {phase.capitalize()} Loss: {epoch_loss:.4f} Acc: {epoch_acc:.4f}\", end=' ')\n",
    "            if phase == 'train':\n",
    "                model_data['scheduler'].step()\n",
    "        print(f\" | Elapsed time: {datetime.timedelta(seconds=(time.time() - start_time))}\")\n",
    "        torch.save(model_data['model'].state_dict(), model_path)"
   ]
  },
  {
   "cell_type": "code",
   "execution_count": 6,
   "id": "95539812-855d-4f01-ae71-5754adee7b05",
   "metadata": {},
   "outputs": [],
   "source": [
    "def predict(image_path, model_data):\n",
    "    image = Image.open(image_path).convert(\"RGB\")\n",
    "    image = model_data['transform']['val'](image).unsqueeze(0).to(model_data['device'])\n",
    "    with torch.no_grad():\n",
    "        outputs = model_data['model'](image)\n",
    "        _, preds = torch.max(outputs, 1)\n",
    "    try:\n",
    "        return model_data['class_names'][preds[0]]\n",
    "    except (Exception):\n",
    "        return None\n",
    "\n",
    "def predict_top_k(image_path, model_data, k):\n",
    "    image = Image.open(image_path).convert(\"RGB\")\n",
    "    image = model_data['transform']['val'](image).unsqueeze(0).to(model_data['device'])\n",
    "    with torch.no_grad():\n",
    "        outputs = model_data['model'](image)\n",
    "        probabilities = F.softmax(outputs, dim=1)\n",
    "        top_probs, top_indices = torch.topk(probabilities, k)\n",
    "    try:\n",
    "        return {model_data['class_names'][top_indices[0][i]]: top_probs[0][i].item() for i in range(0, k)}\n",
    "    except (Exception):\n",
    "        return None"
   ]
  },
  {
   "cell_type": "code",
   "execution_count": 7,
   "id": "9691c4a4-4d70-4460-9566-b9fca9632e30",
   "metadata": {},
   "outputs": [],
   "source": [
    "def validate_prediction_in_dir(test_dir, model_data):\n",
    "    total = 0\n",
    "    success = 0\n",
    "    failures = {}\n",
    "    for species_dir in Path(test_dir).iterdir():\n",
    "        if species_dir.is_dir():\n",
    "            for file in Path(f\"{species_dir}\").iterdir():\n",
    "                if file.is_file():\n",
    "                    species = file.parts[-2]\n",
    "                    prediction = predict(file, model_data)\n",
    "                    is_success = (species==prediction)\n",
    "                    if not is_success:\n",
    "                        failures[species] = prediction\n",
    "                    total = total + 1\n",
    "                    if is_success:\n",
    "                        success = success + 1\n",
    "    return {\n",
    "        'total': total, \n",
    "        'success': success,\n",
    "        'failures': failures\n",
    "    }\n",
    "\n",
    "def test(model_data, test_dir, print_failures=True):\n",
    "    model_data['model'].eval()\n",
    "    start_time = time.time()\n",
    "    prediction = validate_prediction_in_dir(test_dir, model_data)\n",
    "    print(f\"Accuracy: {prediction['success']} / {prediction['total']} -> {100*prediction['success']/prediction['total']:.2f}%\")\n",
    "    print(f\"Elapsed time: {datetime.timedelta(seconds=(time.time() - start_time))}\")\n",
    "    if print_failures:\n",
    "        print(\"-\"*10)\n",
    "        print(\"Failures:\")\n",
    "        pprint.pprint(prediction['failures'])"
   ]
  },
  {
   "cell_type": "markdown",
   "id": "90936634-1292-410a-89d5-dcd4686eb7fe",
   "metadata": {},
   "source": [
    "# Extract small dataset and train"
   ]
  },
  {
   "cell_type": "code",
   "execution_count": 11,
   "id": "9147eaca-6e4c-41ab-ba03-1234b4039a43",
   "metadata": {},
   "outputs": [],
   "source": [
    "def extract_proto_dataset(data_dir, proto_data_dir, limit):\n",
    "    file_cnt = 0\n",
    "    for class_dir in Path(data_dir).iterdir():\n",
    "        if class_dir.is_dir() and os.listdir(class_dir):\n",
    "            file_count = sum(1 for file in class_dir.iterdir() if file.is_file())\n",
    "            class_dir_name = class_dir.name\n",
    "            for file in Path(class_dir).iterdir():\n",
    "                if file.is_file():\n",
    "                    target_dir_path = f\"{proto_data_dir}/{class_dir_name}\"\n",
    "                    if not os.path.exists(target_dir_path):\n",
    "                        os.makedirs(target_dir_path)\n",
    "                    shutil.copy(file, target_dir_path)\n",
    "                    file_cnt = file_cnt + 1\n",
    "                    if(file_cnt >= limit):\n",
    "                        return"
   ]
  },
  {
   "cell_type": "code",
   "execution_count": 12,
   "id": "e66eb65d-8531-4792-bb87-c4a53ad00764",
   "metadata": {},
   "outputs": [],
   "source": [
    "extract_proto_dataset(f\"{dataset_dir}/data\", f\"{dataset_dir}/proto/data\", 5000)"
   ]
  },
  {
   "cell_type": "code",
   "execution_count": 13,
   "id": "8d676cb6-2016-43a2-97e8-4d06fabae302",
   "metadata": {},
   "outputs": [
    {
     "name": "stdout",
     "output_type": "stream",
     "text": [
      "Class count: 335\n",
      "Training data count: 3587\n",
      "Validation data count: 976\n",
      "Test data count: 437\n"
     ]
    }
   ],
   "source": [
    "split_data_for_train_and_val(f\"{dataset_dir}/proto/data\", f\"{dataset_dir}/proto/test\", f\"{dataset_dir}/proto/val\", f\"{dataset_dir}/proto/train\", 0.1, 0.2, 4)"
   ]
  },
  {
   "cell_type": "code",
   "execution_count": 14,
   "id": "8b9d2812-4e96-4f3a-8ad5-3a3a5c094eb8",
   "metadata": {},
   "outputs": [
    {
     "name": "stdout",
     "output_type": "stream",
     "text": [
      "device: cuda:0\n",
      "num_classes: 335\n",
      "num_features: 2048\n"
     ]
    }
   ],
   "source": [
    "model_data = init_model_for_training(f'{dataset_dir}/proto/train', f'{dataset_dir}/proto/val', 32, 'resnet152')\n",
    "print(f\"device: {model_data['device']}\")\n",
    "print(f\"num_classes: {model_data['num_classes']}\")\n",
    "print(f\"num_features: {model_data['num_features']}\")"
   ]
  },
  {
   "cell_type": "code",
   "execution_count": 15,
   "id": "f8d03dad-0d01-4484-82b0-4b70796d9b45",
   "metadata": {},
   "outputs": [
    {
     "name": "stdout",
     "output_type": "stream",
     "text": [
      "Epoch    1 /   10  | Train Loss: 4.2734 Acc: 0.2225  | Val Loss: 8.7223 Acc: 0.0051  | Elapsed time: 0:01:23.228365\n",
      "Epoch    2 /   10  | Train Loss: 2.4111 Acc: 0.4592  | Val Loss: 11.4917 Acc: 0.0020  | Elapsed time: 0:02:24.219620\n",
      "Epoch    3 /   10  | Train Loss: 1.4140 Acc: 0.6381  | Val Loss: 13.8444 Acc: 0.0020  | Elapsed time: 0:03:25.363246\n",
      "Epoch    4 /   10  | Train Loss: 0.8677 Acc: 0.7625  | Val Loss: 15.7006 Acc: 0.0000  | Elapsed time: 0:04:25.893044\n",
      "Epoch    5 /   10  | Train Loss: 0.5145 Acc: 0.8500  | Val Loss: 18.8933 Acc: 0.0020  | Elapsed time: 0:05:26.871106\n",
      "Epoch    6 /   10  | Train Loss: 0.3255 Acc: 0.9027  | Val Loss: 18.7278 Acc: 0.0000  | Elapsed time: 0:06:28.078115\n",
      "Epoch    7 /   10  | Train Loss: 0.2631 Acc: 0.9270  | Val Loss: 20.5245 Acc: 0.0000  | Elapsed time: 0:07:28.870335\n",
      "Epoch    8 /   10  | Train Loss: 0.1018 Acc: 0.9752  | Val Loss: 21.4623 Acc: 0.0000  | Elapsed time: 0:08:29.928056\n",
      "Epoch    9 /   10  | Train Loss: 0.0422 Acc: 0.9939  | Val Loss: 21.8272 Acc: 0.0000  | Elapsed time: 0:09:31.186095\n",
      "Epoch   10 /   10  | Train Loss: 0.0284 Acc: 0.9967  | Val Loss: 22.2583 Acc: 0.0000  | Elapsed time: 0:10:32.237306\n"
     ]
    },
    {
     "data": {
      "text/plain": [
       "'insect-dataset/moth/proto/checkpoint_1737904013.pth'"
      ]
     },
     "execution_count": 15,
     "metadata": {},
     "output_type": "execute_result"
    }
   ],
   "source": [
    "train(model_data, 10, f\"{dataset_dir}/proto/checkpoint_latest.pth\")\n",
    "shutil.copy(f\"{dataset_dir}/proto/checkpoint_latest.pth\", f\"{dataset_dir}/proto/checkpoint_{int(time.time())}.pth\")"
   ]
  },
  {
   "cell_type": "code",
   "execution_count": 19,
   "id": "d96d92cb-a8c3-4de9-af6f-a6fc5c14aa56",
   "metadata": {},
   "outputs": [
    {
     "name": "stdout",
     "output_type": "stream",
     "text": [
      "Accuracy: 339 / 437 -> 77.57%\n",
      "Elapsed time: 0:00:13.212557\n"
     ]
    }
   ],
   "source": [
    "test(f\"{dataset_dir}/proto/checkpoint_latest.pth\", f\"{dataset_dir}/proto/test\", False)"
   ]
  },
  {
   "cell_type": "code",
   "execution_count": 20,
   "id": "9154a7b7-75f9-4f07-abd8-d341f619d9b2",
   "metadata": {},
   "outputs": [
    {
     "name": "stdout",
     "output_type": "stream",
     "text": [
      "Epoch    1 /   15  | Train Loss: 0.0235 Acc: 0.9972  | Val Loss: 22.9249 Acc: 0.0000  | Elapsed time: 0:00:56.973522\n",
      "Epoch    2 /   15  | Train Loss: 0.0226 Acc: 0.9972  | Val Loss: 22.6684 Acc: 0.0000  | Elapsed time: 0:01:55.476553\n",
      "Epoch    3 /   15  | Train Loss: 0.0177 Acc: 0.9992  | Val Loss: 23.1591 Acc: 0.0000  | Elapsed time: 0:02:55.064055\n",
      "Epoch    4 /   15  | Train Loss: 0.0154 Acc: 0.9978  | Val Loss: 23.5279 Acc: 0.0000  | Elapsed time: 0:03:54.686624\n",
      "Epoch    5 /   15  | Train Loss: 0.0116 Acc: 0.9992  | Val Loss: 23.6491 Acc: 0.0000  | Elapsed time: 0:04:54.752135\n",
      "Epoch    6 /   15  | Train Loss: 0.0125 Acc: 0.9992  | Val Loss: 23.6528 Acc: 0.0000  | Elapsed time: 0:05:54.709724\n",
      "Epoch    7 /   15  | Train Loss: 0.0118 Acc: 0.9986  | Val Loss: 23.4595 Acc: 0.0000  | Elapsed time: 0:06:55.729418\n",
      "Epoch    8 /   15  | Train Loss: 0.0131 Acc: 0.9983  | Val Loss: 23.5641 Acc: 0.0000  | Elapsed time: 0:07:56.319839\n",
      "Epoch    9 /   15  | Train Loss: 0.0106 Acc: 0.9992  | Val Loss: 23.5077 Acc: 0.0000  | Elapsed time: 0:08:57.042908\n",
      "Epoch   10 /   15  | Train Loss: 0.0103 Acc: 0.9994  | Val Loss: 23.6803 Acc: 0.0000  | Elapsed time: 0:09:57.674241\n",
      "Epoch   11 /   15  | Train Loss: 0.0113 Acc: 0.9986  | Val Loss: 23.7904 Acc: 0.0000  | Elapsed time: 0:10:58.429727\n",
      "Epoch   12 /   15  | Train Loss: 0.0109 Acc: 0.9986  | Val Loss: 23.5160 Acc: 0.0000  | Elapsed time: 0:11:59.183849\n",
      "Epoch   13 /   15  | Train Loss: 0.0114 Acc: 0.9989  | Val Loss: 23.7234 Acc: 0.0000  | Elapsed time: 0:13:00.230849\n",
      "Epoch   14 /   15  | Train Loss: 0.0109 Acc: 0.9997  | Val Loss: 23.7066 Acc: 0.0000  | Elapsed time: 0:14:00.904736\n",
      "Epoch   15 /   15  | Train Loss: 0.0112 Acc: 0.9997  | Val Loss: 23.5832 Acc: 0.0000  | Elapsed time: 0:15:01.637649\n"
     ]
    },
    {
     "data": {
      "text/plain": [
       "'insect-dataset/moth/proto/checkpoint_1737905294.pth'"
      ]
     },
     "execution_count": 20,
     "metadata": {},
     "output_type": "execute_result"
    }
   ],
   "source": [
    "train(model_data, 15, f\"{dataset_dir}/proto/checkpoint_latest.pth\")\n",
    "shutil.copy(f\"{dataset_dir}/proto/checkpoint_latest.pth\", f\"{dataset_dir}/proto/checkpoint_{int(time.time())}.pth\")"
   ]
  },
  {
   "cell_type": "code",
   "execution_count": 21,
   "id": "ed049342-b5f9-491a-8511-d9e764d01169",
   "metadata": {},
   "outputs": [
    {
     "name": "stdout",
     "output_type": "stream",
     "text": [
      "Accuracy: 339 / 437 -> 77.57%\n",
      "Elapsed time: 0:00:14.069417\n"
     ]
    }
   ],
   "source": [
    "test(f\"{dataset_dir}/proto/checkpoint_latest.pth\", f\"{dataset_dir}/proto/test\", False)"
   ]
  },
  {
   "cell_type": "markdown",
   "id": "4fb4bd81-83f3-4845-8347-ff7df83106f1",
   "metadata": {},
   "source": [
    "# Try whole dataset"
   ]
  },
  {
   "cell_type": "code",
   "execution_count": 22,
   "id": "59874f59-20e5-469b-b3f3-53e3f1b2a7c8",
   "metadata": {},
   "outputs": [
    {
     "name": "stdout",
     "output_type": "stream",
     "text": [
      "Class count: 3051\n",
      "Training data count: 31685\n",
      "Validation data count: 8433\n",
      "Test data count: 4207\n"
     ]
    }
   ],
   "source": [
    "split_data_for_train_and_val(f\"{dataset_dir}/data\", f\"{dataset_dir}/whole/test\", f\"{dataset_dir}/whole/val\", f\"{dataset_dir}/whole/train\", 0.1, 0.2, 4)"
   ]
  },
  {
   "cell_type": "code",
   "execution_count": 24,
   "id": "18357a91-ae8f-45a4-b864-3745616f2a24",
   "metadata": {},
   "outputs": [
    {
     "name": "stdout",
     "output_type": "stream",
     "text": [
      "device: cuda:0\n",
      "num_classes: 3047\n",
      "num_features: 2048\n"
     ]
    }
   ],
   "source": [
    "model_data = init_model_for_training(f'{dataset_dir}/whole/train', f'{dataset_dir}/whole/val', 32, 'resnet152')\n",
    "print(f\"device: {model_data['device']}\")\n",
    "print(f\"num_classes: {model_data['num_classes']}\")\n",
    "print(f\"num_features: {model_data['num_features']}\")"
   ]
  },
  {
   "cell_type": "code",
   "execution_count": 25,
   "id": "b4a8e529-15e6-473b-9879-12c089629b8d",
   "metadata": {},
   "outputs": [
    {
     "name": "stdout",
     "output_type": "stream",
     "text": [
      "Epoch    1 /   10  | Train Loss: 6.9943 Acc: 0.0287  | Val Loss: 10.5721 Acc: 0.0002  | Elapsed time: 0:12:55.693598\n",
      "Epoch    2 /   10  | Train Loss: 5.5082 Acc: 0.1100  | Val Loss: 13.7301 Acc: 0.0002  | Elapsed time: 0:22:03.725549\n",
      "Epoch    3 /   10  | Train Loss: 4.1835 Acc: 0.2300  | Val Loss: 18.0148 Acc: 0.0000  | Elapsed time: 0:31:02.207172\n",
      "Epoch    4 /   10  | Train Loss: 2.9483 Acc: 0.3738  | Val Loss: 20.3164 Acc: 0.0000  | Elapsed time: 0:40:05.587716\n",
      "Epoch    5 /   10  | Train Loss: 2.0762 Acc: 0.5149  | Val Loss: 23.8363 Acc: 0.0002  | Elapsed time: 0:49:15.484986\n",
      "Epoch    6 /   10  | Train Loss: 1.4947 Acc: 0.6303  | Val Loss: 25.8847 Acc: 0.0004  | Elapsed time: 0:58:28.379801\n",
      "Epoch    7 /   10  | Train Loss: 1.0883 Acc: 0.7190  | Val Loss: 27.7926 Acc: 0.0004  | Elapsed time: 1:07:28.747835\n",
      "Epoch    8 /   10  | Train Loss: 0.5328 Acc: 0.8661  | Val Loss: 31.5856 Acc: 0.0001  | Elapsed time: 1:16:24.911054\n",
      "Epoch    9 /   10  | Train Loss: 0.3971 Acc: 0.9029  | Val Loss: 32.3535 Acc: 0.0001  | Elapsed time: 1:25:19.702336\n",
      "Epoch   10 /   10  | Train Loss: 0.3327 Acc: 0.9187  | Val Loss: 33.1168 Acc: 0.0001  | Elapsed time: 1:34:19.049130\n"
     ]
    },
    {
     "data": {
      "text/plain": [
       "'insect-dataset/moth/whole/checkpoint_1737912201.pth'"
      ]
     },
     "execution_count": 25,
     "metadata": {},
     "output_type": "execute_result"
    }
   ],
   "source": [
    "train(model_data, 10, f\"{dataset_dir}/whole/checkpoint_latest.pth\")\n",
    "shutil.copy(f\"{dataset_dir}/whole/checkpoint_latest.pth\", f\"{dataset_dir}/whole/checkpoint_{int(time.time())}.pth\")"
   ]
  },
  {
   "cell_type": "code",
   "execution_count": 27,
   "id": "50c3e3e3-1e26-4c43-a960-64058be84e13",
   "metadata": {},
   "outputs": [
    {
     "name": "stdout",
     "output_type": "stream",
     "text": [
      "Accuracy: 2456 / 4207 -> 58.38%\n",
      "Elapsed time: 0:02:22.669664\n"
     ]
    }
   ],
   "source": [
    "test(model_data, f\"{dataset_dir}/whole/test\", False)"
   ]
  },
  {
   "cell_type": "code",
   "execution_count": 28,
   "id": "385c9f09-a75b-4b7e-9934-7c588d085282",
   "metadata": {},
   "outputs": [
    {
     "name": "stdout",
     "output_type": "stream",
     "text": [
      "Epoch    1 /   15  | Train Loss: 0.2746 Acc: 0.9332  | Val Loss: 33.9506 Acc: 0.0001  | Elapsed time: 0:08:51.697254\n",
      "Epoch    2 /   15  | Train Loss: 0.2349 Acc: 0.9450  | Val Loss: 34.4784 Acc: 0.0001  | Elapsed time: 0:17:46.581026\n",
      "Epoch    3 /   15  | Train Loss: 0.1969 Acc: 0.9549  | Val Loss: 35.6736 Acc: 0.0001  | Elapsed time: 0:26:42.020922\n",
      "Epoch    4 /   15  | Train Loss: 0.1652 Acc: 0.9635  | Val Loss: 35.7468 Acc: 0.0001  | Elapsed time: 0:35:37.828816\n",
      "Epoch    5 /   15  | Train Loss: 0.1235 Acc: 0.9768  | Val Loss: 36.1115 Acc: 0.0001  | Elapsed time: 0:44:32.840170\n",
      "Epoch    6 /   15  | Train Loss: 0.1176 Acc: 0.9785  | Val Loss: 36.4627 Acc: 0.0001  | Elapsed time: 0:53:27.654125\n",
      "Epoch    7 /   15  | Train Loss: 0.1125 Acc: 0.9806  | Val Loss: 36.4524 Acc: 0.0002  | Elapsed time: 1:02:22.557817\n",
      "Epoch    8 /   15  | Train Loss: 0.1075 Acc: 0.9817  | Val Loss: 36.4293 Acc: 0.0001  | Elapsed time: 1:11:16.109338\n",
      "Epoch    9 /   15  | Train Loss: 0.1063 Acc: 0.9807  | Val Loss: 36.6631 Acc: 0.0001  | Elapsed time: 1:20:09.665184\n",
      "Epoch   10 /   15  | Train Loss: 0.1017 Acc: 0.9830  | Val Loss: 36.8231 Acc: 0.0001  | Elapsed time: 1:29:03.131355\n",
      "Epoch   11 /   15  | Train Loss: 0.0976 Acc: 0.9840  | Val Loss: 36.8783 Acc: 0.0002  | Elapsed time: 1:37:57.776452\n",
      "Epoch   12 /   15  | Train Loss: 0.0936 Acc: 0.9849  | Val Loss: 37.1281 Acc: 0.0001  | Elapsed time: 1:46:52.382593\n",
      "Epoch   13 /   15  | Train Loss: 0.0960 Acc: 0.9833  | Val Loss: 37.0803 Acc: 0.0001  | Elapsed time: 1:55:46.251230\n",
      "Epoch   14 /   15  | Train Loss: 0.0930 Acc: 0.9842  | Val Loss: 37.0253 Acc: 0.0001  | Elapsed time: 2:04:40.638505\n",
      "Epoch   15 /   15  | Train Loss: 0.0945 Acc: 0.9841  | Val Loss: 36.9453 Acc: 0.0001  | Elapsed time: 2:13:34.128723\n"
     ]
    },
    {
     "data": {
      "text/plain": [
       "'insect-dataset/moth/whole/checkpoint_1737920416.pth'"
      ]
     },
     "execution_count": 28,
     "metadata": {},
     "output_type": "execute_result"
    }
   ],
   "source": [
    "train(model_data, 15, f\"{dataset_dir}/whole/checkpoint_latest.pth\")\n",
    "shutil.copy(f\"{dataset_dir}/whole/checkpoint_latest.pth\", f\"{dataset_dir}/whole/checkpoint_{int(time.time())}.pth\")"
   ]
  },
  {
   "cell_type": "code",
   "execution_count": 29,
   "id": "7f2b86cc-f113-47e9-9b16-be24814dc484",
   "metadata": {},
   "outputs": [
    {
     "name": "stdout",
     "output_type": "stream",
     "text": [
      "Accuracy: 2540 / 4207 -> 60.38%\n",
      "Elapsed time: 0:02:06.760022\n"
     ]
    }
   ],
   "source": [
    "test(model_data, f\"{dataset_dir}/whole/test\", False)"
   ]
  },
  {
   "cell_type": "code",
   "execution_count": 30,
   "id": "20fe1c00-ba2e-45a7-b0a1-b2611ef88997",
   "metadata": {},
   "outputs": [
    {
     "name": "stdout",
     "output_type": "stream",
     "text": [
      "Epoch    1 /   25  | Train Loss: 0.0940 Acc: 0.9854  | Val Loss: 37.0231 Acc: 0.0001  | Elapsed time: 0:08:51.057322\n",
      "Epoch    2 /   25  | Train Loss: 0.0920 Acc: 0.9851  | Val Loss: 37.0337 Acc: 0.0001  | Elapsed time: 0:17:44.913164\n",
      "Epoch    3 /   25  | Train Loss: 0.0931 Acc: 0.9846  | Val Loss: 36.7921 Acc: 0.0001  | Elapsed time: 0:28:35.494457\n",
      "Epoch    4 /   25  | Train Loss: 0.0919 Acc: 0.9853  | Val Loss: 36.8058 Acc: 0.0001  | Elapsed time: 0:38:32.814548\n",
      "Epoch    5 /   25  | Train Loss: 0.0921 Acc: 0.9854  | Val Loss: 36.5014 Acc: 0.0001  | Elapsed time: 0:47:26.606587\n",
      "Epoch    6 /   25  | Train Loss: 0.0940 Acc: 0.9846  | Val Loss: 36.8973 Acc: 0.0001  | Elapsed time: 0:56:19.771519\n",
      "Epoch    7 /   25  | Train Loss: 0.0941 Acc: 0.9848  | Val Loss: 36.6946 Acc: 0.0001  | Elapsed time: 1:05:12.909397\n",
      "Epoch    8 /   25  | Train Loss: 0.0928 Acc: 0.9850  | Val Loss: 36.8761 Acc: 0.0001  | Elapsed time: 1:14:06.157121\n",
      "Epoch    9 /   25  | Train Loss: 0.0919 Acc: 0.9857  | Val Loss: 36.7713 Acc: 0.0001  | Elapsed time: 1:23:00.299505\n",
      "Epoch   10 /   25  | Train Loss: 0.0914 Acc: 0.9852  | Val Loss: 37.2449 Acc: 0.0001  | Elapsed time: 1:31:54.426948\n",
      "Epoch   11 /   25  | Train Loss: 0.0938 Acc: 0.9848  | Val Loss: 36.9225 Acc: 0.0001  | Elapsed time: 1:40:47.383940\n",
      "Epoch   12 /   25  | Train Loss: 0.0911 Acc: 0.9848  | Val Loss: 36.4359 Acc: 0.0001  | Elapsed time: 1:49:40.066713\n",
      "Epoch   13 /   25  | Train Loss: 0.0932 Acc: 0.9849  | Val Loss: 37.2488 Acc: 0.0001  | Elapsed time: 1:58:32.256590\n",
      "Epoch   14 /   25  | Train Loss: 0.0927 Acc: 0.9848  | Val Loss: 36.9954 Acc: 0.0001  | Elapsed time: 2:07:24.010617\n",
      "Epoch   15 /   25  | Train Loss: 0.0928 Acc: 0.9853  | Val Loss: 37.0439 Acc: 0.0001  | Elapsed time: 2:16:16.028418\n",
      "Epoch   16 /   25  | Train Loss: 0.0912 Acc: 0.9863  | Val Loss: 36.7836 Acc: 0.0001  | Elapsed time: 2:25:08.528922\n",
      "Epoch   17 /   25  | Train Loss: 0.0922 Acc: 0.9842  | Val Loss: 37.3582 Acc: 0.0001  | Elapsed time: 2:34:01.198190\n",
      "Epoch   18 /   25  | Train Loss: 0.0922 Acc: 0.9855  | Val Loss: 36.8433 Acc: 0.0001  | Elapsed time: 2:42:52.749610\n",
      "Epoch   19 /   25  | Train Loss: 0.0900 Acc: 0.9855  | Val Loss: 37.0229 Acc: 0.0001  | Elapsed time: 2:51:44.614358\n",
      "Epoch   20 /   25  | Train Loss: 0.0922 Acc: 0.9847  | Val Loss: 36.7572 Acc: 0.0001  | Elapsed time: 3:00:36.266587\n",
      "Epoch   21 /   25  | Train Loss: 0.0947 Acc: 0.9843  | Val Loss: 37.0120 Acc: 0.0002  | Elapsed time: 3:09:27.526944\n",
      "Epoch   22 /   25  | Train Loss: 0.0915 Acc: 0.9849  | Val Loss: 36.2971 Acc: 0.0001  | Elapsed time: 3:18:19.876969\n",
      "Epoch   23 /   25  | Train Loss: 0.0914 Acc: 0.9842  | Val Loss: 37.0010 Acc: 0.0001  | Elapsed time: 3:27:11.897093\n",
      "Epoch   24 /   25  | Train Loss: 0.0910 Acc: 0.9856  | Val Loss: 37.3375 Acc: 0.0001  | Elapsed time: 3:37:26.056435\n",
      "Epoch   25 /   25  | Train Loss: 0.0950 Acc: 0.9841  | Val Loss: 36.6192 Acc: 0.0001  | Elapsed time: 3:48:40.739434\n"
     ]
    },
    {
     "data": {
      "text/plain": [
       "'insect-dataset/moth/whole/checkpoint_1737934264.pth'"
      ]
     },
     "execution_count": 30,
     "metadata": {},
     "output_type": "execute_result"
    }
   ],
   "source": [
    "train(model_data, 25, f\"{dataset_dir}/whole/checkpoint_latest.pth\")\n",
    "shutil.copy(f\"{dataset_dir}/whole/checkpoint_latest.pth\", f\"{dataset_dir}/whole/checkpoint_{int(time.time())}.pth\")"
   ]
  },
  {
   "cell_type": "code",
   "execution_count": 31,
   "id": "37a933a3-16d5-49e0-82cd-40e08204a4a8",
   "metadata": {},
   "outputs": [
    {
     "name": "stdout",
     "output_type": "stream",
     "text": [
      "Accuracy: 2535 / 4207 -> 60.26%\n",
      "Elapsed time: 0:02:26.396596\n"
     ]
    }
   ],
   "source": [
    "test(model_data, f\"{dataset_dir}/whole/test\", False)"
   ]
  },
  {
   "cell_type": "markdown",
   "id": "dda29e91-d5cc-447d-9709-fdc6374f3eaa",
   "metadata": {},
   "source": [
    "# Load model & test"
   ]
  },
  {
   "cell_type": "code",
   "execution_count": 8,
   "id": "7e9d0477-4548-4218-a484-e1e6130175b1",
   "metadata": {},
   "outputs": [
    {
     "data": {
      "text/plain": [
       "<All keys matched successfully>"
      ]
     },
     "execution_count": 8,
     "metadata": {},
     "output_type": "execute_result"
    }
   ],
   "source": [
    "model_data = init_model_for_training(f'{dataset_dir}/whole/train', f'{dataset_dir}/whole/val', 32, 'resnet152')\n",
    "model_data['model'].load_state_dict(torch.load(f\"{dataset_dir}/whole/checkpoint_latest.pth\", weights_only=False))"
   ]
  },
  {
   "cell_type": "code",
   "execution_count": 23,
   "id": "d258e305-17d1-4174-91a0-44934503b65c",
   "metadata": {},
   "outputs": [
    {
     "name": "stdout",
     "output_type": "stream",
     "text": [
      "Accuracy: 2535 / 4207 -> 60.26%\n",
      "Elapsed time: 0:02:09.606372\n"
     ]
    }
   ],
   "source": [
    "test(model_data, f\"{dataset_dir}/whole/test\", False)"
   ]
  },
  {
   "cell_type": "code",
   "execution_count": 24,
   "id": "128b49da-b2d1-45e1-b75c-9cfa33d9d500",
   "metadata": {},
   "outputs": [
    {
     "name": "stdout",
     "output_type": "stream",
     "text": [
      "Accuracy: 5009 / 8433 -> 59.40%\n",
      "Elapsed time: 0:04:20.975721\n"
     ]
    }
   ],
   "source": [
    "test(model_data, f\"{dataset_dir}/whole/val\", False)"
   ]
  },
  {
   "cell_type": "code",
   "execution_count": 9,
   "id": "7bca1835-8430-4689-ba9b-1a10d914915f",
   "metadata": {},
   "outputs": [
    {
     "name": "stdout",
     "output_type": "stream",
     "text": [
      "Accuracy: 31492 / 31685 -> 99.39%\n",
      "Elapsed time: 0:16:16.533743\n"
     ]
    }
   ],
   "source": [
    "test(model_data, f\"{dataset_dir}/whole/train\", False)"
   ]
  },
  {
   "cell_type": "markdown",
   "id": "89c51c3e-d037-4b7c-a4bf-0e6fafb8a5e6",
   "metadata": {},
   "source": [
    "# Retrain"
   ]
  },
  {
   "cell_type": "code",
   "execution_count": 36,
   "id": "3b3e37fe-47c3-43d7-8cb1-200e4417d0ef",
   "metadata": {},
   "outputs": [
    {
     "data": {
      "text/plain": [
       "<All keys matched successfully>"
      ]
     },
     "execution_count": 36,
     "metadata": {},
     "output_type": "execute_result"
    }
   ],
   "source": [
    "model = models.resnet152(weights=models.ResNet152_Weights.DEFAULT)\n",
    "model.load_state_dict(torch.load(f\"{dataset_dir}/whole/checkpoint_latest.pth\", weights_only=False))"
   ]
  },
  {
   "cell_type": "code",
   "execution_count": 39,
   "id": "3ede35de-6889-406c-82e7-5f42192b6b7a",
   "metadata": {},
   "outputs": [
    {
     "name": "stdout",
     "output_type": "stream",
     "text": [
      "Epoch    1 /   25  | Train Loss: 6.0195 Acc: 0.1275  | Elapsed time: 0:02:02.940129\n",
      "Epoch    2 /   25  | Train Loss: 2.5000 Acc: 0.4730  | Elapsed time: 0:04:08.541310\n",
      "Epoch    3 /   25  | Train Loss: 0.7938 Acc: 0.7919  | Elapsed time: 0:06:16.744845\n",
      "Epoch    4 /   25  | Train Loss: 0.3115 Acc: 0.9147  | Elapsed time: 0:08:23.255389\n",
      "Epoch    5 /   25  | Train Loss: 0.1896 Acc: 0.9495  | Elapsed time: 0:10:30.666038\n",
      "Epoch    6 /   25  | Train Loss: 0.1134 Acc: 0.9728  | Elapsed time: 0:12:39.077943\n",
      "Epoch    7 /   25  | Train Loss: 0.0871 Acc: 0.9789  | Elapsed time: 0:14:45.808007\n",
      "Epoch    8 /   25  | Train Loss: 0.0357 Acc: 0.9918  | Elapsed time: 0:16:53.333999\n",
      "Epoch    9 /   25  | Train Loss: 0.0181 Acc: 0.9981  | Elapsed time: 0:19:02.762088\n",
      "Epoch   10 /   25  | Train Loss: 0.0139 Acc: 0.9987  | Elapsed time: 0:21:11.085063\n",
      "Epoch   11 /   25  | Train Loss: 0.0095 Acc: 0.9992  | Elapsed time: 0:23:19.859803\n",
      "Epoch   12 /   25  | Train Loss: 0.0072 Acc: 0.9998  | Elapsed time: 0:25:27.554261\n",
      "Epoch   13 /   25  | Train Loss: 0.0073 Acc: 0.9993  | Elapsed time: 0:27:36.130757\n",
      "Epoch   14 /   25  | Train Loss: 0.0075 Acc: 0.9989  | Elapsed time: 0:29:44.247818\n",
      "Epoch   15 /   25  | Train Loss: 0.0052 Acc: 0.9993  | Elapsed time: 0:31:51.649280\n",
      "Epoch   16 /   25  | Train Loss: 0.0061 Acc: 0.9996  | Elapsed time: 0:33:59.395301\n",
      "Epoch   17 /   25  | Train Loss: 0.0058 Acc: 0.9999  | Elapsed time: 0:36:07.408195\n",
      "Epoch   18 /   25  | Train Loss: 0.0048 Acc: 0.9995  | Elapsed time: 0:38:15.804560\n",
      "Epoch   19 /   25  | Train Loss: 0.0043 Acc: 0.9999  | Elapsed time: 0:40:24.091487\n",
      "Epoch   20 /   25  | Train Loss: 0.0043 Acc: 0.9996  | Elapsed time: 0:42:32.150006\n",
      "Epoch   21 /   25  | Train Loss: 0.0046 Acc: 0.9996  | Elapsed time: 0:44:40.864720\n",
      "Epoch   22 /   25  | Train Loss: 0.0046 Acc: 0.9994  | Elapsed time: 0:46:49.463996\n",
      "Epoch   23 /   25  | Train Loss: 0.0044 Acc: 0.9999  | Elapsed time: 0:48:57.771516\n",
      "Epoch   24 /   25  | Train Loss: 0.0046 Acc: 0.9996  | Elapsed time: 0:51:06.285105\n",
      "Epoch   25 /   25  | Train Loss: 0.0036 Acc: 1.0000  | Elapsed time: 0:53:14.171591\n"
     ]
    },
    {
     "data": {
      "text/plain": [
       "'insect-dataset/moth/whole/checkpoint_1737953507.pth'"
      ]
     },
     "execution_count": 39,
     "metadata": {},
     "output_type": "execute_result"
    }
   ],
   "source": [
    "model_data = init_model_for_training(f'{dataset_dir}/whole/val', f'{dataset_dir}/whole/test', 32, arch='resnet152', model=model)\n",
    "train(model_data, 25, f\"{dataset_dir}/whole/checkpoint_latest.pth\", phases=['train'])\n",
    "shutil.copy(f\"{dataset_dir}/whole/checkpoint_latest.pth\", f\"{dataset_dir}/whole/checkpoint_{int(time.time())}.pth\")"
   ]
  },
  {
   "cell_type": "code",
   "execution_count": 40,
   "id": "38b1f36f-73a1-499d-9606-c09df99522a7",
   "metadata": {},
   "outputs": [
    {
     "name": "stdout",
     "output_type": "stream",
     "text": [
      "Accuracy: 1774 / 4207 -> 42.17%\n",
      "Elapsed time: 0:02:14.486359\n"
     ]
    }
   ],
   "source": [
    "test(model_data, f\"{dataset_dir}/whole/test\", False)"
   ]
  },
  {
   "cell_type": "code",
   "execution_count": 41,
   "id": "c2dcce4a-62ec-4adb-a989-b91a4ae16d64",
   "metadata": {},
   "outputs": [
    {
     "name": "stdout",
     "output_type": "stream",
     "text": [
      "Accuracy: 8431 / 8433 -> 99.98%\n",
      "Elapsed time: 0:04:12.077964\n"
     ]
    }
   ],
   "source": [
    "test(model_data, f\"{dataset_dir}/whole/val\", False)"
   ]
  },
  {
   "cell_type": "code",
   "execution_count": 42,
   "id": "bc2fafc8-c32c-420f-be1d-65efdd10fa30",
   "metadata": {},
   "outputs": [
    {
     "name": "stdout",
     "output_type": "stream",
     "text": [
      "Epoch    1 /    5  | Train Loss: 4.2834 Acc: 0.3238  | Val Loss: 16.0703 Acc: 0.0001  | Elapsed time: 0:09:42.919967\n",
      "Epoch    2 /    5  | Train Loss: 1.2820 Acc: 0.6858  | Val Loss: 21.0780 Acc: 0.0000  | Elapsed time: 0:19:31.185817\n",
      "Epoch    3 /    5  | Train Loss: 0.5778 Acc: 0.8403  | Val Loss: 26.3478 Acc: 0.0000  | Elapsed time: 0:28:40.515353\n",
      "Epoch    4 /    5  | Train Loss: 0.3442 Acc: 0.8994  | Val Loss: 27.2974 Acc: 0.0001  | Elapsed time: 0:37:50.043852\n",
      "Epoch    5 /    5  | Train Loss: 0.2420 Acc: 0.9289  | Val Loss: 29.6948 Acc: 0.0001  | Elapsed time: 0:47:02.700109\n"
     ]
    },
    {
     "data": {
      "text/plain": [
       "'insect-dataset/moth/whole/checkpoint_1737956718.pth'"
      ]
     },
     "execution_count": 42,
     "metadata": {},
     "output_type": "execute_result"
    }
   ],
   "source": [
    "model_data = init_model_for_training(f'{dataset_dir}/whole/train', f'{dataset_dir}/whole/val', 32, arch='resnet152', model=model_data['model'])\n",
    "train(model_data, 5, f\"{dataset_dir}/whole/checkpoint_latest.pth\", phases=['train', 'val'])\n",
    "shutil.copy(f\"{dataset_dir}/whole/checkpoint_latest.pth\", f\"{dataset_dir}/whole/checkpoint_{int(time.time())}.pth\")"
   ]
  },
  {
   "cell_type": "code",
   "execution_count": 45,
   "id": "aee371f5-89bc-4637-ae7e-757d30c2724f",
   "metadata": {},
   "outputs": [
    {
     "name": "stdout",
     "output_type": "stream",
     "text": [
      "Accuracy: 2545 / 4207 -> 60.49%\n",
      "Elapsed time: 0:02:09.597121\n"
     ]
    }
   ],
   "source": [
    "test(model_data, f\"{dataset_dir}/whole/test\", False)"
   ]
  },
  {
   "cell_type": "code",
   "execution_count": 82,
   "id": "88690c3c-dc7b-4de2-a768-bd48dfe98b08",
   "metadata": {},
   "outputs": [
    {
     "name": "stdout",
     "output_type": "stream",
     "text": [
      "artena-dotata-2          : artena-dotata(0.999)  simplicia-spp(0.001)  simplicia-bimarginata(0.000)  delgamma-pangonia(0.000)  \n",
      "artena-dotata            : artena-dotata(1.000)  chilkasa-falcata(0.000)  bastilla-crameri(0.000)  delgamma-pangonia(0.000)  \n",
      "artena-submira-2         : buzara-onelia(0.741)  pseudojana-incandescens(0.094)  oraesia-emarginata(0.042)  eudocima-homaena(0.041)  \n",
      "artena-submira           : artena-dotata(0.353)  poaphilini-genera-spp(0.306)  hulodes-caranea(0.168)  cricula-trifenestrata(0.081)  \n",
      "clanis-phalaris-2        : clanis-phalaris(0.961)  clanis-deucalion(0.015)  theretra-alecto(0.008)  hippotion-rafflesii(0.006)  \n",
      "clanis-phalaris          : samia-cynthia(0.394)  somatina-rosacea(0.224)  hemichloridia-euprepia(0.138)  calyptra-spp(0.023)  \n",
      "clanis-undulosa          : clanis-bilineata(0.750)  comparmustilia-sphingiformis(0.105)  ambulyx-moorei(0.039)  clanis-titan(0.025)  \n",
      "dysphania-percota        : dysphania-percota(0.997)  ilema-chloroptera(0.001)  azygophleps-scalaris(0.001)  psilogramma-vates(0.001)  \n",
      "hemichloridia-euprepia   : hemichloridia-euprepia(0.340)  procridinae-genera-spp(0.200)  macroglossum-gyrans(0.175)  psilogramma-vates(0.174)  \n",
      "ilema-chloroptera        : ilema-chloroptera(1.000)  eudocima-materna(0.000)  catoria-sublavaria(0.000)  spilarctia-spp(0.000)  \n",
      "omiza-miliaria-2         : trabala-vishnou(0.707)  eupterote-spp(0.239)  omiza-miliaria(0.036)  metanastria-hyrtaca(0.006)  \n",
      "omiza-miliaria           : hypopyra-spp(0.388)  cricula-trifenestrata(0.130)  agnidra-vinacea(0.127)  omiza-miliaria(0.097)  \n",
      "pseudojana-incandescens  : ganisa-spp(0.833)  artena-submira(0.105)  eupterote-spp(0.038)  limacodinae-genera-spp(0.014)  \n",
      "samia-canningii          : samia-canningii(0.997)  attacus-taprobanis(0.002)  samia-cynthia(0.001)  antheraea-paphia(0.000)  \n",
      "samia-cynthia            : samia-canningii(0.689)  samia-cynthia(0.311)  attacus-taprobanis(0.000)  antheraea-paphia(0.000)  \n",
      "somatina-rosacea         : somatina-rosacea(0.998)  eublemma-roseonivea(0.002)  samia-cynthia(0.000)  westermannia-superba(0.000)  \n",
      "theretra-alecto          : clanis-phalaris(0.257)  rhagastis-gloriosa(0.216)  theretra-nessus(0.214)  theretra-alecto(0.124)  \n",
      "trabala-vishnou          : eupterote-spp(0.636)  euthrix-fox(0.191)  trabala-vishnou(0.086)  trabala-spp(0.037)  \n",
      "unidentified             : thosea-spp(0.939)  ganisa-spp(0.056)  lyssa-zampa(0.002)  mocis-frugalis(0.001)  \n"
     ]
    }
   ],
   "source": [
    "for file in Path(f\"{dataset_dir}/my-test\").iterdir():\n",
    "    print(f\"{file.name.split('.')[0]:25}:\", end=' ')\n",
    "    for pred, prob in predict_top_k(file, model_data, 4).items():\n",
    "        print(f\"{pred}({prob:.3f}) \", end=' ')\n",
    "    print()"
   ]
  },
  {
   "cell_type": "code",
   "execution_count": null,
   "id": "becf2790-8227-4690-a6e9-44dfc1f10759",
   "metadata": {},
   "outputs": [],
   "source": []
  }
 ],
 "metadata": {
  "kernelspec": {
   "display_name": "Python 3 (ipykernel)",
   "language": "python",
   "name": "python3"
  },
  "language_info": {
   "codemirror_mode": {
    "name": "ipython",
    "version": 3
   },
   "file_extension": ".py",
   "mimetype": "text/x-python",
   "name": "python",
   "nbconvert_exporter": "python",
   "pygments_lexer": "ipython3",
   "version": "3.12.8"
  }
 },
 "nbformat": 4,
 "nbformat_minor": 5
}
