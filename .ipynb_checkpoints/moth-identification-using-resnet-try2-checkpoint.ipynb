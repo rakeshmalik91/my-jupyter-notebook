{
 "cells": [
  {
   "cell_type": "code",
   "execution_count": 2,
   "id": "94886411-7ed5-4680-bd18-f19b2393e4b6",
   "metadata": {},
   "outputs": [],
   "source": [
    "dataset_dir = \"insect-dataset/moth\""
   ]
  },
  {
   "cell_type": "code",
   "execution_count": 21,
   "id": "a97cbc75-ade1-4397-a85f-3b9a1f105aa1",
   "metadata": {},
   "outputs": [],
   "source": [
    "import shutil\n",
    "import os\n",
    "import time\n",
    "import datetime\n",
    "import random\n",
    "import numpy as np\n",
    "from pathlib import Path\n",
    "from PIL import Image\n",
    "import pprint\n",
    "import torch\n",
    "from torchvision import transforms\n",
    "from torchvision import datasets\n",
    "from torch.utils.data import DataLoader\n",
    "from torchvision import models\n",
    "import torch.nn as nn\n",
    "import torch.nn.functional as F"
   ]
  },
  {
   "cell_type": "code",
   "execution_count": 6,
   "id": "d69c3dc7-9bc4-4d60-9d44-570fdafe1553",
   "metadata": {},
   "outputs": [],
   "source": [
    "def split_data_for_train_and_val(data_dir, test_dir, val_dir, train_dir, test_data_weight, val_data_weight, min_file_cnt_for_val):\n",
    "    train_data_cnt = 0\n",
    "    val_data_cnt = 0\n",
    "    test_data_cnt = 0\n",
    "    class_cnt = 0\n",
    "    \n",
    "    for class_dir in Path(data_dir).iterdir():\n",
    "        if class_dir.is_dir() and os.listdir(class_dir):\n",
    "            class_cnt = class_cnt + 1\n",
    "            file_count = sum(1 for file in class_dir.iterdir() if file.is_file())\n",
    "            for file in Path(class_dir).iterdir():\n",
    "                if file.is_file():\n",
    "                    random_float = random.random()\n",
    "                    class_dir_name = class_dir.name\n",
    "                    if file_count >= min_file_cnt_for_val and random_float < test_data_weight:\n",
    "                        target_dir = test_dir\n",
    "                        test_data_cnt = test_data_cnt + 1\n",
    "                    elif file_count >= min_file_cnt_for_val and random_float < test_data_weight + val_data_weight:\n",
    "                        target_dir = val_dir\n",
    "                        val_data_cnt = val_data_cnt + 1\n",
    "                    else:\n",
    "                        target_dir = train_dir\n",
    "                        train_data_cnt = train_data_cnt + 1\n",
    "                    target_dir_path = f\"{target_dir}/{class_dir_name}\"\n",
    "                    if not os.path.exists(target_dir_path):\n",
    "                        os.makedirs(target_dir_path)\n",
    "                    shutil.copy(file, target_dir_path)\n",
    "\n",
    "    print(f\"Class count: {class_cnt}\")\n",
    "    print(f\"Training data count: {train_data_cnt}\")\n",
    "    print(f\"Validation data count: {val_data_cnt}\")\n",
    "    print(f\"Test data count: {test_data_cnt}\")"
   ]
  },
  {
   "cell_type": "code",
   "execution_count": 7,
   "id": "f61ba5f3-bbb2-494b-ad02-f18dae6bc7ab",
   "metadata": {},
   "outputs": [],
   "source": [
    "def init_model_for_training(train_dir, val_dir, batch_size):\n",
    "    transform = {\n",
    "        'train': transforms.Compose([\n",
    "            transforms.Resize((224, 224)),\n",
    "            transforms.RandomHorizontalFlip(),\n",
    "            transforms.RandomRotation(15),\n",
    "            transforms.ToTensor(),\n",
    "            transforms.Normalize([0.485, 0.456, 0.406], [0.229, 0.224, 0.225]),\n",
    "        ]),\n",
    "        'val': transforms.Compose([\n",
    "            transforms.Resize((224, 224)),\n",
    "            transforms.ToTensor(),\n",
    "            transforms.Normalize([0.485, 0.456, 0.406], [0.229, 0.224, 0.225]),\n",
    "        ]),\n",
    "    }\n",
    "    training_datasets = {\n",
    "        'train': datasets.ImageFolder(root=train_dir, transform=transform['train']),\n",
    "        'val': datasets.ImageFolder(root=val_dir, transform=transform['val']),\n",
    "    }\n",
    "    dataloaders = {\n",
    "        'train': DataLoader(training_datasets['train'], batch_size=batch_size, shuffle=True),\n",
    "        'val': DataLoader(training_datasets['val'], batch_size=batch_size, shuffle=False),\n",
    "    }\n",
    "    class_names = training_datasets['train'].classes\n",
    "    \n",
    "    model = models.resnet18(weights=models.ResNet18_Weights.DEFAULT)\n",
    "    num_classes = len(class_names)\n",
    "    num_features = model.fc.in_features\n",
    "    model.fc = nn.Linear(num_features, num_classes)\n",
    "    device = torch.device(\"cuda:0\" if torch.cuda.is_available() else \"cpu\")\n",
    "    model = model.to(device)\n",
    "    \n",
    "    criterion = nn.CrossEntropyLoss()\n",
    "    optimizer = torch.optim.Adam(model.parameters(), lr=0.001)\n",
    "    scheduler = torch.optim.lr_scheduler.StepLR(optimizer, step_size=7, gamma=0.1)\n",
    "\n",
    "    return {\n",
    "        'model': model,\n",
    "        'device': device,\n",
    "        'transform': transform,\n",
    "        'datasets': training_datasets,\n",
    "        'dataloaders': dataloaders,\n",
    "        'class_names': class_names,\n",
    "        'num_classes': num_classes,\n",
    "        'num_features': num_features,\n",
    "        'criterion': criterion,\n",
    "        'optimizer': optimizer,\n",
    "        'scheduler': scheduler\n",
    "    }"
   ]
  },
  {
   "cell_type": "code",
   "execution_count": 8,
   "id": "571bb930-7a23-42c4-b484-4d68d2040753",
   "metadata": {},
   "outputs": [],
   "source": [
    "def train(model_data, num_epochs, model_path):\n",
    "    start_time = time.time()\n",
    "    for epoch in range(num_epochs):\n",
    "        print(f\"Epoch {(epoch+1):4} / {num_epochs:4}\", end=' ')\n",
    "        for phase in ['train', 'val']:\n",
    "            if phase == 'train':\n",
    "                model_data['model'].train()\n",
    "            else:\n",
    "                model_data['model'].eval()\n",
    "            running_loss = 0.0\n",
    "            running_corrects = 0\n",
    "            for inputs, labels in model_data['dataloaders'][phase]:\n",
    "                inputs, labels = inputs.to(model_data['device']), labels.to(model_data['device'])\n",
    "                model_data['optimizer'].zero_grad()\n",
    "                with torch.set_grad_enabled(phase == 'train'):\n",
    "                    outputs = model_data['model'](inputs)\n",
    "                    _, preds = torch.max(outputs, 1)\n",
    "                    loss = model_data['criterion'](outputs, labels)\n",
    "                    if phase == 'train':\n",
    "                        loss.backward()\n",
    "                        model_data['optimizer'].step()\n",
    "                running_loss += loss.item() * inputs.size(0)\n",
    "                running_corrects += torch.sum(preds == labels.data)\n",
    "    \n",
    "            epoch_loss = running_loss / len(model_data['datasets'][phase])\n",
    "            epoch_acc = running_corrects.double() / len(model_data['datasets'][phase])\n",
    "            print(f\" | {phase.capitalize()} Loss: {epoch_loss:.4f} Acc: {epoch_acc:.4f}\", end=' ')\n",
    "            if phase == 'train':\n",
    "                model_data['scheduler'].step()\n",
    "        print(f\" | Elapsed time: {datetime.timedelta(seconds=(time.time() - start_time))}\")\n",
    "        torch.save(model_data['model'].state_dict(), model_path)"
   ]
  },
  {
   "cell_type": "code",
   "execution_count": 15,
   "id": "95539812-855d-4f01-ae71-5754adee7b05",
   "metadata": {},
   "outputs": [],
   "source": [
    "def predict(image_path, model_data):\n",
    "    image = Image.open(image_path).convert(\"RGB\")\n",
    "    image = model_data['transform']['val'](image).unsqueeze(0).to(model_data['device'])\n",
    "    with torch.no_grad():\n",
    "        outputs = model_data['model'](image)\n",
    "        _, preds = torch.max(outputs, 1)\n",
    "    try:\n",
    "        return model_data['class_names'][preds[0]]\n",
    "    except (Exception):\n",
    "        return None\n",
    "\n",
    "def predict_top_k(image_path, model_data, k):\n",
    "    image = Image.open(image_path).convert(\"RGB\")\n",
    "    image = model_data['transform']['val'](image).unsqueeze(0).to(model_data['device'])\n",
    "    with torch.no_grad():\n",
    "        outputs = model_data['model'](image)\n",
    "        probabilities = F.softmax(outputs, dim=1)\n",
    "        top_probs, top_indices = torch.topk(probabilities, k)\n",
    "    try:\n",
    "        return {model_data['class_names'][top_indices[0][i]]: top_probs[0][i].item() for i in range(0, k)}\n",
    "    except (Exception):\n",
    "        return None"
   ]
  },
  {
   "cell_type": "code",
   "execution_count": 27,
   "id": "9691c4a4-4d70-4460-9566-b9fca9632e30",
   "metadata": {},
   "outputs": [],
   "source": [
    "def validate_prediction_in_dir(test_dir, model_data):\n",
    "    total = 0\n",
    "    success = 0\n",
    "    failures = {}\n",
    "    for species_dir in Path(test_dir).iterdir():\n",
    "        if species_dir.is_dir():\n",
    "            for file in Path(f\"{species_dir}\").iterdir():\n",
    "                if file.is_file():\n",
    "                    species = file.parts[-2]\n",
    "                    prediction = predict(file, model_data)\n",
    "                    is_success = (species==prediction)\n",
    "                    if not is_success:\n",
    "                        failures[species] = prediction\n",
    "                    total = total + 1\n",
    "                    if is_success:\n",
    "                        success = success + 1\n",
    "    return {\n",
    "        'total': total, \n",
    "        'success': success,\n",
    "        'failures': failures\n",
    "    }\n",
    "\n",
    "def test(checkpoint, test_dir, print_failures=True):\n",
    "    model_data['model'].load_state_dict(torch.load(checkpoint, weights_only=False))\n",
    "    model_data['model'].eval()\n",
    "    start_time = time.time()\n",
    "    prediction = validate_prediction_in_dir(test_dir, model_data)\n",
    "    print(f\"Accuracy: {prediction['success']} / {prediction['total']} -> {100*prediction['success']/prediction['total']:.2f}%\")\n",
    "    print(f\"Elapsed time: {datetime.timedelta(seconds=(time.time() - start_time))}\")\n",
    "    if print_failures:\n",
    "        print(\"-\"*10)\n",
    "        print(\"Failures:\")\n",
    "        pprint.pprint(prediction['failures'])"
   ]
  },
  {
   "cell_type": "markdown",
   "id": "90936634-1292-410a-89d5-dcd4686eb7fe",
   "metadata": {},
   "source": [
    "# Extract small dataset and train"
   ]
  },
  {
   "cell_type": "code",
   "execution_count": 13,
   "id": "9147eaca-6e4c-41ab-ba03-1234b4039a43",
   "metadata": {},
   "outputs": [],
   "source": [
    "def extract_proto_dataset(data_dir, proto_data_dir, limit):\n",
    "    file_cnt = 0\n",
    "    for class_dir in Path(data_dir).iterdir():\n",
    "        if class_dir.is_dir() and os.listdir(class_dir):\n",
    "            file_count = sum(1 for file in class_dir.iterdir() if file.is_file())\n",
    "            class_dir_name = class_dir.name\n",
    "            for file in Path(class_dir).iterdir():\n",
    "                if file.is_file():\n",
    "                    target_dir_path = f\"{proto_data_dir}/{class_dir_name}\"\n",
    "                    if not os.path.exists(target_dir_path):\n",
    "                        os.makedirs(target_dir_path)\n",
    "                    shutil.copy(file, target_dir_path)\n",
    "                    file_cnt = file_cnt + 1\n",
    "                    if(file_cnt >= limit):\n",
    "                        return"
   ]
  },
  {
   "cell_type": "code",
   "execution_count": 16,
   "id": "e66eb65d-8531-4792-bb87-c4a53ad00764",
   "metadata": {},
   "outputs": [],
   "source": [
    "extract_proto_dataset(f\"{dataset_dir}/data\", f\"{dataset_dir}/proto/data\", 3000)"
   ]
  },
  {
   "cell_type": "code",
   "execution_count": 17,
   "id": "8d676cb6-2016-43a2-97e8-4d06fabae302",
   "metadata": {},
   "outputs": [
    {
     "name": "stdout",
     "output_type": "stream",
     "text": [
      "Class count: 199\n",
      "Training data count: 2108\n",
      "Validation data count: 603\n",
      "Test data count: 289\n"
     ]
    }
   ],
   "source": [
    "if os.path.exists(f\"{dataset_dir}/proto/test\"):\n",
    "    shutil.rmtree(f\"{dataset_dir}/proto/test\")\n",
    "if os.path.exists(f\"{dataset_dir}/proto/val\"):\n",
    "    shutil.rmtree(f\"{dataset_dir}/proto/val\")\n",
    "if os.path.exists(f\"{dataset_dir}/proto/train\"):\n",
    "    shutil.rmtree(f\"{dataset_dir}/proto/train\")\n",
    "    \n",
    "split_data_for_train_and_val(f\"{dataset_dir}/proto/data\", f\"{dataset_dir}/proto/test\", f\"{dataset_dir}/proto/val\", f\"{dataset_dir}/proto/train\", 0.1, 0.2, 4)"
   ]
  },
  {
   "cell_type": "code",
   "execution_count": 18,
   "id": "8b9d2812-4e96-4f3a-8ad5-3a3a5c094eb8",
   "metadata": {},
   "outputs": [],
   "source": [
    "model_data = init_model_for_training(f'{dataset_dir}/proto/train', f'{dataset_dir}/proto/val', 32)"
   ]
  },
  {
   "cell_type": "code",
   "execution_count": 19,
   "id": "ce1fa81b-bf2c-43c7-ae98-35e85a9a478f",
   "metadata": {},
   "outputs": [
    {
     "name": "stdout",
     "output_type": "stream",
     "text": [
      "Epoch    1 /    5  | Train Loss: 4.0851 Acc: 0.2106  | Val Loss: 8.0438 Acc: 0.0033  | Elapsed time: 0:00:30.503317\n",
      "Epoch    2 /    5  | Train Loss: 2.8633 Acc: 0.3629  | Val Loss: 8.0567 Acc: 0.0033  | Elapsed time: 0:00:48.362525\n",
      "Epoch    3 /    5  | Train Loss: 2.0931 Acc: 0.4881  | Val Loss: 9.6558 Acc: 0.0017  | Elapsed time: 0:01:06.320642\n",
      "Epoch    4 /    5  | Train Loss: 1.5604 Acc: 0.5916  | Val Loss: 11.3176 Acc: 0.0066  | Elapsed time: 0:01:24.400304\n",
      "Epoch    5 /    5  | Train Loss: 1.2717 Acc: 0.6551  | Val Loss: 11.8641 Acc: 0.0017  | Elapsed time: 0:01:42.596990\n"
     ]
    }
   ],
   "source": [
    "train(model_data, 5, f\"{dataset_dir}/proto/checkpoint_latest.pth\")"
   ]
  },
  {
   "cell_type": "code",
   "execution_count": 29,
   "id": "d96d92cb-a8c3-4de9-af6f-a6fc5c14aa56",
   "metadata": {},
   "outputs": [
    {
     "name": "stdout",
     "output_type": "stream",
     "text": [
      "Accuracy: 140 / 289 -> 48.44%\n",
      "Elapsed time: 0:00:02.401079\n"
     ]
    }
   ],
   "source": [
    "test(f\"{dataset_dir}/proto/checkpoint_latest.pth\", f\"{dataset_dir}/proto/test\", False)"
   ]
  },
  {
   "cell_type": "code",
   "execution_count": 30,
   "id": "5c65b288-d24a-4527-9391-5aea2a47bfae",
   "metadata": {
    "scrolled": true
   },
   "outputs": [
    {
     "name": "stdout",
     "output_type": "stream",
     "text": [
      "Epoch    1 /   95  | Train Loss: 0.9895 Acc: 0.7234  | Val Loss: 11.5017 Acc: 0.0017  | Elapsed time: 0:00:17.201074\n",
      "Epoch    2 /   95  | Train Loss: 0.7013 Acc: 0.8065  | Val Loss: 12.6858 Acc: 0.0033  | Elapsed time: 0:00:34.812139\n",
      "Epoch    3 /   95  | Train Loss: 0.3409 Acc: 0.9146  | Val Loss: 12.4507 Acc: 0.0017  | Elapsed time: 0:00:53.054634\n",
      "Epoch    4 /   95  | Train Loss: 0.1925 Acc: 0.9725  | Val Loss: 12.4425 Acc: 0.0017  | Elapsed time: 0:01:11.669036\n",
      "Epoch    5 /   95  | Train Loss: 0.1476 Acc: 0.9791  | Val Loss: 12.4741 Acc: 0.0017  | Elapsed time: 0:01:30.443407\n",
      "Epoch    6 /   95  | Train Loss: 0.1316 Acc: 0.9848  | Val Loss: 12.5994 Acc: 0.0017  | Elapsed time: 0:01:48.753914\n",
      "Epoch    7 /   95  | Train Loss: 0.1140 Acc: 0.9886  | Val Loss: 12.5290 Acc: 0.0017  | Elapsed time: 0:02:06.756473\n",
      "Epoch    8 /   95  | Train Loss: 0.1009 Acc: 0.9924  | Val Loss: 12.6097 Acc: 0.0017  | Elapsed time: 0:02:24.973099\n",
      "Epoch    9 /   95  | Train Loss: 0.0866 Acc: 0.9943  | Val Loss: 12.8066 Acc: 0.0017  | Elapsed time: 0:02:43.257401\n",
      "Epoch   10 /   95  | Train Loss: 0.0703 Acc: 0.9962  | Val Loss: 12.6321 Acc: 0.0017  | Elapsed time: 0:03:01.574803\n",
      "Epoch   11 /   95  | Train Loss: 0.0723 Acc: 0.9953  | Val Loss: 12.7449 Acc: 0.0017  | Elapsed time: 0:03:19.780409\n",
      "Epoch   12 /   95  | Train Loss: 0.0723 Acc: 0.9972  | Val Loss: 12.6450 Acc: 0.0017  | Elapsed time: 0:03:38.009303\n",
      "Epoch   13 /   95  | Train Loss: 0.0679 Acc: 0.9953  | Val Loss: 12.6937 Acc: 0.0017  | Elapsed time: 0:03:56.461854\n",
      "Epoch   14 /   95  | Train Loss: 0.0677 Acc: 0.9967  | Val Loss: 12.6512 Acc: 0.0017  | Elapsed time: 0:04:14.659232\n",
      "Epoch   15 /   95  | Train Loss: 0.0658 Acc: 0.9957  | Val Loss: 12.7542 Acc: 0.0017  | Elapsed time: 0:04:33.018865\n",
      "Epoch   16 /   95  | Train Loss: 0.0679 Acc: 0.9953  | Val Loss: 12.7609 Acc: 0.0017  | Elapsed time: 0:04:50.571211\n",
      "Epoch   17 /   95  | Train Loss: 0.0662 Acc: 0.9976  | Val Loss: 12.7359 Acc: 0.0017  | Elapsed time: 0:05:08.683524\n",
      "Epoch   18 /   95  | Train Loss: 0.0621 Acc: 0.9943  | Val Loss: 12.6422 Acc: 0.0017  | Elapsed time: 0:05:27.045097\n",
      "Epoch   19 /   95  | Train Loss: 0.0642 Acc: 0.9972  | Val Loss: 12.8146 Acc: 0.0017  | Elapsed time: 0:05:45.141246\n",
      "Epoch   20 /   95  | Train Loss: 0.0678 Acc: 0.9962  | Val Loss: 12.8835 Acc: 0.0017  | Elapsed time: 0:06:03.589935\n",
      "Epoch   21 /   95  | Train Loss: 0.0665 Acc: 0.9981  | Val Loss: 12.7732 Acc: 0.0017  | Elapsed time: 0:06:21.315763\n",
      "Epoch   22 /   95  | Train Loss: 0.0677 Acc: 0.9938  | Val Loss: 12.7199 Acc: 0.0017  | Elapsed time: 0:06:39.747340\n",
      "Epoch   23 /   95  | Train Loss: 0.0680 Acc: 0.9957  | Val Loss: 12.7937 Acc: 0.0017  | Elapsed time: 0:06:58.526145\n",
      "Epoch   24 /   95  | Train Loss: 0.0681 Acc: 0.9967  | Val Loss: 12.7244 Acc: 0.0017  | Elapsed time: 0:07:17.121073\n",
      "Epoch   25 /   95  | Train Loss: 0.0637 Acc: 0.9991  | Val Loss: 12.6706 Acc: 0.0017  | Elapsed time: 0:07:35.333214\n",
      "Epoch   26 /   95  | Train Loss: 0.0649 Acc: 0.9972  | Val Loss: 12.7522 Acc: 0.0017  | Elapsed time: 0:07:53.528582\n",
      "Epoch   27 /   95  | Train Loss: 0.0637 Acc: 0.9957  | Val Loss: 12.6545 Acc: 0.0017  | Elapsed time: 0:08:11.816074\n",
      "Epoch   28 /   95  | Train Loss: 0.0634 Acc: 0.9962  | Val Loss: 12.6752 Acc: 0.0017  | Elapsed time: 0:08:30.082120\n",
      "Epoch   29 /   95  | Train Loss: 0.0654 Acc: 0.9967  | Val Loss: 12.7675 Acc: 0.0017  | Elapsed time: 0:08:48.203212\n",
      "Epoch   30 /   95  | Train Loss: 0.0633 Acc: 0.9981  | Val Loss: 12.7699 Acc: 0.0017  | Elapsed time: 0:09:06.646845\n",
      "Epoch   31 /   95  | Train Loss: 0.0639 Acc: 0.9967  | Val Loss: 12.6688 Acc: 0.0017  | Elapsed time: 0:09:25.621220\n",
      "Epoch   32 /   95  | Train Loss: 0.0676 Acc: 0.9972  | Val Loss: 12.7513 Acc: 0.0017  | Elapsed time: 0:09:44.235264\n",
      "Epoch   33 /   95  | Train Loss: 0.0675 Acc: 0.9962  | Val Loss: 12.7416 Acc: 0.0017  | Elapsed time: 0:10:02.564248\n",
      "Epoch   34 /   95  | Train Loss: 0.0603 Acc: 0.9986  | Val Loss: 12.7738 Acc: 0.0017  | Elapsed time: 0:10:21.009528\n",
      "Epoch   35 /   95  | Train Loss: 0.0650 Acc: 0.9976  | Val Loss: 12.7829 Acc: 0.0017  | Elapsed time: 0:10:39.271185\n",
      "Epoch   36 /   95  | Train Loss: 0.0666 Acc: 0.9976  | Val Loss: 12.7423 Acc: 0.0017  | Elapsed time: 0:10:57.495266\n",
      "Epoch   37 /   95  | Train Loss: 0.0602 Acc: 0.9976  | Val Loss: 12.6831 Acc: 0.0017  | Elapsed time: 0:11:15.721947\n",
      "Epoch   38 /   95  | Train Loss: 0.0624 Acc: 0.9976  | Val Loss: 12.8325 Acc: 0.0017  | Elapsed time: 0:11:33.920234\n",
      "Epoch   39 /   95  | Train Loss: 0.0619 Acc: 0.9972  | Val Loss: 12.6656 Acc: 0.0017  | Elapsed time: 0:11:52.381074\n",
      "Epoch   40 /   95  | Train Loss: 0.0658 Acc: 0.9976  | Val Loss: 12.6752 Acc: 0.0017  | Elapsed time: 0:12:10.810058\n",
      "Epoch   41 /   95  | Train Loss: 0.0604 Acc: 0.9981  | Val Loss: 12.5968 Acc: 0.0017  | Elapsed time: 0:12:29.088615\n",
      "Epoch   42 /   95  | Train Loss: 0.0658 Acc: 0.9991  | Val Loss: 12.8573 Acc: 0.0017  | Elapsed time: 0:12:47.119598\n",
      "Epoch   43 /   95  | Train Loss: 0.0674 Acc: 0.9972  | Val Loss: 12.7818 Acc: 0.0017  | Elapsed time: 0:13:05.327196\n",
      "Epoch   44 /   95  | Train Loss: 0.0665 Acc: 0.9976  | Val Loss: 12.6842 Acc: 0.0017  | Elapsed time: 0:13:23.558334\n",
      "Epoch   45 /   95  | Train Loss: 0.0668 Acc: 0.9976  | Val Loss: 12.6870 Acc: 0.0017  | Elapsed time: 0:13:41.870536\n",
      "Epoch   46 /   95  | Train Loss: 0.0676 Acc: 0.9967  | Val Loss: 12.7451 Acc: 0.0017  | Elapsed time: 0:14:00.031414\n",
      "Epoch   47 /   95  | Train Loss: 0.0655 Acc: 0.9957  | Val Loss: 12.7053 Acc: 0.0017  | Elapsed time: 0:14:18.308402\n",
      "Epoch   48 /   95  | Train Loss: 0.0610 Acc: 0.9976  | Val Loss: 12.7527 Acc: 0.0017  | Elapsed time: 0:14:36.647787\n",
      "Epoch   49 /   95  | Train Loss: 0.0680 Acc: 0.9957  | Val Loss: 12.6962 Acc: 0.0017  | Elapsed time: 0:14:54.788068\n",
      "Epoch   50 /   95  | Train Loss: 0.0660 Acc: 0.9967  | Val Loss: 12.7049 Acc: 0.0017  | Elapsed time: 0:15:12.961313\n",
      "Epoch   51 /   95  | Train Loss: 0.0698 Acc: 0.9938  | Val Loss: 12.7443 Acc: 0.0017  | Elapsed time: 0:15:31.131685\n",
      "Epoch   52 /   95  | Train Loss: 0.0641 Acc: 0.9967  | Val Loss: 12.6854 Acc: 0.0017  | Elapsed time: 0:15:49.482890\n",
      "Epoch   53 /   95  | Train Loss: 0.0635 Acc: 0.9972  | Val Loss: 12.8808 Acc: 0.0017  | Elapsed time: 0:16:07.629001\n",
      "Epoch   54 /   95  | Train Loss: 0.0678 Acc: 0.9972  | Val Loss: 12.8189 Acc: 0.0017  | Elapsed time: 0:16:25.892208\n",
      "Epoch   55 /   95  | Train Loss: 0.0625 Acc: 0.9981  | Val Loss: 12.7315 Acc: 0.0017  | Elapsed time: 0:16:44.134408\n",
      "Epoch   56 /   95  | Train Loss: 0.0632 Acc: 0.9991  | Val Loss: 12.7124 Acc: 0.0017  | Elapsed time: 0:17:02.421190\n",
      "Epoch   57 /   95  | Train Loss: 0.0625 Acc: 0.9962  | Val Loss: 12.8139 Acc: 0.0017  | Elapsed time: 0:17:20.793916\n",
      "Epoch   58 /   95  | Train Loss: 0.0656 Acc: 0.9976  | Val Loss: 12.7920 Acc: 0.0017  | Elapsed time: 0:17:38.564080\n",
      "Epoch   59 /   95  | Train Loss: 0.0627 Acc: 0.9991  | Val Loss: 12.7124 Acc: 0.0017  | Elapsed time: 0:17:56.848065\n",
      "Epoch   60 /   95  | Train Loss: 0.0686 Acc: 0.9962  | Val Loss: 12.6967 Acc: 0.0017  | Elapsed time: 0:18:15.561674\n",
      "Epoch   61 /   95  | Train Loss: 0.0631 Acc: 0.9981  | Val Loss: 12.6552 Acc: 0.0017  | Elapsed time: 0:18:34.100963\n",
      "Epoch   62 /   95  | Train Loss: 0.0700 Acc: 0.9948  | Val Loss: 12.8013 Acc: 0.0017  | Elapsed time: 0:18:52.582652\n",
      "Epoch   63 /   95  | Train Loss: 0.0666 Acc: 0.9986  | Val Loss: 12.6864 Acc: 0.0017  | Elapsed time: 0:19:10.561146\n",
      "Epoch   64 /   95  | Train Loss: 0.0667 Acc: 0.9981  | Val Loss: 12.6891 Acc: 0.0017  | Elapsed time: 0:19:28.734019\n",
      "Epoch   65 /   95  | Train Loss: 0.0705 Acc: 0.9953  | Val Loss: 12.7721 Acc: 0.0017  | Elapsed time: 0:19:47.169557\n",
      "Epoch   66 /   95  | Train Loss: 0.0669 Acc: 0.9948  | Val Loss: 12.7421 Acc: 0.0017  | Elapsed time: 0:20:04.982513\n",
      "Epoch   67 /   95  | Train Loss: 0.0624 Acc: 0.9991  | Val Loss: 12.7201 Acc: 0.0017  | Elapsed time: 0:20:23.662380\n",
      "Epoch   68 /   95  | Train Loss: 0.0660 Acc: 0.9972  | Val Loss: 12.7838 Acc: 0.0017  | Elapsed time: 0:20:42.480093\n",
      "Epoch   69 /   95  | Train Loss: 0.0630 Acc: 0.9981  | Val Loss: 12.7878 Acc: 0.0017  | Elapsed time: 0:21:01.160621\n",
      "Epoch   70 /   95  | Train Loss: 0.0660 Acc: 0.9972  | Val Loss: 12.7317 Acc: 0.0017  | Elapsed time: 0:21:19.873544\n",
      "Epoch   71 /   95  | Train Loss: 0.0657 Acc: 0.9962  | Val Loss: 12.8749 Acc: 0.0017  | Elapsed time: 0:21:38.184030\n",
      "Epoch   72 /   95  | Train Loss: 0.0631 Acc: 0.9972  | Val Loss: 12.7412 Acc: 0.0017  | Elapsed time: 0:21:56.588322\n",
      "Epoch   73 /   95  | Train Loss: 0.0638 Acc: 0.9976  | Val Loss: 12.7397 Acc: 0.0017  | Elapsed time: 0:22:15.255119\n",
      "Epoch   74 /   95  | Train Loss: 0.0667 Acc: 0.9972  | Val Loss: 12.8784 Acc: 0.0017  | Elapsed time: 0:22:33.205593\n",
      "Epoch   75 /   95  | Train Loss: 0.0617 Acc: 0.9967  | Val Loss: 12.7624 Acc: 0.0017  | Elapsed time: 0:22:51.748047\n",
      "Epoch   76 /   95  | Train Loss: 0.0648 Acc: 0.9957  | Val Loss: 12.6540 Acc: 0.0017  | Elapsed time: 0:23:10.304015\n",
      "Epoch   77 /   95  | Train Loss: 0.0638 Acc: 0.9972  | Val Loss: 12.7093 Acc: 0.0017  | Elapsed time: 0:23:29.047134\n",
      "Epoch   78 /   95  | Train Loss: 0.0675 Acc: 0.9957  | Val Loss: 12.7214 Acc: 0.0017  | Elapsed time: 0:23:47.607378\n",
      "Epoch   79 /   95  | Train Loss: 0.0632 Acc: 0.9967  | Val Loss: 12.7414 Acc: 0.0017  | Elapsed time: 0:24:06.109984\n",
      "Epoch   80 /   95  | Train Loss: 0.0683 Acc: 0.9948  | Val Loss: 12.6998 Acc: 0.0017  | Elapsed time: 0:24:24.429897\n",
      "Epoch   81 /   95  | Train Loss: 0.0653 Acc: 0.9976  | Val Loss: 12.6876 Acc: 0.0017  | Elapsed time: 0:24:43.251122\n",
      "Epoch   82 /   95  | Train Loss: 0.0626 Acc: 0.9981  | Val Loss: 12.7952 Acc: 0.0017  | Elapsed time: 0:25:01.325597\n",
      "Epoch   83 /   95  | Train Loss: 0.0662 Acc: 0.9976  | Val Loss: 12.7505 Acc: 0.0017  | Elapsed time: 0:25:19.904802\n",
      "Epoch   84 /   95  | Train Loss: 0.0653 Acc: 0.9957  | Val Loss: 12.8439 Acc: 0.0017  | Elapsed time: 0:25:38.250221\n",
      "Epoch   85 /   95  | Train Loss: 0.0647 Acc: 0.9976  | Val Loss: 12.6672 Acc: 0.0017  | Elapsed time: 0:25:56.368471\n",
      "Epoch   86 /   95  | Train Loss: 0.0645 Acc: 0.9972  | Val Loss: 12.8156 Acc: 0.0017  | Elapsed time: 0:26:14.406109\n",
      "Epoch   87 /   95  | Train Loss: 0.0668 Acc: 0.9957  | Val Loss: 12.7146 Acc: 0.0017  | Elapsed time: 0:26:32.748219\n",
      "Epoch   88 /   95  | Train Loss: 0.0646 Acc: 0.9972  | Val Loss: 12.7640 Acc: 0.0017  | Elapsed time: 0:26:51.682728\n",
      "Epoch   89 /   95  | Train Loss: 0.0643 Acc: 0.9981  | Val Loss: 12.7760 Acc: 0.0017  | Elapsed time: 0:27:10.812882\n",
      "Epoch   90 /   95  | Train Loss: 0.0661 Acc: 0.9972  | Val Loss: 12.6674 Acc: 0.0017  | Elapsed time: 0:27:30.097586\n",
      "Epoch   91 /   95  | Train Loss: 0.0643 Acc: 0.9957  | Val Loss: 12.6469 Acc: 0.0017  | Elapsed time: 0:27:50.613286\n",
      "Epoch   92 /   95  | Train Loss: 0.0644 Acc: 0.9972  | Val Loss: 12.7493 Acc: 0.0017  | Elapsed time: 0:28:10.495074\n",
      "Epoch   93 /   95  | Train Loss: 0.0654 Acc: 0.9957  | Val Loss: 12.7098 Acc: 0.0017  | Elapsed time: 0:28:30.365564\n",
      "Epoch   94 /   95  | Train Loss: 0.0655 Acc: 0.9967  | Val Loss: 12.7354 Acc: 0.0017  | Elapsed time: 0:28:49.594474\n",
      "Epoch   95 /   95  | Train Loss: 0.0632 Acc: 0.9986  | Val Loss: 12.8241 Acc: 0.0017  | Elapsed time: 0:29:08.849251\n"
     ]
    }
   ],
   "source": [
    "train(model_data, 95, f\"{dataset_dir}/proto/checkpoint_latest.pth\")"
   ]
  },
  {
   "cell_type": "code",
   "execution_count": 31,
   "id": "68857872-9bf1-4ccf-89e0-cd6c8504f9c5",
   "metadata": {},
   "outputs": [
    {
     "data": {
      "text/plain": [
       "'insect-dataset/moth/proto/checkpoint_1737815088.pth'"
      ]
     },
     "execution_count": 31,
     "metadata": {},
     "output_type": "execute_result"
    }
   ],
   "source": [
    "shutil.copy(f\"{dataset_dir}/proto/checkpoint_latest.pth\", f\"{dataset_dir}/proto/checkpoint_{int(time.time())}.pth\")"
   ]
  },
  {
   "cell_type": "code",
   "execution_count": 32,
   "id": "fe379e38-f8f3-4193-abe2-1c6f4e92dee8",
   "metadata": {},
   "outputs": [
    {
     "name": "stdout",
     "output_type": "stream",
     "text": [
      "Accuracy: 226 / 289 -> 78.20%\n",
      "Elapsed time: 0:00:02.713052\n"
     ]
    }
   ],
   "source": [
    "test(f\"{dataset_dir}/proto/checkpoint_latest.pth\", f\"{dataset_dir}/proto/test\", False)"
   ]
  },
  {
   "cell_type": "code",
   "execution_count": 33,
   "id": "e96cdc2e-4aa9-4bb0-af0e-b8c780e1e68a",
   "metadata": {},
   "outputs": [
    {
     "name": "stdout",
     "output_type": "stream",
     "text": [
      "Epoch    1 /  100  | Train Loss: 0.0633 Acc: 0.9976  | Val Loss: 12.7164 Acc: 0.0017  | Elapsed time: 0:00:16.811785\n",
      "Epoch    2 /  100  | Train Loss: 0.0673 Acc: 0.9957  | Val Loss: 12.6889 Acc: 0.0017  | Elapsed time: 0:00:34.740604\n",
      "Epoch    3 /  100  | Train Loss: 0.0659 Acc: 0.9976  | Val Loss: 12.6630 Acc: 0.0017  | Elapsed time: 0:00:53.092367\n",
      "Epoch    4 /  100  | Train Loss: 0.0640 Acc: 0.9972  | Val Loss: 12.7580 Acc: 0.0017  | Elapsed time: 0:01:10.829420\n",
      "Epoch    5 /  100  | Train Loss: 0.0653 Acc: 0.9976  | Val Loss: 12.7131 Acc: 0.0017  | Elapsed time: 0:01:28.232424\n",
      "Epoch    6 /  100  | Train Loss: 0.0612 Acc: 0.9986  | Val Loss: 12.7633 Acc: 0.0017  | Elapsed time: 0:01:45.719025\n",
      "Epoch    7 /  100  | Train Loss: 0.0642 Acc: 0.9972  | Val Loss: 12.6468 Acc: 0.0017  | Elapsed time: 0:02:02.850533\n",
      "Epoch    8 /  100  | Train Loss: 0.0651 Acc: 0.9976  | Val Loss: 12.7679 Acc: 0.0017  | Elapsed time: 0:02:20.947548\n",
      "Epoch    9 /  100  | Train Loss: 0.0641 Acc: 0.9981  | Val Loss: 12.6626 Acc: 0.0017  | Elapsed time: 0:02:39.143235\n",
      "Epoch   10 /  100  | Train Loss: 0.0634 Acc: 0.9972  | Val Loss: 12.7457 Acc: 0.0017  | Elapsed time: 0:02:57.045044\n",
      "Epoch   11 /  100  | Train Loss: 0.0647 Acc: 0.9972  | Val Loss: 12.6632 Acc: 0.0017  | Elapsed time: 0:03:15.061730\n",
      "Epoch   12 /  100  | Train Loss: 0.0652 Acc: 0.9953  | Val Loss: 12.7364 Acc: 0.0017  | Elapsed time: 0:03:33.063301\n",
      "Epoch   13 /  100  | Train Loss: 0.0627 Acc: 0.9976  | Val Loss: 12.6037 Acc: 0.0017  | Elapsed time: 0:03:51.054003\n",
      "Epoch   14 /  100  | Train Loss: 0.0653 Acc: 0.9986  | Val Loss: 12.7957 Acc: 0.0017  | Elapsed time: 0:04:09.095718\n",
      "Epoch   15 /  100  | Train Loss: 0.0643 Acc: 0.9976  | Val Loss: 12.7108 Acc: 0.0017  | Elapsed time: 0:04:27.045126\n",
      "Epoch   16 /  100  | Train Loss: 0.0648 Acc: 0.9972  | Val Loss: 12.7898 Acc: 0.0017  | Elapsed time: 0:04:44.988935\n",
      "Epoch   17 /  100  | Train Loss: 0.0621 Acc: 0.9967  | Val Loss: 12.7866 Acc: 0.0017  | Elapsed time: 0:05:02.897091\n",
      "Epoch   18 /  100  | Train Loss: 0.0634 Acc: 0.9981  | Val Loss: 12.6473 Acc: 0.0017  | Elapsed time: 0:05:20.809713\n",
      "Epoch   19 /  100  | Train Loss: 0.0675 Acc: 0.9953  | Val Loss: 12.7449 Acc: 0.0017  | Elapsed time: 0:05:38.783188\n",
      "Epoch   20 /  100  | Train Loss: 0.0654 Acc: 0.9976  | Val Loss: 12.6618 Acc: 0.0017  | Elapsed time: 0:05:56.740444\n",
      "Epoch   21 /  100  | Train Loss: 0.0683 Acc: 0.9986  | Val Loss: 12.7505 Acc: 0.0017  | Elapsed time: 0:06:14.851326\n",
      "Epoch   22 /  100  | Train Loss: 0.0607 Acc: 0.9986  | Val Loss: 12.8928 Acc: 0.0017  | Elapsed time: 0:06:32.978619\n",
      "Epoch   23 /  100  | Train Loss: 0.0667 Acc: 0.9981  | Val Loss: 12.6753 Acc: 0.0017  | Elapsed time: 0:06:51.155105\n",
      "Epoch   24 /  100  | Train Loss: 0.0633 Acc: 0.9976  | Val Loss: 12.7576 Acc: 0.0017  | Elapsed time: 0:07:09.210507\n",
      "Epoch   25 /  100  | Train Loss: 0.0656 Acc: 0.9953  | Val Loss: 12.7833 Acc: 0.0017  | Elapsed time: 0:07:27.471816\n",
      "Epoch   26 /  100  | Train Loss: 0.0634 Acc: 0.9948  | Val Loss: 12.6712 Acc: 0.0017  | Elapsed time: 0:07:45.506284\n",
      "Epoch   27 /  100  | Train Loss: 0.0641 Acc: 0.9981  | Val Loss: 12.7730 Acc: 0.0017  | Elapsed time: 0:08:03.839038\n",
      "Epoch   28 /  100  | Train Loss: 0.0662 Acc: 0.9967  | Val Loss: 12.7059 Acc: 0.0017  | Elapsed time: 0:08:21.913224\n",
      "Epoch   29 /  100  | Train Loss: 0.0603 Acc: 0.9976  | Val Loss: 12.7720 Acc: 0.0017  | Elapsed time: 0:08:39.814631\n",
      "Epoch   30 /  100  | Train Loss: 0.0665 Acc: 0.9953  | Val Loss: 12.7304 Acc: 0.0017  | Elapsed time: 0:08:57.633193\n",
      "Epoch   31 /  100  | Train Loss: 0.0655 Acc: 0.9967  | Val Loss: 12.6716 Acc: 0.0017  | Elapsed time: 0:09:15.485287\n",
      "Epoch   32 /  100  | Train Loss: 0.0647 Acc: 0.9976  | Val Loss: 12.7241 Acc: 0.0017  | Elapsed time: 0:09:33.390967\n",
      "Epoch   33 /  100  | Train Loss: 0.0671 Acc: 0.9962  | Val Loss: 12.7295 Acc: 0.0017  | Elapsed time: 0:09:51.330082\n",
      "Epoch   34 /  100  | Train Loss: 0.0648 Acc: 0.9967  | Val Loss: 12.7278 Acc: 0.0017  | Elapsed time: 0:10:09.319911\n",
      "Epoch   35 /  100  | Train Loss: 0.0637 Acc: 0.9962  | Val Loss: 12.8519 Acc: 0.0017  | Elapsed time: 0:10:27.221007\n",
      "Epoch   36 /  100  | Train Loss: 0.0640 Acc: 0.9986  | Val Loss: 12.7340 Acc: 0.0017  | Elapsed time: 0:10:45.276474\n",
      "Epoch   37 /  100  | Train Loss: 0.0604 Acc: 0.9991  | Val Loss: 12.7568 Acc: 0.0017  | Elapsed time: 0:11:03.693686\n",
      "Epoch   38 /  100  | Train Loss: 0.0632 Acc: 0.9976  | Val Loss: 12.7102 Acc: 0.0017  | Elapsed time: 0:11:22.072765\n",
      "Epoch   39 /  100  | Train Loss: 0.0669 Acc: 0.9962  | Val Loss: 12.7506 Acc: 0.0017  | Elapsed time: 0:11:40.322934\n",
      "Epoch   40 /  100  | Train Loss: 0.0665 Acc: 0.9957  | Val Loss: 12.7890 Acc: 0.0017  | Elapsed time: 0:11:58.247443\n",
      "Epoch   41 /  100  | Train Loss: 0.0658 Acc: 0.9967  | Val Loss: 12.7356 Acc: 0.0017  | Elapsed time: 0:12:16.351956\n",
      "Epoch   42 /  100  | Train Loss: 0.0644 Acc: 0.9967  | Val Loss: 12.7991 Acc: 0.0017  | Elapsed time: 0:12:34.259612\n",
      "Epoch   43 /  100  | Train Loss: 0.0642 Acc: 0.9972  | Val Loss: 12.8162 Acc: 0.0017  | Elapsed time: 0:12:52.147625\n",
      "Epoch   44 /  100  | Train Loss: 0.0651 Acc: 0.9972  | Val Loss: 12.7121 Acc: 0.0017  | Elapsed time: 0:13:10.031088\n",
      "Epoch   45 /  100  | Train Loss: 0.0658 Acc: 0.9962  | Val Loss: 12.7202 Acc: 0.0017  | Elapsed time: 0:13:27.945586\n",
      "Epoch   46 /  100  | Train Loss: 0.0651 Acc: 0.9981  | Val Loss: 12.8221 Acc: 0.0017  | Elapsed time: 0:13:44.972586\n",
      "Epoch   47 /  100  | Train Loss: 0.0666 Acc: 0.9962  | Val Loss: 12.7749 Acc: 0.0017  | Elapsed time: 0:14:03.051123\n",
      "Epoch   48 /  100  | Train Loss: 0.0664 Acc: 0.9953  | Val Loss: 12.6956 Acc: 0.0017  | Elapsed time: 0:14:20.909127\n",
      "Epoch   49 /  100  | Train Loss: 0.0654 Acc: 0.9981  | Val Loss: 12.7614 Acc: 0.0017  | Elapsed time: 0:14:38.780293\n",
      "Epoch   50 /  100  | Train Loss: 0.0627 Acc: 0.9981  | Val Loss: 12.7073 Acc: 0.0017  | Elapsed time: 0:14:56.750751\n",
      "Epoch   51 /  100  | Train Loss: 0.0648 Acc: 0.9972  | Val Loss: 12.6824 Acc: 0.0017  | Elapsed time: 0:15:14.849773\n",
      "Epoch   52 /  100  | Train Loss: 0.0624 Acc: 0.9967  | Val Loss: 12.7072 Acc: 0.0017  | Elapsed time: 0:15:32.785994\n",
      "Epoch   53 /  100  | Train Loss: 0.0661 Acc: 0.9976  | Val Loss: 12.6769 Acc: 0.0017  | Elapsed time: 0:15:51.461675\n",
      "Epoch   54 /  100  | Train Loss: 0.0640 Acc: 0.9953  | Val Loss: 12.6688 Acc: 0.0017  | Elapsed time: 0:16:09.429700\n",
      "Epoch   55 /  100  | Train Loss: 0.0625 Acc: 0.9972  | Val Loss: 12.7844 Acc: 0.0017  | Elapsed time: 0:16:27.364380\n",
      "Epoch   56 /  100  | Train Loss: 0.0663 Acc: 0.9962  | Val Loss: 12.7925 Acc: 0.0017  | Elapsed time: 0:16:45.150380\n",
      "Epoch   57 /  100  | Train Loss: 0.0651 Acc: 0.9986  | Val Loss: 12.6922 Acc: 0.0017  | Elapsed time: 0:17:03.032413\n",
      "Epoch   58 /  100  | Train Loss: 0.0626 Acc: 0.9981  | Val Loss: 12.6820 Acc: 0.0017  | Elapsed time: 0:17:20.886088\n",
      "Epoch   59 /  100  | Train Loss: 0.0643 Acc: 0.9976  | Val Loss: 12.7582 Acc: 0.0017  | Elapsed time: 0:17:38.802090\n",
      "Epoch   60 /  100  | Train Loss: 0.0622 Acc: 0.9962  | Val Loss: 12.7311 Acc: 0.0017  | Elapsed time: 0:17:56.881573\n",
      "Epoch   61 /  100  | Train Loss: 0.0664 Acc: 0.9957  | Val Loss: 12.8149 Acc: 0.0017  | Elapsed time: 0:18:14.272596\n",
      "Epoch   62 /  100  | Train Loss: 0.0651 Acc: 0.9962  | Val Loss: 12.7907 Acc: 0.0017  | Elapsed time: 0:18:32.458107\n",
      "Epoch   63 /  100  | Train Loss: 0.0627 Acc: 0.9972  | Val Loss: 12.7363 Acc: 0.0017  | Elapsed time: 0:18:50.450821\n",
      "Epoch   64 /  100  | Train Loss: 0.0690 Acc: 0.9972  | Val Loss: 12.5601 Acc: 0.0017  | Elapsed time: 0:19:07.898108\n",
      "Epoch   65 /  100  | Train Loss: 0.0673 Acc: 0.9967  | Val Loss: 12.8158 Acc: 0.0017  | Elapsed time: 0:19:25.802475\n",
      "Epoch   66 /  100  | Train Loss: 0.0638 Acc: 0.9967  | Val Loss: 12.6657 Acc: 0.0017  | Elapsed time: 0:19:43.728347\n",
      "Epoch   67 /  100  | Train Loss: 0.0680 Acc: 0.9957  | Val Loss: 12.8276 Acc: 0.0017  | Elapsed time: 0:20:01.740362\n",
      "Epoch   68 /  100  | Train Loss: 0.0652 Acc: 0.9976  | Val Loss: 12.8758 Acc: 0.0017  | Elapsed time: 0:20:19.766366\n",
      "Epoch   69 /  100  | Train Loss: 0.0603 Acc: 0.9976  | Val Loss: 12.6875 Acc: 0.0017  | Elapsed time: 0:20:37.553365\n",
      "Epoch   70 /  100  | Train Loss: 0.0621 Acc: 0.9976  | Val Loss: 12.6996 Acc: 0.0017  | Elapsed time: 0:20:55.525619\n",
      "Epoch   71 /  100  | Train Loss: 0.0636 Acc: 0.9981  | Val Loss: 12.7833 Acc: 0.0017  | Elapsed time: 0:21:13.380045\n",
      "Epoch   72 /  100  | Train Loss: 0.0663 Acc: 0.9967  | Val Loss: 12.7401 Acc: 0.0017  | Elapsed time: 0:21:31.394915\n",
      "Epoch   73 /  100  | Train Loss: 0.0647 Acc: 0.9986  | Val Loss: 12.6760 Acc: 0.0017  | Elapsed time: 0:21:49.233424\n",
      "Epoch   74 /  100  | Train Loss: 0.0633 Acc: 0.9967  | Val Loss: 12.7364 Acc: 0.0017  | Elapsed time: 0:22:07.160935\n",
      "Epoch   75 /  100  | Train Loss: 0.0623 Acc: 0.9986  | Val Loss: 12.7762 Acc: 0.0017  | Elapsed time: 0:22:24.893447\n",
      "Epoch   76 /  100  | Train Loss: 0.0636 Acc: 0.9991  | Val Loss: 12.6635 Acc: 0.0017  | Elapsed time: 0:22:42.740448\n",
      "Epoch   77 /  100  | Train Loss: 0.0654 Acc: 0.9976  | Val Loss: 12.6352 Acc: 0.0017  | Elapsed time: 0:23:00.789987\n",
      "Epoch   78 /  100  | Train Loss: 0.0660 Acc: 0.9976  | Val Loss: 12.7696 Acc: 0.0017  | Elapsed time: 0:23:18.335494\n",
      "Epoch   79 /  100  | Train Loss: 0.0633 Acc: 0.9981  | Val Loss: 12.6890 Acc: 0.0017  | Elapsed time: 0:23:36.228727\n",
      "Epoch   80 /  100  | Train Loss: 0.0665 Acc: 0.9972  | Val Loss: 12.7288 Acc: 0.0017  | Elapsed time: 0:23:54.129252\n",
      "Epoch   81 /  100  | Train Loss: 0.0620 Acc: 0.9972  | Val Loss: 12.6558 Acc: 0.0017  | Elapsed time: 0:24:12.033280\n",
      "Epoch   82 /  100  | Train Loss: 0.0636 Acc: 0.9972  | Val Loss: 12.7579 Acc: 0.0017  | Elapsed time: 0:24:29.937282\n",
      "Epoch   83 /  100  | Train Loss: 0.0640 Acc: 0.9976  | Val Loss: 12.7392 Acc: 0.0017  | Elapsed time: 0:24:48.162015\n",
      "Epoch   84 /  100  | Train Loss: 0.0641 Acc: 0.9972  | Val Loss: 12.7127 Acc: 0.0017  | Elapsed time: 0:25:06.063543\n",
      "Epoch   85 /  100  | Train Loss: 0.0630 Acc: 0.9953  | Val Loss: 12.8294 Acc: 0.0017  | Elapsed time: 0:25:24.065862\n",
      "Epoch   86 /  100  | Train Loss: 0.0679 Acc: 0.9962  | Val Loss: 12.7113 Acc: 0.0017  | Elapsed time: 0:25:42.180877\n",
      "Epoch   87 /  100  | Train Loss: 0.0654 Acc: 0.9962  | Val Loss: 12.7107 Acc: 0.0017  | Elapsed time: 0:26:00.164430\n",
      "Epoch   88 /  100  | Train Loss: 0.0655 Acc: 0.9976  | Val Loss: 12.6202 Acc: 0.0017  | Elapsed time: 0:26:17.932428\n",
      "Epoch   89 /  100  | Train Loss: 0.0633 Acc: 0.9967  | Val Loss: 12.7088 Acc: 0.0017  | Elapsed time: 0:26:35.959542\n",
      "Epoch   90 /  100  | Train Loss: 0.0691 Acc: 0.9972  | Val Loss: 12.7338 Acc: 0.0017  | Elapsed time: 0:26:53.917544\n",
      "Epoch   91 /  100  | Train Loss: 0.0623 Acc: 0.9972  | Val Loss: 12.6604 Acc: 0.0017  | Elapsed time: 0:27:11.733565\n",
      "Epoch   92 /  100  | Train Loss: 0.0667 Acc: 0.9976  | Val Loss: 12.7951 Acc: 0.0017  | Elapsed time: 0:27:29.634073\n",
      "Epoch   93 /  100  | Train Loss: 0.0641 Acc: 0.9981  | Val Loss: 12.7086 Acc: 0.0017  | Elapsed time: 0:27:47.664074\n",
      "Epoch   94 /  100  | Train Loss: 0.0641 Acc: 0.9967  | Val Loss: 12.6589 Acc: 0.0017  | Elapsed time: 0:28:05.833209\n",
      "Epoch   95 /  100  | Train Loss: 0.0667 Acc: 0.9967  | Val Loss: 12.7691 Acc: 0.0017  | Elapsed time: 0:28:23.906209\n",
      "Epoch   96 /  100  | Train Loss: 0.0642 Acc: 0.9986  | Val Loss: 12.6850 Acc: 0.0017  | Elapsed time: 0:28:41.929208\n",
      "Epoch   97 /  100  | Train Loss: 0.0628 Acc: 0.9967  | Val Loss: 12.7401 Acc: 0.0017  | Elapsed time: 0:28:59.759755\n",
      "Epoch   98 /  100  | Train Loss: 0.0622 Acc: 0.9981  | Val Loss: 12.5952 Acc: 0.0017  | Elapsed time: 0:29:17.667164\n",
      "Epoch   99 /  100  | Train Loss: 0.0623 Acc: 0.9976  | Val Loss: 12.7137 Acc: 0.0017  | Elapsed time: 0:29:35.523176\n",
      "Epoch  100 /  100  | Train Loss: 0.0658 Acc: 0.9962  | Val Loss: 12.8945 Acc: 0.0017  | Elapsed time: 0:29:53.927843\n"
     ]
    }
   ],
   "source": [
    "train(model_data, 100, f\"{dataset_dir}/proto/checkpoint_latest.pth\")"
   ]
  },
  {
   "cell_type": "code",
   "execution_count": 34,
   "id": "713e51e0-6ffc-4d2e-8552-d1e0d2f01d9d",
   "metadata": {},
   "outputs": [
    {
     "data": {
      "text/plain": [
       "'insect-dataset/moth/proto/checkpoint_1737817230.pth'"
      ]
     },
     "execution_count": 34,
     "metadata": {},
     "output_type": "execute_result"
    }
   ],
   "source": [
    "shutil.copy(f\"{dataset_dir}/proto/checkpoint_latest.pth\", f\"{dataset_dir}/proto/checkpoint_{int(time.time())}.pth\")"
   ]
  },
  {
   "cell_type": "code",
   "execution_count": 35,
   "id": "78c86ce2-f888-40ac-a1fe-f9609c0d8eea",
   "metadata": {},
   "outputs": [
    {
     "name": "stdout",
     "output_type": "stream",
     "text": [
      "Accuracy: 224 / 289 -> 77.51%\n",
      "Elapsed time: 0:00:02.545990\n"
     ]
    }
   ],
   "source": [
    "test(f\"{dataset_dir}/proto/checkpoint_latest.pth\", f\"{dataset_dir}/proto/test\", False)"
   ]
  },
  {
   "cell_type": "code",
   "execution_count": null,
   "id": "26ca80fe-030e-4b6f-8ad9-6a4e019ec534",
   "metadata": {},
   "outputs": [],
   "source": []
  }
 ],
 "metadata": {
  "kernelspec": {
   "display_name": "Python 3 (ipykernel)",
   "language": "python",
   "name": "python3"
  },
  "language_info": {
   "codemirror_mode": {
    "name": "ipython",
    "version": 3
   },
   "file_extension": ".py",
   "mimetype": "text/x-python",
   "name": "python",
   "nbconvert_exporter": "python",
   "pygments_lexer": "ipython3",
   "version": "3.12.8"
  }
 },
 "nbformat": 4,
 "nbformat_minor": 5
}
