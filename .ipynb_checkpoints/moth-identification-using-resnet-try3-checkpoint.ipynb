{
 "cells": [
  {
   "cell_type": "markdown",
   "id": "87e926ec-d49c-46a9-9d5b-906d0748ec4f",
   "metadata": {},
   "source": [
    "# Target\n",
    "1. Try with cured data"
   ]
  },
  {
   "cell_type": "markdown",
   "id": "11fe228e-dffa-4684-9744-872d4c9302b1",
   "metadata": {},
   "source": [
    "# Prerequisites"
   ]
  },
  {
   "cell_type": "code",
   "execution_count": 1,
   "id": "dc13b46e-fb9b-4647-ac50-cbedca658781",
   "metadata": {},
   "outputs": [],
   "source": [
    "import mynnlib\n",
    "from mynnlib import *\n",
    "\n",
    "dataset_dir = \"insect-dataset/moth\""
   ]
  },
  {
   "cell_type": "markdown",
   "id": "4fb4bd81-83f3-4845-8347-ff7df83106f1",
   "metadata": {},
   "source": [
    "# Cure dataset manually\n",
    "1. larva, pupa & egg moved to separated class\n",
    "2. mossaic images or images containing multiple subject discarded or split\n",
    "3. unclear images discarded\n",
    "4. images with too small subject cropped\n",
    "5. all directory/class names lowercased\n",
    "6. directory/class names fixed (e.g. herpetogramma-rudis%20species-group renamed to herpetogramma-rudis)\n",
    "7. <strong>Pending:</strong> To check what to do *-spp classes (seem to contain mixed species under same genus)"
   ]
  },
  {
   "cell_type": "code",
   "execution_count": 17,
   "id": "faebc2e7-a0fb-47b9-a8da-01aed57e4f04",
   "metadata": {},
   "outputs": [
    {
     "name": "stdout",
     "output_type": "stream",
     "text": [
      "Renaming insect-dataset\\moth\\data\\herpetogramma-rudis%20species-group to herpetogramma-rudis\n"
     ]
    }
   ],
   "source": [
    "for dataset in [\"data\", \"cured-data\", \"discarded\"]:\n",
    "    for species_dir in Path(f\"{dataset_dir}/{dataset}\").iterdir():\n",
    "        if species_dir.is_dir():\n",
    "            new_name = species_dir.name.lower()\n",
    "            if \"%20\" in species_dir.name:\n",
    "                new_name = re.sub(r\"%20.*\", \"\", new_name)\n",
    "                print(f\"Renaming {species_dir} to {new_name}\")\n",
    "            Path(species_dir).rename(f\"{dataset_dir}/{dataset}/{new_name}\")"
   ]
  },
  {
   "cell_type": "markdown",
   "id": "54412cef-3f0d-4e87-af6a-94541fe2b84d",
   "metadata": {},
   "source": [
    "# Train and test with a cured data subset"
   ]
  },
  {
   "cell_type": "code",
   "execution_count": 2,
   "id": "59874f59-20e5-469b-b3f3-53e3f1b2a7c8",
   "metadata": {},
   "outputs": [
    {
     "name": "stdout",
     "output_type": "stream",
     "text": [
      "Class count: 995\n",
      "Training data count: 10859\n",
      "Validation data count: 1210\n",
      "Test data count: 568\n"
     ]
    }
   ],
   "source": [
    "split_data_for_train_and_val(f\"{dataset_dir}/cured-data\", \n",
    "                             f\"{dataset_dir}/splits/test\", f\"{dataset_dir}/splits/val\", f\"{dataset_dir}/splits/train\", \n",
    "                             test_data_weight=0.05, val_data_weight=0.1, min_file_cnt_for_val=4, \n",
    "                             class_name_filter_regex=r\"^[a-c].*$\")"
   ]
  },
  {
   "cell_type": "code",
   "execution_count": 3,
   "id": "18357a91-ae8f-45a4-b864-3745616f2a24",
   "metadata": {},
   "outputs": [
    {
     "name": "stdout",
     "output_type": "stream",
     "text": [
      "train class count: 995\n",
      "val class count: 459\n",
      "feature count: 2048\n",
      "device: cuda:0\n"
     ]
    }
   ],
   "source": [
    "model_data = init_model_for_training(f'{dataset_dir}/splits/train', f'{dataset_dir}/splits/val', batch_size=32, arch=\"resnet152\", image_size=224)"
   ]
  },
  {
   "cell_type": "code",
   "execution_count": 6,
   "id": "b4a8e529-15e6-473b-9879-12c089629b8d",
   "metadata": {
    "scrolled": true
   },
   "outputs": [
    {
     "name": "stdout",
     "output_type": "stream",
     "text": [
      "Epoch    1 /   25  | Train Loss: 5.2367 Acc: 0.1386  | Val Loss: 4.0382 Acc: 0.2281  | Elapsed time: 0:03:50.423420\n",
      "Epoch    2 /   25  | Train Loss: 3.0725 Acc: 0.3604  | Val Loss: 2.7407 Acc: 0.3934  | Elapsed time: 0:06:37.804391\n",
      "Epoch    3 /   25  | Train Loss: 1.8328 Acc: 0.5474  | Val Loss: 2.3702 Acc: 0.4653  | Elapsed time: 0:09:25.967207\n",
      "Epoch    4 /   25  | Train Loss: 1.1282 Acc: 0.6995  | Val Loss: 1.8240 Acc: 0.5628  | Elapsed time: 0:12:14.168783\n",
      "Epoch    5 /   25  | Train Loss: 0.7427 Acc: 0.7899  | Val Loss: 2.3665 Acc: 0.5430  | Elapsed time: 0:15:01.693821\n",
      "Epoch    6 /   25  | Train Loss: 0.5075 Acc: 0.8507  | Val Loss: 1.7807 Acc: 0.6157  | Elapsed time: 0:17:49.623621\n",
      "Epoch    7 /   25  | Train Loss: 0.3627 Acc: 0.8930  | Val Loss: 1.6757 Acc: 0.6603  | Elapsed time: 0:20:37.777056\n",
      "Epoch    8 /   25  | Train Loss: 0.1400 Acc: 0.9632  | Val Loss: 1.3546 Acc: 0.7281  | Elapsed time: 0:23:28.722778\n",
      "Epoch    9 /   25  | Train Loss: 0.0763 Acc: 0.9841  | Val Loss: 1.3383 Acc: 0.7372  | Elapsed time: 0:26:17.506238\n",
      "Epoch   10 /   25  | Train Loss: 0.0603 Acc: 0.9876  | Val Loss: 1.3159 Acc: 0.7430  | Elapsed time: 0:29:06.300760\n",
      "Epoch   11 /   25  | Train Loss: 0.0463 Acc: 0.9922  | Val Loss: 1.3462 Acc: 0.7298  | Elapsed time: 0:31:55.009238\n",
      "Epoch   12 /   25  | Train Loss: 0.0396 Acc: 0.9923  | Val Loss: 1.3537 Acc: 0.7372  | Elapsed time: 0:34:43.696430\n",
      "Epoch   13 /   25  | Train Loss: 0.0325 Acc: 0.9951  | Val Loss: 1.3570 Acc: 0.7438  | Elapsed time: 0:37:32.152548\n",
      "Epoch   14 /   25  | Train Loss: 0.0297 Acc: 0.9951  | Val Loss: 1.3756 Acc: 0.7479  | Elapsed time: 0:40:20.999056\n",
      "Epoch   15 /   25  | Train Loss: 0.0229 Acc: 0.9971  | Val Loss: 1.3662 Acc: 0.7471  | Elapsed time: 0:43:10.133929\n",
      "Epoch   16 /   25  | Train Loss: 0.0201 Acc: 0.9980  | Val Loss: 1.3761 Acc: 0.7430  | Elapsed time: 0:45:57.985406\n",
      "Epoch   17 /   25  | Train Loss: 0.0207 Acc: 0.9979  | Val Loss: 1.3708 Acc: 0.7545  | Elapsed time: 0:48:44.819139\n",
      "Epoch   18 /   25  | Train Loss: 0.0193 Acc: 0.9983  | Val Loss: 1.3628 Acc: 0.7471  | Elapsed time: 0:51:34.213989\n",
      "Epoch   19 /   25  | Train Loss: 0.0178 Acc: 0.9986  | Val Loss: 1.3775 Acc: 0.7421  | Elapsed time: 0:54:24.876221\n",
      "Epoch   20 /   25  | Train Loss: 0.0181 Acc: 0.9985  | Val Loss: 1.3728 Acc: 0.7471  | Elapsed time: 0:57:17.950232\n",
      "Epoch   21 /   25  | Train Loss: 0.0174 Acc: 0.9983  | Val Loss: 1.3777 Acc: 0.7512  | Elapsed time: 1:00:10.384314\n",
      "Epoch   22 /   25  | Train Loss: 0.0171 Acc: 0.9987  | Val Loss: 1.3544 Acc: 0.7562  | Elapsed time: 1:02:59.013795\n",
      "Epoch   23 /   25  | Train Loss: 0.0161 Acc: 0.9985  | Val Loss: 1.3814 Acc: 0.7455  | Elapsed time: 1:05:48.278727\n",
      "Epoch   24 /   25  | Train Loss: 0.0164 Acc: 0.9983  | Val Loss: 1.3542 Acc: 0.7529  | Elapsed time: 1:08:38.248899\n",
      "Epoch   25 /   25  | Train Loss: 0.0154 Acc: 0.9989  | Val Loss: 1.3879 Acc: 0.7529  | Elapsed time: 1:11:26.562996\n"
     ]
    },
    {
     "data": {
      "text/plain": [
       "'insect-dataset/moth/checkpoint.resnet152.2025.01.29.subset.pth'"
      ]
     },
     "execution_count": 6,
     "metadata": {},
     "output_type": "execute_result"
    }
   ],
   "source": [
    "train(model_data, 25, f\"{dataset_dir}/checkpoint_latest.pth\")\n",
    "shutil.copy(f\"{dataset_dir}/checkpoint_latest.pth\", f\"{dataset_dir}/checkpoint.resnet152.{datetime.datetime.now().strftime(\"%Y.%m.%d\")}.subset.pth\")"
   ]
  },
  {
   "cell_type": "code",
   "execution_count": 7,
   "id": "50c3e3e3-1e26-4c43-a960-64058be84e13",
   "metadata": {},
   "outputs": [
    {
     "name": "stdout",
     "output_type": "stream",
     "text": [
      "Accuracy: 448 / 568 -> 78.87%\n",
      "Elapsed time: 0:00:21.461196\n"
     ]
    }
   ],
   "source": [
    "test(model_data, f\"{dataset_dir}/splits/test\", False)"
   ]
  },
  {
   "cell_type": "code",
   "execution_count": 8,
   "id": "92aee45d-2813-4b18-ae96-97648cf8fff0",
   "metadata": {},
   "outputs": [
    {
     "name": "stdout",
     "output_type": "stream",
     "text": [
      "acidon-nigrobasis        : bradina-spp(0.750)  achaea-janata(0.104)  aphendala-spp(0.029)  aroa-spp(0.026)  \n",
      "Adoxophyes-privatana     : agathodes-ostentalis(0.888)  adoxophyes-spp(0.030)  archips-spp(0.027)  chalcoscelides-castaneipars(0.014)  \n",
      "alcanola-speideli        : alcanola-tympanistis(1.000)  casminola-spp(0.000)  achaea-janata(0.000)  araeopteron-proleuca(0.000)  \n",
      "artena-dotata-2          : artena-dotata(0.980)  calyptra-spp(0.006)  artena-submira(0.002)  botyodes-asialis(0.002)  \n",
      "artena-dotata            : artena-dotata(1.000)  chilkasa-falcata(0.000)  calyptra-spp(0.000)  artena-submira(0.000)  \n",
      "artena-submira-2         : achaea-janata(0.936)  artena-dotata(0.052)  crithote-spp(0.008)  artena-submira(0.001)  \n",
      "artena-submira           : artena-submira(0.797)  carea-angulata(0.123)  artena-dotata(0.029)  aiteta-musculina(0.019)  \n",
      "----------\n",
      "Top 4 accuracy: 4 / 7 -> 0.571\n",
      "Top 1 accuracy: 3 / 7 -> 0.429\n"
     ]
    }
   ],
   "source": [
    "test_top_k(model_data, f\"{dataset_dir}/splits/my-test\", 4)"
   ]
  },
  {
   "cell_type": "code",
   "execution_count": 9,
   "id": "d2054d8b-0d5e-42b2-bcaa-e4161ca1178d",
   "metadata": {},
   "outputs": [
    {
     "name": "stdout",
     "output_type": "stream",
     "text": [
      "Top 10 accuracy: 5 / 7 -> 0.714\n",
      "Top 1 accuracy: 3 / 7 -> 0.429\n"
     ]
    }
   ],
   "source": [
    "test_top_k(model_data, f\"{dataset_dir}/splits/my-test\", 10, print_preds=False)"
   ]
  },
  {
   "cell_type": "markdown",
   "id": "e2fcbb04-33dc-454e-96dd-70159a031293",
   "metadata": {},
   "source": [
    "# Train and test with all cured data"
   ]
  },
  {
   "cell_type": "code",
   "execution_count": 12,
   "id": "5b37b090-545a-400c-be14-877132172a3b",
   "metadata": {},
   "outputs": [
    {
     "name": "stdout",
     "output_type": "stream",
     "text": [
      "Class count: 1810\n",
      "Training data count: 19966\n",
      "Validation data count: 2128\n",
      "Test data count: 1135\n"
     ]
    }
   ],
   "source": [
    "split_data_for_train_and_val(f\"{dataset_dir}/cured-data\", \n",
    "                             f\"{dataset_dir}/splits/test\", f\"{dataset_dir}/splits/val\", f\"{dataset_dir}/splits/train\", \n",
    "                             test_data_weight=0.05, val_data_weight=0.1, min_file_cnt_for_val=4, \n",
    "                             class_name_filter_regex=r\"^[a-k].*$\")"
   ]
  },
  {
   "cell_type": "code",
   "execution_count": null,
   "id": "33acd870-c3d8-4b49-944a-807968529abf",
   "metadata": {},
   "outputs": [],
   "source": [
    "model_data = init_model_for_training(f'{dataset_dir}/splits/train', f'{dataset_dir}/splits/val', batch_size=32, arch=\"resnet152\", image_size=224)"
   ]
  },
  {
   "cell_type": "code",
   "execution_count": null,
   "id": "dc2ae90b-3f49-42aa-9a6f-f9c59908e31e",
   "metadata": {},
   "outputs": [],
   "source": [
    "train(model_data, 25, f\"{dataset_dir}/checkpoint_latest.pth\")\n",
    "shutil.copy(f\"{dataset_dir}/checkpoint_latest.pth\", f\"{dataset_dir}/checkpoint.resnet152.{datetime.datetime.now().strftime(\"%Y.%m.%d\")}.pth\")"
   ]
  },
  {
   "cell_type": "code",
   "execution_count": null,
   "id": "df956571-5b12-456e-810c-75acc64b3225",
   "metadata": {},
   "outputs": [],
   "source": [
    "test(model_data, f\"{dataset_dir}/splits/test\", False)"
   ]
  },
  {
   "cell_type": "code",
   "execution_count": null,
   "id": "3ca0fc98-3e21-4065-93c6-2fe8e15a9899",
   "metadata": {},
   "outputs": [],
   "source": [
    "test_top_k(model_data, f\"{dataset_dir}/my-test\", 4)"
   ]
  },
  {
   "cell_type": "code",
   "execution_count": null,
   "id": "e1d098a1-84a4-46c6-b1d3-ab0754ebfe82",
   "metadata": {},
   "outputs": [],
   "source": [
    "test_top_k(model_data, f\"{dataset_dir}/my-test\", 10, print_preds=False)"
   ]
  },
  {
   "cell_type": "markdown",
   "id": "69620eb5-24f9-4518-99d9-f640a0e9bdfc",
   "metadata": {},
   "source": [
    "# Train & test with all cured data on train phase only"
   ]
  },
  {
   "cell_type": "code",
   "execution_count": null,
   "id": "c0cf64b6-35d0-42a6-af46-7e84d60ce67e",
   "metadata": {},
   "outputs": [],
   "source": [
    "model_data = init_model_for_training(f'{dataset_dir}/cured-data', f'{dataset_dir}/splits/val', batch_size=32, arch=\"resnet152\", image_size=224)"
   ]
  },
  {
   "cell_type": "code",
   "execution_count": null,
   "id": "58a064f6-392e-40bb-8c71-695e4a3288e8",
   "metadata": {},
   "outputs": [],
   "source": [
    "train(model_data, 25, f\"{dataset_dir}/checkpoint_latest.pth\")\n",
    "shutil.copy(f\"{dataset_dir}/checkpoint_latest.pth\", f\"{dataset_dir}/checkpoint.resnet152.{datetime.datetime.now().strftime(\"%Y.%m.%d\")}.pth\")"
   ]
  },
  {
   "cell_type": "code",
   "execution_count": null,
   "id": "d988260a-4bd5-49fd-b49e-133a15353935",
   "metadata": {},
   "outputs": [],
   "source": [
    "test(model_data, f\"{dataset_dir}/splits/test\", False)"
   ]
  },
  {
   "cell_type": "code",
   "execution_count": null,
   "id": "640aa3b4-1c26-413d-b1d7-7d9b4c6847ae",
   "metadata": {},
   "outputs": [],
   "source": [
    "test_top_k(model_data, f\"{dataset_dir}/my-test\", 4)"
   ]
  },
  {
   "cell_type": "code",
   "execution_count": null,
   "id": "24ca7105-457e-4a61-8d67-07f2071ca2db",
   "metadata": {},
   "outputs": [],
   "source": [
    "test_top_k(model_data, f\"{dataset_dir}/my-test\", 10, print_preds=False)"
   ]
  }
 ],
 "metadata": {
  "kernelspec": {
   "display_name": "Python 3 (ipykernel)",
   "language": "python",
   "name": "python3"
  },
  "language_info": {
   "codemirror_mode": {
    "name": "ipython",
    "version": 3
   },
   "file_extension": ".py",
   "mimetype": "text/x-python",
   "name": "python",
   "nbconvert_exporter": "python",
   "pygments_lexer": "ipython3",
   "version": "3.12.8"
  }
 },
 "nbformat": 4,
 "nbformat_minor": 5
}
