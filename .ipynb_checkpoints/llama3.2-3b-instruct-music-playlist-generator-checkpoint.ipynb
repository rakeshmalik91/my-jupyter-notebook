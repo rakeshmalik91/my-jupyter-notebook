{
 "cells": [
  {
   "cell_type": "code",
   "execution_count": 3,
   "id": "8bd63d5d-8495-4e7b-b104-523cf3883874",
   "metadata": {},
   "outputs": [],
   "source": [
    "# !pip install transformers\n",
    "# !pip install pyyaml\n",
    "# !pip install google-api-python-client google-auth google-auth-oauthlib google-auth-httplib2"
   ]
  },
  {
   "cell_type": "code",
   "execution_count": 5,
   "id": "2d0774d2-2a42-45a3-81b1-61ae88617c4a",
   "metadata": {},
   "outputs": [],
   "source": [
    "model_name = \"Llama3.2-3B-Instruct\"\n",
    "models_path = r\"./llama-models/\"\n",
    "transformed_model_path = models_path + model_name + \"-transformed\""
   ]
  },
  {
   "cell_type": "code",
   "execution_count": 6,
   "id": "29122b02-8fe2-42ba-b575-bc3b2a16bfde",
   "metadata": {},
   "outputs": [
    {
     "data": {
      "application/vnd.jupyter.widget-view+json": {
       "model_id": "c9a0b29874d6494fa2599c1392615c48",
       "version_major": 2,
       "version_minor": 0
      },
      "text/plain": [
       "Loading checkpoint shards:   0%|          | 0/2 [00:00<?, ?it/s]"
      ]
     },
     "metadata": {},
     "output_type": "display_data"
    }
   ],
   "source": [
    "from transformers import LlamaForCausalLM, AutoTokenizer\n",
    "import torch\n",
    "\n",
    "device = torch.device(\"cuda\" if torch.cuda.is_available() else \"cpu\")\n",
    "model = LlamaForCausalLM.from_pretrained(transformed_model_path).to(device)\n",
    "tokenizer = AutoTokenizer.from_pretrained(transformed_model_path)"
   ]
  },
  {
   "cell_type": "markdown",
   "id": "d83c8a9a-b98e-4924-a2c1-4d68ae6f9209",
   "metadata": {},
   "source": [
    "Generate songs\n",
    "----------"
   ]
  },
  {
   "cell_type": "code",
   "execution_count": 7,
   "id": "6879918f-114e-4348-88d0-93a22d19c4c3",
   "metadata": {},
   "outputs": [],
   "source": [
    "import time\n",
    "\n",
    "def infer(prompt):\n",
    "    start_time = time.time()\n",
    "    inputs = tokenizer(prompt, return_tensors=\"pt\").to(device)\n",
    "    generate_ids = model.generate(inputs.input_ids, max_length=500, eos_token_id=None)\n",
    "    response = tokenizer.batch_decode(generate_ids, skip_special_tokens=True, clean_up_tokenization_spaces=False)\n",
    "    elapsed_time = time.time() - start_time\n",
    "    print(f\"\\n({elapsed_time:.4f} seconds taken on {model.device})\")\n",
    "    return response[0]"
   ]
  },
  {
   "cell_type": "code",
   "execution_count": 8,
   "id": "d97b73e8-29a7-47a1-a5fc-e5ea42ffa71c",
   "metadata": {},
   "outputs": [
    {
     "name": "stdout",
     "output_type": "stream",
     "text": [
      "\n",
      "(331.6935 seconds taken on cuda:0)\n",
      "Generate a jazz music playlist. In 'index. name - artist' format. 20 tracks to get you grooving. \n",
      "1. So What - Miles Davis\n",
      "2. Take Five - The Dave Brubeck Quartet\n",
      "3. My Funny Valentine - Chet Baker\n",
      "4. Fly Me to the Moon - Frank Sinatra\n",
      "5. Blue Moon - Billie Holiday\n",
      "6. The Girl from Ipanema - Stan Getz and Astrud Gilberto\n",
      "7. I'll Be Seeing You - Billie Holiday\n",
      "8. Summertime - Louis Armstrong\n",
      "9. Sway - Dean Martin\n",
      "10. Moon River - Andy Williams\n",
      "11. The Nearness of You - Billie Holiday\n",
      "12. Summertime Blues - Louis Armstrong\n",
      "13. I've Got You Under My Skin - Frank Sinatra\n",
      "14. Take the A Train - Duke Ellington\n",
      "15. Blue Skies - Ella Fitzgerald\n",
      "16. How High the Moon - Les Paul\n",
      "17. The Way You Look Tonight - Frank Sinatra\n",
      "18. I'll Never Smile Again - Frank Sinatra\n",
      "19. The Lady Is a Tramp - Ella Fitzgerald\n",
      "20. Ain't Misbehavin' - Fats Waller\n",
      "\n",
      "This playlist is a mix of jazz standards, classic jazz, and some lesser-known gems. It's designed to take you on a journey through the history of jazz, from its early days to its swing era, and finally to the cool jazz and vocal jazz of the 1950s and 60s. \n",
      "\n",
      "The playlist includes some of the most iconic jazz musicians of all time, such as Miles Davis, Billie Holiday, Louis Armstrong, and Frank Sinatra. It also features some lesser-known jazz musicians, like Les Paul and Fats Waller. \n",
      "\n",
      "The playlist is a mix of fast-paced swing jazz and slower, more introspective ballads. It's perfect for a night out at the jazz club, a dinner date, or a relaxing evening at home. \n",
      "\n",
      "So sit back, relax, and let the jazz music transport you to a different era. Enjoy the playlist!\n",
      "\n",
      "**Jazz Music Playlist: 20 Tracks to Get You Grooving**\n",
      "\n",
      "1. So What - Miles Davis\n",
      "2. Take Five - The Dave Brubeck Quartet\n",
      "3. My Funny Valentine - Chet Baker\n",
      "4. Fly Me to the Moon - Frank Sinatra\n",
      "5. Blue Moon - Billie Holiday\n",
      "6. The Girl from Ipanema - Stan Get\n"
     ]
    }
   ],
   "source": [
    "mood = \"jazz\"\n",
    "prompt = f\"Generate a {mood} music playlist. In 'index. name - artist' format.\"\n",
    "response = infer(prompt)\n",
    "print(response)"
   ]
  },
  {
   "cell_type": "code",
   "execution_count": 9,
   "id": "7323ff29-86f8-42b1-a01f-e0f6951834e8",
   "metadata": {},
   "outputs": [
    {
     "name": "stdout",
     "output_type": "stream",
     "text": [
      "So What - Miles Davis\n",
      "Take Five - The Dave Brubeck Quartet\n",
      "My Funny Valentine - Chet Baker\n",
      "Fly Me to the Moon - Frank Sinatra\n",
      "Blue Moon - Billie Holiday\n",
      "The Girl from Ipanema - Stan Getz and Astrud Gilberto\n",
      "I'll Be Seeing You - Billie Holiday\n",
      "Summertime - Louis Armstrong\n",
      "Sway - Dean Martin\n",
      "Moon River - Andy Williams\n",
      "The Nearness of You - Billie Holiday\n",
      "Summertime Blues - Louis Armstrong\n",
      "I've Got You Under My Skin - Frank Sinatra\n",
      "Take the A Train - Duke Ellington\n",
      "Blue Skies - Ella Fitzgerald\n",
      "How High the Moon - Les Paul\n",
      "The Way You Look Tonight - Frank Sinatra\n",
      "I'll Never Smile Again - Frank Sinatra\n",
      "The Lady Is a Tramp - Ella Fitzgerald\n",
      "Ain't Misbehavin' - Fats Waller\n",
      "So What - Miles Davis\n",
      "Take Five - The Dave Brubeck Quartet\n",
      "My Funny Valentine - Chet Baker\n",
      "Fly Me to the Moon - Frank Sinatra\n",
      "Blue Moon - Billie Holiday\n",
      "The Girl from Ipanema - Stan Get\n"
     ]
    }
   ],
   "source": [
    "import re\n",
    "\n",
    "def sanitize_line(line):\n",
    "    line = re.sub(r\"(^[0-9]+(.|)|[*\\\"])\", \"\", line)\n",
    "    return line.strip()\n",
    "\n",
    "def extract_list(text):\n",
    "    filtered = text.split('\\n')\n",
    "    filtered = filter(lambda line: re.match(r\"[0-9]+.+-.+\", line), filtered)\n",
    "    filtered = map(lambda line: sanitize_line(line), filtered)\n",
    "    return list(filtered)\n",
    "\n",
    "songs = extract_list(response)\n",
    "for song in songs: print(song)"
   ]
  },
  {
   "cell_type": "markdown",
   "id": "e9bf55d1-4631-48a7-a74d-6bf9586d465e",
   "metadata": {},
   "source": [
    "Find songs on Youtube\n",
    "--------------"
   ]
  },
  {
   "cell_type": "code",
   "execution_count": 8,
   "id": "85de1c65-ab99-4fe5-b6ea-d066e9ae1bca",
   "metadata": {},
   "outputs": [],
   "source": [
    "# import yaml\n",
    "\n",
    "# def read_yaml(yml_path):\n",
    "#     with open(yml_path, 'r') as file:\n",
    "#         properties = yaml.safe_load(file)\n",
    "#     return properties\n",
    "\n",
    "# properties = read_yaml(\"secret.yml\")\n",
    "# google_api_key = properties['google_api_key']\n",
    "# youtube = build('youtube', 'v3', developerKey=google_api_key)"
   ]
  },
  {
   "cell_type": "code",
   "execution_count": 9,
   "id": "1847b9cc-142a-4bdf-b920-b53a88475a11",
   "metadata": {},
   "outputs": [],
   "source": [
    "from googleapiclient.discovery import build\n",
    "from googleapiclient.errors import HttpError\n",
    "from google_auth_oauthlib.flow import InstalledAppFlow\n",
    "from google.auth.transport.requests import Request\n",
    "import os\n",
    "import pickle\n",
    "\n",
    "# Scopes required for YouTube API\n",
    "SCOPES = [\"https://www.googleapis.com/auth/youtube.force-ssl\"]\n",
    "\n",
    "def authenticate_youtube():\n",
    "    creds = None\n",
    "    if os.path.exists(\"token.pickle\"):\n",
    "        with open(\"token.pickle\", \"rb\") as token:\n",
    "            creds = pickle.load(token)\n",
    "\n",
    "    if not creds or not creds.valid:\n",
    "        if creds and creds.expired and creds.refresh_token:\n",
    "            creds.refresh(Request())\n",
    "        else:\n",
    "            flow = InstalledAppFlow.from_client_secrets_file(\n",
    "                \"client_secret.json\", SCOPES)\n",
    "            creds = flow.run_local_server(port=0)\n",
    "\n",
    "        with open(\"token.pickle\", \"wb\") as token:\n",
    "            pickle.dump(creds, token)\n",
    "\n",
    "    return build(\"youtube\", \"v3\", credentials=creds)\n",
    "\n",
    "youtube = authenticate_youtube()"
   ]
  },
  {
   "cell_type": "code",
   "execution_count": 10,
   "id": "aa53f0b6-d5e9-45c9-885f-52aa416d7c2f",
   "metadata": {},
   "outputs": [
    {
     "name": "stdout",
     "output_type": "stream",
     "text": [
      "Miles Davis - 'Kind of Blue'                      \thttps://music.youtube.com/watch?v=FEPFH-gz3wE\n",
      "John Coltrane - 'My Favorite Things'              \thttps://music.youtube.com/watch?v=JQvc-Gkwhow\n",
      "Billie Holiday - 'God Bless the Child'            \thttps://music.youtube.com/watch?v=bKNtP1zOVHw\n",
      "Ella Fitzgerald - 'Misty Blue'                    \thttps://music.youtube.com/watch?v=yZ_24PCfTu4\n",
      "Louis Armstrong - 'What a Wonderful World'        \thttps://music.youtube.com/watch?v=rBrd_3VMC3c\n",
      "Duke Ellington - 'Take the A Train'               \thttps://music.youtube.com/watch?v=D6mFGy4g_n8\n",
      "Thelonious Monk - 'Round Midnight'                \thttps://music.youtube.com/watch?v=IKayR1oqC7w\n",
      "Charlie Parker - 'Now's the Time'                 \thttps://music.youtube.com/watch?v=ryNtmkfeJk4\n",
      "Dizzy Gillespie - 'A Night in Tunisia'            \thttps://music.youtube.com/watch?v=mkemox0461U\n",
      "Count Basie - 'April in Paris'                    \thttps://music.youtube.com/watch?v=wCmcoZktZG4\n",
      "Miles Davis - 'So What'                           \thttps://music.youtube.com/watch?v=ylXk1LBvIqU\n",
      "John Coltrane - 'Giant Steps'                     \thttps://music.youtube.com/watch?v=KwIC6B_dvW4\n",
      "Billie Holiday - 'Strange Fruit'                  \thttps://music.youtube.com/watch?v=-DGY9HvChXk\n",
      "Ella Fitzgerald - 'Misty Blue'                    \thttps://music.youtube.com/watch?v=yZ_24PCfTu4\n",
      "Louis Armstrong - 'Heebie Jeebies'                \thttps://music.youtube.com/watch?v=rGGZ3zMOUhg\n",
      "Duke Ellington - 'Mood Indigo'                    \thttps://music.youtube.com/watch?v=RFUSD23ZXEw\n"
     ]
    }
   ],
   "source": [
    "from googleapiclient.discovery import build\n",
    "\n",
    "def search_youtube(query, max_results=5):\n",
    "    request = youtube.search().list(\n",
    "        part=\"snippet\",\n",
    "        q=query,\n",
    "        type=\"video\",\n",
    "        maxResults=max_results\n",
    "    )\n",
    "    response = request.execute()\n",
    "    \n",
    "    videos = []\n",
    "    for item in response.get(\"items\", []):\n",
    "        video_data = {\n",
    "            \"title\": item[\"snippet\"][\"title\"],\n",
    "            \"channel\": item[\"snippet\"][\"channelTitle\"],\n",
    "            \"description\": item[\"snippet\"][\"description\"],\n",
    "            \"video_id\": item['id']['videoId'],\n",
    "            \"video_url\": f\"https://music.youtube.com/watch?v={item['id']['videoId']}\"\n",
    "        }\n",
    "        videos.append(video_data)\n",
    "    \n",
    "    return videos\n",
    "\n",
    "videos = []\n",
    "for song in songs:\n",
    "    result = search_youtube(song)[0]\n",
    "    print(f\"{song:50}\\t{result['video_url']}\")\n",
    "    videos.append(result)"
   ]
  },
  {
   "cell_type": "markdown",
   "id": "3bae41b7-c87b-4a86-81ca-b7c636385fa6",
   "metadata": {},
   "source": [
    "Create playlist\n",
    "---------"
   ]
  },
  {
   "cell_type": "code",
   "execution_count": 13,
   "id": "34714a71-97ac-4870-bfd1-2c4173451a2a",
   "metadata": {},
   "outputs": [
    {
     "name": "stdout",
     "output_type": "stream",
     "text": [
      "Playlist created: PLSvM43_JInG1o_lLQXZmZfea2c-BNJV2i\n",
      "Playlist URL: https://www.youtube.com/playlist?list=PLSvM43_JInG1o_lLQXZmZfea2c-BNJV2i\n"
     ]
    }
   ],
   "source": [
    "import time\n",
    "from googleapiclient.errors import HttpError\n",
    "\n",
    "def create_playlist(youtube, title, description, privacy_status):\n",
    "    try:\n",
    "        request = youtube.playlists().insert(\n",
    "            part=\"snippet,status\",\n",
    "            body={\n",
    "                \"snippet\": {\n",
    "                    \"title\": title,\n",
    "                    \"description\": description,\n",
    "                    \"tags\": [\"sample playlist\", \"API-created\"],\n",
    "                    \"defaultLanguage\": \"en\"\n",
    "                },\n",
    "                \"status\": {\n",
    "                    \"privacyStatus\": privacy_status  # \"public\", \"private\", or \"unlisted\"\n",
    "                }\n",
    "            }\n",
    "        )\n",
    "        response = request.execute()\n",
    "        print(f\"Playlist created: {response['id']}\")\n",
    "        return response[\"id\"]\n",
    "    except HttpError as e:\n",
    "        print(f\"An error occurred: {e}\")\n",
    "        return None\n",
    "\n",
    "playlist_id = create_playlist(youtube, f\"Llama generated playlist-{time.time()} ({mood})\", \"This is a playlist created with the YouTube API using Llama 3.2.\", \"unlisted\")\n",
    "print(f\"Playlist URL: https://www.youtube.com/playlist?list={playlist_id}\")\n"
   ]
  },
  {
   "cell_type": "code",
   "execution_count": 14,
   "id": "a704c3b1-206d-472a-99e4-eecbbe695b49",
   "metadata": {
    "scrolled": true
   },
   "outputs": [
    {
     "name": "stdout",
     "output_type": "stream",
     "text": [
      "Video added to playlist: FEPFH-gz3wE\n",
      "Video added to playlist: JQvc-Gkwhow\n",
      "Video added to playlist: bKNtP1zOVHw\n",
      "Video added to playlist: yZ_24PCfTu4\n",
      "Video added to playlist: rBrd_3VMC3c\n",
      "Video added to playlist: D6mFGy4g_n8\n",
      "Video added to playlist: IKayR1oqC7w\n",
      "Video added to playlist: ryNtmkfeJk4\n",
      "Video added to playlist: mkemox0461U\n",
      "Video added to playlist: wCmcoZktZG4\n",
      "Video added to playlist: ylXk1LBvIqU\n",
      "Video added to playlist: KwIC6B_dvW4\n",
      "Video added to playlist: -DGY9HvChXk\n",
      "Video added to playlist: yZ_24PCfTu4\n",
      "Video added to playlist: rGGZ3zMOUhg\n",
      "Video added to playlist: RFUSD23ZXEw\n"
     ]
    }
   ],
   "source": [
    "def add_video_to_playlist(youtube, playlist_id, video_id):\n",
    "    try:\n",
    "        request = youtube.playlistItems().insert(\n",
    "            part=\"snippet\",\n",
    "            body={\n",
    "                \"snippet\": {\n",
    "                    \"playlistId\": playlist_id,  # The ID of the playlist\n",
    "                    \"resourceId\": {\n",
    "                        \"kind\": \"youtube#video\",  # Specify the kind of resource\n",
    "                        \"videoId\": video_id      # The ID of the video to add\n",
    "                    }\n",
    "                }\n",
    "            }\n",
    "        )\n",
    "        response = request.execute()\n",
    "        print(f\"Video added to playlist: {video_id}\")\n",
    "    except HttpError as e:\n",
    "        print(f\"An error occurred: {e}\")\n",
    "\n",
    "for video in videos:\n",
    "    add_video_to_playlist(youtube, playlist_id, video['video_id'])"
   ]
  },
  {
   "cell_type": "code",
   "execution_count": null,
   "id": "5a7ba860-2c54-477f-bcd9-eb679fdafe11",
   "metadata": {},
   "outputs": [],
   "source": []
  }
 ],
 "metadata": {
  "kernelspec": {
   "display_name": "Python 3 (ipykernel)",
   "language": "python",
   "name": "python3"
  },
  "language_info": {
   "codemirror_mode": {
    "name": "ipython",
    "version": 3
   },
   "file_extension": ".py",
   "mimetype": "text/x-python",
   "name": "python",
   "nbconvert_exporter": "python",
   "pygments_lexer": "ipython3",
   "version": "3.12.7"
  }
 },
 "nbformat": 4,
 "nbformat_minor": 5
}
