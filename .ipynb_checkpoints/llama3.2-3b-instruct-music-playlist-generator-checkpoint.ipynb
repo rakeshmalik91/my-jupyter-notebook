{
 "cells": [
  {
   "cell_type": "code",
   "execution_count": 1,
   "id": "8bd63d5d-8495-4e7b-b104-523cf3883874",
   "metadata": {},
   "outputs": [],
   "source": [
    "# !pip install transformers\n",
    "# !pip install pyyaml\n",
    "# !pip install google-api-python-client google-auth google-auth-oauthlib google-auth-httplib2"
   ]
  },
  {
   "cell_type": "markdown",
   "id": "15836cae-2343-4e37-90a9-60d2e644db1d",
   "metadata": {},
   "source": [
    "llama model list\n",
    "\n",
    "llama model download --source meta --model-id Llama3.2-3B-Instruct\n",
    "\n",
    "llama model verify-download --model-id Llama3.2-3B-Instruct\n",
    "\n",
    "cd D:\\Projects\\my-jupyter-notebook\n",
    "\n",
    "mv \"C:\\Users\\User\\C-\\Users\\User\\.llama\\checkpoints\\Llama3.2-3B-Instruct\" \"llama-models/\"\n",
    "\n",
    "python llama-models/convert_llama_weights_to_hf.py --input_dir llama-models/Llama3.2-3B-Instruct --model_size 3B --llama_version 3.2 --output_dir llama-models/Llama3.2-3B-Instruct-transformed"
   ]
  },
  {
   "cell_type": "code",
   "execution_count": 2,
   "id": "d7934929-1b05-43f0-86d9-52c8e9daad11",
   "metadata": {},
   "outputs": [],
   "source": [
    "model_name = \"Llama3.2-3B-Instruct\""
   ]
  },
  {
   "cell_type": "code",
   "execution_count": 3,
   "id": "2d0774d2-2a42-45a3-81b1-61ae88617c4a",
   "metadata": {},
   "outputs": [],
   "source": [
    "models_path = r\"./llama-models/\"\n",
    "transformed_model_path = models_path + model_name + \"-transformed\""
   ]
  },
  {
   "cell_type": "code",
   "execution_count": 4,
   "id": "29122b02-8fe2-42ba-b575-bc3b2a16bfde",
   "metadata": {},
   "outputs": [
    {
     "data": {
      "application/vnd.jupyter.widget-view+json": {
       "model_id": "bc9baa190a5f433a87847047fd02c3b7",
       "version_major": 2,
       "version_minor": 0
      },
      "text/plain": [
       "Loading checkpoint shards:   0%|          | 0/2 [00:00<?, ?it/s]"
      ]
     },
     "metadata": {},
     "output_type": "display_data"
    }
   ],
   "source": [
    "from transformers import LlamaForCausalLM, AutoTokenizer\n",
    "import torch\n",
    "\n",
    "device = torch.device(\"cuda\" if torch.cuda.is_available() else \"cpu\")\n",
    "model = LlamaForCausalLM.from_pretrained(transformed_model_path).to(device)\n",
    "tokenizer = AutoTokenizer.from_pretrained(transformed_model_path)"
   ]
  },
  {
   "cell_type": "markdown",
   "id": "d83c8a9a-b98e-4924-a2c1-4d68ae6f9209",
   "metadata": {},
   "source": [
    "Generate songs\n",
    "----------"
   ]
  },
  {
   "cell_type": "code",
   "execution_count": 5,
   "id": "f2627d61-2b1f-4e67-afc8-9bede4860037",
   "metadata": {},
   "outputs": [],
   "source": [
    "mood = \"jazz\""
   ]
  },
  {
   "cell_type": "code",
   "execution_count": 6,
   "id": "d97b73e8-29a7-47a1-a5fc-e5ea42ffa71c",
   "metadata": {
    "collapsed": true,
    "jupyter": {
     "outputs_hidden": true
    }
   },
   "outputs": [
    {
     "name": "stdout",
     "output_type": "stream",
     "text": [
      "\n",
      "(9.8712 seconds taken on cuda:0)\n",
      "Generate a jazz music playlist. In 'index. name - artist' format. \n",
      "Here's a list of 10 jazz musicians and the songs they're famous for. \n",
      "1. Miles Davis - 'Kind of Blue'\n",
      "2. John Coltrane - 'My Favorite Things'\n",
      "3. Billie Holiday - 'God Bless the Child'\n",
      "4. Ella Fitzgerald - 'Misty Blue'\n",
      "5. Louis Armstrong - 'What a Wonderful World'\n",
      "6. Duke Ellington - 'Take the A Train'\n",
      "7. Thelonious Monk - 'Round Midnight'\n",
      "8. Charlie Parker - 'Now's the Time'\n",
      "9. Dizzy Gillespie - 'A Night in Tunisia'\n",
      "10. Count Basie - 'April in Paris'\n",
      "\n",
      "Here's a jazz playlist of 20 tracks that combines these famous songs with some lesser-known tracks from the same artists and other jazz musicians. \n",
      "\n",
      "**Jazz Playlist**\n",
      "\n",
      "1. Miles Davis - 'So What'\n",
      "2. John Coltrane - 'Giant Steps'\n",
      "3. Billie Holiday - 'Strange Fruit'\n",
      "4. Ella Fitzgerald - 'Misty Blue'\n",
      "5. Louis Armstrong - 'Heebie Jeebies'\n",
      "6. Duke Ellington - 'Mood Indigo'\n",
      "7\n"
     ]
    }
   ],
   "source": [
    "import time\n",
    "\n",
    "def generate_prompt(mood):\n",
    "    prompt = f\"Generate a {mood} music playlist. In 'index. name - artist' format.\"\n",
    "    start_time = time.time()\n",
    "    inputs = tokenizer(prompt, return_tensors=\"pt\").to(device)\n",
    "    generate_ids = model.generate(inputs.input_ids, max_length=250, eos_token_id=None)\n",
    "    response = tokenizer.batch_decode(generate_ids, skip_special_tokens=True, clean_up_tokenization_spaces=False)\n",
    "    elapsed_time = time.time() - start_time\n",
    "    print(f\"\\n({elapsed_time:.4f} seconds taken on {model.device})\")\n",
    "    return response[0]\n",
    "\n",
    "response = generate_prompt(mood)\n",
    "print(response)"
   ]
  },
  {
   "cell_type": "code",
   "execution_count": 7,
   "id": "7323ff29-86f8-42b1-a01f-e0f6951834e8",
   "metadata": {},
   "outputs": [
    {
     "name": "stdout",
     "output_type": "stream",
     "text": [
      "Miles Davis - 'Kind of Blue'\n",
      "John Coltrane - 'My Favorite Things'\n",
      "Billie Holiday - 'God Bless the Child'\n",
      "Ella Fitzgerald - 'Misty Blue'\n",
      "Louis Armstrong - 'What a Wonderful World'\n",
      "Duke Ellington - 'Take the A Train'\n",
      "Thelonious Monk - 'Round Midnight'\n",
      "Charlie Parker - 'Now's the Time'\n",
      "Dizzy Gillespie - 'A Night in Tunisia'\n",
      "Count Basie - 'April in Paris'\n",
      "Miles Davis - 'So What'\n",
      "John Coltrane - 'Giant Steps'\n",
      "Billie Holiday - 'Strange Fruit'\n",
      "Ella Fitzgerald - 'Misty Blue'\n",
      "Louis Armstrong - 'Heebie Jeebies'\n",
      "Duke Ellington - 'Mood Indigo'\n"
     ]
    }
   ],
   "source": [
    "import re\n",
    "\n",
    "def sanitize_line(line):\n",
    "    line = re.sub(r\"(^[0-9]+(.|)|[*\\\"])\", \"\", line)\n",
    "    return line.strip()\n",
    "\n",
    "def extract_list(text):\n",
    "    filtered = text.split('\\n')\n",
    "    filtered = filter(lambda line: re.match(r\"[0-9]+.+-.+\", line), filtered)\n",
    "    filtered = map(lambda line: sanitize_line(line), filtered)\n",
    "    return list(filtered)\n",
    "\n",
    "songs = extract_list(response)\n",
    "for song in songs: print(song)"
   ]
  },
  {
   "cell_type": "markdown",
   "id": "e9bf55d1-4631-48a7-a74d-6bf9586d465e",
   "metadata": {},
   "source": [
    "Find songs on Youtube\n",
    "--------------"
   ]
  },
  {
   "cell_type": "code",
   "execution_count": 8,
   "id": "85de1c65-ab99-4fe5-b6ea-d066e9ae1bca",
   "metadata": {
    "jupyter": {
     "source_hidden": true
    }
   },
   "outputs": [],
   "source": [
    "# import yaml\n",
    "\n",
    "# def read_yaml(yml_path):\n",
    "#     with open(yml_path, 'r') as file:\n",
    "#         properties = yaml.safe_load(file)\n",
    "#     return properties\n",
    "\n",
    "# properties = read_yaml(\"secret.yml\")\n",
    "# google_api_key = properties['google_api_key']\n",
    "# youtube = build('youtube', 'v3', developerKey=google_api_key)"
   ]
  },
  {
   "cell_type": "code",
   "execution_count": 9,
   "id": "1847b9cc-142a-4bdf-b920-b53a88475a11",
   "metadata": {},
   "outputs": [],
   "source": [
    "from googleapiclient.discovery import build\n",
    "from googleapiclient.errors import HttpError\n",
    "from google_auth_oauthlib.flow import InstalledAppFlow\n",
    "from google.auth.transport.requests import Request\n",
    "import os\n",
    "import pickle\n",
    "\n",
    "# Scopes required for YouTube API\n",
    "SCOPES = [\"https://www.googleapis.com/auth/youtube.force-ssl\"]\n",
    "\n",
    "def authenticate_youtube():\n",
    "    creds = None\n",
    "    if os.path.exists(\"token.pickle\"):\n",
    "        with open(\"token.pickle\", \"rb\") as token:\n",
    "            creds = pickle.load(token)\n",
    "\n",
    "    if not creds or not creds.valid:\n",
    "        if creds and creds.expired and creds.refresh_token:\n",
    "            creds.refresh(Request())\n",
    "        else:\n",
    "            flow = InstalledAppFlow.from_client_secrets_file(\n",
    "                \"client_secret.json\", SCOPES)\n",
    "            creds = flow.run_local_server(port=0)\n",
    "\n",
    "        with open(\"token.pickle\", \"wb\") as token:\n",
    "            pickle.dump(creds, token)\n",
    "\n",
    "    return build(\"youtube\", \"v3\", credentials=creds)\n",
    "\n",
    "youtube = authenticate_youtube()"
   ]
  },
  {
   "cell_type": "code",
   "execution_count": 10,
   "id": "aa53f0b6-d5e9-45c9-885f-52aa416d7c2f",
   "metadata": {
    "collapsed": true,
    "jupyter": {
     "outputs_hidden": true
    }
   },
   "outputs": [
    {
     "name": "stdout",
     "output_type": "stream",
     "text": [
      "Miles Davis - 'Kind of Blue'                      \thttps://music.youtube.com/watch?v=FEPFH-gz3wE\n",
      "John Coltrane - 'My Favorite Things'              \thttps://music.youtube.com/watch?v=JQvc-Gkwhow\n",
      "Billie Holiday - 'God Bless the Child'            \thttps://music.youtube.com/watch?v=bKNtP1zOVHw\n",
      "Ella Fitzgerald - 'Misty Blue'                    \thttps://music.youtube.com/watch?v=yZ_24PCfTu4\n",
      "Louis Armstrong - 'What a Wonderful World'        \thttps://music.youtube.com/watch?v=rBrd_3VMC3c\n",
      "Duke Ellington - 'Take the A Train'               \thttps://music.youtube.com/watch?v=D6mFGy4g_n8\n",
      "Thelonious Monk - 'Round Midnight'                \thttps://music.youtube.com/watch?v=IKayR1oqC7w\n",
      "Charlie Parker - 'Now's the Time'                 \thttps://music.youtube.com/watch?v=ryNtmkfeJk4\n",
      "Dizzy Gillespie - 'A Night in Tunisia'            \thttps://music.youtube.com/watch?v=mkemox0461U\n",
      "Count Basie - 'April in Paris'                    \thttps://music.youtube.com/watch?v=wCmcoZktZG4\n",
      "Miles Davis - 'So What'                           \thttps://music.youtube.com/watch?v=ylXk1LBvIqU\n",
      "John Coltrane - 'Giant Steps'                     \thttps://music.youtube.com/watch?v=KwIC6B_dvW4\n",
      "Billie Holiday - 'Strange Fruit'                  \thttps://music.youtube.com/watch?v=-DGY9HvChXk\n",
      "Ella Fitzgerald - 'Misty Blue'                    \thttps://music.youtube.com/watch?v=yZ_24PCfTu4\n",
      "Louis Armstrong - 'Heebie Jeebies'                \thttps://music.youtube.com/watch?v=rGGZ3zMOUhg\n",
      "Duke Ellington - 'Mood Indigo'                    \thttps://music.youtube.com/watch?v=RFUSD23ZXEw\n"
     ]
    }
   ],
   "source": [
    "from googleapiclient.discovery import build\n",
    "\n",
    "def search_youtube(query, max_results=5):\n",
    "    request = youtube.search().list(\n",
    "        part=\"snippet\",\n",
    "        q=query,\n",
    "        type=\"video\",\n",
    "        maxResults=max_results\n",
    "    )\n",
    "    response = request.execute()\n",
    "    \n",
    "    videos = []\n",
    "    for item in response.get(\"items\", []):\n",
    "        video_data = {\n",
    "            \"title\": item[\"snippet\"][\"title\"],\n",
    "            \"channel\": item[\"snippet\"][\"channelTitle\"],\n",
    "            \"description\": item[\"snippet\"][\"description\"],\n",
    "            \"video_id\": item['id']['videoId'],\n",
    "            \"video_url\": f\"https://music.youtube.com/watch?v={item['id']['videoId']}\"\n",
    "        }\n",
    "        videos.append(video_data)\n",
    "    \n",
    "    return videos\n",
    "\n",
    "videos = []\n",
    "for song in songs:\n",
    "    result = search_youtube(song)[0]\n",
    "    print(f\"{song:50}\\t{result['video_url']}\")\n",
    "    videos.append(result)"
   ]
  },
  {
   "cell_type": "markdown",
   "id": "3bae41b7-c87b-4a86-81ca-b7c636385fa6",
   "metadata": {},
   "source": [
    "Create playlist\n",
    "---------"
   ]
  },
  {
   "cell_type": "code",
   "execution_count": 11,
   "id": "34714a71-97ac-4870-bfd1-2c4173451a2a",
   "metadata": {},
   "outputs": [
    {
     "name": "stdout",
     "output_type": "stream",
     "text": [
      "Playlist created: PLSvM43_JInG3mWsZt_dzf4Ceomo0jTIGG\n",
      "Playlist URL: https://www.youtube.com/playlist?list=PLSvM43_JInG3mWsZt_dzf4Ceomo0jTIGG\n"
     ]
    }
   ],
   "source": [
    "import time\n",
    "from googleapiclient.errors import HttpError\n",
    "\n",
    "def create_playlist(youtube, title, description, privacy_status):\n",
    "    try:\n",
    "        request = youtube.playlists().insert(\n",
    "            part=\"snippet,status\",\n",
    "            body={\n",
    "                \"snippet\": {\n",
    "                    \"title\": title,\n",
    "                    \"description\": description,\n",
    "                    \"tags\": [\"sample playlist\", \"API-created\"],\n",
    "                    \"defaultLanguage\": \"en\"\n",
    "                },\n",
    "                \"status\": {\n",
    "                    \"privacyStatus\": privacy_status  # \"public\", \"private\", or \"unlisted\"\n",
    "                }\n",
    "            }\n",
    "        )\n",
    "        response = request.execute()\n",
    "        print(f\"Playlist created: {response['id']}\")\n",
    "        return response[\"id\"]\n",
    "    except HttpError as e:\n",
    "        print(f\"An error occurred: {e}\")\n",
    "        return None\n",
    "\n",
    "playlist_id = create_playlist(youtube, f\"Llama generated playlist-{time.time()} ({mood})\", \"This is a playlist created with the YouTube API using Llama 3.2.\", \"unlisted\")\n",
    "print(f\"Playlist URL: https://www.youtube.com/playlist?list={playlist_id}\")\n"
   ]
  },
  {
   "cell_type": "code",
   "execution_count": 12,
   "id": "a704c3b1-206d-472a-99e4-eecbbe695b49",
   "metadata": {
    "scrolled": true
   },
   "outputs": [
    {
     "name": "stdout",
     "output_type": "stream",
     "text": [
      "Video added to playlist: FEPFH-gz3wE\n",
      "Video added to playlist: JQvc-Gkwhow\n",
      "Video added to playlist: bKNtP1zOVHw\n",
      "Video added to playlist: yZ_24PCfTu4\n",
      "Video added to playlist: rBrd_3VMC3c\n",
      "An error occurred: <HttpError 409 when requesting https://youtube.googleapis.com/youtube/v3/playlistItems?part=snippet&alt=json returned \"The operation was aborted.\". Details: \"[{'domain': 'youtube.CoreErrorDomain', 'reason': 'SERVICE_UNAVAILABLE'}]\">\n",
      "Video added to playlist: IKayR1oqC7w\n",
      "Video added to playlist: ryNtmkfeJk4\n",
      "Video added to playlist: mkemox0461U\n",
      "Video added to playlist: wCmcoZktZG4\n",
      "Video added to playlist: ylXk1LBvIqU\n",
      "Video added to playlist: KwIC6B_dvW4\n",
      "Video added to playlist: -DGY9HvChXk\n",
      "Video added to playlist: yZ_24PCfTu4\n",
      "An error occurred: <HttpError 409 when requesting https://youtube.googleapis.com/youtube/v3/playlistItems?part=snippet&alt=json returned \"The operation was aborted.\". Details: \"[{'domain': 'youtube.CoreErrorDomain', 'reason': 'SERVICE_UNAVAILABLE'}]\">\n",
      "Video added to playlist: RFUSD23ZXEw\n"
     ]
    }
   ],
   "source": [
    "def add_video_to_playlist(youtube, playlist_id, video_id):\n",
    "    try:\n",
    "        request = youtube.playlistItems().insert(\n",
    "            part=\"snippet\",\n",
    "            body={\n",
    "                \"snippet\": {\n",
    "                    \"playlistId\": playlist_id,  # The ID of the playlist\n",
    "                    \"resourceId\": {\n",
    "                        \"kind\": \"youtube#video\",  # Specify the kind of resource\n",
    "                        \"videoId\": video_id      # The ID of the video to add\n",
    "                    }\n",
    "                }\n",
    "            }\n",
    "        )\n",
    "        response = request.execute()\n",
    "        print(f\"Video added to playlist: {video_id}\")\n",
    "    except HttpError as e:\n",
    "        print(f\"An error occurred: {e}\")\n",
    "\n",
    "for video in videos:\n",
    "    add_video_to_playlist(youtube, playlist_id, video['video_id'])"
   ]
  },
  {
   "cell_type": "code",
   "execution_count": null,
   "id": "5a7ba860-2c54-477f-bcd9-eb679fdafe11",
   "metadata": {},
   "outputs": [],
   "source": []
  }
 ],
 "metadata": {
  "kernelspec": {
   "display_name": "Python 3 (ipykernel)",
   "language": "python",
   "name": "python3"
  },
  "language_info": {
   "codemirror_mode": {
    "name": "ipython",
    "version": 3
   },
   "file_extension": ".py",
   "mimetype": "text/x-python",
   "name": "python",
   "nbconvert_exporter": "python",
   "pygments_lexer": "ipython3",
   "version": "3.12.7"
  }
 },
 "nbformat": 4,
 "nbformat_minor": 5
}
