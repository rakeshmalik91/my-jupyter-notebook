{
 "cells": [
  {
   "cell_type": "code",
   "execution_count": 4,
   "id": "8893526a",
   "metadata": {},
   "outputs": [
    {
     "name": "stdout",
     "output_type": "stream",
     "text": [
      "Requirement already satisfied: numpy in c:\\users\\rakes.msi\\anaconda3\\lib\\site-packages (1.23.5)\n",
      "Collecting soundfile\n",
      "  Downloading soundfile-0.12.1-py2.py3-none-win_amd64.whl (1.0 MB)\n",
      "     ---------------------------------------- 1.0/1.0 MB 12.8 MB/s eta 0:00:00\n",
      "Requirement already satisfied: cffi>=1.0 in c:\\users\\rakes.msi\\anaconda3\\lib\\site-packages (from soundfile) (1.15.1)\n",
      "Requirement already satisfied: pycparser in c:\\users\\rakes.msi\\anaconda3\\lib\\site-packages (from cffi>=1.0->soundfile) (2.21)\n",
      "Installing collected packages: soundfile\n",
      "Successfully installed soundfile-0.12.1\n"
     ]
    }
   ],
   "source": [
    "!pip install numpy\n",
    "!pip install soundfile"
   ]
  },
  {
   "cell_type": "code",
   "execution_count": 13,
   "id": "d9ff2cb1",
   "metadata": {},
   "outputs": [],
   "source": [
    "import numpy as np\n",
    "import soundfile as sf\n",
    "\n",
    "def generate_audio(frequency):\n",
    "    # Define parameters\n",
    "    duration = 10  # seconds\n",
    "    sample_rate = 44100  # samples per second\n",
    "\n",
    "    # Generate the time array\n",
    "    t = np.linspace(0, duration, int(sample_rate * duration), endpoint=False)\n",
    "\n",
    "    # Generate the sine wave\n",
    "    y = 0.5 * np.sin(2 * np.pi * frequency * t)\n",
    "\n",
    "    # Save the sine wave as a WAV file\n",
    "    file_path = 'freq/' + str(frequency) + 'Hz_sine_wave.wav'\n",
    "    sf.write(file_path, y, sample_rate)"
   ]
  },
  {
   "cell_type": "code",
   "execution_count": 17,
   "id": "fc19e3da",
   "metadata": {},
   "outputs": [],
   "source": [
    "for f in [20, 50, 100, 200, 500, 1000, 2500, 5000, 10000, 12500, 15000, 16000, 16500, 17000, 18000, 19000, 20000]:\n",
    "    generate_audio(f)"
   ]
  },
  {
   "cell_type": "code",
   "execution_count": null,
   "id": "6f5d8542",
   "metadata": {},
   "outputs": [],
   "source": []
  }
 ],
 "metadata": {
  "kernelspec": {
   "display_name": "Python 3 (ipykernel)",
   "language": "python",
   "name": "python3"
  },
  "language_info": {
   "codemirror_mode": {
    "name": "ipython",
    "version": 3
   },
   "file_extension": ".py",
   "mimetype": "text/x-python",
   "name": "python",
   "nbconvert_exporter": "python",
   "pygments_lexer": "ipython3",
   "version": "3.12.7"
  }
 },
 "nbformat": 4,
 "nbformat_minor": 5
}
