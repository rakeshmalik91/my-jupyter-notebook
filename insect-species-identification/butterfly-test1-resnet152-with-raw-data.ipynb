{
 "cells": [
  {
   "attachments": {},
   "cell_type": "markdown",
   "id": "38cbbf3b-bb94-401b-a900-a73beac24f4c",
   "metadata": {},
   "source": [
    "> 1. Butterflies have larger dataset. To check how it works\n",
    "> 2. Stop training when val acc not improving\n",
    "> 3. Use incremental training data augmentation (random flip/jitter/crop/rotation) based on val loss/acc\n",
    "> 4. Compare resnet-152 vs resnet-50"
   ]
  },
  {
   "cell_type": "code",
   "execution_count": 2,
   "id": "bff9e3ef-0b30-4926-8501-2358c72a0402",
   "metadata": {},
   "outputs": [],
   "source": [
    "%load_ext autoreload"
   ]
  },
  {
   "cell_type": "code",
   "execution_count": 3,
   "id": "4c537ca3-c514-42be-9b52-a04d82a5e5de",
   "metadata": {},
   "outputs": [],
   "source": [
    "%autoreload 2"
   ]
  },
  {
   "cell_type": "code",
   "execution_count": 4,
   "id": "83030a28-df29-49db-9a28-b766af6a551c",
   "metadata": {},
   "outputs": [],
   "source": [
    "import mynnlib\n",
    "from mynnlib import *\n",
    "\n",
    "dataset_dir = \"insect-dataset/butterfly\""
   ]
  },
  {
   "cell_type": "code",
   "execution_count": 58,
   "id": "96e0e7a9-3f04-42f0-9ac1-6faa8047c0d6",
   "metadata": {},
   "outputs": [
    {
     "name": "stdout",
     "output_type": "stream",
     "text": [
      "Adult class count: 1125\n",
      "Early class count: 429\n"
     ]
    }
   ],
   "source": [
    "adult_class_cnt = 0\n",
    "early_class_cnt = 0\n",
    "for species_dir in Path(f\"{dataset_dir}/data\").iterdir():\n",
    "    if species_dir.is_dir() and species_dir.name.endswith('-early'):\n",
    "        early_class_cnt += 1\n",
    "    else:\n",
    "        adult_class_cnt += 1\n",
    "print(f\"Adult class count: {adult_class_cnt}\")\n",
    "print(f\"Early class count: {early_class_cnt}\")"
   ]
  },
  {
   "cell_type": "markdown",
   "id": "05cb26f1-6357-4c3e-a15c-e2d0fb852215",
   "metadata": {},
   "source": [
    "-------------\n",
    "# A.1. Subset of data / RESNET-152"
   ]
  },
  {
   "cell_type": "code",
   "execution_count": 6,
   "id": "0d240236-e248-4e04-9216-34d7c2e25f65",
   "metadata": {},
   "outputs": [
    {
     "name": "stdout",
     "output_type": "stream",
     "text": [
      "Class count: 246\n",
      "Total data count: 10155\n",
      "Training data count: 7165\n",
      "Validation data count: 1942\n",
      "Test data count: 1048\n"
     ]
    }
   ],
   "source": [
    "split_data_for_train_and_val(f\"{dataset_dir}/data\", \n",
    "                             f\"{dataset_dir}/splits/test\", f\"{dataset_dir}/splits/val\", f\"{dataset_dir}/splits/train\", \n",
    "                             test_data_weight=0.1, val_data_weight=0.2, min_file_cnt_for_val=4, \n",
    "                             class_name_filter_regex=r\"^[a-b].*$\")"
   ]
  },
  {
   "cell_type": "code",
   "execution_count": 10,
   "id": "8d0ccf48-e0a4-4b33-b935-eef027c40906",
   "metadata": {},
   "outputs": [
    {
     "name": "stdout",
     "output_type": "stream",
     "text": [
      "train class count: 246\n",
      "val class count: 212\n",
      "feature count: 2048\n",
      "device: cuda:0\n"
     ]
    }
   ],
   "source": [
    "model_data = init_model_for_training(f'{dataset_dir}/splits/train', f'{dataset_dir}/splits/val', \n",
    "                                     batch_size=32, arch=\"resnet152\", image_size=224, robustness=0.2)"
   ]
  },
  {
   "cell_type": "code",
   "execution_count": 11,
   "id": "373e51d6-c4f4-4efa-a5c2-ec7865d2a322",
   "metadata": {},
   "outputs": [
    {
     "name": "stdout",
     "output_type": "stream",
     "text": [
      "Epoch    1 /    2  | Train Loss: 3.2710 Acc: 0.2749  | Val Loss: 2.6863 Acc: 0.3641  | Elapsed time: 0:01:59.682746\n",
      "Epoch    2 /    2  | Train Loss: 1.4196 Acc: 0.6127  | Val Loss: 1.5306 Acc: 0.5917  | Elapsed time: 0:04:05.166557\n"
     ]
    }
   ],
   "source": [
    "train(model_data, 2, f\"{dataset_dir}/checkpoint.butterfly.subset.pth\")"
   ]
  },
  {
   "cell_type": "code",
   "execution_count": 14,
   "id": "9848b415-37af-4ddd-9339-f476bc417c4d",
   "metadata": {},
   "outputs": [
    {
     "name": "stdout",
     "output_type": "stream",
     "text": [
      "train class count: 246\n",
      "val class count: 212\n",
      "0 new classes added: []\n",
      "feature count: 2048\n",
      "device: cuda:0\n"
     ]
    }
   ],
   "source": [
    "model_data = prepare_for_retraining(model_data, f'{dataset_dir}/splits/train', f'{dataset_dir}/splits/val', \n",
    "                                    batch_size=32, image_size=224, robustness=0.5)"
   ]
  },
  {
   "cell_type": "code",
   "execution_count": 15,
   "id": "0d345b20-7004-4257-8ba3-65f3501a70a2",
   "metadata": {},
   "outputs": [
    {
     "name": "stdout",
     "output_type": "stream",
     "text": [
      "Epoch    1 /    3  | Train Loss: 2.0365 Acc: 0.4843  | Val Loss: 2.1198 Acc: 0.4598  | Elapsed time: 0:02:09.879565\n",
      "Epoch    2 /    3  | Train Loss: 1.6094 Acc: 0.5786  | Val Loss: 1.5173 Acc: 0.5984  | Elapsed time: 0:04:20.903457\n",
      "Epoch    3 /    3  | Train Loss: 1.4076 Acc: 0.6186  | Val Loss: 1.3476 Acc: 0.6473  | Elapsed time: 0:06:32.295907\n"
     ]
    }
   ],
   "source": [
    "train(model_data, 3, f\"{dataset_dir}/checkpoint.butterfly.subset.pth\", break_at_val_acc_diff=0.05)"
   ]
  },
  {
   "cell_type": "code",
   "execution_count": 16,
   "id": "204d2dd3-efb3-48e8-80ca-eef5b6e7880e",
   "metadata": {},
   "outputs": [
    {
     "name": "stdout",
     "output_type": "stream",
     "text": [
      "train class count: 246\n",
      "val class count: 212\n",
      "0 new classes added: []\n",
      "feature count: 2048\n",
      "device: cuda:0\n"
     ]
    }
   ],
   "source": [
    "model_data = prepare_for_retraining(model_data, f'{dataset_dir}/splits/train', f'{dataset_dir}/splits/val', \n",
    "                                    batch_size=32, image_size=224, robustness=1.0)"
   ]
  },
  {
   "cell_type": "code",
   "execution_count": 17,
   "id": "e324d339-1205-48d9-9e3c-b50fc32d9b44",
   "metadata": {},
   "outputs": [
    {
     "name": "stdout",
     "output_type": "stream",
     "text": [
      "Epoch    1 /    5  | Train Loss: 1.3403 Acc: 0.6374  | Val Loss: 1.5668 Acc: 0.5850  | Elapsed time: 0:02:13.577118\n",
      "Epoch    2 /    5  | Train Loss: 1.2182 Acc: 0.6705  | Val Loss: 1.3661 Acc: 0.6370  | Elapsed time: 0:04:31.595314\n",
      "Epoch    3 /    5  | Train Loss: 0.9580 Acc: 0.7421  | Val Loss: 1.0350 Acc: 0.7276  | Elapsed time: 0:06:44.813407\n",
      "Epoch    4 /    5  | Train Loss: 0.8063 Acc: 0.7838  | Val Loss: 1.0002 Acc: 0.7364  | Elapsed time: 0:08:57.556221\n"
     ]
    }
   ],
   "source": [
    "train(model_data, 5, f\"{dataset_dir}/checkpoint.butterfly.subset.pth\", break_at_val_acc_diff=0.05)"
   ]
  },
  {
   "cell_type": "code",
   "execution_count": 18,
   "id": "cc47bae8-dbe5-4549-a944-67997cfecd03",
   "metadata": {},
   "outputs": [
    {
     "name": "stdout",
     "output_type": "stream",
     "text": [
      "Epoch    1 /    5  | Train Loss: 0.7660 Acc: 0.7946  | Val Loss: 1.0211 Acc: 0.7327  | Elapsed time: 0:02:11.187269\n",
      "Epoch    2 /    5  | Train Loss: 0.7135 Acc: 0.8039  | Val Loss: 1.0096 Acc: 0.7400  | Elapsed time: 0:04:24.643225\n"
     ]
    }
   ],
   "source": [
    "train(model_data, 5, f\"{dataset_dir}/checkpoint.butterfly.subset.pth\", break_at_val_acc_diff=0.05)"
   ]
  },
  {
   "cell_type": "code",
   "execution_count": 19,
   "id": "325a10ca-b075-457b-95d3-c518e14cddcc",
   "metadata": {},
   "outputs": [
    {
     "name": "stdout",
     "output_type": "stream",
     "text": [
      "Epoch    1 /    5  | Train Loss: 0.6945 Acc: 0.8088  | Val Loss: 1.0044 Acc: 0.7420  | Elapsed time: 0:02:08.412037\n",
      "Epoch    2 /    5  | Train Loss: 0.6495 Acc: 0.8233  | Val Loss: 0.9854 Acc: 0.7518  | Elapsed time: 0:04:19.903302\n",
      "Epoch    3 /    5  | Train Loss: 0.6396 Acc: 0.8314  | Val Loss: 0.9098 Acc: 0.7642  | Elapsed time: 0:06:33.198182\n",
      "Epoch    4 /    5  | Train Loss: 0.5850 Acc: 0.8442  | Val Loss: 0.9160 Acc: 0.7616  | Elapsed time: 0:08:45.635875\n",
      "Epoch    5 /    5  | Train Loss: 0.5944 Acc: 0.8447  | Val Loss: 0.9069 Acc: 0.7698  | Elapsed time: 0:10:59.092743\n"
     ]
    }
   ],
   "source": [
    "train(model_data, 5, f\"{dataset_dir}/checkpoint.butterfly.subset.pth\", break_at_val_acc_diff=0.01)"
   ]
  },
  {
   "cell_type": "code",
   "execution_count": 20,
   "id": "c4208664-c961-4902-bf9a-8f4818939300",
   "metadata": {},
   "outputs": [
    {
     "name": "stdout",
     "output_type": "stream",
     "text": [
      "train class count: 246\n",
      "val class count: 212\n",
      "0 new classes added: []\n",
      "feature count: 2048\n",
      "device: cuda:0\n"
     ]
    }
   ],
   "source": [
    "model_data = prepare_for_retraining(model_data, f'{dataset_dir}/splits/train', f'{dataset_dir}/splits/val', \n",
    "                                    batch_size=32, image_size=224, robustness=2.0)"
   ]
  },
  {
   "cell_type": "code",
   "execution_count": 21,
   "id": "c0950498-11c8-4c10-b546-b7b7b0bc9403",
   "metadata": {},
   "outputs": [
    {
     "name": "stdout",
     "output_type": "stream",
     "text": [
      "Epoch    1 /    5  | Train Loss: 0.6543 Acc: 0.8303  | Val Loss: 0.9278 Acc: 0.7667  | Elapsed time: 0:02:07.032418\n",
      "Epoch    2 /    5  | Train Loss: 0.6352 Acc: 0.8331  | Val Loss: 0.9320 Acc: 0.7657  | Elapsed time: 0:04:19.193135\n"
     ]
    }
   ],
   "source": [
    "train(model_data, 5, f\"{dataset_dir}/checkpoint.butterfly.subset.pth\", break_at_val_acc_diff=0.01)"
   ]
  },
  {
   "cell_type": "code",
   "execution_count": 22,
   "id": "42362fb8-0dcc-451b-86c5-e786c1bd8809",
   "metadata": {},
   "outputs": [
    {
     "name": "stdout",
     "output_type": "stream",
     "text": [
      "Epoch    1 /    5  | Train Loss: 0.6592 Acc: 0.8262  | Val Loss: 0.9219 Acc: 0.7667  | Elapsed time: 0:02:07.975810\n",
      "Epoch    2 /    5  | Train Loss: 0.6441 Acc: 0.8251  | Val Loss: 0.9200 Acc: 0.7714  | Elapsed time: 0:04:20.413373\n"
     ]
    }
   ],
   "source": [
    "train(model_data, 5, f\"{dataset_dir}/checkpoint.butterfly.subset.pth\", break_at_val_acc_diff=0.005)"
   ]
  },
  {
   "cell_type": "code",
   "execution_count": null,
   "id": "195fd4c0-9de0-4bf5-bbed-57adb3b8531d",
   "metadata": {},
   "outputs": [],
   "source": []
  },
  {
   "cell_type": "code",
   "execution_count": null,
   "id": "e54584fc-2080-472b-ad13-67d44584e90d",
   "metadata": {},
   "outputs": [],
   "source": []
  },
  {
   "cell_type": "code",
   "execution_count": null,
   "id": "ac486e3a-3d03-455a-a4de-20ef1da56695",
   "metadata": {},
   "outputs": [],
   "source": []
  },
  {
   "cell_type": "code",
   "execution_count": null,
   "id": "247eb300-7d35-47e2-ae32-cca968521e21",
   "metadata": {},
   "outputs": [],
   "source": []
  },
  {
   "cell_type": "code",
   "execution_count": null,
   "id": "01740de7-4491-47f3-894c-87d83676b0e1",
   "metadata": {},
   "outputs": [],
   "source": []
  },
  {
   "cell_type": "code",
   "execution_count": null,
   "id": "9bd2c588-e6de-4e1c-8cb8-7dab91ee0b2a",
   "metadata": {},
   "outputs": [],
   "source": []
  },
  {
   "cell_type": "markdown",
   "id": "2879b1b6-4ecb-4f88-8fa0-1be403446b31",
   "metadata": {},
   "source": [
    "--------------\n",
    "# A.2. Subset of data / RESNET-50"
   ]
  },
  {
   "cell_type": "code",
   "execution_count": 49,
   "id": "c327f1ad-211a-4552-b5a2-253f049363d7",
   "metadata": {},
   "outputs": [
    {
     "name": "stdout",
     "output_type": "stream",
     "text": [
      "Class count: 246\n",
      "Total data count: 10155\n",
      "Training data count: 7060\n",
      "Validation data count: 2068\n",
      "Test data count: 1027\n"
     ]
    }
   ],
   "source": [
    "split_data_for_train_and_val(f\"{dataset_dir}/data\", \n",
    "                             f\"{dataset_dir}/splits/test\", f\"{dataset_dir}/splits/val\", f\"{dataset_dir}/splits/train\", \n",
    "                             test_data_weight=0.1, val_data_weight=0.2, min_file_cnt_for_val=4, \n",
    "                             class_name_filter_regex=r\"^[a-b].*$\")"
   ]
  },
  {
   "cell_type": "code",
   "execution_count": 53,
   "id": "ae757df8-7112-4980-91c1-84d8187408c9",
   "metadata": {},
   "outputs": [
    {
     "name": "stdout",
     "output_type": "stream",
     "text": [
      "train class count: 246\n",
      "val class count: 211\n"
     ]
    },
    {
     "name": "stderr",
     "output_type": "stream",
     "text": [
      "Downloading: \"https://download.pytorch.org/models/resnet50-11ad3fa6.pth\" to C:\\Users\\User/.cache\\torch\\hub\\checkpoints\\resnet50-11ad3fa6.pth\n",
      "100%|█████████████████████████████████████████████████████████████████████████████| 97.8M/97.8M [00:15<00:00, 6.52MB/s]\n"
     ]
    },
    {
     "name": "stdout",
     "output_type": "stream",
     "text": [
      "feature count: 2048\n",
      "device: cuda:0\n"
     ]
    }
   ],
   "source": [
    "model_data = init_model_for_training(f'{dataset_dir}/splits/train', f'{dataset_dir}/splits/val', \n",
    "                                     batch_size=32, arch=\"resnet50\", image_size=224, robustness=0.2)"
   ]
  },
  {
   "cell_type": "code",
   "execution_count": 54,
   "id": "dd6b7dbb-56bb-4dad-abf8-e5d5337e7545",
   "metadata": {},
   "outputs": [
    {
     "name": "stdout",
     "output_type": "stream",
     "text": [
      "Epoch    1 /    5  | Train Loss: 3.1341 Acc: 0.3255  | Val Loss: 1.9509 Acc: 0.5058  | Elapsed time: 0:01:24.441603\n",
      "Epoch    2 /    5  | Train Loss: 1.2130 Acc: 0.6697  | Val Loss: 1.0899 Acc: 0.7070  | Elapsed time: 0:02:51.610204\n",
      "Epoch    3 /    5  | Train Loss: 0.5965 Acc: 0.8258  | Val Loss: 0.8393 Acc: 0.7664  | Elapsed time: 0:04:19.597776\n"
     ]
    }
   ],
   "source": [
    "train(model_data, 5, f\"{dataset_dir}/checkpoint.butterfly.subset.pth\", break_at_val_acc_diff=0.1)"
   ]
  },
  {
   "cell_type": "code",
   "execution_count": 55,
   "id": "5959458c-1a14-4bfc-aea6-74d526cea543",
   "metadata": {},
   "outputs": [
    {
     "name": "stdout",
     "output_type": "stream",
     "text": [
      "train class count: 246\n",
      "val class count: 211\n",
      "0 new classes added: []\n",
      "feature count: 2048\n",
      "device: cuda:0\n"
     ]
    }
   ],
   "source": [
    "model_data = prepare_for_retraining(model_data, f'{dataset_dir}/splits/train', f'{dataset_dir}/splits/val', \n",
    "                                    batch_size=32, image_size=224, robustness=0.5)"
   ]
  },
  {
   "cell_type": "code",
   "execution_count": 56,
   "id": "baadbab4-56a5-40f5-bf4f-986fe04550fa",
   "metadata": {},
   "outputs": [
    {
     "name": "stdout",
     "output_type": "stream",
     "text": [
      "Epoch    1 /    5  | Train Loss: 2.1215 Acc: 0.4670  | Val Loss: 1.9246 Acc: 0.5227  | Elapsed time: 0:01:26.977625\n",
      "Epoch    2 /    5  | Train Loss: 1.5911 Acc: 0.5795  | Val Loss: 1.7705 Acc: 0.5271  | Elapsed time: 0:02:56.156365\n"
     ]
    }
   ],
   "source": [
    "train(model_data, 5, f\"{dataset_dir}/checkpoint.butterfly.subset.pth\", break_at_val_acc_diff=0.05)"
   ]
  },
  {
   "cell_type": "code",
   "execution_count": 57,
   "id": "5828ed11-7ac5-4a3d-bd5e-f1aebc5276f1",
   "metadata": {},
   "outputs": [
    {
     "name": "stdout",
     "output_type": "stream",
     "text": [
      "train class count: 246\n",
      "val class count: 211\n",
      "0 new classes added: []\n",
      "feature count: 2048\n",
      "device: cuda:0\n"
     ]
    }
   ],
   "source": [
    "model_data = prepare_for_retraining(model_data, f'{dataset_dir}/splits/train', f'{dataset_dir}/splits/val', \n",
    "                                    batch_size=32, image_size=224, robustness=1.0)"
   ]
  },
  {
   "cell_type": "code",
   "execution_count": 58,
   "id": "19a5f64d-c2bb-417b-ab81-eab2c3dc8c87",
   "metadata": {},
   "outputs": [
    {
     "name": "stdout",
     "output_type": "stream",
     "text": [
      "Epoch    1 /    5  | Train Loss: 1.3915 Acc: 0.6283  | Val Loss: 2.4848 Acc: 0.4294  | Elapsed time: 0:01:27.321724\n",
      "Epoch    2 /    5  | Train Loss: 1.2957 Acc: 0.6483  | Val Loss: 1.5393 Acc: 0.6132  | Elapsed time: 0:02:56.395142\n",
      "Epoch    3 /    5  | Train Loss: 0.9987 Acc: 0.7288  | Val Loss: 1.2396 Acc: 0.6678  | Elapsed time: 0:04:26.708205\n",
      "Epoch    4 /    5  | Train Loss: 0.8762 Acc: 0.7646  | Val Loss: 1.1141 Acc: 0.7026  | Elapsed time: 0:05:57.352432\n"
     ]
    }
   ],
   "source": [
    "train(model_data, 5, f\"{dataset_dir}/checkpoint.butterfly.subset.pth\", break_at_val_acc_diff=0.05)"
   ]
  },
  {
   "cell_type": "code",
   "execution_count": 59,
   "id": "33c70315-01c6-488b-a487-6646a1be2025",
   "metadata": {
    "scrolled": true
   },
   "outputs": [
    {
     "name": "stdout",
     "output_type": "stream",
     "text": [
      "train class count: 246\n",
      "val class count: 211\n",
      "0 new classes added: []\n",
      "feature count: 2048\n",
      "device: cuda:0\n"
     ]
    }
   ],
   "source": [
    "model_data = prepare_for_retraining(model_data, f'{dataset_dir}/splits/train', f'{dataset_dir}/splits/val', \n",
    "                                    batch_size=32, image_size=224, robustness=2.0)"
   ]
  },
  {
   "cell_type": "code",
   "execution_count": 60,
   "id": "68d47ecb-208a-47eb-8e4e-a9fc065e224f",
   "metadata": {
    "scrolled": true
   },
   "outputs": [
    {
     "name": "stdout",
     "output_type": "stream",
     "text": [
      "Epoch    1 /    5  | Train Loss: 0.9439 Acc: 0.7428  | Val Loss: 1.1516 Acc: 0.6963  | Elapsed time: 0:01:28.091775\n",
      "Epoch    2 /    5  | Train Loss: 0.8551 Acc: 0.7670  | Val Loss: 1.1309 Acc: 0.7041  | Elapsed time: 0:02:58.201346\n"
     ]
    }
   ],
   "source": [
    "train(model_data, 5, f\"{dataset_dir}/checkpoint.butterfly.subset.pth\", break_at_val_acc_diff=0.02)"
   ]
  },
  {
   "cell_type": "code",
   "execution_count": 61,
   "id": "0c5315be-65f0-461c-9681-bb02b625aea5",
   "metadata": {
    "scrolled": true
   },
   "outputs": [
    {
     "name": "stdout",
     "output_type": "stream",
     "text": [
      "Epoch    1 /    5  | Train Loss: 0.8206 Acc: 0.7742  | Val Loss: 1.1143 Acc: 0.7031  | Elapsed time: 0:01:28.401115\n",
      "Epoch    2 /    5  | Train Loss: 0.7980 Acc: 0.7800  | Val Loss: 1.0899 Acc: 0.7099  | Elapsed time: 0:02:58.540635\n",
      "Epoch    3 /    5  | Train Loss: 0.7585 Acc: 0.7929  | Val Loss: 1.1033 Acc: 0.7079  | Elapsed time: 0:04:28.685567\n"
     ]
    }
   ],
   "source": [
    "train(model_data, 5, f\"{dataset_dir}/checkpoint.butterfly.subset.pth\", break_at_val_acc_diff=0.005)"
   ]
  },
  {
   "cell_type": "code",
   "execution_count": null,
   "id": "d34b9a9f-a17e-4079-943c-cb0954498393",
   "metadata": {},
   "outputs": [],
   "source": []
  },
  {
   "cell_type": "code",
   "execution_count": null,
   "id": "8ef85960-c5af-46e8-9f08-957e5d6c7ec3",
   "metadata": {},
   "outputs": [],
   "source": []
  },
  {
   "cell_type": "code",
   "execution_count": null,
   "id": "adbcb87d-6ae6-4075-826d-126282bf6a91",
   "metadata": {},
   "outputs": [],
   "source": []
  },
  {
   "cell_type": "code",
   "execution_count": null,
   "id": "b9347bfe-4eab-4567-9783-7d6d15645104",
   "metadata": {},
   "outputs": [],
   "source": []
  },
  {
   "cell_type": "code",
   "execution_count": null,
   "id": "54e42a6e-a42c-4a79-a42d-0e6c984c6ee8",
   "metadata": {},
   "outputs": [],
   "source": []
  },
  {
   "cell_type": "code",
   "execution_count": null,
   "id": "0622b086-2c21-42e3-9f45-fbe4b6d8da38",
   "metadata": {},
   "outputs": [],
   "source": []
  },
  {
   "cell_type": "markdown",
   "id": "9c9e01b3-4122-4277-8350-d727595d4998",
   "metadata": {},
   "source": [
    "----------------\n",
    "# B.1. All data / RESNET-152"
   ]
  },
  {
   "cell_type": "code",
   "execution_count": 23,
   "id": "bdeb93de-9757-47e8-b891-3cda607952ad",
   "metadata": {},
   "outputs": [
    {
     "name": "stdout",
     "output_type": "stream",
     "text": [
      "train class count: 1554\n",
      "val class count: 27\n",
      "feature count: 2048\n",
      "device: cuda:0\n"
     ]
    }
   ],
   "source": [
    "model_data = init_model_for_training(f'{dataset_dir}/data', f'{dataset_dir}/val', \n",
    "                                     batch_size=32, arch=\"resnet152\", image_size=224, robustness=0.2)"
   ]
  },
  {
   "cell_type": "code",
   "execution_count": 24,
   "id": "d3f1d62b-eb81-45b1-905a-48bb74a52df2",
   "metadata": {},
   "outputs": [
    {
     "name": "stdout",
     "output_type": "stream",
     "text": [
      "Epoch    1 /    2  | Train Loss: 3.6304 Acc: 0.3278  | Val Loss: 2.8959 Acc: 0.2857  | Elapsed time: 0:17:09.740284\n",
      "Epoch    2 /    2  | Train Loss: 0.7917 Acc: 0.7992  | Val Loss: 2.3061 Acc: 0.3214  | Elapsed time: 0:34:38.225316\n"
     ]
    }
   ],
   "source": [
    "train(model_data, 2, f\"{dataset_dir}/checkpoint.butterfly.all.pth\")"
   ]
  },
  {
   "cell_type": "code",
   "execution_count": 29,
   "id": "a74388b1-469a-4dfd-a1d1-ec072354dd56",
   "metadata": {},
   "outputs": [
    {
     "name": "stdout",
     "output_type": "stream",
     "text": [
      "train class count: 1554\n",
      "val class count: 36\n",
      "0 new classes added: []\n",
      "feature count: 2048\n",
      "device: cuda:0\n"
     ]
    }
   ],
   "source": [
    "model_data = prepare_for_retraining(model_data, f'{dataset_dir}/data', f'{dataset_dir}/val', \n",
    "                                    batch_size=32, image_size=224, robustness=0.5)"
   ]
  },
  {
   "cell_type": "code",
   "execution_count": 28,
   "id": "7c80f24b-390f-4e78-829a-8a5a392eff85",
   "metadata": {},
   "outputs": [
    {
     "name": "stdout",
     "output_type": "stream",
     "text": [
      "Epoch    1 /    1  | Train Loss: 2.9102 Acc: 0.3716  | Val Loss: 1.9418 Acc: 0.4286  | Elapsed time: 0:18:08.790018\n"
     ]
    }
   ],
   "source": [
    "train(model_data, 1, f\"{dataset_dir}/checkpoint.butterfly.all.pth\", break_at_val_acc_diff=0.05)"
   ]
  },
  {
   "cell_type": "code",
   "execution_count": 32,
   "id": "91e1231e-055d-4144-82a0-913f04c94bf5",
   "metadata": {},
   "outputs": [
    {
     "name": "stdout",
     "output_type": "stream",
     "text": [
      "Epoch    1 /    2  | Train Loss: 2.3218 Acc: 0.4747  | Val Loss: 1.7617 Acc: 0.4808  | Elapsed time: 0:18:02.291987\n",
      "Epoch    2 /    2  | Train Loss: 2.0838 Acc: 0.5218  | Val Loss: 1.3535 Acc: 0.5769  | Elapsed time: 0:36:08.960538\n"
     ]
    }
   ],
   "source": [
    "train(model_data, 2, f\"{dataset_dir}/checkpoint.butterfly.all.pth\", break_at_val_acc_diff=0.05)"
   ]
  },
  {
   "cell_type": "code",
   "execution_count": 33,
   "id": "2764a0a9-0216-4439-ab96-9973d329d11c",
   "metadata": {},
   "outputs": [
    {
     "name": "stdout",
     "output_type": "stream",
     "text": [
      "Epoch    1 /    2  | Train Loss: 1.9250 Acc: 0.5552  | Val Loss: 1.1755 Acc: 0.5962  | Elapsed time: 0:17:42.872268\n",
      "Epoch    2 /    2  | Train Loss: 1.7898 Acc: 0.5821  | Val Loss: 1.8912 Acc: 0.5000  | Elapsed time: 0:35:42.065492\n"
     ]
    }
   ],
   "source": [
    "train(model_data, 2, f\"{dataset_dir}/checkpoint.butterfly.all.pth\", break_at_val_acc_diff=0.05)"
   ]
  },
  {
   "cell_type": "code",
   "execution_count": 34,
   "id": "ffa16d5b-28bd-41c6-9c34-2bd0697a1574",
   "metadata": {},
   "outputs": [
    {
     "name": "stdout",
     "output_type": "stream",
     "text": [
      "train class count: 1554\n",
      "val class count: 40\n",
      "0 new classes added: []\n",
      "feature count: 2048\n",
      "device: cuda:0\n"
     ]
    }
   ],
   "source": [
    "model_data = prepare_for_retraining(model_data, f'{dataset_dir}/data', f'{dataset_dir}/val', \n",
    "                                    batch_size=32, image_size=224, robustness=1.0)"
   ]
  },
  {
   "cell_type": "code",
   "execution_count": 35,
   "id": "faf693f1-e3ca-4aa2-aa04-348ea5eeb6ca",
   "metadata": {},
   "outputs": [
    {
     "name": "stdout",
     "output_type": "stream",
     "text": [
      "Epoch    1 /    2  | Train Loss: 1.5071 Acc: 0.6462  | Val Loss: 1.0576 Acc: 0.6290  | Elapsed time: 0:17:46.386456\n",
      "Epoch    2 /    2  | Train Loss: 1.3777 Acc: 0.6775  | Val Loss: 1.0114 Acc: 0.6452  | Elapsed time: 0:35:39.327219\n"
     ]
    }
   ],
   "source": [
    "train(model_data, 2, f\"{dataset_dir}/checkpoint.butterfly.all.pth\", break_at_val_acc_diff=0.02)"
   ]
  },
  {
   "cell_type": "code",
   "execution_count": 36,
   "id": "89b98399-0ffe-4c20-a0f2-bb42bdf548e1",
   "metadata": {},
   "outputs": [
    {
     "name": "stdout",
     "output_type": "stream",
     "text": [
      "Epoch    1 /    3  | Train Loss: 1.3184 Acc: 0.6889  | Val Loss: 0.9510 Acc: 0.6935  | Elapsed time: 0:17:47.142971\n",
      "Epoch    2 /    3  | Train Loss: 1.2689 Acc: 0.7005  | Val Loss: 0.9186 Acc: 0.7258  | Elapsed time: 0:35:53.394860\n",
      "Epoch    3 /    3  | Train Loss: 1.2370 Acc: 0.7089  | Val Loss: 0.8701 Acc: 0.7097  | Elapsed time: 0:54:47.346695\n"
     ]
    }
   ],
   "source": [
    "train(model_data, 3, f\"{dataset_dir}/checkpoint.butterfly.all.pth\", break_at_val_acc_diff=0.01)"
   ]
  },
  {
   "cell_type": "code",
   "execution_count": 45,
   "id": "4f25328d-1323-4269-9944-97b8f392479e",
   "metadata": {},
   "outputs": [
    {
     "name": "stdout",
     "output_type": "stream",
     "text": [
      "Top   1 accuracy: 87/153 -> 56.86%, genus matched: 113/153 -> 73.86%\n",
      "Top   3 accuracy: 124/153 -> 81.05%, genus matched: 137/153 -> 89.54%\n",
      "Top   5 accuracy: 130/153 -> 84.97%, genus matched: 142/153 -> 92.81%\n",
      "Top  10 accuracy: 136/153 -> 88.89%, genus matched: 147/153 -> 96.08%\n"
     ]
    }
   ],
   "source": [
    "# reverting to 12th epoch. seeing continuous decrease in val acc after 11th\n",
    "model_data = torch.load(f\"{dataset_dir}/checkpoint.butterfly.all.tb1.ep12.pth\", weights_only=False)\n",
    "test_top_k(model_data, f\"{dataset_dir}/random-test\", 3, print_preds=False, print_top1_accuracy=True, print_no_match=False)\n",
    "test_top_k(model_data, f\"{dataset_dir}/random-test\", 5, print_preds=False, print_top1_accuracy=False)\n",
    "test_top_k(model_data, f\"{dataset_dir}/random-test\", 10, print_preds=False, print_top1_accuracy=False)"
   ]
  },
  {
   "cell_type": "code",
   "execution_count": null,
   "id": "8dc3976f-3d90-42c0-8916-4eef5042d78b",
   "metadata": {},
   "outputs": [],
   "source": []
  },
  {
   "cell_type": "code",
   "execution_count": null,
   "id": "37c4a00f-0be2-480f-9387-0d4ee2e0362f",
   "metadata": {},
   "outputs": [],
   "source": []
  },
  {
   "cell_type": "code",
   "execution_count": null,
   "id": "aa5200fd-ada9-4b02-904c-263603f4b292",
   "metadata": {},
   "outputs": [],
   "source": []
  },
  {
   "cell_type": "code",
   "execution_count": null,
   "id": "ea62d777-f00d-46d4-83d5-7d910175e953",
   "metadata": {},
   "outputs": [],
   "source": []
  },
  {
   "cell_type": "code",
   "execution_count": null,
   "id": "efe25bf5-3437-4898-b472-28003d319bce",
   "metadata": {},
   "outputs": [],
   "source": []
  },
  {
   "cell_type": "code",
   "execution_count": null,
   "id": "ea1ccb68-48ed-4c0f-a9ce-da403f77c365",
   "metadata": {},
   "outputs": [],
   "source": []
  },
  {
   "cell_type": "markdown",
   "id": "9bfccf0d-84ac-4144-bd47-d89f1a0ce7e1",
   "metadata": {},
   "source": [
    "----------------\n",
    "# B.2. All data / RESNET-152 / lr=1e-4 / weight_decay=1e-4"
   ]
  },
  {
   "cell_type": "code",
   "execution_count": 76,
   "id": "120c04cb-5900-4674-9af3-db52cf1db5b8",
   "metadata": {},
   "outputs": [
    {
     "name": "stdout",
     "output_type": "stream",
     "text": [
      "train class count: 1554\n",
      "val class count: 40\n",
      "feature count: 2048\n",
      "device: cuda:0\n"
     ]
    }
   ],
   "source": [
    "model_data = init_model_for_training(f'{dataset_dir}/data', f'{dataset_dir}/val', \n",
    "                                     batch_size=32, arch=\"resnet152\", image_size=224, robustness=0.2,\n",
    "                                     lr=1e-4, weight_decay=1e-4)"
   ]
  },
  {
   "cell_type": "code",
   "execution_count": 77,
   "id": "d20cb82c-8a25-4109-b27e-c74d983cd678",
   "metadata": {},
   "outputs": [
    {
     "name": "stdout",
     "output_type": "stream",
     "text": [
      "Epoch    1 /    5  | Train Loss: 2.7957 Acc: 0.4792  | Val Loss: 1.5726 Acc: 0.5397  | Elapsed time: 0:18:46.141065\n",
      "Epoch    2 /    5  | Train Loss: 0.4915 Acc: 0.8779  | Val Loss: 1.3350 Acc: 0.5556  | Elapsed time: 0:37:22.286426\n"
     ]
    }
   ],
   "source": [
    "train(model_data, 5, f\"{dataset_dir}/checkpoint.butterfly.all.pth\", break_at_val_acc_diff=0.05)"
   ]
  },
  {
   "cell_type": "code",
   "execution_count": 78,
   "id": "c116f3ad-e88b-4e4b-9eca-a3791b57c012",
   "metadata": {},
   "outputs": [
    {
     "name": "stdout",
     "output_type": "stream",
     "text": [
      "train class count: 1554\n",
      "val class count: 40\n",
      "0 new classes added: []\n",
      "feature count: 2048\n",
      "device: cuda:0\n"
     ]
    }
   ],
   "source": [
    "model_data = prepare_for_retraining(model_data, f'{dataset_dir}/data', f'{dataset_dir}/val', \n",
    "                                    batch_size=32, image_size=224, robustness=0.5)"
   ]
  },
  {
   "cell_type": "code",
   "execution_count": 79,
   "id": "9c8f9b9b-3ab8-4099-b3f4-4e89f45459f7",
   "metadata": {},
   "outputs": [
    {
     "name": "stdout",
     "output_type": "stream",
     "text": [
      "Epoch    1 /    5  | Train Loss: 1.5198 Acc: 0.6378  | Val Loss: 0.7782 Acc: 0.7619  | Elapsed time: 0:18:52.610234\n",
      "Epoch    2 /    5  | Train Loss: 1.1681 Acc: 0.7152  | Val Loss: 0.6995 Acc: 0.7778  | Elapsed time: 0:37:58.960218\n"
     ]
    }
   ],
   "source": [
    "train(model_data, 5, f\"{dataset_dir}/checkpoint.butterfly.all.pth\", break_at_val_acc_diff=0.02)"
   ]
  },
  {
   "cell_type": "code",
   "execution_count": 80,
   "id": "0d051d0f-c768-4b36-9c16-eb412e8d8948",
   "metadata": {},
   "outputs": [
    {
     "name": "stdout",
     "output_type": "stream",
     "text": [
      "train class count: 1554\n",
      "val class count: 40\n",
      "0 new classes added: []\n",
      "feature count: 2048\n",
      "device: cuda:0\n"
     ]
    }
   ],
   "source": [
    "model_data = prepare_for_retraining(model_data, f'{dataset_dir}/data', f'{dataset_dir}/val', \n",
    "                                    batch_size=32, image_size=224, robustness=1.0)"
   ]
  },
  {
   "cell_type": "code",
   "execution_count": 81,
   "id": "8e8d4d59-ccab-4630-b2b3-383afb015070",
   "metadata": {},
   "outputs": [
    {
     "name": "stdout",
     "output_type": "stream",
     "text": [
      "Epoch    1 /    5  | Train Loss: 1.0953 Acc: 0.7338  | Val Loss: 0.6623 Acc: 0.7778  | Elapsed time: 0:19:47.564822\n",
      "Epoch    2 /    5  | Train Loss: 1.0133 Acc: 0.7552  | Val Loss: 0.7455 Acc: 0.7778  | Elapsed time: 0:39:08.854803\n"
     ]
    }
   ],
   "source": [
    "train(model_data, 5, f\"{dataset_dir}/checkpoint.butterfly.all.pth\", break_at_val_acc_diff=0.01)"
   ]
  },
  {
   "cell_type": "code",
   "execution_count": 82,
   "id": "160759c4-3ac3-4a85-8839-b4cb755b9fa3",
   "metadata": {},
   "outputs": [
    {
     "name": "stdout",
     "output_type": "stream",
     "text": [
      "train class count: 1554\n",
      "val class count: 40\n",
      "0 new classes added: []\n",
      "feature count: 2048\n",
      "device: cuda:0\n"
     ]
    }
   ],
   "source": [
    "model_data = prepare_for_retraining(model_data, f'{dataset_dir}/data', f'{dataset_dir}/val', \n",
    "                                    batch_size=32, image_size=224, robustness=2.0)"
   ]
  },
  {
   "cell_type": "code",
   "execution_count": 83,
   "id": "565dec93-2629-4aee-82a3-48b353acef86",
   "metadata": {},
   "outputs": [
    {
     "name": "stdout",
     "output_type": "stream",
     "text": [
      "Epoch    1 /    5  | Train Loss: 1.0175 Acc: 0.7533  | Val Loss: 0.7609 Acc: 0.7937  | Elapsed time: 0:19:00.073563\n",
      "Epoch    2 /    5  | Train Loss: 0.7727 Acc: 0.8169  | Val Loss: 0.6441 Acc: 0.8254  | Elapsed time: 0:38:09.593213\n",
      "Epoch    3 /    5  | Train Loss: 0.6963 Acc: 0.8358  | Val Loss: 0.6345 Acc: 0.8413  | Elapsed time: 0:56:02.528899\n",
      "Epoch    4 /    5  | Train Loss: 0.6637 Acc: 0.8434  | Val Loss: 0.6629 Acc: 0.8571  | Elapsed time: 1:13:35.392669\n",
      "Epoch    5 /    5  | Train Loss: 0.6395 Acc: 0.8482  | Val Loss: 0.6477 Acc: 0.8571  | Elapsed time: 1:31:52.270869\n"
     ]
    }
   ],
   "source": [
    "train(model_data, 5, f\"{dataset_dir}/checkpoint.butterfly.all.pth\", break_at_val_acc_diff=0.005)"
   ]
  },
  {
   "cell_type": "code",
   "execution_count": 46,
   "id": "a2cd571c-e379-4b7d-aff2-6b463662af54",
   "metadata": {},
   "outputs": [
    {
     "name": "stdout",
     "output_type": "stream",
     "text": [
      "Top   1 accuracy: 106/153 -> 69.28%, genus matched: 133/153 -> 86.93%\n",
      "Top   3 accuracy: 131/153 -> 85.62%, genus matched: 148/153 -> 96.73%\n",
      "Top   5 accuracy: 141/153 -> 92.16%, genus matched: 151/153 -> 98.69%\n",
      "Top  10 accuracy: 145/153 -> 94.77%, genus matched: 151/153 -> 98.69%\n"
     ]
    }
   ],
   "source": [
    "model_data = torch.load(f\"{dataset_dir}/checkpoint.butterfly.all.tb2.ep11.pth\", weights_only=False)\n",
    "test_top_k(model_data, f\"{dataset_dir}/random-test\", 3, print_preds=False, print_top1_accuracy=True, print_no_match=False)\n",
    "test_top_k(model_data, f\"{dataset_dir}/random-test\", 5, print_preds=False, print_top1_accuracy=False)\n",
    "test_top_k(model_data, f\"{dataset_dir}/random-test\", 10, print_preds=False, print_top1_accuracy=False)"
   ]
  },
  {
   "cell_type": "code",
   "execution_count": null,
   "id": "95aa6d05-1337-4561-9e8d-24a382f0acff",
   "metadata": {},
   "outputs": [],
   "source": []
  },
  {
   "cell_type": "code",
   "execution_count": null,
   "id": "33717e74-0901-4969-96c4-607cbc10be2b",
   "metadata": {},
   "outputs": [],
   "source": []
  },
  {
   "cell_type": "code",
   "execution_count": null,
   "id": "8bbb356f-2959-455d-ab2e-9bce18f4a954",
   "metadata": {},
   "outputs": [],
   "source": []
  },
  {
   "cell_type": "code",
   "execution_count": null,
   "id": "09eccc7b-154b-4fe0-bfba-20596bd8328b",
   "metadata": {},
   "outputs": [],
   "source": []
  },
  {
   "cell_type": "code",
   "execution_count": null,
   "id": "7eeb173c-8baf-4e82-8684-47bac9967510",
   "metadata": {},
   "outputs": [],
   "source": []
  },
  {
   "cell_type": "markdown",
   "id": "49db75a0-7b13-4efb-8726-9ec2ca6b08bd",
   "metadata": {},
   "source": [
    "----------------\n",
    "# B.3. Adult stage data / RESNET-152 / lr=1e-4 / weight_decay=1e-4"
   ]
  },
  {
   "cell_type": "code",
   "execution_count": 6,
   "id": "71c9d64b-2414-4687-9864-ab27bb1473ac",
   "metadata": {},
   "outputs": [
    {
     "name": "stdout",
     "output_type": "stream",
     "text": [
      "Adult class count: 1125\n",
      "Early class count: 429\n"
     ]
    }
   ],
   "source": [
    "adult_class_cnt = 0\n",
    "early_class_cnt = 0\n",
    "adult_data_dir = f\"{dataset_dir}/adult-data\"\n",
    "\n",
    "if os.path.exists(adult_data_dir):\n",
    "        shutil.rmtree(adult_data_dir)\n",
    "\n",
    "for species_dir in Path(f\"{dataset_dir}/data\").iterdir():\n",
    "    if species_dir.is_dir() and species_dir.name.endswith('-early'):\n",
    "        early_class_cnt += 1\n",
    "    else:\n",
    "        shutil.copytree(species_dir, f\"{adult_data_dir}/{species_dir.name}\")\n",
    "        adult_class_cnt += 1\n",
    "\n",
    "print(f\"Adult class count: {adult_class_cnt}\")\n",
    "print(f\"Early class count: {early_class_cnt}\")"
   ]
  },
  {
   "cell_type": "code",
   "execution_count": 22,
   "id": "4fe688c3-a96c-4b88-b5b2-fd3d1e78db28",
   "metadata": {},
   "outputs": [
    {
     "name": "stdout",
     "output_type": "stream",
     "text": [
      "train class count: 1125\n",
      "val class count: 75\n",
      "feature count: 2048\n",
      "device: cuda:0\n"
     ]
    }
   ],
   "source": [
    "model_data = init_model_for_training(f'{dataset_dir}/adult-data', f'{dataset_dir}/val', \n",
    "                                     batch_size=32, arch=\"resnet152\", image_size=224, robustness=0.2,\n",
    "                                     lr=1e-4, weight_decay=1e-4)"
   ]
  },
  {
   "cell_type": "code",
   "execution_count": 23,
   "id": "720cd0ba-44bc-4493-9c40-39e94ea3ef23",
   "metadata": {},
   "outputs": [
    {
     "name": "stdout",
     "output_type": "stream",
     "text": [
      "Epoch    1 /    5  | Train Loss: 2.4305 Acc: 0.5165  | Val Loss: 1.8641 Acc: 0.5621  | Elapsed time: 0:14:51.566778\n",
      "Epoch    2 /    5  | Train Loss: 0.4407 Acc: 0.8813  | Val Loss: 2.0511 Acc: 0.5266  | Elapsed time: 0:29:39.734186\n"
     ]
    }
   ],
   "source": [
    "train(model_data, 5, f\"{dataset_dir}/checkpoint.butterfly.adult.ep01###.pth\", break_at_val_acc_diff=0.05)"
   ]
  },
  {
   "cell_type": "code",
   "execution_count": 24,
   "id": "f9032324-b80c-4fa1-9099-c2f4641d7477",
   "metadata": {},
   "outputs": [
    {
     "name": "stdout",
     "output_type": "stream",
     "text": [
      "train class count: 1125\n",
      "val class count: 75\n",
      "0 new classes added: []\n",
      "feature count: 2048\n",
      "device: cuda:0\n"
     ]
    }
   ],
   "source": [
    "model_data = prepare_for_retraining(model_data, f'{dataset_dir}/adult-data', f'{dataset_dir}/val', \n",
    "                                    batch_size=32, image_size=224, robustness=0.5)"
   ]
  },
  {
   "cell_type": "code",
   "execution_count": 25,
   "id": "53d6241e-988a-48ef-8c5c-4141048aa13c",
   "metadata": {},
   "outputs": [
    {
     "name": "stdout",
     "output_type": "stream",
     "text": [
      "Epoch    1 /    5  | Train Loss: 1.3166 Acc: 0.6707  | Val Loss: 1.4503 Acc: 0.6213  | Elapsed time: 0:15:21.469642\n",
      "Epoch    2 /    5  | Train Loss: 1.0351 Acc: 0.7373  | Val Loss: 1.3085 Acc: 0.6923  | Elapsed time: 0:30:44.149670\n",
      "Epoch    3 /    5  | Train Loss: 0.9236 Acc: 0.7624  | Val Loss: 1.3807 Acc: 0.6864  | Elapsed time: 0:46:08.992939\n"
     ]
    }
   ],
   "source": [
    "train(model_data, 5, f\"{dataset_dir}/checkpoint.butterfly.adult.ep02###.pth\", break_at_val_acc_diff=0.02)"
   ]
  },
  {
   "cell_type": "code",
   "execution_count": 26,
   "id": "e1b67818-2a46-4164-b4a0-f309edc5f7aa",
   "metadata": {},
   "outputs": [
    {
     "name": "stdout",
     "output_type": "stream",
     "text": [
      "train class count: 1125\n",
      "val class count: 75\n",
      "0 new classes added: []\n",
      "feature count: 2048\n",
      "device: cuda:0\n"
     ]
    }
   ],
   "source": [
    "model_data = prepare_for_retraining(model_data, f'{dataset_dir}/adult-data', f'{dataset_dir}/val', \n",
    "                                    batch_size=32, image_size=224, robustness=1.0)"
   ]
  },
  {
   "cell_type": "code",
   "execution_count": 27,
   "id": "9f717890-a5f7-4a90-8951-cfe11e9411ca",
   "metadata": {},
   "outputs": [
    {
     "name": "stdout",
     "output_type": "stream",
     "text": [
      "Epoch    1 /    5  | Train Loss: 0.8963 Acc: 0.7718  | Val Loss: 1.4758 Acc: 0.6450  | Elapsed time: 0:15:22.950867\n",
      "Epoch    2 /    5  | Train Loss: 0.8360 Acc: 0.7863  | Val Loss: 1.1645 Acc: 0.7278  | Elapsed time: 0:30:45.857069\n",
      "Epoch    3 /    5  | Train Loss: 0.6647 Acc: 0.8367  | Val Loss: 1.0723 Acc: 0.7337  | Elapsed time: 0:46:10.684890\n"
     ]
    }
   ],
   "source": [
    "train(model_data, 5, f\"{dataset_dir}/checkpoint.butterfly.adult.ep03###.pth\", break_at_val_acc_diff=0.01)"
   ]
  },
  {
   "cell_type": "code",
   "execution_count": 28,
   "id": "c3c44ad2-3f86-4ea1-9399-d3a34d45c938",
   "metadata": {},
   "outputs": [
    {
     "name": "stdout",
     "output_type": "stream",
     "text": [
      "train class count: 1125\n",
      "val class count: 75\n",
      "0 new classes added: []\n",
      "feature count: 2048\n",
      "device: cuda:0\n"
     ]
    }
   ],
   "source": [
    "model_data = prepare_for_retraining(model_data, f'{dataset_dir}/adult-data', f'{dataset_dir}/val', \n",
    "                                    batch_size=32, image_size=224, robustness=2.0)"
   ]
  },
  {
   "cell_type": "code",
   "execution_count": 29,
   "id": "d743da1b-5bc1-4ec6-b27a-238e146eac76",
   "metadata": {},
   "outputs": [
    {
     "name": "stdout",
     "output_type": "stream",
     "text": [
      "Epoch    1 /    5  | Train Loss: 0.6514 Acc: 0.8357  | Val Loss: 1.0681 Acc: 0.7456  | Elapsed time: 0:15:24.884402\n",
      "Epoch    2 /    5  | Train Loss: 0.6030 Acc: 0.8495  | Val Loss: 1.0912 Acc: 0.7337  | Elapsed time: 0:30:52.447895\n"
     ]
    }
   ],
   "source": [
    "train(model_data, 5, f\"{dataset_dir}/checkpoint.butterfly.adult.ep04###.pth\", break_at_val_acc_diff=0.005)"
   ]
  },
  {
   "cell_type": "code",
   "execution_count": 47,
   "id": "fc09b8db-80a7-4247-9f7a-d6bd48a83559",
   "metadata": {},
   "outputs": [
    {
     "name": "stdout",
     "output_type": "stream",
     "text": [
      "Top   1 accuracy: 113/153 -> 73.86%, genus matched: 139/153 -> 90.85%\n",
      "Top   3 accuracy: 135/153 -> 88.24%, genus matched: 150/153 -> 98.04%\n",
      "Top   5 accuracy: 139/153 -> 90.85%, genus matched: 152/153 -> 99.35%\n",
      "Top  10 accuracy: 145/153 -> 94.77%, genus matched: 153/153 -> 100.00%\n"
     ]
    }
   ],
   "source": [
    "model_data = torch.load(f\"{dataset_dir}/checkpoint.butterfly.adult.tb3.ep040000.pth\", weights_only=False)\n",
    "test_top_k(model_data, f\"{dataset_dir}/random-test\", 3, print_preds=False, print_top1_accuracy=True, print_no_match=False)\n",
    "test_top_k(model_data, f\"{dataset_dir}/random-test\", 5, print_preds=False, print_top1_accuracy=False)\n",
    "test_top_k(model_data, f\"{dataset_dir}/random-test\", 10, print_preds=False, print_top1_accuracy=False)"
   ]
  },
  {
   "cell_type": "code",
   "execution_count": null,
   "id": "d9b1806d-f3c0-4e16-a2d9-3791033ae48a",
   "metadata": {},
   "outputs": [],
   "source": []
  },
  {
   "cell_type": "code",
   "execution_count": null,
   "id": "0517d033-94dc-427d-9be7-3d36dd17a216",
   "metadata": {},
   "outputs": [],
   "source": []
  },
  {
   "cell_type": "code",
   "execution_count": null,
   "id": "03099b7d-5141-4cc6-a65c-bb7c25d2789e",
   "metadata": {},
   "outputs": [],
   "source": []
  },
  {
   "cell_type": "code",
   "execution_count": null,
   "id": "03e44e41-39ff-4fa9-b60f-a2830d30414e",
   "metadata": {},
   "outputs": [],
   "source": []
  },
  {
   "cell_type": "markdown",
   "id": "49e4764a-4045-49c7-81f5-92c5df49fc5d",
   "metadata": {},
   "source": [
    "-----------\n",
    "# Test"
   ]
  },
  {
   "cell_type": "code",
   "execution_count": 53,
   "id": "bdedb93b-a0d2-4cce-abf8-4ac7172e836d",
   "metadata": {},
   "outputs": [],
   "source": [
    "model_data = torch.load(f\"{dataset_dir}/checkpoint.butterfly.adult.tb3.ep040000.pth\", weights_only=False)"
   ]
  },
  {
   "cell_type": "code",
   "execution_count": 54,
   "id": "a2af3d6a-59cb-4d0b-8a08-095271cec3cf",
   "metadata": {
    "scrolled": true
   },
   "outputs": [
    {
     "name": "stdout",
     "output_type": "stream",
     "text": [
      "acraea-terpsicore-2           : \u001b[32macraea-terpsicore\u001b[0m(0.997)  byblia-ilithyia(0.001)  danaus-chrysippus(0.001)  \n",
      "aeromachus-dubius             : \u001b[32maeromachus-dubius\u001b[0m(0.880)  sarangesa-purendra(0.029)  aeromachus-pygmaeus(0.028)  \n",
      "arnetta-mercara-2             : \u001b[32marnetta-mercara\u001b[0m(0.630)  astictopterus-jama(0.165)  aeromachus-dubius(0.037)  \n",
      "arnetta-mercara               : astictopterus-jama(0.653)  arnetta-vindhiana(0.134)  ancistroides-nigrita(0.065)  \n",
      "atrophaneura-varuna-2         : papilio-memnon(0.527)  \u001b[32matrophaneura-varuna\u001b[0m(0.154)  atrophaneura-aidoneus(0.149)  \n",
      "atrophaneura-varuna           : \u001b[32matrophaneura-varuna\u001b[0m(0.966)  atrophaneura-aidoneus(0.026)  papilio-memnon(0.002)  \n",
      "caltoris-aurociliata-2        : caltoris-kumara(0.515)  caltoris-caltoris-spp(0.318)  caltoris-philippina(0.092)  \n",
      "caltoris-aurociliata          : caltoris-caltoris-spp(0.414)  caltoris-kumara(0.340)  caltoris-philippina(0.052)  \n",
      "castalius-rosimon-2           : \u001b[32mcastalius-rosimon\u001b[0m(0.930)  phengaris-atroguttata(0.054)  discolampa-ethion(0.003)  \n",
      "castalius-rosimon             : \u001b[32mcastalius-rosimon\u001b[0m(0.962)  discolampa-ethion(0.021)  phengaris-atroguttata(0.005)  \n",
      "chaetoprocta-odata-2          : \u001b[32mchaetoprocta-odata\u001b[0m(0.784)  chrysozephyrus-syla(0.144)  shizuyaozephyrus-ziha(0.025)  \n",
      "chaetoprocta-odata-3          : \u001b[32mchaetoprocta-odata\u001b[0m(0.940)  shizuyaozephyrus-ziha(0.027)  chrysozephyrus-syla(0.024)  \n",
      "chaetoprocta-odata            : \u001b[32mchaetoprocta-odata\u001b[0m(0.906)  chrysozephyrus-syla(0.045)  shizuyaozephyrus-ziha(0.020)  \n",
      "charaxes-bernardus-2          : \u001b[32mcharaxes-bernardus\u001b[0m(0.883)  charaxes-aristogiton(0.094)  charaxes-psaphon(0.012)  \n",
      "charaxes-bernardus            : charaxes-marmax(0.267)  \u001b[32mcharaxes-bernardus\u001b[0m(0.234)  charaxes-psaphon(0.170)  \n",
      "chrysozephyrus-syla-2         : \u001b[32mchrysozephyrus-syla\u001b[0m(0.986)  shirozuozephyrus-bhutanensis(0.004)  esakiozephyrus-icana(0.003)  \n",
      "chrysozephyrus-syla-3         : arhopala-camdeo(0.498)  chrysozephyrus-birupa(0.139)  jamides-bochus(0.064)  \n",
      "chrysozephyrus-syla           : chrysozephyrus-birupa(0.312)  pareronia-avatar(0.067)  chrysozephyrus-duma(0.056)  \n",
      "cigaritis-syama-5             : \u001b[32mcigaritis-syama\u001b[0m(0.565)  azanus-ubaldus(0.109)  tarucus-nara(0.072)  \n",
      "cigaritis-zhengweilie         : \u001b[32mcigaritis-zhengweilie\u001b[0m(0.922)  cigaritis-rukmini(0.052)  cigaritis-nipalicus(0.013)  \n",
      "cirrochroa-thais-2            : \u001b[32mcirrochroa-thais\u001b[0m(0.911)  cirrochroa-tyche(0.058)  cirrochroa-aoris(0.025)  \n",
      "cirrochroa-thais              : \u001b[32mcirrochroa-thais\u001b[0m(0.964)  cirrochroa-tyche(0.029)  cirrochroa-aoris(0.005)  \n",
      "danaus-chrysippus-2           : \u001b[32mdanaus-chrysippus\u001b[0m(0.992)  hypolimnas-misippus(0.003)  acraea-terpsicore(0.001)  \n",
      "danaus-chrysippus-3           : \u001b[32mdanaus-chrysippus\u001b[0m(0.978)  hypolimnas-misippus(0.007)  acraea-terpsicore(0.004)  \n",
      "danaus-chrysippus-4           : \u001b[32mdanaus-chrysippus\u001b[0m(0.996)  hypolimnas-misippus(0.001)  danaus-genutia(0.001)  \n",
      "danaus-chrysippus-5           : \u001b[32mdanaus-chrysippus\u001b[0m(0.971)  hypolimnas-misippus(0.009)  acraea-terpsicore(0.007)  \n",
      "danaus-chrysippus-6           : \u001b[32mdanaus-chrysippus\u001b[0m(0.858)  hypolimnas-misippus(0.065)  cethosia-cyane(0.017)  \n",
      "danaus-chrysippus             : \u001b[32mdanaus-chrysippus\u001b[0m(0.993)  danaus-genutia(0.003)  hypolimnas-misippus(0.002)  \n",
      "discolampa-ethion-2           : \u001b[32mdiscolampa-ethion\u001b[0m(0.942)  caleta-decidia(0.036)  castalius-rosimon(0.010)  \n",
      "discolampa-ethion-3           : \u001b[32mdiscolampa-ethion\u001b[0m(0.995)  caleta-decidia(0.001)  castalius-rosimon(0.001)  \n",
      "discolampa-ethion-4           : \u001b[32mdiscolampa-ethion\u001b[0m(0.978)  castalius-rosimon(0.011)  caleta-decidia(0.005)  \n",
      "discolampa-ethion             : \u001b[32mdiscolampa-ethion\u001b[0m(0.953)  caleta-decidia(0.023)  castalius-rosimon(0.008)  \n",
      "dodona-dipoea-2               : dodona-eugenes(0.965)  \u001b[32mdodona-dipoea\u001b[0m(0.034)  dodona-egeon(0.001)  \n",
      "dodona-dipoea                 : \u001b[32mdodona-dipoea\u001b[0m(0.992)  dodona-eugenes(0.006)  dodona-durga(0.001)  \n",
      "dodona-durga-2                : \u001b[32mdodona-durga\u001b[0m(0.995)  caprona-agama(0.001)  dodona-dipoea(0.001)  \n",
      "dodona-durga-3                : sephisa-dichroa(0.661)  \u001b[32mdodona-durga\u001b[0m(0.225)  dodona-egeon(0.061)  \n",
      "dodona-durga-5                : \u001b[32mdodona-durga\u001b[0m(0.997)  rhaphicera-moorei(0.000)  argynnis-jainadeva(0.000)  \n",
      "dodona-durga                  : \u001b[32mdodona-durga\u001b[0m(0.986)  argynnis-jainadeva(0.002)  dodona-egeon(0.002)  \n",
      "dodona-egeon-2                : \u001b[32mdodona-egeon\u001b[0m(0.961)  dodona-eugenes(0.019)  rhaphicera-moorei(0.005)  \n",
      "dodona-egeon-3                : \u001b[32mdodona-egeon\u001b[0m(0.907)  dodona-eugenes(0.073)  iraota-rochana(0.007)  \n",
      "dodona-egeon-5                : dodona-eugenes(0.811)  \u001b[32mdodona-egeon\u001b[0m(0.185)  dodona-dipoea(0.002)  \n",
      "dodona-egeon                  : \u001b[32mdodona-egeon\u001b[0m(0.988)  rhaphicera-moorei(0.004)  dodona-eugenes(0.002)  \n",
      "dodona-eugenes                : \u001b[32mdodona-eugenes\u001b[0m(0.964)  dodona-egeon(0.023)  dodona-dipoea(0.005)  \n",
      "doleschallia-bisaltide-2      : \u001b[32mdoleschallia-bisaltide\u001b[0m(0.991)  rohana-parisatis(0.002)  charaxes-bernardus(0.001)  \n",
      "doleschallia-bisaltide-3      : \u001b[32mdoleschallia-bisaltide\u001b[0m(0.982)  charaxes-psaphon(0.007)  charaxes-bernardus(0.004)  \n",
      "doleschallia-bisaltide-4      : \u001b[32mdoleschallia-bisaltide\u001b[0m(0.958)  kallima-horsfieldii(0.011)  junonia-almana(0.006)  \n",
      "doleschallia-bisaltide        : \u001b[32mdoleschallia-bisaltide\u001b[0m(0.998)  rohana-parisatis(0.000)  ixias-pyrene(0.000)  \n",
      "herona-marathus-2             : \u001b[32mherona-marathus\u001b[0m(0.957)  abrota-ganga(0.016)  neptis-radha(0.007)  \n",
      "herona-marathus-3             : \u001b[32mherona-marathus\u001b[0m(0.983)  dodona-ouida(0.014)  dodona-egeon(0.001)  \n",
      "herona-marathus-4             : \u001b[32mherona-marathus\u001b[0m(0.962)  abrota-ganga(0.018)  neptis-ananta(0.005)  \n",
      "herona-marathus               : \u001b[32mherona-marathus\u001b[0m(0.999)  abrota-ganga(0.000)  dodona-ouida(0.000)  \n",
      "horaga-viola-2                : \u001b[32mhoraga-viola\u001b[0m(0.945)  horaga-onyx(0.051)  charaxes-arja(0.002)  \n",
      "horaga-viola-3                : horaga-onyx(0.794)  \u001b[32mhoraga-viola\u001b[0m(0.198)  hypolimnas-misippus(0.003)  \n",
      "horaga-viola                  : \u001b[32mhoraga-viola\u001b[0m(0.962)  horaga-onyx(0.034)  hypolimnas-misippus(0.001)  \n",
      "hypolimnas-misippus-2         : \u001b[32mhypolimnas-misippus\u001b[0m(0.989)  athyma-punctata(0.006)  charaxes-arja(0.003)  \n",
      "hypolimnas-misippus-3         : \u001b[32mhypolimnas-misippus\u001b[0m(0.989)  athyma-punctata(0.006)  charaxes-arja(0.002)  \n",
      "hypolimnas-misippus-4         : \u001b[32mhypolimnas-misippus\u001b[0m(0.960)  athyma-punctata(0.015)  hypolimnas-bolina(0.006)  \n",
      "hypolimnas-misippus           : \u001b[32mhypolimnas-misippus\u001b[0m(0.992)  hypolimnas-bolina(0.004)  athyma-punctata(0.001)  \n",
      "hypolycaena-erylus-2          : \u001b[32mhypolycaena-erylus\u001b[0m(0.961)  sinthusa-nasaka(0.024)  hypolycaena-narada(0.004)  \n",
      "hypolycaena-erylus-3          : \u001b[32mhypolycaena-erylus\u001b[0m(0.751)  iraota-timoleon(0.121)  virachola-isocrates(0.022)  \n",
      "hypolycaena-erylus-4          : \u001b[32mhypolycaena-erylus\u001b[0m(0.896)  rapala-manea(0.039)  rapala-varuna(0.037)  \n",
      "hypolycaena-erylus            : \u001b[32mhypolycaena-erylus\u001b[0m(0.751)  iraota-timoleon(0.121)  virachola-isocrates(0.022)  \n",
      "hypolycaena-othona-2          : hypolycaena-kina(0.555)  \u001b[32mhypolycaena-othona\u001b[0m(0.247)  tajuria-cippus(0.050)  \n",
      "hypolycaena-othona            : \u001b[32mhypolycaena-othona\u001b[0m(0.958)  hypolycaena-nilgirica(0.007)  sinthusa-chandrana(0.006)  \n",
      "ideopsis-similis-2            : tirumala-septentrionis(0.823)  tirumala-limniace(0.053)  \u001b[32mideopsis-similis\u001b[0m(0.046)  \n",
      "ideopsis-similis-3            : tirumala-septentrionis(0.543)  \u001b[32mideopsis-similis\u001b[0m(0.361)  ideopsis-juventa(0.030)  \n",
      "ideopsis-similis-4            : \u001b[32mideopsis-similis\u001b[0m(0.876)  tirumala-septentrionis(0.070)  euploea-mulciber(0.013)  \n",
      "ideopsis-similis              : \u001b[32mideopsis-similis\u001b[0m(0.699)  tirumala-septentrionis(0.221)  tirumala-limniace(0.032)  \n",
      "jamides-bochus-2              : \u001b[32mjamides-bochus\u001b[0m(0.656)  jamides-elpis(0.178)  jamides-alecto(0.094)  \n",
      "jamides-bochus                : \u001b[32mjamides-bochus\u001b[0m(0.617)  nacaduba-nacaduba-spp(0.099)  prosotas-nora(0.072)  \n",
      "junonia-hierta                : \u001b[32mjunonia-hierta\u001b[0m(0.991)  hypolimnas-misippus(0.004)  lasippa-viraja(0.001)  \n",
      "koruthaialos-butleri-2        : \u001b[32mkoruthaialos-butleri\u001b[0m(0.851)  baoris-unicolor(0.030)  arnetta-mercara(0.030)  \n",
      "koruthaialos-butleri-3        : ancistroides-nigrita(0.681)  \u001b[32mkoruthaialos-butleri\u001b[0m(0.203)  psolos-fuligo(0.028)  \n",
      "koruthaialos-butleri          : ancistroides-nigrita(0.227)  matapa-sasivarna(0.154)  baoris-unicolor(0.137)  \n",
      "lethe-mekara                  : \u001b[32mlethe-mekara\u001b[0m(0.827)  lethe-vindhya(0.083)  lethe-chandica(0.028)  \n",
      "lethe-sinorix-2               : \u001b[32mlethe-sinorix\u001b[0m(0.537)  lethe-kansa(0.458)  lethe-serbonis(0.001)  \n",
      "lethe-sinorix                 : lethe-kansa(0.566)  \u001b[32mlethe-sinorix\u001b[0m(0.426)  lethe-vindhya(0.001)  \n",
      "logania-distanti-2            : \u001b[32mlogania-distanti\u001b[0m(0.890)  melanitis-phedima(0.022)  poritia-hewitsoni(0.020)  \n",
      "logania-distanti              : \u001b[32mlogania-distanti\u001b[0m(0.396)  miletus-chinensis(0.181)  amblypodia-anita(0.124)  \n",
      "nacaduba-pavana-2             : nacaduba-nacaduba-spp(0.434)  jamides-elpis(0.164)  nacaduba-kurava(0.117)  \n",
      "nacaduba-pavana               : nacaduba-nacaduba-spp(0.370)  nacaduba-kurava(0.150)  \u001b[32mnacaduba-pavana\u001b[0m(0.129)  \n",
      "nacaduba-sinhala-2            : nacaduba-nacaduba-spp(0.465)  prosotas-dubiosa(0.286)  nacaduba-beroe(0.103)  \n",
      "nacaduba-sinhala              : nacaduba-nacaduba-spp(0.590)  nacaduba-beroe(0.237)  prosotas-dubiosa(0.063)  \n",
      "neptis-nata-2                 : neptis-neptis-spp(0.727)  neptis-clinia(0.200)  \u001b[32mneptis-nata\u001b[0m(0.028)  \n",
      "neptis-nata                   : \u001b[32mneptis-nata\u001b[0m(0.487)  neptis-clinia(0.160)  neptis-neptis-spp(0.148)  \n",
      "neptis-zaida-2                : neptis-miah(0.641)  lasippa-viraja(0.169)  neptis-namba(0.052)  \n",
      "neptis-zaida-3                : \u001b[32mneptis-zaida\u001b[0m(0.749)  neptis-melba(0.062)  neptis-narayana(0.058)  \n",
      "neptis-zaida                  : \u001b[32mneptis-zaida\u001b[0m(0.727)  lasippa-viraja(0.089)  neptis-narayana(0.073)  \n",
      "neurosigma-siva-2             : \u001b[32mneurosigma-siva\u001b[0m(0.947)  papilio-clytia(0.024)  orinoma-damaris(0.010)  \n",
      "neurosigma-siva-3             : \u001b[32mneurosigma-siva\u001b[0m(0.983)  byblia-ilithyia(0.006)  cethosia-mahratta(0.005)  \n",
      "neurosigma-siva               : \u001b[32mneurosigma-siva\u001b[0m(0.818)  orinoma-damaris(0.064)  cethosia-mahratta(0.045)  \n",
      "papilio-bianor-2              : \u001b[32mpapilio-bianor\u001b[0m(0.716)  papilio-arcturus(0.220)  papilio-krishna(0.023)  \n",
      "papilio-bianor                : \u001b[32mpapilio-bianor\u001b[0m(0.960)  papilio-polyctor(0.011)  papilio-paris(0.006)  \n",
      "papilio-crino-2               : \u001b[32mpapilio-crino\u001b[0m(0.863)  papilio-paris(0.066)  papilio-bianor(0.022)  \n",
      "papilio-crino-3               : \u001b[32mpapilio-crino\u001b[0m(0.991)  dacalana-penicilligera(0.001)  papilio-paris(0.001)  \n",
      "papilio-crino-5               : \u001b[32mpapilio-crino\u001b[0m(0.983)  papilio-paris(0.009)  papilio-krishna(0.001)  \n",
      "papilio-crino                 : \u001b[32mpapilio-crino\u001b[0m(0.985)  papilio-paris(0.007)  dacalana-penicilligera(0.001)  \n",
      "papilio-paris                 : \u001b[32mpapilio-paris\u001b[0m(0.908)  papilio-arcturus(0.021)  papilio-crino(0.019)  \n",
      "phaedyma-columella-2          : \u001b[32mphaedyma-columella\u001b[0m(0.798)  neptis-jumbah(0.069)  neptis-magadha(0.066)  \n",
      "phaedyma-columella-3          : \u001b[32mphaedyma-columella\u001b[0m(0.636)  neptis-jumbah(0.346)  neptis-neptis-spp(0.006)  \n",
      "phaedyma-columella-4          : \u001b[32mphaedyma-columella\u001b[0m(0.317)  neptis-magadha(0.302)  neptis-jumbah(0.160)  \n",
      "phaedyma-columella            : \u001b[32mphaedyma-columella\u001b[0m(0.997)  neptis-hylas(0.001)  athyma-perius(0.000)  \n",
      "poritia-hewitsoni-2           : \u001b[32mporitia-hewitsoni\u001b[0m(1.000)  arhopala-dispar(0.000)  prothoe-franck(0.000)  \n",
      "poritia-hewitsoni             : \u001b[32mporitia-hewitsoni\u001b[0m(0.999)  ancema-ctesia(0.000)  poritia-erycinoides(0.000)  \n",
      "potanthus-trachala-2          : potanthus-potanthus-spp(0.346)  oriens-goloides(0.321)  taractrocera-ceramas(0.160)  \n",
      "potanthus-trachala-5          : potanthus-potanthus-spp(0.434)  ampittia-dioscorides(0.271)  cephrenes-acalle(0.071)  \n",
      "potanthus-trachala            : potanthus-potanthus-spp(0.528)  ampittia-dioscorides(0.235)  cephrenes-acalle(0.051)  \n",
      "rapala-manea-2                : \u001b[32mrapala-manea\u001b[0m(0.671)  sinthusa-nasaka(0.166)  rapala-spp(0.089)  \n",
      "rapala-manea-3                : \u001b[32mrapala-manea\u001b[0m(0.530)  rapala-spp(0.190)  rapala-dieneces(0.115)  \n",
      "rapala-manea-4                : \u001b[32mrapala-manea\u001b[0m(0.668)  rapala-spp(0.117)  rapala-varuna(0.051)  \n",
      "rapala-manea-5                : \u001b[32mrapala-manea\u001b[0m(0.834)  rapala-spp(0.050)  rapala-iarbus(0.044)  \n",
      "rapala-manea                  : \u001b[32mrapala-manea\u001b[0m(0.822)  deudorix-epijarbas(0.061)  rapala-spp(0.055)  \n",
      "rapala-varuna-2               : \u001b[32mrapala-varuna\u001b[0m(0.774)  rapala-manea(0.200)  hypolycaena-erylus(0.009)  \n",
      "rapala-varuna                 : \u001b[32mrapala-varuna\u001b[0m(0.839)  rapala-manea(0.096)  virachola-isocrates(0.025)  \n",
      "sebastonyma-dolopia-2         : \u001b[32msebastonyma-dolopia\u001b[0m(0.996)  halpe-zema(0.001)  iraota-rochana(0.000)  \n",
      "sebastonyma-dolopia-3         : \u001b[32msebastonyma-dolopia\u001b[0m(0.902)  thoressa-cerata(0.064)  halpe-porus(0.017)  \n",
      "sebastonyma-dolopia-4         : \u001b[32msebastonyma-dolopia\u001b[0m(0.996)  iraota-rochana(0.001)  graphium-aristeus(0.001)  \n",
      "sebastonyma-dolopia           : \u001b[32msebastonyma-dolopia\u001b[0m(0.972)  halpe-zema(0.027)  halpe-porus(0.000)  \n",
      "sinthusa-chandrana-2          : hypolycaena-kina(0.815)  \u001b[32msinthusa-chandrana\u001b[0m(0.131)  hypolycaena-nilgirica(0.016)  \n",
      "sinthusa-chandrana-4          : arhopala-abseus(0.380)  flos-chinensis(0.159)  flos-areste(0.132)  \n",
      "sinthusa-chandrana            : \u001b[32msinthusa-chandrana\u001b[0m(0.988)  virachola-isocrates(0.003)  catochrysops-panormus(0.003)  \n",
      "tajuria-yajna-2               : \u001b[32mtajuria-yajna\u001b[0m(0.385)  tajuria-melastigma(0.106)  rapala-lankana(0.081)  \n",
      "tajuria-yajna-3               : tajuria-cippus(0.707)  horaga-onyx(0.067)  jamides-bochus(0.050)  \n",
      "tajuria-yajna-4               : remelana-jangala(0.819)  \u001b[32mtajuria-yajna\u001b[0m(0.121)  horaga-viola(0.018)  \n",
      "tajuria-yajna                 : \u001b[32mtajuria-yajna\u001b[0m(0.449)  remelana-jangala(0.318)  rapala-tara(0.128)  \n",
      "tarucus-balkanica-2           : \u001b[32mtarucus-balkanica\u001b[0m(0.750)  tarucus-nara(0.066)  tarucus-spp(0.060)  \n",
      "tarucus-balkanica-5           : \u001b[32mtarucus-balkanica\u001b[0m(0.229)  tarucus-nara(0.190)  tarucus-indica(0.170)  \n",
      "tarucus-balkanica             : \u001b[32mtarucus-balkanica\u001b[0m(0.425)  tarucus-spp(0.253)  tarucus-nara(0.206)  \n",
      "tarucus-indica                : tarucus-balkanica(0.438)  \u001b[32mtarucus-indica\u001b[0m(0.244)  tarucus-spp(0.119)  \n",
      "tarucus-nara                  : tarucus-balkanica(0.465)  tarucus-spp(0.237)  \u001b[32mtarucus-nara\u001b[0m(0.218)  \n",
      "tarucus-venosus               : tarucus-balkanica(0.598)  tarucus-spp(0.145)  tarucus-nara(0.137)  \n",
      "thoressa-cerata-2             : \u001b[32mthoressa-cerata\u001b[0m(0.665)  thoressa-astigmata(0.272)  thoressa-sitala(0.046)  \n",
      "thoressa-cerata-3             : \u001b[32mthoressa-cerata\u001b[0m(0.321)  thoressa-astigmata(0.310)  halpe-aucma(0.138)  \n",
      "thoressa-cerata               : \u001b[32mthoressa-cerata\u001b[0m(0.982)  aulocera-aulocera-spp(0.006)  sebastonyma-dolopia(0.003)  \n",
      "tirumala-limniace-2           : \u001b[32mtirumala-limniace\u001b[0m(0.968)  tirumala-septentrionis(0.017)  argynnis-jainadeva(0.004)  \n",
      "tirumala-limniace-3           : \u001b[32mtirumala-limniace\u001b[0m(0.989)  tirumala-septentrionis(0.007)  ideopsis-juventa(0.001)  \n",
      "tirumala-limniace             : \u001b[32mtirumala-limniace\u001b[0m(0.730)  tirumala-septentrionis(0.155)  ideopsis-juventa(0.031)  \n",
      "tirumala-septentrionis-2      : \u001b[32mtirumala-septentrionis\u001b[0m(0.957)  tirumala-limniace(0.033)  ideopsis-juventa(0.004)  \n",
      "tirumala-septentrionis-3      : \u001b[32mtirumala-septentrionis\u001b[0m(0.737)  tirumala-limniace(0.140)  ideopsis-juventa(0.040)  \n",
      "tirumala-septentrionis-4      : \u001b[32mtirumala-septentrionis\u001b[0m(0.491)  ideopsis-similis(0.226)  euploea-mulciber(0.115)  \n",
      "tirumala-septentrionis        : \u001b[32mtirumala-septentrionis\u001b[0m(0.863)  ideopsis-juventa(0.029)  parantica-nilgiriensis(0.028)  \n",
      "ypthima-baldus-2              : \u001b[32mypthima-baldus\u001b[0m(0.642)  ypthima-huebneri(0.116)  ypthima-singala(0.093)  \n",
      "ypthima-baldus-3              : ypthima-singala(0.774)  \u001b[32mypthima-baldus\u001b[0m(0.079)  ypthima-ypthima-spp(0.041)  \n",
      "ypthima-baldus-4              : ypthima-ypthima-spp(0.492)  ypthima-sakra(0.156)  \u001b[32mypthima-baldus\u001b[0m(0.120)  \n",
      "ypthima-baldus-5              : ypthima-huebneri(0.688)  ypthima-ypthima-spp(0.121)  \u001b[32mypthima-baldus\u001b[0m(0.089)  \n",
      "ypthima-baldus-6              : ypthima-ceylonica(0.811)  ypthima-ypthima-spp(0.054)  ypthima-chenu(0.027)  \n",
      "ypthima-baldus                : \u001b[32mypthima-baldus\u001b[0m(0.675)  ypthima-huebneri(0.136)  ypthima-tabella(0.062)  \n",
      "zipaetis-scylax-2             : \u001b[32mzipaetis-scylax\u001b[0m(0.993)  lethe-naga(0.002)  papilio-protenor(0.001)  \n",
      "zipaetis-scylax               : \u001b[32mzipaetis-scylax\u001b[0m(0.988)  ethope-himachala(0.006)  lethe-naga(0.003)  \n",
      "zizina-otis-2                 : \u001b[32mzizina-otis\u001b[0m(0.839)  zizeeria-karsandra(0.151)  pseudozizeeria-maha(0.006)  \n",
      "zizina-otis-3                 : everes-argiades(0.368)  everes-hugelii(0.351)  \u001b[32mzizina-otis\u001b[0m(0.082)  \n",
      "zizina-otis-4                 : zizeeria-karsandra(0.544)  \u001b[32mzizina-otis\u001b[0m(0.265)  pseudozizeeria-maha(0.160)  \n",
      "zizina-otis                   : chilades-lajus(0.206)  everes-hugelii(0.202)  chilades-pandava(0.196)  \n",
      "----------\n",
      "Top   1 accuracy: 113/153 -> 73.86%, genus matched: 139/153 -> 90.85%\n",
      "Top   3 accuracy: 135/153 -> 88.24%, genus matched: 150/153 -> 98.04%\n",
      "Top   5 accuracy: 139/153 -> 90.85%, genus matched: 152/153 -> 99.35%\n",
      "Top  10 accuracy: 145/153 -> 94.77%, genus matched: 153/153 -> 100.00%\n"
     ]
    }
   ],
   "source": [
    "test_top_k(model_data, f\"{dataset_dir}/random-test\", 3, print_preds=True, print_top1_accuracy=True, print_no_match=False)\n",
    "test_top_k(model_data, f\"{dataset_dir}/random-test\", 5, print_preds=False, print_top1_accuracy=False)\n",
    "test_top_k(model_data, f\"{dataset_dir}/random-test\", 10, print_preds=False, print_top1_accuracy=False)"
   ]
  },
  {
   "cell_type": "code",
   "execution_count": 55,
   "id": "f61c6941-d5ca-4b45-baf3-4cb8857f899e",
   "metadata": {
    "scrolled": true
   },
   "outputs": [
    {
     "name": "stdout",
     "output_type": "stream",
     "text": [
      "acraea-terpsicore             : \u001b[32macraea-terpsicore\u001b[0m(0.990)  coladenia-indrani(0.006)  byblia-ilithyia(0.001)  \n",
      "athyma-pravara                : neptis-neptis-spp(0.583)  neptis-clinia(0.282)  athyma-kanwa(0.063)  \n",
      "colias-fieldii                : \u001b[32mcolias-fieldii\u001b[0m(0.975)  colias-erate(0.017)  colias-nilagiriensis(0.007)  \n",
      "danaus-melanippus             : \u001b[32mdanaus-melanippus\u001b[0m(0.995)  danaus-genutia(0.002)  parantica-melaneus(0.000)  \n",
      "delias-descombesi             : \u001b[32mdelias-descombesi\u001b[0m(0.980)  delias-hyparete(0.009)  delias-eucharis(0.003)  \n",
      "euploea-core                  : \u001b[32meuploea-core\u001b[0m(0.767)  euploea-sylvester(0.180)  euploea-doubledayi(0.019)  \n",
      "graphium-doson                : \u001b[32mgraphium-doson\u001b[0m(0.993)  graphium-eurypylus(0.003)  sumalia-daraxa(0.002)  \n",
      "hypolimnas-bolina             : \u001b[32mhypolimnas-bolina\u001b[0m(0.999)  elymnias-patna(0.000)  lethe-dura(0.000)  \n",
      "kallima-inachus               : \u001b[32mkallima-inachus\u001b[0m(0.995)  doleschallia-bisaltide(0.004)  kallima-albofasciata(0.000)  \n",
      "lethe-verma                   : \u001b[32mlethe-verma\u001b[0m(0.937)  lethe-naga(0.030)  orsotriaena-medus(0.008)  \n",
      "melanitis-leda                : \u001b[32mmelanitis-leda\u001b[0m(0.775)  melanitis-phedima(0.148)  melanitis-zitenius(0.037)  \n",
      "papilio-bianor                : \u001b[32mpapilio-bianor\u001b[0m(0.968)  papilio-polyctor(0.017)  papilio-buddha(0.002)  \n",
      "papilio-paris                 : papilio-bianor(0.854)  \u001b[32mpapilio-paris\u001b[0m(0.077)  papilio-helenus(0.020)  \n",
      "parantica-sita                : parantica-melaneus(0.707)  \u001b[32mparantica-sita\u001b[0m(0.228)  parantica-pedonga(0.033)  \n",
      "phalanta-phalantha            : \u001b[32mphalanta-phalantha\u001b[0m(0.998)  phalanta-alcippe(0.002)  cupha-erymanthis(0.000)  \n",
      "symbrenthia-lilaea            : \u001b[32msymbrenthia-lilaea\u001b[0m(0.963)  herona-marathus(0.010)  neptis-radha(0.006)  \n",
      "troides-minos                 : \u001b[32mtroides-minos\u001b[0m(0.916)  troides-helena(0.043)  troides-aeacus(0.037)  \n",
      "vanessa-indica                : \u001b[32mvanessa-indica\u001b[0m(0.989)  vanessa-cardui(0.006)  sephisa-chandra(0.002)  \n",
      "vindula-dejone                : vindula-erota(0.999)  charaxes-kahruba(0.000)  cirrochroa-thais(0.000)  \n",
      "zemeros-flegyas               : \u001b[32mzemeros-flegyas\u001b[0m(0.999)  lethe-siderea(0.000)  taxila-haquinus(0.000)  \n",
      "----------\n",
      "Top   1 accuracy: 16/20 -> 80.00%, genus matched: 19/20 -> 95.00%\n",
      "Top   3 accuracy: 18/20 -> 90.00%, genus matched: 20/20 -> 100.00%\n",
      "Top   5 accuracy: 18/20 -> 90.00%, genus matched: 20/20 -> 100.00%\n",
      "Top  10 accuracy: 19/20 -> 95.00%, genus matched: 20/20 -> 100.00%\n"
     ]
    }
   ],
   "source": [
    "test_top_k(model_data, f\"{dataset_dir}/my-test\", 3, print_preds=True, print_top1_accuracy=True, print_no_match=False)\n",
    "test_top_k(model_data, f\"{dataset_dir}/my-test\", 5, print_preds=False, print_top1_accuracy=False)\n",
    "test_top_k(model_data, f\"{dataset_dir}/my-test\", 10, print_preds=False, print_top1_accuracy=False)"
   ]
  },
  {
   "cell_type": "code",
   "execution_count": 56,
   "id": "99142aa2-b208-42a8-bccd-de75bc17cd8f",
   "metadata": {
    "scrolled": true
   },
   "outputs": [
    {
     "name": "stdout",
     "output_type": "stream",
     "text": [
      "caltoris-aurociliata-2: \n",
      "\t \u001b[33mcaltoris-kumara\u001b[0m(0.515)  \u001b[33mcaltoris-caltoris-spp\u001b[0m(0.318)  \u001b[33mcaltoris-philippina\u001b[0m(0.092)  \u001b[33mbaorini-baorini-spp\u001b[0m(0.037)  \n",
      "\t \u001b[33mbaoris-farri\u001b[0m(0.011)  \u001b[33mcaltoris-canaraica\u001b[0m(0.002)  \u001b[33mancistroides-nigrita\u001b[0m(0.002)  \u001b[33mbaoris-pagana\u001b[0m(0.002)  \n",
      "\t \u001b[33miambrix-salsala\u001b[0m(0.001)  \u001b[33mtelinga-oculus\u001b[0m(0.001)  \n",
      "caltoris-aurociliata: \n",
      "\t \u001b[33mcaltoris-caltoris-spp\u001b[0m(0.414)  \u001b[33mcaltoris-kumara\u001b[0m(0.340)  \u001b[33mcaltoris-philippina\u001b[0m(0.052)  \u001b[33mpelopidas-assamensis\u001b[0m(0.033)  \n",
      "\t \u001b[33mbaoris-farri\u001b[0m(0.028)  \u001b[33mbaoris-chapmani\u001b[0m(0.027)  \u001b[33mnotocrypta-feisthamelii\u001b[0m(0.025)  \u001b[33mbaorini-baorini-spp\u001b[0m(0.016)  \n",
      "\t \u001b[33mbaoris-unicolor\u001b[0m(0.012)  \u001b[33mancistroides-nigrita\u001b[0m(0.011)  \n",
      "neptis-zaida-2: \n",
      "\t \u001b[33mneptis-miah\u001b[0m(0.641)  \u001b[33mlasippa-viraja\u001b[0m(0.169)  \u001b[33mneptis-namba\u001b[0m(0.052)  \u001b[33mneptis-ananta\u001b[0m(0.050)  \n",
      "\t \u001b[33mpantoporia-hordonia\u001b[0m(0.031)  \u001b[33mneptis-narayana\u001b[0m(0.014)  \u001b[33mpantoporia-assamica\u001b[0m(0.008)  \u001b[33mpantoporia-pantoporia-spp\u001b[0m(0.006)  \n",
      "\t \u001b[33mneptis-radha\u001b[0m(0.005)  \u001b[33mneptis-nana\u001b[0m(0.004)  \n",
      "potanthus-trachala-2: \n",
      "\t \u001b[33mpotanthus-potanthus-spp\u001b[0m(0.346)  \u001b[33moriens-goloides\u001b[0m(0.321)  \u001b[33mtaractrocera-ceramas\u001b[0m(0.160)  \u001b[33mampittia-dioscorides\u001b[0m(0.066)  \n",
      "\t \u001b[33moriens-gola\u001b[0m(0.032)  \u001b[33mtelicota-bambusae\u001b[0m(0.020)  \u001b[33moriens-concinna\u001b[0m(0.013)  \u001b[33mtelicota-telicota-spp\u001b[0m(0.012)  \n",
      "\t \u001b[33mtelicota-colon\u001b[0m(0.005)  \u001b[33mcephrenes-acalle\u001b[0m(0.003)  \n",
      "potanthus-trachala-5: \n",
      "\t \u001b[33mpotanthus-potanthus-spp\u001b[0m(0.434)  \u001b[33mampittia-dioscorides\u001b[0m(0.271)  \u001b[33mcephrenes-acalle\u001b[0m(0.071)  \u001b[33msalanoemia-noemi\u001b[0m(0.054)  \n",
      "\t \u001b[33mtaractrocera-ceramas\u001b[0m(0.045)  \u001b[33mtelicota-bambusae\u001b[0m(0.032)  \u001b[33mthoressa-honorei\u001b[0m(0.028)  \u001b[33mtelicota-telicota-spp\u001b[0m(0.010)  \n",
      "\t \u001b[33mtelicota-colon\u001b[0m(0.009)  \u001b[33macraea-issoria\u001b[0m(0.006)  \n",
      "potanthus-trachala: \n",
      "\t \u001b[33mpotanthus-potanthus-spp\u001b[0m(0.528)  \u001b[33mampittia-dioscorides\u001b[0m(0.235)  \u001b[33mcephrenes-acalle\u001b[0m(0.051)  \u001b[33msalanoemia-noemi\u001b[0m(0.031)  \n",
      "\t \u001b[33mthoressa-honorei\u001b[0m(0.025)  \u001b[33mtaractrocera-ceramas\u001b[0m(0.024)  \u001b[33mtelicota-bambusae\u001b[0m(0.015)  \u001b[33mtelicota-telicota-spp\u001b[0m(0.010)  \n",
      "\t \u001b[33macraea-issoria\u001b[0m(0.009)  \u001b[33mtelicota-colon\u001b[0m(0.008)  \n",
      "tajuria-yajna-3: \n",
      "\t \u001b[33mtajuria-cippus\u001b[0m(0.707)  \u001b[33mhoraga-onyx\u001b[0m(0.067)  \u001b[33mjamides-bochus\u001b[0m(0.050)  \u001b[33mpratapa-icetas\u001b[0m(0.048)  \n",
      "\t \u001b[33mheliophorus-moorei\u001b[0m(0.023)  \u001b[33miraota-rochana\u001b[0m(0.021)  \u001b[33mpapilio-buddha\u001b[0m(0.018)  \u001b[33mancema-sudica\u001b[0m(0.014)  \n",
      "\t \u001b[33mancema-blanka\u001b[0m(0.014)  \u001b[33mpratapa-deva\u001b[0m(0.012)  \n",
      "ypthima-baldus-6: \n",
      "\t \u001b[33mypthima-ceylonica\u001b[0m(0.811)  \u001b[33mypthima-ypthima-spp\u001b[0m(0.054)  \u001b[33mypthima-chenu\u001b[0m(0.027)  \u001b[33mypthima-striata\u001b[0m(0.024)  \n",
      "\t \u001b[33mypthima-huebneri\u001b[0m(0.020)  \u001b[33mypthima-singala\u001b[0m(0.016)  \u001b[33mcallerebia-dibangensis\u001b[0m(0.007)  \u001b[33mypthima-indecora\u001b[0m(0.006)  \n",
      "\t \u001b[33mypthima-cantliei\u001b[0m(0.003)  \u001b[33mypthima-ypthimoides\u001b[0m(0.002)  \n",
      "Top  10 accuracy: 145/153 -> 94.77%, genus matched: 153/153 -> 100.00%\n"
     ]
    }
   ],
   "source": [
    "test_top_k(model_data, f\"{dataset_dir}/random-test\", 10, print_preds=False, print_top1_accuracy=False, print_no_match=True)"
   ]
  },
  {
   "cell_type": "code",
   "execution_count": 57,
   "id": "a81840f0-421c-42a6-a40e-00110fe1a473",
   "metadata": {},
   "outputs": [
    {
     "name": "stdout",
     "output_type": "stream",
     "text": [
      "vindula-dejone: \n",
      "\t \u001b[33mvindula-erota\u001b[0m(0.999)  \u001b[33mcharaxes-kahruba\u001b[0m(0.000)  \u001b[33mcirrochroa-thais\u001b[0m(0.000)  \u001b[33mcirrochroa-aoris\u001b[0m(0.000)  \n",
      "\t \u001b[33mvagrans-egista\u001b[0m(0.000)  \u001b[33mcharaxes-marmax\u001b[0m(0.000)  \u001b[33mcirrochroa-tyche\u001b[0m(0.000)  \u001b[33mstichophthalma-sparta\u001b[0m(0.000)  \n",
      "\t \u001b[33mphalanta-phalantha\u001b[0m(0.000)  \u001b[33mcharaxes-aristogiton\u001b[0m(0.000)  \n",
      "Top  10 accuracy: 19/20 -> 95.00%, genus matched: 20/20 -> 100.00%\n"
     ]
    }
   ],
   "source": [
    "test_top_k(model_data, f\"{dataset_dir}/my-test\", 10, print_preds=False, print_top1_accuracy=False, print_no_match=True)"
   ]
  },
  {
   "cell_type": "code",
   "execution_count": null,
   "id": "3f2dda18-f89f-475d-9771-33fe8b7b34b2",
   "metadata": {},
   "outputs": [],
   "source": []
  },
  {
   "cell_type": "code",
   "execution_count": null,
   "id": "fd5ac568-bfca-43ad-a258-002cea5ae99e",
   "metadata": {},
   "outputs": [],
   "source": []
  },
  {
   "cell_type": "code",
   "execution_count": null,
   "id": "2a7a938a-a9b5-4ed2-828b-7a0cbec81095",
   "metadata": {},
   "outputs": [],
   "source": []
  }
 ],
 "metadata": {
  "kernelspec": {
   "display_name": "Python 3 (ipykernel)",
   "language": "python",
   "name": "python3"
  },
  "language_info": {
   "codemirror_mode": {
    "name": "ipython",
    "version": 3
   },
   "file_extension": ".py",
   "mimetype": "text/x-python",
   "name": "python",
   "nbconvert_exporter": "python",
   "pygments_lexer": "ipython3",
   "version": "3.12.9"
  }
 },
 "nbformat": 4,
 "nbformat_minor": 5
}
