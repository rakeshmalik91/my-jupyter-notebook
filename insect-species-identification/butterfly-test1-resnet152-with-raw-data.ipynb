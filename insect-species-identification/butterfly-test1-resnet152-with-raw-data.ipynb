{
 "cells": [
  {
   "cell_type": "code",
   "execution_count": 1,
   "id": "83030a28-df29-49db-9a28-b766af6a551c",
   "metadata": {},
   "outputs": [],
   "source": [
    "import mynnlib\n",
    "from mynnlib import *\n",
    "\n",
    "dataset_dir = \"insect-dataset/butterfly\""
   ]
  },
  {
   "cell_type": "code",
   "execution_count": 8,
   "id": "3e29f5fe-f21e-40fc-aa4e-4f0266a56f54",
   "metadata": {},
   "outputs": [
    {
     "name": "stdout",
     "output_type": "stream",
     "text": [
      "Adult class count: 423\n",
      "Early class count: 139\n"
     ]
    }
   ],
   "source": [
    "# copy only adult data to separate folder\n",
    "\n",
    "adult_class_cnt = 0\n",
    "early_class_cnt = 0\n",
    "adult_data_dir = f\"{dataset_dir}/adult-data\"\n",
    "\n",
    "if species_dir.is_dir():\n",
    "    os.rmdir(adult_data_dir)\n",
    "for species_dir in Path(f\"{dataset_dir}/data\").iterdir():\n",
    "    if species_dir.is_dir() and species_dir.name.endswith('-early'):\n",
    "        early_class_cnt += 1\n",
    "    else:\n",
    "        shutil.copytree(species_dir, f\"{adult_data_dir}/{species_dir.name}\")\n",
    "        adult_class_cnt += 1\n",
    "\n",
    "print(f\"Adult class count: {adult_class_cnt}\")\n",
    "print(f\"Early class count: {early_class_cnt}\")"
   ]
  },
  {
   "cell_type": "markdown",
   "id": "05cb26f1-6357-4c3e-a15c-e2d0fb852215",
   "metadata": {},
   "source": [
    "# A. Train with all data"
   ]
  },
  {
   "cell_type": "code",
   "execution_count": null,
   "id": "566a4542-a632-4677-9923-549e1698d81c",
   "metadata": {},
   "outputs": [],
   "source": [
    "split_data_for_train_and_val(f\"{dataset_dir}/data\", \n",
    "                             f\"{dataset_dir}/splits/test\", f\"{dataset_dir}/splits/val\", f\"{dataset_dir}/splits/train\", \n",
    "                             test_data_weight=0.05, val_data_weight=0.1, min_file_cnt_for_val=4)"
   ]
  },
  {
   "cell_type": "code",
   "execution_count": null,
   "id": "8d0ccf48-e0a4-4b33-b935-eef027c40906",
   "metadata": {},
   "outputs": [],
   "source": [
    "model_data = init_model_for_training(f'{dataset_dir}/data', f'{dataset_dir}/splits/val', batch_size=32, arch=\"resnet152\", image_size=224)"
   ]
  },
  {
   "cell_type": "code",
   "execution_count": null,
   "id": "373e51d6-c4f4-4efa-a5c2-ec7865d2a322",
   "metadata": {},
   "outputs": [],
   "source": [
    "train(model_data, 25, f\"{dataset_dir}/checkpoint_latest.pth\")"
   ]
  },
  {
   "cell_type": "code",
   "execution_count": null,
   "id": "c19edb33-db95-4af3-bf4e-3a750a434f6b",
   "metadata": {},
   "outputs": [],
   "source": [
    "shutil.copy(f\"{dataset_dir}/checkpoint_latest.pth\", f\"{dataset_dir}/checkpoint.resnet152.ifoundbutterflies.raw.{datetime.datetime.now().strftime(\"%Y.%m.%d\")}.25x100%.pth\")"
   ]
  },
  {
   "cell_type": "code",
   "execution_count": null,
   "id": "72768db5-5ad5-4744-a4d3-43c3c8c83565",
   "metadata": {},
   "outputs": [],
   "source": [
    "test(model_data, f\"{dataset_dir}/splits/test\", False)"
   ]
  },
  {
   "cell_type": "code",
   "execution_count": null,
   "id": "f61c6941-d5ca-4b45-baf3-4cb8857f899e",
   "metadata": {},
   "outputs": [],
   "source": [
    "test_top_k(model_data, f\"{dataset_dir}/my-test\", 3)\n",
    "test_top_k(model_data, f\"{dataset_dir}/my-test\", 5, print_preds=False, print_top1_accuracy=False)\n",
    "test_top_k(model_data, f\"{dataset_dir}/my-test\", 10, print_preds=False, print_top1_accuracy=False)"
   ]
  },
  {
   "cell_type": "code",
   "execution_count": null,
   "id": "5c7c971a-67df-4d1d-8741-4fbcf09c73c7",
   "metadata": {},
   "outputs": [],
   "source": [
    "test_top_k(model_data, f\"{dataset_dir}/random-test\", 3)\n",
    "test_top_k(model_data, f\"{dataset_dir}/random-test\", 5, print_preds=False, print_top1_accuracy=False)\n",
    "test_top_k(model_data, f\"{dataset_dir}/random-test\", 10, print_preds=False, print_top1_accuracy=False)"
   ]
  },
  {
   "cell_type": "markdown",
   "id": "e3ad97e0-c589-4a28-b0f2-70b0024c0a44",
   "metadata": {},
   "source": [
    "# B. Train with only adult stage data"
   ]
  },
  {
   "cell_type": "code",
   "execution_count": null,
   "id": "9c47a8c8-6bcf-478f-89c2-f57f4bd558ca",
   "metadata": {},
   "outputs": [],
   "source": [
    "model_data = init_model_for_training(adult_data_dir, f'{dataset_dir}/splits/val', batch_size=32, arch=\"resnet152\", image_size=224)"
   ]
  },
  {
   "cell_type": "code",
   "execution_count": null,
   "id": "58dc93a7-612f-4b42-81be-bcbfcaee0502",
   "metadata": {},
   "outputs": [],
   "source": [
    "train(model_data, 25, f\"{dataset_dir}/checkpoint_latest.pth\")"
   ]
  },
  {
   "cell_type": "code",
   "execution_count": null,
   "id": "13c9c7bc-7f4f-40eb-805c-fcd14fe1f65e",
   "metadata": {},
   "outputs": [],
   "source": [
    "shutil.copy(f\"{dataset_dir}/checkpoint_latest.pth\", f\"{dataset_dir}/checkpoint.resnet152.ifoundbutterflies.adult.{datetime.datetime.now().strftime(\"%Y.%m.%d\")}.25x100%.pth\")"
   ]
  },
  {
   "cell_type": "code",
   "execution_count": null,
   "id": "9682c960-2dfc-4e3c-8efa-ffbe5e808b61",
   "metadata": {},
   "outputs": [],
   "source": [
    "test_top_k(model_data, f\"{dataset_dir}/my-test\", 3)\n",
    "test_top_k(model_data, f\"{dataset_dir}/my-test\", 5, print_preds=False, print_top1_accuracy=False)\n",
    "test_top_k(model_data, f\"{dataset_dir}/my-test\", 10, print_preds=False, print_top1_accuracy=False)"
   ]
  },
  {
   "cell_type": "code",
   "execution_count": null,
   "id": "c428fcd1-1e97-4265-8ea2-cda2dd96d941",
   "metadata": {},
   "outputs": [],
   "source": [
    "test_top_k(model_data, f\"{dataset_dir}/random-test\", 3)\n",
    "test_top_k(model_data, f\"{dataset_dir}/random-test\", 5, print_preds=False, print_top1_accuracy=False)\n",
    "test_top_k(model_data, f\"{dataset_dir}/random-test\", 10, print_preds=False, print_top1_accuracy=False)"
   ]
  }
 ],
 "metadata": {
  "kernelspec": {
   "display_name": "Python 3 (ipykernel)",
   "language": "python",
   "name": "python3"
  },
  "language_info": {
   "codemirror_mode": {
    "name": "ipython",
    "version": 3
   },
   "file_extension": ".py",
   "mimetype": "text/x-python",
   "name": "python",
   "nbconvert_exporter": "python",
   "pygments_lexer": "ipython3",
   "version": "3.12.8"
  }
 },
 "nbformat": 4,
 "nbformat_minor": 5
}
