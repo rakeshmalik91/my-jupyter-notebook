{
 "cells": [
  {
   "attachments": {},
   "cell_type": "markdown",
   "id": "38cbbf3b-bb94-401b-a900-a73beac24f4c",
   "metadata": {},
   "source": [
    "> 1. Butterflies have larger dataset. To check how it works\n",
    "> 2. Stop training when val acc not improving\n",
    "> 3. Use incremental training data augmentation (random flip/jitter/crop/rotation) based on val loss/acc\n",
    "> 4. Compare resnet-152 vs resnet-50"
   ]
  },
  {
   "cell_type": "code",
   "execution_count": 1,
   "id": "bff9e3ef-0b30-4926-8501-2358c72a0402",
   "metadata": {},
   "outputs": [],
   "source": [
    "%load_ext autoreload"
   ]
  },
  {
   "cell_type": "code",
   "execution_count": 2,
   "id": "4c537ca3-c514-42be-9b52-a04d82a5e5de",
   "metadata": {},
   "outputs": [],
   "source": [
    "%autoreload 2"
   ]
  },
  {
   "cell_type": "code",
   "execution_count": 4,
   "id": "83030a28-df29-49db-9a28-b766af6a551c",
   "metadata": {},
   "outputs": [],
   "source": [
    "import mynnlib\n",
    "from mynnlib import *\n",
    "\n",
    "dataset_dir = \"insect-dataset/butterfly\""
   ]
  },
  {
   "cell_type": "code",
   "execution_count": 5,
   "id": "3e29f5fe-f21e-40fc-aa4e-4f0266a56f54",
   "metadata": {},
   "outputs": [
    {
     "name": "stdout",
     "output_type": "stream",
     "text": [
      "Adult class count: 1125\n",
      "Early class count: 429\n"
     ]
    }
   ],
   "source": [
    "adult_class_cnt = 0\n",
    "early_class_cnt = 0\n",
    "adult_data_dir = f\"{dataset_dir}/adult-data\"\n",
    "\n",
    "if os.path.exists(adult_data_dir):\n",
    "        shutil.rmtree(adult_data_dir)\n",
    "\n",
    "for species_dir in Path(f\"{dataset_dir}/data\").iterdir():\n",
    "    if species_dir.is_dir() and species_dir.name.endswith('-early'):\n",
    "        early_class_cnt += 1\n",
    "    else:\n",
    "        adult_class_cnt += 1\n",
    "\n",
    "print(f\"Adult class count: {adult_class_cnt}\")\n",
    "print(f\"Early class count: {early_class_cnt}\")"
   ]
  },
  {
   "cell_type": "markdown",
   "id": "05cb26f1-6357-4c3e-a15c-e2d0fb852215",
   "metadata": {},
   "source": [
    "-------------\n",
    "# A. Train with subset of data (resnet-152)"
   ]
  },
  {
   "cell_type": "code",
   "execution_count": 6,
   "id": "0d240236-e248-4e04-9216-34d7c2e25f65",
   "metadata": {},
   "outputs": [
    {
     "name": "stdout",
     "output_type": "stream",
     "text": [
      "Class count: 246\n",
      "Total data count: 10155\n",
      "Training data count: 7165\n",
      "Validation data count: 1942\n",
      "Test data count: 1048\n"
     ]
    }
   ],
   "source": [
    "split_data_for_train_and_val(f\"{dataset_dir}/data\", \n",
    "                             f\"{dataset_dir}/splits/test\", f\"{dataset_dir}/splits/val\", f\"{dataset_dir}/splits/train\", \n",
    "                             test_data_weight=0.1, val_data_weight=0.2, min_file_cnt_for_val=4, \n",
    "                             class_name_filter_regex=r\"^[a-b].*$\")"
   ]
  },
  {
   "cell_type": "code",
   "execution_count": 10,
   "id": "8d0ccf48-e0a4-4b33-b935-eef027c40906",
   "metadata": {},
   "outputs": [
    {
     "name": "stdout",
     "output_type": "stream",
     "text": [
      "train class count: 246\n",
      "val class count: 212\n",
      "feature count: 2048\n",
      "device: cuda:0\n"
     ]
    }
   ],
   "source": [
    "model_data = init_model_for_training(f'{dataset_dir}/splits/train', f'{dataset_dir}/splits/val', \n",
    "                                     batch_size=32, arch=\"resnet152\", image_size=224, robustness=0.2)"
   ]
  },
  {
   "cell_type": "code",
   "execution_count": 11,
   "id": "373e51d6-c4f4-4efa-a5c2-ec7865d2a322",
   "metadata": {},
   "outputs": [
    {
     "name": "stdout",
     "output_type": "stream",
     "text": [
      "Epoch    1 /    2  | Train Loss: 3.2710 Acc: 0.2749  | Val Loss: 2.6863 Acc: 0.3641  | Elapsed time: 0:01:59.682746\n",
      "Epoch    2 /    2  | Train Loss: 1.4196 Acc: 0.6127  | Val Loss: 1.5306 Acc: 0.5917  | Elapsed time: 0:04:05.166557\n"
     ]
    }
   ],
   "source": [
    "train(model_data, 2, f\"{dataset_dir}/checkpoint.butterfly.subset.pth\")"
   ]
  },
  {
   "cell_type": "code",
   "execution_count": 14,
   "id": "9848b415-37af-4ddd-9339-f476bc417c4d",
   "metadata": {},
   "outputs": [
    {
     "name": "stdout",
     "output_type": "stream",
     "text": [
      "train class count: 246\n",
      "val class count: 212\n",
      "0 new classes added: []\n",
      "feature count: 2048\n",
      "device: cuda:0\n"
     ]
    }
   ],
   "source": [
    "model_data = prepare_for_retraining(model_data, f'{dataset_dir}/splits/train', f'{dataset_dir}/splits/val', \n",
    "                                    batch_size=32, image_size=224, robustness=0.5)"
   ]
  },
  {
   "cell_type": "code",
   "execution_count": 15,
   "id": "0d345b20-7004-4257-8ba3-65f3501a70a2",
   "metadata": {},
   "outputs": [
    {
     "name": "stdout",
     "output_type": "stream",
     "text": [
      "Epoch    1 /    3  | Train Loss: 2.0365 Acc: 0.4843  | Val Loss: 2.1198 Acc: 0.4598  | Elapsed time: 0:02:09.879565\n",
      "Epoch    2 /    3  | Train Loss: 1.6094 Acc: 0.5786  | Val Loss: 1.5173 Acc: 0.5984  | Elapsed time: 0:04:20.903457\n",
      "Epoch    3 /    3  | Train Loss: 1.4076 Acc: 0.6186  | Val Loss: 1.3476 Acc: 0.6473  | Elapsed time: 0:06:32.295907\n"
     ]
    }
   ],
   "source": [
    "train(model_data, 3, f\"{dataset_dir}/checkpoint.butterfly.subset.pth\", break_at_val_acc_diff=0.05)"
   ]
  },
  {
   "cell_type": "code",
   "execution_count": 16,
   "id": "204d2dd3-efb3-48e8-80ca-eef5b6e7880e",
   "metadata": {},
   "outputs": [
    {
     "name": "stdout",
     "output_type": "stream",
     "text": [
      "train class count: 246\n",
      "val class count: 212\n",
      "0 new classes added: []\n",
      "feature count: 2048\n",
      "device: cuda:0\n"
     ]
    }
   ],
   "source": [
    "model_data = prepare_for_retraining(model_data, f'{dataset_dir}/splits/train', f'{dataset_dir}/splits/val', \n",
    "                                    batch_size=32, image_size=224, robustness=1.0)"
   ]
  },
  {
   "cell_type": "code",
   "execution_count": 17,
   "id": "e324d339-1205-48d9-9e3c-b50fc32d9b44",
   "metadata": {},
   "outputs": [
    {
     "name": "stdout",
     "output_type": "stream",
     "text": [
      "Epoch    1 /    5  | Train Loss: 1.3403 Acc: 0.6374  | Val Loss: 1.5668 Acc: 0.5850  | Elapsed time: 0:02:13.577118\n",
      "Epoch    2 /    5  | Train Loss: 1.2182 Acc: 0.6705  | Val Loss: 1.3661 Acc: 0.6370  | Elapsed time: 0:04:31.595314\n",
      "Epoch    3 /    5  | Train Loss: 0.9580 Acc: 0.7421  | Val Loss: 1.0350 Acc: 0.7276  | Elapsed time: 0:06:44.813407\n",
      "Epoch    4 /    5  | Train Loss: 0.8063 Acc: 0.7838  | Val Loss: 1.0002 Acc: 0.7364  | Elapsed time: 0:08:57.556221\n"
     ]
    }
   ],
   "source": [
    "train(model_data, 5, f\"{dataset_dir}/checkpoint.butterfly.subset.pth\", break_at_val_acc_diff=0.05)"
   ]
  },
  {
   "cell_type": "code",
   "execution_count": 18,
   "id": "cc47bae8-dbe5-4549-a944-67997cfecd03",
   "metadata": {},
   "outputs": [
    {
     "name": "stdout",
     "output_type": "stream",
     "text": [
      "Epoch    1 /    5  | Train Loss: 0.7660 Acc: 0.7946  | Val Loss: 1.0211 Acc: 0.7327  | Elapsed time: 0:02:11.187269\n",
      "Epoch    2 /    5  | Train Loss: 0.7135 Acc: 0.8039  | Val Loss: 1.0096 Acc: 0.7400  | Elapsed time: 0:04:24.643225\n"
     ]
    }
   ],
   "source": [
    "train(model_data, 5, f\"{dataset_dir}/checkpoint.butterfly.subset.pth\", break_at_val_acc_diff=0.05)"
   ]
  },
  {
   "cell_type": "code",
   "execution_count": 19,
   "id": "325a10ca-b075-457b-95d3-c518e14cddcc",
   "metadata": {},
   "outputs": [
    {
     "name": "stdout",
     "output_type": "stream",
     "text": [
      "Epoch    1 /    5  | Train Loss: 0.6945 Acc: 0.8088  | Val Loss: 1.0044 Acc: 0.7420  | Elapsed time: 0:02:08.412037\n",
      "Epoch    2 /    5  | Train Loss: 0.6495 Acc: 0.8233  | Val Loss: 0.9854 Acc: 0.7518  | Elapsed time: 0:04:19.903302\n",
      "Epoch    3 /    5  | Train Loss: 0.6396 Acc: 0.8314  | Val Loss: 0.9098 Acc: 0.7642  | Elapsed time: 0:06:33.198182\n",
      "Epoch    4 /    5  | Train Loss: 0.5850 Acc: 0.8442  | Val Loss: 0.9160 Acc: 0.7616  | Elapsed time: 0:08:45.635875\n",
      "Epoch    5 /    5  | Train Loss: 0.5944 Acc: 0.8447  | Val Loss: 0.9069 Acc: 0.7698  | Elapsed time: 0:10:59.092743\n"
     ]
    }
   ],
   "source": [
    "train(model_data, 5, f\"{dataset_dir}/checkpoint.butterfly.subset.pth\", break_at_val_acc_diff=0.01)"
   ]
  },
  {
   "cell_type": "code",
   "execution_count": 20,
   "id": "c4208664-c961-4902-bf9a-8f4818939300",
   "metadata": {},
   "outputs": [
    {
     "name": "stdout",
     "output_type": "stream",
     "text": [
      "train class count: 246\n",
      "val class count: 212\n",
      "0 new classes added: []\n",
      "feature count: 2048\n",
      "device: cuda:0\n"
     ]
    }
   ],
   "source": [
    "model_data = prepare_for_retraining(model_data, f'{dataset_dir}/splits/train', f'{dataset_dir}/splits/val', \n",
    "                                    batch_size=32, image_size=224, robustness=2.0)"
   ]
  },
  {
   "cell_type": "code",
   "execution_count": 21,
   "id": "c0950498-11c8-4c10-b546-b7b7b0bc9403",
   "metadata": {},
   "outputs": [
    {
     "name": "stdout",
     "output_type": "stream",
     "text": [
      "Epoch    1 /    5  | Train Loss: 0.6543 Acc: 0.8303  | Val Loss: 0.9278 Acc: 0.7667  | Elapsed time: 0:02:07.032418\n",
      "Epoch    2 /    5  | Train Loss: 0.6352 Acc: 0.8331  | Val Loss: 0.9320 Acc: 0.7657  | Elapsed time: 0:04:19.193135\n"
     ]
    }
   ],
   "source": [
    "train(model_data, 5, f\"{dataset_dir}/checkpoint.butterfly.subset.pth\", break_at_val_acc_diff=0.01)"
   ]
  },
  {
   "cell_type": "code",
   "execution_count": 22,
   "id": "42362fb8-0dcc-451b-86c5-e786c1bd8809",
   "metadata": {},
   "outputs": [
    {
     "name": "stdout",
     "output_type": "stream",
     "text": [
      "Epoch    1 /    5  | Train Loss: 0.6592 Acc: 0.8262  | Val Loss: 0.9219 Acc: 0.7667  | Elapsed time: 0:02:07.975810\n",
      "Epoch    2 /    5  | Train Loss: 0.6441 Acc: 0.8251  | Val Loss: 0.9200 Acc: 0.7714  | Elapsed time: 0:04:20.413373\n"
     ]
    }
   ],
   "source": [
    "train(model_data, 5, f\"{dataset_dir}/checkpoint.butterfly.subset.pth\", break_at_val_acc_diff=0.005)"
   ]
  },
  {
   "cell_type": "code",
   "execution_count": null,
   "id": "195fd4c0-9de0-4bf5-bbed-57adb3b8531d",
   "metadata": {},
   "outputs": [],
   "source": []
  },
  {
   "cell_type": "code",
   "execution_count": null,
   "id": "e54584fc-2080-472b-ad13-67d44584e90d",
   "metadata": {},
   "outputs": [],
   "source": []
  },
  {
   "cell_type": "code",
   "execution_count": null,
   "id": "ac486e3a-3d03-455a-a4de-20ef1da56695",
   "metadata": {},
   "outputs": [],
   "source": []
  },
  {
   "cell_type": "code",
   "execution_count": null,
   "id": "247eb300-7d35-47e2-ae32-cca968521e21",
   "metadata": {},
   "outputs": [],
   "source": []
  },
  {
   "cell_type": "code",
   "execution_count": null,
   "id": "01740de7-4491-47f3-894c-87d83676b0e1",
   "metadata": {},
   "outputs": [],
   "source": []
  },
  {
   "cell_type": "code",
   "execution_count": null,
   "id": "9bd2c588-e6de-4e1c-8cb8-7dab91ee0b2a",
   "metadata": {},
   "outputs": [],
   "source": []
  },
  {
   "cell_type": "markdown",
   "id": "2879b1b6-4ecb-4f88-8fa0-1be403446b31",
   "metadata": {},
   "source": [
    "--------------\n",
    "# B. Train with subset of data (resnet-50)"
   ]
  },
  {
   "cell_type": "code",
   "execution_count": 49,
   "id": "c327f1ad-211a-4552-b5a2-253f049363d7",
   "metadata": {},
   "outputs": [
    {
     "name": "stdout",
     "output_type": "stream",
     "text": [
      "Class count: 246\n",
      "Total data count: 10155\n",
      "Training data count: 7060\n",
      "Validation data count: 2068\n",
      "Test data count: 1027\n"
     ]
    }
   ],
   "source": [
    "split_data_for_train_and_val(f\"{dataset_dir}/data\", \n",
    "                             f\"{dataset_dir}/splits/test\", f\"{dataset_dir}/splits/val\", f\"{dataset_dir}/splits/train\", \n",
    "                             test_data_weight=0.1, val_data_weight=0.2, min_file_cnt_for_val=4, \n",
    "                             class_name_filter_regex=r\"^[a-b].*$\")"
   ]
  },
  {
   "cell_type": "code",
   "execution_count": 53,
   "id": "ae757df8-7112-4980-91c1-84d8187408c9",
   "metadata": {},
   "outputs": [
    {
     "name": "stdout",
     "output_type": "stream",
     "text": [
      "train class count: 246\n",
      "val class count: 211\n"
     ]
    },
    {
     "name": "stderr",
     "output_type": "stream",
     "text": [
      "Downloading: \"https://download.pytorch.org/models/resnet50-11ad3fa6.pth\" to C:\\Users\\User/.cache\\torch\\hub\\checkpoints\\resnet50-11ad3fa6.pth\n",
      "100%|█████████████████████████████████████████████████████████████████████████████| 97.8M/97.8M [00:15<00:00, 6.52MB/s]\n"
     ]
    },
    {
     "name": "stdout",
     "output_type": "stream",
     "text": [
      "feature count: 2048\n",
      "device: cuda:0\n"
     ]
    }
   ],
   "source": [
    "model_data = init_model_for_training(f'{dataset_dir}/splits/train', f'{dataset_dir}/splits/val', \n",
    "                                     batch_size=32, arch=\"resnet50\", image_size=224, robustness=0.2)"
   ]
  },
  {
   "cell_type": "code",
   "execution_count": 54,
   "id": "dd6b7dbb-56bb-4dad-abf8-e5d5337e7545",
   "metadata": {},
   "outputs": [
    {
     "name": "stdout",
     "output_type": "stream",
     "text": [
      "Epoch    1 /    5  | Train Loss: 3.1341 Acc: 0.3255  | Val Loss: 1.9509 Acc: 0.5058  | Elapsed time: 0:01:24.441603\n",
      "Epoch    2 /    5  | Train Loss: 1.2130 Acc: 0.6697  | Val Loss: 1.0899 Acc: 0.7070  | Elapsed time: 0:02:51.610204\n",
      "Epoch    3 /    5  | Train Loss: 0.5965 Acc: 0.8258  | Val Loss: 0.8393 Acc: 0.7664  | Elapsed time: 0:04:19.597776\n"
     ]
    }
   ],
   "source": [
    "train(model_data, 5, f\"{dataset_dir}/checkpoint.butterfly.subset.pth\", break_at_val_acc_diff=0.1)"
   ]
  },
  {
   "cell_type": "code",
   "execution_count": 55,
   "id": "5959458c-1a14-4bfc-aea6-74d526cea543",
   "metadata": {},
   "outputs": [
    {
     "name": "stdout",
     "output_type": "stream",
     "text": [
      "train class count: 246\n",
      "val class count: 211\n",
      "0 new classes added: []\n",
      "feature count: 2048\n",
      "device: cuda:0\n"
     ]
    }
   ],
   "source": [
    "model_data = prepare_for_retraining(model_data, f'{dataset_dir}/splits/train', f'{dataset_dir}/splits/val', \n",
    "                                    batch_size=32, image_size=224, robustness=0.5)"
   ]
  },
  {
   "cell_type": "code",
   "execution_count": 56,
   "id": "baadbab4-56a5-40f5-bf4f-986fe04550fa",
   "metadata": {},
   "outputs": [
    {
     "name": "stdout",
     "output_type": "stream",
     "text": [
      "Epoch    1 /    5  | Train Loss: 2.1215 Acc: 0.4670  | Val Loss: 1.9246 Acc: 0.5227  | Elapsed time: 0:01:26.977625\n",
      "Epoch    2 /    5  | Train Loss: 1.5911 Acc: 0.5795  | Val Loss: 1.7705 Acc: 0.5271  | Elapsed time: 0:02:56.156365\n"
     ]
    }
   ],
   "source": [
    "train(model_data, 5, f\"{dataset_dir}/checkpoint.butterfly.subset.pth\", break_at_val_acc_diff=0.05)"
   ]
  },
  {
   "cell_type": "code",
   "execution_count": 57,
   "id": "5828ed11-7ac5-4a3d-bd5e-f1aebc5276f1",
   "metadata": {},
   "outputs": [
    {
     "name": "stdout",
     "output_type": "stream",
     "text": [
      "train class count: 246\n",
      "val class count: 211\n",
      "0 new classes added: []\n",
      "feature count: 2048\n",
      "device: cuda:0\n"
     ]
    }
   ],
   "source": [
    "model_data = prepare_for_retraining(model_data, f'{dataset_dir}/splits/train', f'{dataset_dir}/splits/val', \n",
    "                                    batch_size=32, image_size=224, robustness=1.0)"
   ]
  },
  {
   "cell_type": "code",
   "execution_count": 58,
   "id": "19a5f64d-c2bb-417b-ab81-eab2c3dc8c87",
   "metadata": {},
   "outputs": [
    {
     "name": "stdout",
     "output_type": "stream",
     "text": [
      "Epoch    1 /    5  | Train Loss: 1.3915 Acc: 0.6283  | Val Loss: 2.4848 Acc: 0.4294  | Elapsed time: 0:01:27.321724\n",
      "Epoch    2 /    5  | Train Loss: 1.2957 Acc: 0.6483  | Val Loss: 1.5393 Acc: 0.6132  | Elapsed time: 0:02:56.395142\n",
      "Epoch    3 /    5  | Train Loss: 0.9987 Acc: 0.7288  | Val Loss: 1.2396 Acc: 0.6678  | Elapsed time: 0:04:26.708205\n",
      "Epoch    4 /    5  | Train Loss: 0.8762 Acc: 0.7646  | Val Loss: 1.1141 Acc: 0.7026  | Elapsed time: 0:05:57.352432\n"
     ]
    }
   ],
   "source": [
    "train(model_data, 5, f\"{dataset_dir}/checkpoint.butterfly.subset.pth\", break_at_val_acc_diff=0.05)"
   ]
  },
  {
   "cell_type": "code",
   "execution_count": 59,
   "id": "33c70315-01c6-488b-a487-6646a1be2025",
   "metadata": {
    "scrolled": true
   },
   "outputs": [
    {
     "name": "stdout",
     "output_type": "stream",
     "text": [
      "train class count: 246\n",
      "val class count: 211\n",
      "0 new classes added: []\n",
      "feature count: 2048\n",
      "device: cuda:0\n"
     ]
    }
   ],
   "source": [
    "model_data = prepare_for_retraining(model_data, f'{dataset_dir}/splits/train', f'{dataset_dir}/splits/val', \n",
    "                                    batch_size=32, image_size=224, robustness=2.0)"
   ]
  },
  {
   "cell_type": "code",
   "execution_count": 60,
   "id": "68d47ecb-208a-47eb-8e4e-a9fc065e224f",
   "metadata": {
    "scrolled": true
   },
   "outputs": [
    {
     "name": "stdout",
     "output_type": "stream",
     "text": [
      "Epoch    1 /    5  | Train Loss: 0.9439 Acc: 0.7428  | Val Loss: 1.1516 Acc: 0.6963  | Elapsed time: 0:01:28.091775\n",
      "Epoch    2 /    5  | Train Loss: 0.8551 Acc: 0.7670  | Val Loss: 1.1309 Acc: 0.7041  | Elapsed time: 0:02:58.201346\n"
     ]
    }
   ],
   "source": [
    "train(model_data, 5, f\"{dataset_dir}/checkpoint.butterfly.subset.pth\", break_at_val_acc_diff=0.02)"
   ]
  },
  {
   "cell_type": "code",
   "execution_count": 61,
   "id": "0c5315be-65f0-461c-9681-bb02b625aea5",
   "metadata": {
    "scrolled": true
   },
   "outputs": [
    {
     "name": "stdout",
     "output_type": "stream",
     "text": [
      "Epoch    1 /    5  | Train Loss: 0.8206 Acc: 0.7742  | Val Loss: 1.1143 Acc: 0.7031  | Elapsed time: 0:01:28.401115\n",
      "Epoch    2 /    5  | Train Loss: 0.7980 Acc: 0.7800  | Val Loss: 1.0899 Acc: 0.7099  | Elapsed time: 0:02:58.540635\n",
      "Epoch    3 /    5  | Train Loss: 0.7585 Acc: 0.7929  | Val Loss: 1.1033 Acc: 0.7079  | Elapsed time: 0:04:28.685567\n"
     ]
    }
   ],
   "source": [
    "train(model_data, 5, f\"{dataset_dir}/checkpoint.butterfly.subset.pth\", break_at_val_acc_diff=0.005)"
   ]
  },
  {
   "cell_type": "code",
   "execution_count": null,
   "id": "d34b9a9f-a17e-4079-943c-cb0954498393",
   "metadata": {},
   "outputs": [],
   "source": []
  },
  {
   "cell_type": "code",
   "execution_count": null,
   "id": "8ef85960-c5af-46e8-9f08-957e5d6c7ec3",
   "metadata": {},
   "outputs": [],
   "source": []
  },
  {
   "cell_type": "code",
   "execution_count": null,
   "id": "adbcb87d-6ae6-4075-826d-126282bf6a91",
   "metadata": {},
   "outputs": [],
   "source": []
  },
  {
   "cell_type": "code",
   "execution_count": null,
   "id": "b9347bfe-4eab-4567-9783-7d6d15645104",
   "metadata": {},
   "outputs": [],
   "source": []
  },
  {
   "cell_type": "code",
   "execution_count": null,
   "id": "54e42a6e-a42c-4a79-a42d-0e6c984c6ee8",
   "metadata": {},
   "outputs": [],
   "source": []
  },
  {
   "cell_type": "code",
   "execution_count": null,
   "id": "0622b086-2c21-42e3-9f45-fbe4b6d8da38",
   "metadata": {},
   "outputs": [],
   "source": []
  },
  {
   "cell_type": "markdown",
   "id": "9c9e01b3-4122-4277-8350-d727595d4998",
   "metadata": {},
   "source": [
    "----------------\n",
    "# C. Train with all data (resnet-152)"
   ]
  },
  {
   "cell_type": "code",
   "execution_count": 23,
   "id": "bdeb93de-9757-47e8-b891-3cda607952ad",
   "metadata": {},
   "outputs": [
    {
     "name": "stdout",
     "output_type": "stream",
     "text": [
      "train class count: 1554\n",
      "val class count: 27\n",
      "feature count: 2048\n",
      "device: cuda:0\n"
     ]
    }
   ],
   "source": [
    "model_data = init_model_for_training(f'{dataset_dir}/data', f'{dataset_dir}/val', \n",
    "                                     batch_size=32, arch=\"resnet152\", image_size=224, robustness=0.2)"
   ]
  },
  {
   "cell_type": "code",
   "execution_count": 24,
   "id": "d3f1d62b-eb81-45b1-905a-48bb74a52df2",
   "metadata": {},
   "outputs": [
    {
     "name": "stdout",
     "output_type": "stream",
     "text": [
      "Epoch    1 /    2  | Train Loss: 3.6304 Acc: 0.3278  | Val Loss: 2.8959 Acc: 0.2857  | Elapsed time: 0:17:09.740284\n",
      "Epoch    2 /    2  | Train Loss: 0.7917 Acc: 0.7992  | Val Loss: 2.3061 Acc: 0.3214  | Elapsed time: 0:34:38.225316\n"
     ]
    }
   ],
   "source": [
    "train(model_data, 2, f\"{dataset_dir}/checkpoint.butterfly.all.pth\")"
   ]
  },
  {
   "cell_type": "code",
   "execution_count": 29,
   "id": "a74388b1-469a-4dfd-a1d1-ec072354dd56",
   "metadata": {},
   "outputs": [
    {
     "name": "stdout",
     "output_type": "stream",
     "text": [
      "train class count: 1554\n",
      "val class count: 36\n",
      "0 new classes added: []\n",
      "feature count: 2048\n",
      "device: cuda:0\n"
     ]
    }
   ],
   "source": [
    "model_data = prepare_for_retraining(model_data, f'{dataset_dir}/data', f'{dataset_dir}/val', \n",
    "                                    batch_size=32, image_size=224, robustness=0.5)"
   ]
  },
  {
   "cell_type": "code",
   "execution_count": 28,
   "id": "7c80f24b-390f-4e78-829a-8a5a392eff85",
   "metadata": {},
   "outputs": [
    {
     "name": "stdout",
     "output_type": "stream",
     "text": [
      "Epoch    1 /    1  | Train Loss: 2.9102 Acc: 0.3716  | Val Loss: 1.9418 Acc: 0.4286  | Elapsed time: 0:18:08.790018\n"
     ]
    }
   ],
   "source": [
    "train(model_data, 1, f\"{dataset_dir}/checkpoint.butterfly.all.pth\", break_at_val_acc_diff=0.05)"
   ]
  },
  {
   "cell_type": "code",
   "execution_count": 32,
   "id": "91e1231e-055d-4144-82a0-913f04c94bf5",
   "metadata": {},
   "outputs": [
    {
     "name": "stdout",
     "output_type": "stream",
     "text": [
      "Epoch    1 /    2  | Train Loss: 2.3218 Acc: 0.4747  | Val Loss: 1.7617 Acc: 0.4808  | Elapsed time: 0:18:02.291987\n",
      "Epoch    2 /    2  | Train Loss: 2.0838 Acc: 0.5218  | Val Loss: 1.3535 Acc: 0.5769  | Elapsed time: 0:36:08.960538\n"
     ]
    }
   ],
   "source": [
    "train(model_data, 2, f\"{dataset_dir}/checkpoint.butterfly.all.pth\", break_at_val_acc_diff=0.05)"
   ]
  },
  {
   "cell_type": "code",
   "execution_count": 33,
   "id": "2764a0a9-0216-4439-ab96-9973d329d11c",
   "metadata": {},
   "outputs": [
    {
     "name": "stdout",
     "output_type": "stream",
     "text": [
      "Epoch    1 /    2  | Train Loss: 1.9250 Acc: 0.5552  | Val Loss: 1.1755 Acc: 0.5962  | Elapsed time: 0:17:42.872268\n",
      "Epoch    2 /    2  | Train Loss: 1.7898 Acc: 0.5821  | Val Loss: 1.8912 Acc: 0.5000  | Elapsed time: 0:35:42.065492\n"
     ]
    }
   ],
   "source": [
    "train(model_data, 2, f\"{dataset_dir}/checkpoint.butterfly.all.pth\", break_at_val_acc_diff=0.05)"
   ]
  },
  {
   "cell_type": "code",
   "execution_count": 34,
   "id": "ffa16d5b-28bd-41c6-9c34-2bd0697a1574",
   "metadata": {},
   "outputs": [
    {
     "name": "stdout",
     "output_type": "stream",
     "text": [
      "train class count: 1554\n",
      "val class count: 40\n",
      "0 new classes added: []\n",
      "feature count: 2048\n",
      "device: cuda:0\n"
     ]
    }
   ],
   "source": [
    "model_data = prepare_for_retraining(model_data, f'{dataset_dir}/data', f'{dataset_dir}/val', \n",
    "                                    batch_size=32, image_size=224, robustness=1.0)"
   ]
  },
  {
   "cell_type": "code",
   "execution_count": 35,
   "id": "faf693f1-e3ca-4aa2-aa04-348ea5eeb6ca",
   "metadata": {},
   "outputs": [
    {
     "name": "stdout",
     "output_type": "stream",
     "text": [
      "Epoch    1 /    2  | Train Loss: 1.5071 Acc: 0.6462  | Val Loss: 1.0576 Acc: 0.6290  | Elapsed time: 0:17:46.386456\n",
      "Epoch    2 /    2  | Train Loss: 1.3777 Acc: 0.6775  | Val Loss: 1.0114 Acc: 0.6452  | Elapsed time: 0:35:39.327219\n"
     ]
    }
   ],
   "source": [
    "train(model_data, 2, f\"{dataset_dir}/checkpoint.butterfly.all.pth\", break_at_val_acc_diff=0.02)"
   ]
  },
  {
   "cell_type": "code",
   "execution_count": 36,
   "id": "89b98399-0ffe-4c20-a0f2-bb42bdf548e1",
   "metadata": {},
   "outputs": [
    {
     "name": "stdout",
     "output_type": "stream",
     "text": [
      "Epoch    1 /    3  | Train Loss: 1.3184 Acc: 0.6889  | Val Loss: 0.9510 Acc: 0.6935  | Elapsed time: 0:17:47.142971\n",
      "Epoch    2 /    3  | Train Loss: 1.2689 Acc: 0.7005  | Val Loss: 0.9186 Acc: 0.7258  | Elapsed time: 0:35:53.394860\n",
      "Epoch    3 /    3  | Train Loss: 1.2370 Acc: 0.7089  | Val Loss: 0.8701 Acc: 0.7097  | Elapsed time: 0:54:47.346695\n"
     ]
    }
   ],
   "source": [
    "train(model_data, 3, f\"{dataset_dir}/checkpoint.butterfly.all.pth\", break_at_val_acc_diff=0.01)"
   ]
  },
  {
   "cell_type": "code",
   "execution_count": 67,
   "id": "4f25328d-1323-4269-9944-97b8f392479e",
   "metadata": {},
   "outputs": [],
   "source": [
    "# reverting to 12th epoch. seeing continuous decrease in val acc after 11th\n",
    "model_data = torch.load(f\"{dataset_dir}/checkpoint.butterfly.all.12.pth\", weights_only=False)"
   ]
  },
  {
   "cell_type": "code",
   "execution_count": null,
   "id": "8dc3976f-3d90-42c0-8916-4eef5042d78b",
   "metadata": {},
   "outputs": [],
   "source": []
  },
  {
   "cell_type": "code",
   "execution_count": null,
   "id": "37c4a00f-0be2-480f-9387-0d4ee2e0362f",
   "metadata": {},
   "outputs": [],
   "source": []
  },
  {
   "cell_type": "code",
   "execution_count": null,
   "id": "aa5200fd-ada9-4b02-904c-263603f4b292",
   "metadata": {},
   "outputs": [],
   "source": []
  },
  {
   "cell_type": "code",
   "execution_count": null,
   "id": "ea62d777-f00d-46d4-83d5-7d910175e953",
   "metadata": {},
   "outputs": [],
   "source": []
  },
  {
   "cell_type": "code",
   "execution_count": null,
   "id": "efe25bf5-3437-4898-b472-28003d319bce",
   "metadata": {},
   "outputs": [],
   "source": []
  },
  {
   "cell_type": "code",
   "execution_count": null,
   "id": "ea1ccb68-48ed-4c0f-a9ce-da403f77c365",
   "metadata": {},
   "outputs": [],
   "source": []
  },
  {
   "cell_type": "markdown",
   "id": "49e4764a-4045-49c7-81f5-92c5df49fc5d",
   "metadata": {},
   "source": [
    "-----------\n",
    "# Test"
   ]
  },
  {
   "cell_type": "code",
   "execution_count": 63,
   "id": "bdedb93b-a0d2-4cce-abf8-4ac7172e836d",
   "metadata": {},
   "outputs": [],
   "source": [
    "# model_data = torch.load(f\"{dataset_dir}/checkpoint.butterfly.all.pth\", weights_only=False)\n",
    "model_data = torch.load(f\"{dataset_dir}/checkpoint.butterfly.all.12.pth\", weights_only=False)"
   ]
  },
  {
   "cell_type": "code",
   "execution_count": 66,
   "id": "f61c6941-d5ca-4b45-baf3-4cb8857f899e",
   "metadata": {},
   "outputs": [
    {
     "name": "stdout",
     "output_type": "stream",
     "text": [
      "acraea-terpsicore             : \u001b[32macraea-terpsicore\u001b[0m(0.167)  byblia-ilithyia(0.115)  argynnis-hyperbius(0.061)  \n",
      "athyma-pravara                : athyma-selenophora(0.498)  athyma-kanwa(0.200)  neptis-clinia(0.047)  \n",
      "colias-fieldii                : \u001b[32mcolias-fieldii\u001b[0m(0.986)  colias-erate(0.004)  junonia-hierta(0.002)  \n",
      "danaus-melanippus             : \u001b[32mdanaus-melanippus\u001b[0m(0.998)  danaus-genutia(0.002)  danaus-chrysippus(0.000)  \n",
      "delias-descombesi             : \u001b[32mdelias-descombesi\u001b[0m(0.993)  delias-pasithoe(0.005)  danaus-chrysippus(0.001)  \n",
      "euploea-core                  : euploea-sylvester(0.664)  \u001b[32meuploea-core\u001b[0m(0.249)  euploea-klugii(0.062)  \n",
      "graphium-doson                : \u001b[32mgraphium-doson\u001b[0m(0.722)  graphium-chironides(0.098)  tirumala-septentrionis(0.074)  \n",
      "hypolimnas-bolina             : \u001b[32mhypolimnas-bolina\u001b[0m(0.978)  thaumantis-diores(0.006)  elymnias-hypermnestra(0.005)  \n",
      "kallima-inachus               : \u001b[32mkallima-inachus\u001b[0m(0.995)  junonia-hierta(0.004)  doleschallia-bisaltide(0.000)  \n",
      "lethe-verma                   : \u001b[32mlethe-verma\u001b[0m(0.937)  mycalesis-anaxias(0.044)  lethe-confusa(0.008)  \n",
      "papilio-bianor                : \u001b[32mpapilio-bianor\u001b[0m(0.992)  papilio-paris(0.004)  papilio-arcturus(0.002)  \n",
      "papilio-paris                 : papilio-bianor(0.745)  \u001b[32mpapilio-paris\u001b[0m(0.147)  atrophaneura-aidoneus(0.028)  \n",
      "parantica-sita                : parantica-melaneus(0.427)  graphium-xenocles(0.268)  \u001b[32mparantica-sita\u001b[0m(0.200)  \n",
      "phalanta-phalantha            : \u001b[32mphalanta-phalantha\u001b[0m(0.977)  phalanta-alcippe(0.006)  argynnis-hyperbius(0.004)  \n",
      "symbrenthia-lilaea            : pantoporia-hordonia(0.370)  athyma-inara(0.209)  \u001b[32msymbrenthia-lilaea\u001b[0m(0.174)  \n",
      "troides-minos                 : \u001b[32mtroides-minos\u001b[0m(0.694)  troides-helena(0.205)  troides-aeacus(0.099)  \n",
      "vanessa-indica                : \u001b[32mvanessa-indica\u001b[0m(0.684)  vanessa-cardui(0.118)  aglais-caschmirensis(0.044)  \n",
      "vindula-dejone                : vindula-erota(0.753)  troides-helena-early(0.039)  hebomoia-roepstorfii(0.035)  \n",
      "zemeros-flegyas               : \u001b[32mzemeros-flegyas\u001b[0m(0.990)  melitaea-arcesia(0.002)  elymnias-panthera(0.001)  \n",
      "----------\n",
      "Top   1 accuracy: 13/19 -> 68.42%, genus matched: 18/19 -> 94.74%\n",
      "Top   3 accuracy: 17/19 -> 89.47%, genus matched: 19/19 -> 100.00%\n",
      "Top   5 accuracy: 17/19 -> 89.47%, genus matched: 19/19 -> 100.00%\n",
      "Top  10 accuracy: 18/19 -> 94.74%, genus matched: 19/19 -> 100.00%\n"
     ]
    }
   ],
   "source": [
    "test_top_k(model_data, f\"{dataset_dir}/my-test\", 3)\n",
    "test_top_k(model_data, f\"{dataset_dir}/my-test\", 5, print_preds=False, print_top1_accuracy=False)\n",
    "test_top_k(model_data, f\"{dataset_dir}/my-test\", 10, print_preds=False, print_top1_accuracy=False)"
   ]
  },
  {
   "cell_type": "code",
   "execution_count": 65,
   "id": "5c7c971a-67df-4d1d-8741-4fbcf09c73c7",
   "metadata": {},
   "outputs": [
    {
     "name": "stdout",
     "output_type": "stream",
     "text": [
      "acraea-terpsicore-2           : \u001b[32macraea-terpsicore\u001b[0m(0.747)  caprona-alida-early(0.085)  danaus-chrysippus(0.084)  \n",
      "castalius-rosimon-2           : \u001b[32mcastalius-rosimon\u001b[0m(0.578)  taraka-hamada(0.357)  phengaris-atroguttata(0.015)  \n",
      "castalius-rosimon             : \u001b[32mcastalius-rosimon\u001b[0m(0.964)  caleta-decidia(0.018)  discolampa-ethion(0.006)  \n",
      "chaetoprocta-odata-2          : \u001b[32mchaetoprocta-odata\u001b[0m(0.971)  sinthusa-chandrana(0.009)  hypolycaena-erylus(0.006)  \n",
      "chaetoprocta-odata-3          : \u001b[32mchaetoprocta-odata\u001b[0m(0.998)  sinthusa-virgo(0.002)  chrysozephyrus-syla(0.000)  \n",
      "chaetoprocta-odata            : \u001b[32mchaetoprocta-odata\u001b[0m(0.739)  hypolycaena-erylus(0.074)  hypolycaena-kina(0.031)  \n",
      "cigaritis-zhengweilie         : \u001b[32mcigaritis-zhengweilie\u001b[0m(0.998)  cigaritis-elima(0.001)  cigaritis-syama(0.000)  \n",
      "dodona-dipoea-2               : dodona-eugenes(0.914)  \u001b[32mdodona-dipoea\u001b[0m(0.085)  dodona-ouida(0.001)  \n",
      "dodona-dipoea                 : \u001b[32mdodona-dipoea\u001b[0m(0.694)  dodona-eugenes(0.269)  dodona-egeon(0.006)  \n",
      "dodona-egeon-2                : \u001b[32mdodona-egeon\u001b[0m(0.852)  rhaphicera-moorei(0.139)  dodona-durga(0.001)  \n",
      "dodona-egeon-3                : dodona-eugenes(0.523)  \u001b[32mdodona-egeon\u001b[0m(0.437)  phaedyma-columella(0.022)  \n",
      "dodona-egeon                  : \u001b[32mdodona-egeon\u001b[0m(0.963)  rhaphicera-moorei(0.020)  dodona-durga(0.010)  \n",
      "dodona-eugenes                : \u001b[32mdodona-eugenes\u001b[0m(0.908)  dodona-egeon(0.041)  graphium-nomius(0.025)  \n",
      "doleschallia-bisaltide-2      : \u001b[32mdoleschallia-bisaltide\u001b[0m(0.991)  lethe-sinorix(0.001)  cirrochroa-thais(0.001)  \n",
      "doleschallia-bisaltide-3      : \u001b[32mdoleschallia-bisaltide\u001b[0m(0.988)  rapala-suffusa(0.003)  charaxes-bernardus(0.002)  \n",
      "doleschallia-bisaltide-4      : \u001b[32mdoleschallia-bisaltide\u001b[0m(0.632)  melanitis-phedima(0.136)  rohana-parisatis(0.056)  \n",
      "doleschallia-bisaltide        : \u001b[32mdoleschallia-bisaltide\u001b[0m(0.984)  cirrochroa-thais(0.003)  chitoria-ulupi(0.001)  \n",
      "herona-marathus-2             : abrota-ganga(0.478)  \u001b[32mherona-marathus\u001b[0m(0.134)  potanthus-trachala(0.072)  \n",
      "herona-marathus               : rohana-parisatis(0.482)  \u001b[32mherona-marathus\u001b[0m(0.180)  doleschallia-bisaltide(0.087)  \n",
      "hypolycaena-othona-2          : udara-akasa(0.174)  \u001b[32mhypolycaena-othona\u001b[0m(0.109)  celastrina-spp(0.096)  \n",
      "hypolycaena-othona            : \u001b[32mhypolycaena-othona\u001b[0m(0.351)  sinthusa-chandrana(0.170)  cyrestis-thyodamas-early(0.100)  \n",
      "junonia-hierta                : \u001b[32mjunonia-hierta\u001b[0m(0.999)  hypolimnas-misippus(0.001)  charaxes-bharata(0.000)  \n",
      "lethe-mekara                  : \u001b[32mlethe-mekara\u001b[0m(0.763)  lethe-chandica(0.072)  lethe-kansa(0.057)  \n",
      "papilio-bianor-2              : papilio-memnon(0.282)  atrophaneura-varuna(0.156)  \u001b[32mpapilio-bianor\u001b[0m(0.107)  \n",
      "papilio-bianor                : \u001b[32mpapilio-bianor\u001b[0m(0.924)  papilio-paris(0.049)  papilio-arcturus(0.015)  \n",
      "papilio-crino-2               : papilio-paris(0.527)  \u001b[32mpapilio-crino\u001b[0m(0.248)  papilio-bianor(0.189)  \n",
      "papilio-crino-3               : \u001b[32mpapilio-crino\u001b[0m(0.984)  papilio-crino-early(0.011)  orsotriaena-medus(0.004)  \n",
      "papilio-crino                 : \u001b[32mpapilio-crino\u001b[0m(0.805)  papilio-paris(0.105)  papilio-crino-early(0.080)  \n",
      "papilio-paris                 : \u001b[32mpapilio-paris\u001b[0m(0.885)  papilio-bianor(0.050)  papilio-arcturus(0.047)  \n",
      "poritia-hewitsoni-2           : \u001b[32mporitia-hewitsoni\u001b[0m(1.000)  arhopala-paraganesa(0.000)  iraota-timoleon(0.000)  \n",
      "poritia-hewitsoni             : \u001b[32mporitia-hewitsoni\u001b[0m(0.999)  graphium-doson(0.000)  dichorragia-nesimachus(0.000)  \n",
      "rapala-varuna-2               : \u001b[32mrapala-varuna\u001b[0m(0.283)  hypolycaena-erylus(0.266)  rapala-manea(0.237)  \n",
      "rapala-varuna                 : \u001b[32mrapala-varuna\u001b[0m(0.496)  rapala-manea(0.089)  zinaspa-todara(0.074)  \n",
      "sinthusa-chandrana-2          : \u001b[32msinthusa-chandrana\u001b[0m(0.546)  hypolycaena-kina(0.394)  hypolycaena-nilgirica(0.016)  \n",
      "sinthusa-chandrana            : \u001b[32msinthusa-chandrana\u001b[0m(0.992)  catochrysops-panormus(0.006)  virachola-perse(0.000)  \n",
      "tarucus-balkanica-2           : \u001b[32mtarucus-balkanica\u001b[0m(0.594)  tarucus-spp(0.173)  tarucus-nara(0.083)  \n",
      "tarucus-balkanica             : \u001b[32mtarucus-balkanica\u001b[0m(0.408)  tarucus-nara(0.400)  tarucus-spp(0.129)  \n",
      "tarucus-indica                : tarucus-balkanica(0.356)  tarucus-nara(0.308)  \u001b[32mtarucus-indica\u001b[0m(0.084)  \n",
      "tarucus-nara                  : tarucus-balkanica(0.323)  tarucus-callinara(0.234)  \u001b[32mtarucus-nara\u001b[0m(0.194)  \n",
      "tarucus-venosus               : tarucus-balkanica(0.610)  tarucus-nara(0.163)  tarucus-spp(0.156)  \n",
      "thoressa-cerata-2             : pedesta-masuriensis(0.460)  sebastonyma-dolopia(0.433)  \u001b[32mthoressa-cerata\u001b[0m(0.051)  \n",
      "thoressa-cerata-3             : halpe-porus(0.669)  sebastonyma-dolopia(0.278)  aeromachus-stigmata(0.012)  \n",
      "thoressa-cerata               : \u001b[32mthoressa-cerata\u001b[0m(0.745)  chitoria-naga(0.138)  dodona-ouida(0.050)  \n",
      "tirumala-septentrionis-2      : \u001b[32mtirumala-septentrionis\u001b[0m(0.834)  tirumala-limniace(0.128)  ideopsis-similis(0.010)  \n",
      "tirumala-septentrionis-3      : \u001b[32mtirumala-septentrionis\u001b[0m(0.604)  ideopsis-similis(0.159)  tirumala-limniace(0.101)  \n",
      "tirumala-septentrionis-4      : graphium-megarus(0.403)  penthema-lisarda(0.180)  graphium-macareus(0.155)  \n",
      "tirumala-septentrionis        : \u001b[32mtirumala-septentrionis\u001b[0m(0.674)  parantica-nilgiriensis(0.231)  penthema-lisarda(0.037)  \n",
      "----------\n",
      "Top   1 accuracy: 34/47 -> 72.34%, genus matched: 41/47 -> 87.23%\n",
      "Top   3 accuracy: 44/47 -> 93.62%, genus matched: 45/47 -> 95.74%\n",
      "Top   5 accuracy: 46/47 -> 97.87%, genus matched: 47/47 -> 100.00%\n",
      "Top  10 accuracy: 47/47 -> 100.00%, genus matched: 47/47 -> 100.00%\n"
     ]
    }
   ],
   "source": [
    "test_top_k(model_data, f\"{dataset_dir}/random-test\", 3)\n",
    "test_top_k(model_data, f\"{dataset_dir}/random-test\", 5, print_preds=False, print_top1_accuracy=False)\n",
    "test_top_k(model_data, f\"{dataset_dir}/random-test\", 10, print_preds=False, print_top1_accuracy=False)"
   ]
  },
  {
   "cell_type": "code",
   "execution_count": null,
   "id": "a81840f0-421c-42a6-a40e-00110fe1a473",
   "metadata": {},
   "outputs": [],
   "source": []
  },
  {
   "cell_type": "code",
   "execution_count": null,
   "id": "3f2dda18-f89f-475d-9771-33fe8b7b34b2",
   "metadata": {},
   "outputs": [],
   "source": []
  },
  {
   "cell_type": "code",
   "execution_count": null,
   "id": "fd5ac568-bfca-43ad-a258-002cea5ae99e",
   "metadata": {},
   "outputs": [],
   "source": []
  },
  {
   "cell_type": "code",
   "execution_count": null,
   "id": "2a7a938a-a9b5-4ed2-828b-7a0cbec81095",
   "metadata": {},
   "outputs": [],
   "source": []
  }
 ],
 "metadata": {
  "kernelspec": {
   "display_name": "Python 3 (ipykernel)",
   "language": "python",
   "name": "python3"
  },
  "language_info": {
   "codemirror_mode": {
    "name": "ipython",
    "version": 3
   },
   "file_extension": ".py",
   "mimetype": "text/x-python",
   "name": "python",
   "nbconvert_exporter": "python",
   "pygments_lexer": "ipython3",
   "version": "3.12.9"
  }
 },
 "nbformat": 4,
 "nbformat_minor": 5
}
