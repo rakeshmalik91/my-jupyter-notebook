{
 "cells": [
  {
   "cell_type": "code",
   "execution_count": 1,
   "id": "3386b085-9e06-4a0f-8e77-11229147a34e",
   "metadata": {},
   "outputs": [],
   "source": [
    "%load_ext autoreload"
   ]
  },
  {
   "cell_type": "code",
   "execution_count": 2,
   "id": "1ea6efe8-320b-42cc-aea4-619cd0baed83",
   "metadata": {},
   "outputs": [],
   "source": [
    "%autoreload 2"
   ]
  },
  {
   "cell_type": "code",
   "execution_count": 3,
   "id": "5f8e400b-f020-4718-a41c-5ab4027f3ae8",
   "metadata": {},
   "outputs": [],
   "source": [
    "import mynnlib\n",
    "from mynnlib import *\n",
    "\n",
    "dataset_dir = \"insect-dataset/lepidoptera\""
   ]
  },
  {
   "cell_type": "code",
   "execution_count": 11,
   "id": "deadfe43-d161-4b9b-884f-deaae1275c61",
   "metadata": {},
   "outputs": [
    {
     "name": "stdout",
     "output_type": "stream",
     "text": [
      "Total Class count: 4757 ( Unidentified: 737 / Identified: 4020 )\n",
      "Total Data count : 111499 ( Unidentified: 15561 / Identified: 95938 )\n"
     ]
    }
   ],
   "source": [
    "classes = { class_dir: len([ img for img in os.listdir(f\"{dataset_dir}/data/{class_dir}\") ]) for class_dir in os.listdir(f\"{dataset_dir}/data\") }\n",
    "unidentified_classes = { class_name: count for class_name, count in classes.items() if re.match(r\"^.*-(spp|genera|genera-spp)$\", class_name) }\n",
    "print(f\"Total Class count: {len(classes)} ( Unidentified: {len(unidentified_classes)} / Identified: {len(classes) - len(unidentified_classes)} )\")\n",
    "print(f\"Total Data count : {sum(classes.values())} ( Unidentified: {sum(unidentified_classes.values())} / Identified: {sum(classes.values()) - sum(unidentified_classes.values())} )\")"
   ]
  },
  {
   "cell_type": "code",
   "execution_count": 56,
   "id": "c331da94-0ecb-4457-9438-312ae36b6259",
   "metadata": {},
   "outputs": [],
   "source": [
    "if os.path.exists(f\"{dataset_dir}/val/\"):\n",
    "    shutil.rmtree(f\"{dataset_dir}/val/\")\n",
    "for insect_type in [\"butterfly\", \"moth\"]:\n",
    "    for class_dir in os.listdir(f\"{dataset_dir}/../{insect_type}/val/\"):\n",
    "        shutil.copytree(f\"{dataset_dir}/../{insect_type}/val/{class_dir}\", f\"{dataset_dir}/val/{class_dir}\")"
   ]
  },
  {
   "cell_type": "code",
   "execution_count": 57,
   "id": "c773bd5b-00c4-43c6-a73f-7187b78e9af2",
   "metadata": {},
   "outputs": [
    {
     "name": "stdout",
     "output_type": "stream",
     "text": [
      "Validation Class count: 140\n",
      "Validation Data count : 326\n"
     ]
    }
   ],
   "source": [
    "val_data = { class_dir: len([ img for img in os.listdir(f\"{dataset_dir}/val/{class_dir}\") ]) for class_dir in os.listdir(f\"{dataset_dir}/val\") }\n",
    "print(f\"Validation Class count: {len(val_data)}\")\n",
    "print(f\"Validation Data count : {sum(val_data.values())}\")"
   ]
  },
  {
   "cell_type": "code",
   "execution_count": 58,
   "id": "314487b7-a047-4647-b4fe-a6bc424b655b",
   "metadata": {},
   "outputs": [
    {
     "data": {
      "text/plain": [
       "{'vindula-dejone'}"
      ]
     },
     "execution_count": 58,
     "metadata": {},
     "output_type": "execute_result"
    }
   ],
   "source": [
    "# check classes in val but not in train\n",
    "set(val_data) - set(classes)"
   ]
  },
  {
   "cell_type": "code",
   "execution_count": null,
   "id": "25163bb2-50c9-4668-a804-c5939ea811bb",
   "metadata": {},
   "outputs": [],
   "source": []
  },
  {
   "cell_type": "markdown",
   "id": "a4aeb546-0255-498a-8eed-4243e6470bd3",
   "metadata": {},
   "source": [
    "# Older model results"
   ]
  },
  {
   "cell_type": "code",
   "execution_count": 46,
   "id": "10c14ae7-c057-4075-a0d1-2a6619ea05f7",
   "metadata": {},
   "outputs": [],
   "source": [
    "model_data = torch.load(f\"{dataset_dir}/../butterfly/checkpoint.butterfly.adult.tb3.ep040000.pth\", weights_only=False)"
   ]
  },
  {
   "cell_type": "code",
   "execution_count": 47,
   "id": "25bb5b72-8793-4474-8526-cbb807798ee8",
   "metadata": {},
   "outputs": [
    {
     "name": "stdout",
     "output_type": "stream",
     "text": [
      "Top   1 accuracy: 113/153 -> 73.86%, genus matched: 139/153 -> 90.85%\n",
      "Top   3 accuracy: 135/153 -> 88.24%, genus matched: 150/153 -> 98.04%\n",
      "Top   5 accuracy: 139/153 -> 90.85%, genus matched: 152/153 -> 99.35%\n",
      "Top  10 accuracy: 145/153 -> 94.77%, genus matched: 153/153 -> 100.00%\n"
     ]
    }
   ],
   "source": [
    "test_top_k(model_data, f\"{dataset_dir}/../butterfly/random-test\", 3, print_preds=False, print_top1_accuracy=True, print_no_match=False)\n",
    "test_top_k(model_data, f\"{dataset_dir}/../butterfly/random-test\", 5, print_preds=False, print_top1_accuracy=False)\n",
    "test_top_k(model_data, f\"{dataset_dir}/../butterfly/random-test\", 10, print_preds=False, print_top1_accuracy=False)"
   ]
  },
  {
   "cell_type": "code",
   "execution_count": 48,
   "id": "e0a5709c-f3e1-4fa5-b88b-d2047991c374",
   "metadata": {},
   "outputs": [],
   "source": [
    "model_data = torch.load(f\"{dataset_dir}/../moth/checkpoint.moth.adult.resnet101.tb5.ep040001.pth\", weights_only=False)"
   ]
  },
  {
   "cell_type": "code",
   "execution_count": 49,
   "id": "4bcb45d0-5c19-4f60-adf0-197bbb4b888f",
   "metadata": {
    "scrolled": true
   },
   "outputs": [
    {
     "name": "stdout",
     "output_type": "stream",
     "text": [
      "Top   1 accuracy: 110/152 -> 72.37%, genus matched: 134/152 -> 88.16%\n",
      "Top   3 accuracy: 131/152 -> 86.18%, genus matched: 141/152 -> 92.76%\n",
      "Top   5 accuracy: 138/152 -> 90.79%, genus matched: 145/152 -> 95.39%\n",
      "Top  10 accuracy: 144/152 -> 94.74%, genus matched: 148/152 -> 97.37%\n"
     ]
    }
   ],
   "source": [
    "test_top_k(model_data, f\"{dataset_dir}/../moth/random-test\", 3, print_preds=False, print_top1_accuracy=True, print_no_match=False)\n",
    "test_top_k(model_data, f\"{dataset_dir}/../moth/random-test\", 5, print_preds=False, print_top1_accuracy=False)\n",
    "test_top_k(model_data, f\"{dataset_dir}/../moth/random-test\", 10, print_preds=False, print_top1_accuracy=False)"
   ]
  },
  {
   "cell_type": "code",
   "execution_count": null,
   "id": "840ef5a7-ff40-4b37-b462-bc53221e05db",
   "metadata": {},
   "outputs": [],
   "source": []
  },
  {
   "cell_type": "code",
   "execution_count": null,
   "id": "3f8d5d85-ffa5-4ef9-bbaa-b9ac6cb64b49",
   "metadata": {},
   "outputs": [],
   "source": []
  },
  {
   "cell_type": "markdown",
   "id": "2e441ad1-f5a5-41c4-834b-10ebce8d3f71",
   "metadata": {},
   "source": [
    "# A. All data / RESNET-152 / lr=1e-4 / weight_decay=1e-4"
   ]
  },
  {
   "cell_type": "code",
   "execution_count": 53,
   "id": "09c8f8b4-665c-4faa-8aa7-2ee7b20a4219",
   "metadata": {},
   "outputs": [
    {
     "name": "stdout",
     "output_type": "stream",
     "text": [
      "train class count: 4757\n",
      "val class count: 152\n",
      "feature count: 2048\n",
      "device: cuda:0\n"
     ]
    }
   ],
   "source": [
    "model_data = init_model_for_training(f'{dataset_dir}/data', f'{dataset_dir}/val', \n",
    "                                     batch_size=32, arch=\"resnet152\", image_size=224, robustness=0.2,\n",
    "                                     lr=1e-4, weight_decay=1e-4)"
   ]
  },
  {
   "cell_type": "code",
   "execution_count": 54,
   "id": "6093049d-76df-4b1e-bd29-7ab683c4ea51",
   "metadata": {},
   "outputs": [
    {
     "name": "stdout",
     "output_type": "stream",
     "text": [
      "Epoch    1 /    5  | Train Loss: 3.0172 Acc: 0.5240  | Val Loss: 2.0989 Acc: 0.5289  | Elapsed time: 0:30:18.628318\n",
      "Epoch    2 /    5  | Train Loss: 0.6855 Acc: 0.8394  | Val Loss: 1.8782 Acc: 0.5714  | Elapsed time: 1:00:26.706301\n"
     ]
    }
   ],
   "source": [
    "train(model_data, 5, f\"{dataset_dir}/checkpoint.lepidoptera.ta.ep01###.pth\", break_at_val_acc_diff=0.05)"
   ]
  },
  {
   "cell_type": "code",
   "execution_count": 55,
   "id": "16e073a2-f98f-4442-a48d-301580b2c1eb",
   "metadata": {},
   "outputs": [
    {
     "name": "stdout",
     "output_type": "stream",
     "text": [
      "train class count: 4757\n",
      "val class count: 152\n",
      "0 new classes added: []\n",
      "feature count: 2048\n",
      "device: cuda:0\n"
     ]
    }
   ],
   "source": [
    "model_data = prepare_for_retraining(model_data, f'{dataset_dir}/data', f'{dataset_dir}/val', batch_size=32, image_size=224, robustness=0.5)"
   ]
  },
  {
   "cell_type": "code",
   "execution_count": 56,
   "id": "c29beeac-7ce4-4b3a-acb1-13668a480386",
   "metadata": {},
   "outputs": [
    {
     "name": "stdout",
     "output_type": "stream",
     "text": [
      "Epoch    1 /    5  | Train Loss: 1.6657 Acc: 0.6186  | Val Loss: 1.5444 Acc: 0.6261  | Elapsed time: 0:29:40.059155\n",
      "Epoch    2 /    5  | Train Loss: 1.3415 Acc: 0.6857  | Val Loss: 1.7768 Acc: 0.5988  | Elapsed time: 0:58:08.351487\n"
     ]
    }
   ],
   "source": [
    "train(model_data, 5, f\"{dataset_dir}/checkpoint.lepidoptera.ta.ep02###.pth\", break_at_val_acc_diff=0.02)"
   ]
  },
  {
   "cell_type": "code",
   "execution_count": 58,
   "id": "7cc8247e-0d2f-424d-b1ee-02fbbaf493aa",
   "metadata": {},
   "outputs": [
    {
     "name": "stdout",
     "output_type": "stream",
     "text": [
      "train class count: 4757\n",
      "val class count: 152\n",
      "0 new classes added: []\n",
      "feature count: 2048\n",
      "device: cuda:0\n"
     ]
    }
   ],
   "source": [
    "model_data = prepare_for_retraining(model_data, f'{dataset_dir}/data', f'{dataset_dir}/val', batch_size=32, image_size=224, robustness=1.0)"
   ]
  },
  {
   "cell_type": "code",
   "execution_count": 60,
   "id": "b017ac41-cd17-4d9d-99cf-55d4978688d3",
   "metadata": {},
   "outputs": [
    {
     "name": "stdout",
     "output_type": "stream",
     "text": [
      "Epoch    1 /    5  | Train Loss: 1.2208 Acc: 0.7149  | Val Loss: 1.7936 Acc: 0.6140  | Elapsed time: 0:32:31.300956\n",
      "Epoch    2 /    5  | Train Loss: 1.1547 Acc: 0.7311  | Val Loss: 1.8220 Acc: 0.6201  | Elapsed time: 1:01:34.793630\n"
     ]
    }
   ],
   "source": [
    "train(model_data, 5, f\"{dataset_dir}/checkpoint.lepidoptera.ta.ep03###.pth\", break_at_val_acc_diff=0.01)"
   ]
  },
  {
   "cell_type": "code",
   "execution_count": 61,
   "id": "8e86d6a2-bb10-4eb2-a10b-4432151a2cbb",
   "metadata": {},
   "outputs": [
    {
     "name": "stdout",
     "output_type": "stream",
     "text": [
      "train class count: 4757\n",
      "val class count: 152\n",
      "0 new classes added: []\n",
      "feature count: 2048\n",
      "device: cuda:0\n"
     ]
    }
   ],
   "source": [
    "model_data = prepare_for_retraining(model_data, f'{dataset_dir}/data', f'{dataset_dir}/val', batch_size=32, image_size=224, robustness=2.0)"
   ]
  },
  {
   "cell_type": "code",
   "execution_count": 62,
   "id": "a71108cb-f096-48b8-b977-1958eded9987",
   "metadata": {},
   "outputs": [
    {
     "name": "stdout",
     "output_type": "stream",
     "text": [
      "Epoch    1 /    5  | Train Loss: 1.1848 Acc: 0.7245  | Val Loss: 1.7727 Acc: 0.6292  | Elapsed time: 0:28:31.415015\n",
      "Epoch    2 /    5  | Train Loss: 0.9349 Acc: 0.7827  | Val Loss: 1.7292 Acc: 0.6383  | Elapsed time: 0:57:28.936496\n",
      "Epoch    3 /    5  | Train Loss: 0.8609 Acc: 0.8007  | Val Loss: 1.8540 Acc: 0.6049  | Elapsed time: 1:26:37.883498\n"
     ]
    }
   ],
   "source": [
    "train(model_data, 5, f\"{dataset_dir}/checkpoint.lepidoptera.ta.ep04###.pth\", break_at_val_acc_diff=0.005)"
   ]
  },
  {
   "cell_type": "code",
   "execution_count": 50,
   "id": "cbee9774-5c8c-43cc-a08b-2e971725e67c",
   "metadata": {},
   "outputs": [],
   "source": [
    "model_data = torch.load(f\"{dataset_dir}/checkpoint.lepidoptera.ta.ep040001.pth\", weights_only=False)"
   ]
  },
  {
   "cell_type": "code",
   "execution_count": 51,
   "id": "9766860c-a435-4015-9678-92cf5411f6a2",
   "metadata": {},
   "outputs": [
    {
     "name": "stdout",
     "output_type": "stream",
     "text": [
      "Top   1 accuracy: 111/153 -> 72.55%, genus matched: 132/153 -> 86.27%\n",
      "Top   3 accuracy: 132/153 -> 86.27%, genus matched: 147/153 -> 96.08%\n",
      "Top   5 accuracy: 137/153 -> 89.54%, genus matched: 150/153 -> 98.04%\n",
      "Top  10 accuracy: 142/153 -> 92.81%, genus matched: 152/153 -> 99.35%\n"
     ]
    }
   ],
   "source": [
    "test_top_k(model_data, f\"{dataset_dir}/../butterfly/random-test\", 3, print_preds=False, print_top1_accuracy=True, print_no_match=False)\n",
    "test_top_k(model_data, f\"{dataset_dir}/../butterfly/random-test\", 5, print_preds=False, print_top1_accuracy=False)\n",
    "test_top_k(model_data, f\"{dataset_dir}/../butterfly/random-test\", 10, print_preds=False, print_top1_accuracy=False)"
   ]
  },
  {
   "cell_type": "code",
   "execution_count": 52,
   "id": "170445a5-3ae1-4a5b-a97c-b4f2fcb0beb6",
   "metadata": {},
   "outputs": [
    {
     "name": "stdout",
     "output_type": "stream",
     "text": [
      "Top   1 accuracy: 84/152 -> 55.26%, genus matched: 103/152 -> 67.76%\n",
      "Top   3 accuracy: 113/152 -> 74.34%, genus matched: 121/152 -> 79.61%\n",
      "Top   5 accuracy: 120/152 -> 78.95%, genus matched: 127/152 -> 83.55%\n",
      "Top  10 accuracy: 126/152 -> 82.89%, genus matched: 131/152 -> 86.18%\n"
     ]
    }
   ],
   "source": [
    "test_top_k(model_data, f\"{dataset_dir}/../moth/random-test\", 3, print_preds=False, print_top1_accuracy=True, print_no_match=False)\n",
    "test_top_k(model_data, f\"{dataset_dir}/../moth/random-test\", 5, print_preds=False, print_top1_accuracy=False)\n",
    "test_top_k(model_data, f\"{dataset_dir}/../moth/random-test\", 10, print_preds=False, print_top1_accuracy=False)"
   ]
  },
  {
   "cell_type": "code",
   "execution_count": null,
   "id": "e016485c-f879-49c8-99d9-7c16b5a13fa0",
   "metadata": {},
   "outputs": [],
   "source": []
  },
  {
   "cell_type": "code",
   "execution_count": null,
   "id": "73e45b26-2675-4261-a12b-f38515e14281",
   "metadata": {},
   "outputs": [],
   "source": []
  },
  {
   "cell_type": "code",
   "execution_count": null,
   "id": "db9d9250-13a2-44e8-a9c7-6494b28390f5",
   "metadata": {},
   "outputs": [],
   "source": []
  },
  {
   "cell_type": "code",
   "execution_count": null,
   "id": "69c8c208-4e7b-4777-8b79-7ee08f640788",
   "metadata": {},
   "outputs": [],
   "source": []
  },
  {
   "cell_type": "code",
   "execution_count": null,
   "id": "d6ce7fa9-0903-440f-9515-df907f46161f",
   "metadata": {},
   "outputs": [],
   "source": []
  },
  {
   "cell_type": "markdown",
   "id": "1927ba4b-17e1-41c7-9051-77c94cc2165f",
   "metadata": {},
   "source": [
    "# B. All data / RESNET-101 / lr=1e-4 / weight_decay=1e-4"
   ]
  },
  {
   "cell_type": "code",
   "execution_count": 4,
   "id": "0e723f55-11bd-4011-b6f4-15a18eed53d0",
   "metadata": {},
   "outputs": [
    {
     "name": "stdout",
     "output_type": "stream",
     "text": [
      "train class count: 4757\n",
      "val class count: 152\n",
      "feature count: 2048\n",
      "device: cuda:0\n"
     ]
    }
   ],
   "source": [
    "model_data = init_model_for_training(f'{dataset_dir}/data', f'{dataset_dir}/val', \n",
    "                                     batch_size=32, arch=\"resnet101\", image_size=224, robustness=0.2,\n",
    "                                     lr=1e-4, weight_decay=1e-4)"
   ]
  },
  {
   "cell_type": "code",
   "execution_count": 5,
   "id": "fa1dd51c-20e6-4a6e-9315-08314682998f",
   "metadata": {},
   "outputs": [
    {
     "name": "stdout",
     "output_type": "stream",
     "text": [
      "Epoch    1 /    5  | Train Loss: 3.0888 Acc: 0.4991  | Val Loss: 2.0238 Acc: 0.5228  | Elapsed time: 0:24:52.136037\n",
      "Epoch    2 /    5  | Train Loss: 0.7449 Acc: 0.8240  | Val Loss: 1.8942 Acc: 0.5471  | Elapsed time: 0:49:32.310488\n"
     ]
    }
   ],
   "source": [
    "train(model_data, 5, f\"{dataset_dir}/checkpoint.lepidoptera.tb.ep01###.pth\", break_at_val_acc_diff=0.05)"
   ]
  },
  {
   "cell_type": "code",
   "execution_count": 6,
   "id": "12301949-3e58-47ca-8ac8-50799cc2fcc2",
   "metadata": {},
   "outputs": [
    {
     "name": "stdout",
     "output_type": "stream",
     "text": [
      "train class count: 4757\n",
      "val class count: 152\n",
      "0 new classes added: []\n",
      "feature count: 2048\n",
      "device: cuda:0\n"
     ]
    }
   ],
   "source": [
    "model_data = prepare_for_retraining(model_data, f'{dataset_dir}/data', f'{dataset_dir}/val', batch_size=32, image_size=224, robustness=0.5)"
   ]
  },
  {
   "cell_type": "code",
   "execution_count": 7,
   "id": "0b252742-b0f1-4134-bcd3-ffb7d9afb7bc",
   "metadata": {},
   "outputs": [
    {
     "name": "stdout",
     "output_type": "stream",
     "text": [
      "Epoch    1 /    5  | Train Loss: 1.6470 Acc: 0.6245  | Val Loss: 1.5946 Acc: 0.5957  | Elapsed time: 0:25:35.573505\n",
      "Epoch    2 /    5  | Train Loss: 1.3504 Acc: 0.6857  | Val Loss: 1.7768 Acc: 0.5775  | Elapsed time: 0:50:47.240504\n"
     ]
    }
   ],
   "source": [
    "train(model_data, 5, f\"{dataset_dir}/checkpoint.lepidoptera.tb.ep02###.pth\", break_at_val_acc_diff=0.02)"
   ]
  },
  {
   "cell_type": "code",
   "execution_count": 8,
   "id": "2a99dfe9-7fb0-4ea9-9e58-5e01b2791d29",
   "metadata": {},
   "outputs": [
    {
     "name": "stdout",
     "output_type": "stream",
     "text": [
      "train class count: 4757\n",
      "val class count: 152\n",
      "0 new classes added: []\n",
      "feature count: 2048\n",
      "device: cuda:0\n"
     ]
    }
   ],
   "source": [
    "model_data = prepare_for_retraining(model_data, f'{dataset_dir}/data', f'{dataset_dir}/val', batch_size=32, image_size=224, robustness=1.0)"
   ]
  },
  {
   "cell_type": "code",
   "execution_count": 9,
   "id": "06d58ce9-fcda-47e6-9ee4-d933c61c6cb2",
   "metadata": {},
   "outputs": [
    {
     "name": "stdout",
     "output_type": "stream",
     "text": [
      "Epoch    1 /    5  | Train Loss: 1.2958 Acc: 0.6983  | Val Loss: 1.8237 Acc: 0.5897  | Elapsed time: 0:24:53.372874\n",
      "Epoch    2 /    5  | Train Loss: 1.2082 Acc: 0.7180  | Val Loss: 1.7294 Acc: 0.6109  | Elapsed time: 0:49:55.193874\n",
      "Epoch    3 /    5  | Train Loss: 1.1559 Acc: 0.7300  | Val Loss: 1.9144 Acc: 0.5684  | Elapsed time: 1:14:59.372581\n"
     ]
    }
   ],
   "source": [
    "train(model_data, 5, f\"{dataset_dir}/checkpoint.lepidoptera.tb.ep03###.pth\", break_at_val_acc_diff=0.01)"
   ]
  },
  {
   "cell_type": "code",
   "execution_count": 10,
   "id": "f5d0adfd-8410-4508-9e8c-a9ccdb60e603",
   "metadata": {},
   "outputs": [
    {
     "name": "stdout",
     "output_type": "stream",
     "text": [
      "train class count: 4757\n",
      "val class count: 152\n",
      "0 new classes added: []\n",
      "feature count: 2048\n",
      "device: cuda:0\n"
     ]
    }
   ],
   "source": [
    "model_data = prepare_for_retraining(model_data, f'{dataset_dir}/data', f'{dataset_dir}/val', batch_size=32, image_size=224, robustness=2.0)"
   ]
  },
  {
   "cell_type": "code",
   "execution_count": 11,
   "id": "c87ff293-9f20-45f4-97a6-e994a11a2322",
   "metadata": {
    "scrolled": true
   },
   "outputs": [
    {
     "name": "stdout",
     "output_type": "stream",
     "text": [
      "Epoch    1 /    5  | Train Loss: 1.0109 Acc: 0.7653  | Val Loss: 1.8186 Acc: 0.5897  | Elapsed time: 0:25:05.243520\n",
      "Epoch    2 /    5  | Train Loss: 0.9216 Acc: 0.7859  | Val Loss: 1.7117 Acc: 0.6140  | Elapsed time: 0:50:12.299412\n",
      "Epoch    3 /    5  | Train Loss: 0.8822 Acc: 0.7949  | Val Loss: 1.6557 Acc: 0.6109  | Elapsed time: 1:15:22.579944\n"
     ]
    }
   ],
   "source": [
    "train(model_data, 5, f\"{dataset_dir}/checkpoint.lepidoptera.tb.ep04###.pth\", break_at_val_acc_diff=0.005)"
   ]
  },
  {
   "cell_type": "code",
   "execution_count": 53,
   "id": "4d3ef386-4976-4020-af92-403b6f9097f8",
   "metadata": {},
   "outputs": [],
   "source": [
    "model_data = torch.load(f\"{dataset_dir}/checkpoint.lepidoptera.tb.ep040001.pth\", weights_only=False)"
   ]
  },
  {
   "cell_type": "code",
   "execution_count": 54,
   "id": "58410205-dc4c-4572-adbb-e6ba1c2527b3",
   "metadata": {},
   "outputs": [
    {
     "name": "stdout",
     "output_type": "stream",
     "text": [
      "Top   1 accuracy: 104/153 -> 67.97%, genus matched: 126/153 -> 82.35%\n",
      "Top   3 accuracy: 130/153 -> 84.97%, genus matched: 145/153 -> 94.77%\n",
      "Top   5 accuracy: 135/153 -> 88.24%, genus matched: 148/153 -> 96.73%\n",
      "Top  10 accuracy: 142/153 -> 92.81%, genus matched: 152/153 -> 99.35%\n"
     ]
    }
   ],
   "source": [
    "test_top_k(model_data, f\"{dataset_dir}/../butterfly/random-test\", 3, print_preds=False, print_top1_accuracy=True, print_no_match=False)\n",
    "test_top_k(model_data, f\"{dataset_dir}/../butterfly/random-test\", 5, print_preds=False, print_top1_accuracy=False)\n",
    "test_top_k(model_data, f\"{dataset_dir}/../butterfly/random-test\", 10, print_preds=False, print_top1_accuracy=False)"
   ]
  },
  {
   "cell_type": "code",
   "execution_count": 55,
   "id": "f511ae0d-5741-4655-89d3-6fd05bbe3196",
   "metadata": {},
   "outputs": [
    {
     "name": "stdout",
     "output_type": "stream",
     "text": [
      "Top   1 accuracy: 83/152 -> 54.61%, genus matched: 110/152 -> 72.37%\n",
      "Top   3 accuracy: 119/152 -> 78.29%, genus matched: 131/152 -> 86.18%\n",
      "Top   5 accuracy: 123/152 -> 80.92%, genus matched: 132/152 -> 86.84%\n",
      "Top  10 accuracy: 128/152 -> 84.21%, genus matched: 136/152 -> 89.47%\n"
     ]
    }
   ],
   "source": [
    "test_top_k(model_data, f\"{dataset_dir}/../moth/random-test\", 3, print_preds=False, print_top1_accuracy=True, print_no_match=False)\n",
    "test_top_k(model_data, f\"{dataset_dir}/../moth/random-test\", 5, print_preds=False, print_top1_accuracy=False)\n",
    "test_top_k(model_data, f\"{dataset_dir}/../moth/random-test\", 10, print_preds=False, print_top1_accuracy=False)"
   ]
  },
  {
   "cell_type": "code",
   "execution_count": null,
   "id": "25e38e91-16ff-42c6-a91c-dadd07cd4b7a",
   "metadata": {},
   "outputs": [],
   "source": []
  },
  {
   "cell_type": "code",
   "execution_count": null,
   "id": "682ee4c0-3337-4e2f-b7b6-4ba598b98533",
   "metadata": {},
   "outputs": [],
   "source": []
  },
  {
   "cell_type": "code",
   "execution_count": null,
   "id": "85478bfe-6431-4879-b2b1-ba659c39bcc3",
   "metadata": {},
   "outputs": [],
   "source": []
  },
  {
   "cell_type": "code",
   "execution_count": null,
   "id": "529f9966-aa65-413b-99ba-1e35c76fddcb",
   "metadata": {},
   "outputs": [],
   "source": []
  },
  {
   "cell_type": "code",
   "execution_count": null,
   "id": "ecdc6f35-1e5c-4bcb-a3e2-80e319ba6003",
   "metadata": {},
   "outputs": [],
   "source": []
  }
 ],
 "metadata": {
  "kernelspec": {
   "display_name": "Python 3 (ipykernel)",
   "language": "python",
   "name": "python3"
  },
  "language_info": {
   "codemirror_mode": {
    "name": "ipython",
    "version": 3
   },
   "file_extension": ".py",
   "mimetype": "text/x-python",
   "name": "python",
   "nbconvert_exporter": "python",
   "pygments_lexer": "ipython3",
   "version": "3.12.9"
  }
 },
 "nbformat": 4,
 "nbformat_minor": 5
}
