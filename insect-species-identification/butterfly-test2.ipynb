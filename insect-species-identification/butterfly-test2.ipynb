{
 "cells": [
  {
   "cell_type": "code",
   "execution_count": 1,
   "id": "243d1268-969d-4811-9e95-f0b49c2546ed",
   "metadata": {},
   "outputs": [],
   "source": [
    "%load_ext autoreload"
   ]
  },
  {
   "cell_type": "code",
   "execution_count": 2,
   "id": "3f2dc406-2eb9-401f-99a1-5320634fd8a1",
   "metadata": {},
   "outputs": [],
   "source": [
    "%autoreload 2"
   ]
  },
  {
   "cell_type": "code",
   "execution_count": 3,
   "id": "21cfffd4-d3ea-4345-a002-4146586d4bc7",
   "metadata": {},
   "outputs": [],
   "source": [
    "import mynnlib\n",
    "from mynnlib import *\n",
    "\n",
    "dataset_dir = \"insect-dataset/butterfly\"\n",
    "\n",
    "early_regex = r\"^.*-(early)$\"\n",
    "unidentified_regex = r\"^.*-(spp|genera|genera-spp)$\"\n",
    "early_or_unidentified_regex = r\"^.*-(early|spp|genera|genera-spp)$\""
   ]
  },
  {
   "cell_type": "markdown",
   "id": "6d1483a9-9cd5-4fe5-bb9a-c58b47201af8",
   "metadata": {},
   "source": [
    "# Count"
   ]
  },
  {
   "cell_type": "code",
   "execution_count": 36,
   "id": "d767080b-5309-4a58-86bb-0506985119d4",
   "metadata": {},
   "outputs": [
    {
     "name": "stdout",
     "output_type": "stream",
     "text": [
      "Total Class count :   1554 ( Unidentified:     35 / Early-stage:    429 / Identified-adult:   1090 )\n",
      "Total  Data count :  66362 ( Unidentified:   1864 / Early-stage:  10762 / Identified-adult:  53736 )\n"
     ]
    }
   ],
   "source": [
    "classes = { class_dir: len([ img for img in os.listdir(f\"{dataset_dir}/data/{class_dir}\") ]) for class_dir in os.listdir(f\"{dataset_dir}/data\") }\n",
    "early_classes = { class_name: count for class_name, count in classes.items() if re.match(early_regex, class_name) }\n",
    "unidentified_classes = { class_name: count for class_name, count in classes.items() if re.match(unidentified_regex, class_name) }\n",
    "print(f\"Total Class count : {len(classes):6} ( Unidentified: {len(unidentified_classes):6} / Early-stage: {len(early_classes):6} / Identified-adult: {len(classes) - len(unidentified_classes) - len(early_classes):6} )\")\n",
    "print(f\"Total  Data count : {sum(classes.values()):6} ( Unidentified: {sum(unidentified_classes.values()):6} / Early-stage: {sum(early_classes.values()):6} / Identified-adult: {sum(classes.values()) - sum(unidentified_classes.values()) - sum(early_classes.values()):6} )\")"
   ]
  },
  {
   "cell_type": "code",
   "execution_count": 37,
   "id": "1873d2d5-dc67-45ad-9077-eca95ac112fd",
   "metadata": {},
   "outputs": [
    {
     "name": "stdout",
     "output_type": "stream",
     "text": [
      "    64 classes with <=2 images\n",
      "   168 classes with <=5 images\n"
     ]
    }
   ],
   "source": [
    "img2_class = []\n",
    "img5_class = []\n",
    "for class_dir in os.listdir(f\"{dataset_dir}/data\"):\n",
    "    if not re.match(early_or_unidentified_regex, class_dir):\n",
    "        img_cnt = sum([1 for file in os.listdir(f\"{dataset_dir}/data/{class_dir}\")])\n",
    "        img2_class += [class_dir] if img_cnt <= 2 else []\n",
    "        img5_class += [class_dir] if img_cnt <= 5 else []\n",
    "print(f\"{len(img2_class):6} classes with <=2 images\")\n",
    "print(f\"{len(img5_class):6} classes with <=5 images\")"
   ]
  },
  {
   "cell_type": "code",
   "execution_count": 44,
   "id": "160861dd-18f6-4087-a6e1-acecac468cc2",
   "metadata": {},
   "outputs": [
    {
     "name": "stdout",
     "output_type": "stream",
     "text": [
      "Genera count: 351\n"
     ]
    }
   ],
   "source": [
    "generas = set()\n",
    "for class_name in classes:\n",
    "    generas.add(class_name.split('-')[0])\n",
    "print(f\"Genera count: {len(generas)}\")"
   ]
  },
  {
   "cell_type": "markdown",
   "id": "449a3f80-5c81-4187-bc59-131546717bc2",
   "metadata": {},
   "source": [
    "# Add more data"
   ]
  },
  {
   "cell_type": "code",
   "execution_count": 18,
   "id": "a70f75d3-a2ae-4f08-885e-443d8f17a76c",
   "metadata": {},
   "outputs": [],
   "source": [
    "def copy_data_from(sources, add_early=False):\n",
    "    class_cnt = 0\n",
    "    img_cnt = 0\n",
    "    for more_data_dir in sources:\n",
    "        for class_dir in os.listdir(f\"{dataset_dir}/data\"):\n",
    "            if os.path.exists(f\"{more_data_dir}/{class_dir}\"):\n",
    "                # print(f\"Copying data for {class_dir}...\")\n",
    "                class_cnt += 1\n",
    "                for file in os.listdir(f\"{more_data_dir}/{class_dir}\"):\n",
    "                    shutil.copy2(f\"{more_data_dir}/{class_dir}/{file}\", f\"{dataset_dir}/data/{class_dir}/{file}\")\n",
    "                    img_cnt += 1\n",
    "            if add_early and os.path.exists(f\"{more_data_dir}/{class_dir}-early\"):\n",
    "                # print(f\"Copying data for {class_dir}-early...\")\n",
    "                class_cnt += 1\n",
    "                os.makedirs(f\"{dataset_dir}/data/{class_dir}-early/{file}\")\n",
    "                for file in os.listdir(f\"{more_data_dir}/{class_dir}-early\"):\n",
    "                    shutil.copy2(f\"{more_data_dir}/{class_dir}-early/{file}\", f\"{dataset_dir}/data/{class_dir}-early/{file}\")\n",
    "                    img_cnt += 1\n",
    "    print(f\"{img_cnt} images added into {class_cnt} classes\")"
   ]
  },
  {
   "cell_type": "code",
   "execution_count": 13,
   "id": "6e652b2c-4802-4918-9657-87cbe5ee737e",
   "metadata": {},
   "outputs": [
    {
     "data": {
      "text/plain": [
       "'insect-dataset/butterfly/data'"
      ]
     },
     "execution_count": 13,
     "metadata": {},
     "output_type": "execute_result"
    }
   ],
   "source": [
    "# copy all from ifoundbutterflies\n",
    "if os.path.exists(f\"{dataset_dir}/data\"):\n",
    "    shutil.rmtree(f\"{dataset_dir}/data\")\n",
    "shutil.copytree(\"insect-dataset/src/ifoundbutterflies.org\", f\"{dataset_dir}/data\")"
   ]
  },
  {
   "cell_type": "code",
   "execution_count": 14,
   "id": "1b67f3ff-86e0-41b3-9a1a-54114176f68f",
   "metadata": {},
   "outputs": [
    {
     "name": "stdout",
     "output_type": "stream",
     "text": [
      "9704 images added into 578 classes\n"
     ]
    }
   ],
   "source": [
    "copy_data_from([\"insect-dataset/src/indiabiodiversity.org\"], add_early=True)"
   ]
  },
  {
   "cell_type": "code",
   "execution_count": 15,
   "id": "702cc7cb-7496-496e-867f-af714c5e0e4d",
   "metadata": {},
   "outputs": [
    {
     "name": "stdout",
     "output_type": "stream",
     "text": [
      "1010 images added into 761 classes\n"
     ]
    }
   ],
   "source": [
    "copy_data_from([\"insect-dataset/src/wikipedia.org\"], add_early=True)"
   ]
  },
  {
   "cell_type": "code",
   "execution_count": 16,
   "id": "db414d32-4ae8-49ad-a89c-7366ee37d738",
   "metadata": {},
   "outputs": [
    {
     "name": "stdout",
     "output_type": "stream",
     "text": [
      "979 images added into 172 classes\n"
     ]
    }
   ],
   "source": [
    "copy_data_from([\"insect-dataset/src/insecta.pro\"], add_early=True)"
   ]
  },
  {
   "cell_type": "code",
   "execution_count": 19,
   "id": "ab3492bf-58f1-41d9-b11c-ce064cfe2163",
   "metadata": {},
   "outputs": [
    {
     "name": "stdout",
     "output_type": "stream",
     "text": [
      "46735 images added into 791 classes\n"
     ]
    }
   ],
   "source": [
    "copy_data_from([\"insect-dataset/src/inaturalist.org\"], add_early=True)"
   ]
  },
  {
   "cell_type": "code",
   "execution_count": 20,
   "id": "6d016b31-5184-4864-8e40-a5303128b7a3",
   "metadata": {},
   "outputs": [],
   "source": [
    "# # remove early classes\n",
    "# for class_dir in os.listdir(f\"{dataset_dir}/data\"):\n",
    "#     if class_dir.endswith(\"-early\"):\n",
    "#         shutil.rmtree(f\"{dataset_dir}/data/{class_dir}\")"
   ]
  },
  {
   "cell_type": "code",
   "execution_count": 21,
   "id": "b0b6583f-1fec-425a-ad59-4f22407f2390",
   "metadata": {},
   "outputs": [
    {
     "name": "stdout",
     "output_type": "stream",
     "text": [
      "Total Class count :   1559 ( Unidentified:     35 / Early-stage:    434 / Identified-adult:   1090 )\n",
      "Total  Data count : 124776 ( Unidentified:   1864 / Early-stage:  10854 / Identified-adult: 112058 )\n"
     ]
    }
   ],
   "source": [
    "classes = { class_dir: len([ img for img in os.listdir(f\"{dataset_dir}/data/{class_dir}\") ]) for class_dir in os.listdir(f\"{dataset_dir}/data\") }\n",
    "early_classes = { class_name: count for class_name, count in classes.items() if re.match(early_regex, class_name) }\n",
    "unidentified_classes = { class_name: count for class_name, count in classes.items() if re.match(unidentified_regex, class_name) }\n",
    "print(f\"Total Class count : {len(classes):6} ( Unidentified: {len(unidentified_classes):6} / Early-stage: {len(early_classes):6} / Identified-adult: {len(classes) - len(unidentified_classes) - len(early_classes):6} )\")\n",
    "print(f\"Total  Data count : {sum(classes.values()):6} ( Unidentified: {sum(unidentified_classes.values()):6} / Early-stage: {sum(early_classes.values()):6} / Identified-adult: {sum(classes.values()) - sum(unidentified_classes.values()) - sum(early_classes.values()):6} )\")"
   ]
  },
  {
   "cell_type": "code",
   "execution_count": 22,
   "id": "2ba8373c-a279-4bf8-b4ed-82dc2961b164",
   "metadata": {},
   "outputs": [
    {
     "name": "stdout",
     "output_type": "stream",
     "text": [
      "    24 classes with <=2 images\n",
      "    84 classes with <=5 images\n"
     ]
    }
   ],
   "source": [
    "img2_class = []\n",
    "img5_class = []\n",
    "for class_dir in os.listdir(f\"{dataset_dir}/data\"):\n",
    "    if not re.match(early_or_unidentified_regex, class_dir):\n",
    "        img_cnt = sum([1 for file in os.listdir(f\"{dataset_dir}/data/{class_dir}\")])\n",
    "        img2_class += [class_dir] if img_cnt <= 2 else []\n",
    "        img5_class += [class_dir] if img_cnt <= 5 else []\n",
    "print(f\"{len(img2_class):6} classes with <=2 images\")\n",
    "print(f\"{len(img5_class):6} classes with <=5 images\")"
   ]
  },
  {
   "cell_type": "markdown",
   "id": "948ee541-3d88-445b-9da0-6036351adbde",
   "metadata": {},
   "source": [
    "# Train"
   ]
  },
  {
   "cell_type": "markdown",
   "id": "e3c16465-62e5-4a7c-8948-eaf26f1f3786",
   "metadata": {},
   "source": [
    "### Model A (resnet-152 + only imago data)"
   ]
  },
  {
   "cell_type": "code",
   "execution_count": 56,
   "id": "11f121af-7d84-462b-8ddc-943e6c067a01",
   "metadata": {},
   "outputs": [
    {
     "name": "stdout",
     "output_type": "stream",
     "text": [
      "Phase 1:\n",
      "Epoch    1 /    5  | Train Loss: 2.2722 Acc: 0.5376  | Val Loss: 1.6662 Acc: 0.6118  | Elapsed time: 0:18:37.814795\n",
      "Epoch    2 /    5  | Train Loss: 0.5177 Acc: 0.8594  | Val Loss: 1.2701 Acc: 0.6706  | Elapsed time: 0:36:56.316690\n",
      "Epoch    3 /    5  | Train Loss: 0.2839 Acc: 0.9197  | Val Loss: 1.1690 Acc: 0.6941  | Elapsed time: 0:55:27.259901\n",
      "Phase 2:\n",
      "Epoch    1 /    5  | Train Loss: 1.3028 Acc: 0.6716  | Val Loss: 1.0681 Acc: 0.7118  | Elapsed time: 0:19:17.592222\n",
      "Epoch    2 /    5  | Train Loss: 1.0269 Acc: 0.7386  | Val Loss: 0.9693 Acc: 0.7706  | Elapsed time: 0:38:38.703246\n",
      "Epoch    3 /    5  | Train Loss: 0.9482 Acc: 0.7597  | Val Loss: 0.9419 Acc: 0.7882  | Elapsed time: 0:57:48.982457\n",
      "Phase 3:\n",
      "Epoch    1 /    5  | Train Loss: 0.9277 Acc: 0.7639  | Val Loss: 0.9357 Acc: 0.7706  | Elapsed time: 0:19:15.900564\n",
      "Epoch    2 /    5  | Train Loss: 0.7238 Acc: 0.8178  | Val Loss: 0.8696 Acc: 0.7941  | Elapsed time: 0:38:17.507498\n",
      "Epoch    3 /    5  | Train Loss: 0.6603 Acc: 0.8370  | Val Loss: 0.8743 Acc: 0.7941  | Elapsed time: 0:57:25.326244\n",
      "Phase 4:\n",
      "Epoch    1 /    5  | Train Loss: 0.7022 Acc: 0.8243  | Val Loss: 0.8898 Acc: 0.8000  | Elapsed time: 0:19:06.992477\n",
      "Epoch    2 /    5  | Train Loss: 0.6740 Acc: 0.8327  | Val Loss: 0.8800 Acc: 0.8176  | Elapsed time: 0:37:59.248455\n",
      "Epoch    3 /    5  | Train Loss: 0.6472 Acc: 0.8376  | Val Loss: 0.8612 Acc: 0.8059  | Elapsed time: 0:56:45.485223\n"
     ]
    }
   ],
   "source": [
    "training_params = [\n",
    "    { \"idx\": 1, \"robustness\": 0.2, \"break_at_val_acc_diff\": 0.05},\n",
    "    { \"idx\": 2, \"robustness\": 0.5, \"break_at_val_acc_diff\": 0.02},\n",
    "    { \"idx\": 3, \"robustness\": 1.0, \"break_at_val_acc_diff\": 0.01},\n",
    "    { \"idx\": 4, \"robustness\": 2.0, \"break_at_val_acc_diff\": -0.000001}\n",
    "]\n",
    "for param in training_params:\n",
    "    print(f\"Phase {param[\"idx\"]}:\")\n",
    "    if param[\"idx\"] == 1:\n",
    "        model_data = init_model_for_training(f'{dataset_dir}/data', f'{dataset_dir}/val', \n",
    "                                             batch_size=32, arch=\"resnet152\", image_size=224, robustness=param[\"robustness\"],\n",
    "                                             lr=1e-4, weight_decay=1e-4, silent=True)\n",
    "    else:\n",
    "        model_data = prepare_for_retraining(model_data, f'{dataset_dir}/data', f'{dataset_dir}/val', \n",
    "                                            batch_size=32, image_size=224, robustness=param[\"robustness\"], silent=True)\n",
    "    train(model_data, 5, f\"{dataset_dir}/checkpoint.butterfly.ta.ep{param[\"idx\"]:02}###.pth\", \n",
    "          break_at_val_acc_diff=param[\"break_at_val_acc_diff\"])"
   ]
  },
  {
   "cell_type": "code",
   "execution_count": 4,
   "id": "e89e6e77-5c81-4b6e-b956-56770db743f1",
   "metadata": {},
   "outputs": [],
   "source": [
    "model_data = torch.load(f\"{dataset_dir}/checkpoint.butterfly.ta.ep040001.pth\", weights_only=False)"
   ]
  },
  {
   "cell_type": "code",
   "execution_count": 5,
   "id": "61660418-57fe-438c-9e0c-865f41f56e3f",
   "metadata": {},
   "outputs": [
    {
     "name": "stdout",
     "output_type": "stream",
     "text": [
      "Top   1 accuracy: 126/153 -> 82.35%, genus matched: 140/153 -> 91.50%\n",
      "Top   3 accuracy: 136/153 -> 88.89%, genus matched: 150/153 -> 98.04%\n",
      "Top   5 accuracy: 141/153 -> 92.16%, genus matched: 152/153 -> 99.35%\n",
      "Top  10 accuracy: 148/153 -> 96.73%, genus matched: 152/153 -> 99.35%\n"
     ]
    }
   ],
   "source": [
    "test_top_k(model_data, f\"{dataset_dir}/../butterfly/random-test\", 3, print_preds=False, print_top1_accuracy=True, print_no_match=False)\n",
    "test_top_k(model_data, f\"{dataset_dir}/../butterfly/random-test\", 5, print_preds=False, print_top1_accuracy=False)\n",
    "test_top_k(model_data, f\"{dataset_dir}/../butterfly/random-test\", 10, print_preds=False, print_top1_accuracy=False)"
   ]
  },
  {
   "cell_type": "code",
   "execution_count": 8,
   "id": "0c5de108-fab6-4dbd-bbd9-8a1b1a845a22",
   "metadata": {
    "scrolled": true
   },
   "outputs": [
    {
     "name": "stdout",
     "output_type": "stream",
     "text": [
      "acraea-terpsicore             : \u001b[32macraea-terpsicore\u001b[0m(0.935)  coladenia-indrani(0.025)  byblia-ilithyia(0.011)  \n",
      "athyma-pravara                : neptis-clinia(0.358)  neptis-neptis-spp(0.326)  athyma-kanwa(0.089)  \n",
      "colias-fieldii                : \u001b[32mcolias-fieldii\u001b[0m(0.990)  colias-erate(0.008)  colias-nilagiriensis(0.001)  \n",
      "danaus-melanippus             : \u001b[32mdanaus-melanippus\u001b[0m(0.997)  danaus-genutia(0.003)  danaus-chrysippus(0.000)  \n",
      "delias-descombesi             : \u001b[32mdelias-descombesi\u001b[0m(0.997)  delias-pasithoe(0.001)  delias-agostina(0.000)  \n",
      "euploea-core                  : \u001b[32meuploea-core\u001b[0m(0.937)  euploea-sylvester(0.045)  euploea-klugii(0.006)  \n",
      "graphium-doson                : \u001b[32mgraphium-doson\u001b[0m(0.953)  graphium-eurypylus(0.019)  graphium-teredon(0.012)  \n",
      "hypolimnas-bolina             : \u001b[32mhypolimnas-bolina\u001b[0m(0.995)  thaumantis-diores(0.001)  hypolimnas-misippus(0.001)  \n",
      "kallima-inachus               : \u001b[32mkallima-inachus\u001b[0m(0.999)  kallima-albofasciata(0.001)  doleschallia-bisaltide(0.000)  \n",
      "lethe-verma                   : \u001b[32mlethe-verma\u001b[0m(0.992)  lethe-confusa(0.004)  zipaetis-saitis(0.002)  \n",
      "melanitis-leda                : \u001b[32mmelanitis-leda\u001b[0m(0.874)  kallima-inachus(0.038)  melanitis-zitenius(0.028)  \n",
      "papilio-bianor                : papilio-polyctor(0.712)  \u001b[32mpapilio-bianor\u001b[0m(0.279)  papilio-crino(0.003)  \n",
      "papilio-paris                 : papilio-polyctor(0.474)  papilio-bianor(0.435)  \u001b[32mpapilio-paris\u001b[0m(0.075)  \n",
      "parantica-sita                : parantica-melaneus(0.981)  \u001b[32mparantica-sita\u001b[0m(0.016)  parantica-pedonga(0.001)  \n",
      "phalanta-phalantha            : \u001b[32mphalanta-phalantha\u001b[0m(0.988)  phalanta-alcippe(0.010)  cirrochroa-tyche(0.000)  \n",
      "symbrenthia-lilaea            : \u001b[32msymbrenthia-lilaea\u001b[0m(0.959)  athyma-cama(0.015)  neptis-radha(0.005)  \n",
      "troides-minos                 : \u001b[32mtroides-minos\u001b[0m(0.906)  troides-aeacus(0.060)  troides-helena(0.034)  \n",
      "vanessa-indica                : \u001b[32mvanessa-indica\u001b[0m(0.998)  symbrenthia-hypselis(0.000)  symbrenthia-brabira(0.000)  \n",
      "vindula-dejone                : vindula-erota(0.957)  cirrochroa-thais(0.017)  vagrans-egista(0.012)  \n",
      "zemeros-flegyas               : \u001b[32mzemeros-flegyas\u001b[0m(0.999)  lethe-kanjupkula(0.000)  rohana-parvata(0.000)  \n",
      "----------\n",
      "Top   1 accuracy: 15/20 -> 75.00%, genus matched: 19/20 -> 95.00%\n",
      "Top   3 accuracy: 18/20 -> 90.00%, genus matched: 20/20 -> 100.00%\n"
     ]
    }
   ],
   "source": [
    "test_top_k(model_data, f\"{dataset_dir}/../butterfly/my-test\", 3, print_preds=True, print_top1_accuracy=True, print_no_match=False)"
   ]
  },
  {
   "cell_type": "code",
   "execution_count": null,
   "id": "3c422118-c623-4508-9904-d39f119dfea8",
   "metadata": {},
   "outputs": [],
   "source": []
  },
  {
   "cell_type": "code",
   "execution_count": null,
   "id": "8d7d8509-b51d-4bc2-83c9-1b31137d59e5",
   "metadata": {},
   "outputs": [],
   "source": []
  },
  {
   "cell_type": "code",
   "execution_count": null,
   "id": "f4a59faf-5e5a-4fcc-9946-ed06d9b90345",
   "metadata": {},
   "outputs": [],
   "source": []
  },
  {
   "cell_type": "markdown",
   "id": "5cad4e82-06a3-4e75-9cd8-21f2485cc9bc",
   "metadata": {},
   "source": [
    "### Model B (resnet-152 + only imago data + more data)"
   ]
  },
  {
   "cell_type": "code",
   "execution_count": 5,
   "id": "222b6309-5b28-459a-9b35-ef950136ea2e",
   "metadata": {},
   "outputs": [
    {
     "name": "stdout",
     "output_type": "stream",
     "text": [
      "Phase 1:\n",
      "Epoch    1 /    5  | Train Loss: 2.3199 Acc: 0.5360  | Val Loss: 1.8560 Acc: 0.5471  | Elapsed time: 0:18:31.117369\n",
      "Epoch    2 /    5  | Train Loss: 0.5450 Acc: 0.8508  | Val Loss: 1.3034 Acc: 0.6529  | Elapsed time: 0:36:41.522199\n",
      "Epoch    3 /    5  | Train Loss: 0.2881 Acc: 0.9181  | Val Loss: 1.2338 Acc: 0.6412  | Elapsed time: 0:54:48.821969\n",
      "Phase 2:\n",
      "Epoch    1 /    5  | Train Loss: 1.3223 Acc: 0.6696  | Val Loss: 1.1831 Acc: 0.6882  | Elapsed time: 0:18:49.463887\n",
      "Epoch    2 /    5  | Train Loss: 1.0532 Acc: 0.7294  | Val Loss: 1.1204 Acc: 0.7118  | Elapsed time: 0:37:37.477336\n",
      "Epoch    3 /    5  | Train Loss: 0.9483 Acc: 0.7579  | Val Loss: 1.1092 Acc: 0.7235  | Elapsed time: 0:56:26.752563\n",
      "Phase 3:\n",
      "Epoch    1 /    5  | Train Loss: 0.9414 Acc: 0.7621  | Val Loss: 0.9987 Acc: 0.7118  | Elapsed time: 0:18:38.801046\n",
      "Epoch    2 /    5  | Train Loss: 0.7372 Acc: 0.8172  | Val Loss: 0.8772 Acc: 0.7647  | Elapsed time: 0:37:48.202548\n",
      "Epoch    3 /    5  | Train Loss: 0.6685 Acc: 0.8317  | Val Loss: 0.8836 Acc: 0.7882  | Elapsed time: 0:57:52.535218\n",
      "Epoch    4 /    5  | Train Loss: 0.6377 Acc: 0.8419  | Val Loss: 0.8395 Acc: 0.7765  | Elapsed time: 1:17:55.498611\n",
      "Phase 4:\n",
      "Epoch    1 /    5  | Train Loss: 0.6826 Acc: 0.8304  | Val Loss: 0.8684 Acc: 0.8000  | Elapsed time: 0:19:19.523901\n",
      "Epoch    2 /    5  | Train Loss: 0.6503 Acc: 0.8342  | Val Loss: 0.9018 Acc: 0.7706  | Elapsed time: 0:39:01.225291\n"
     ]
    }
   ],
   "source": [
    "training_params = [\n",
    "    { \"idx\": 1, \"robustness\": 0.2, \"break_at_val_acc_diff\": 0.05},\n",
    "    { \"idx\": 2, \"robustness\": 0.5, \"break_at_val_acc_diff\": 0.02},\n",
    "    { \"idx\": 3, \"robustness\": 1.0, \"break_at_val_acc_diff\": 0.01},\n",
    "    { \"idx\": 4, \"robustness\": 2.0, \"break_at_val_acc_diff\": -0.000001}\n",
    "]\n",
    "for param in training_params:\n",
    "    print(f\"Phase {param[\"idx\"]}:\")\n",
    "    if param[\"idx\"] == 1:\n",
    "        model_data = init_model_for_training(f'{dataset_dir}/data', f'{dataset_dir}/val', \n",
    "                                             batch_size=32, arch=\"resnet152\", image_size=224, robustness=param[\"robustness\"],\n",
    "                                             lr=1e-4, weight_decay=1e-4, silent=True)\n",
    "    else:\n",
    "        model_data = prepare_for_retraining(model_data, f'{dataset_dir}/data', f'{dataset_dir}/val', \n",
    "                                            batch_size=32, image_size=224, robustness=param[\"robustness\"], silent=True)\n",
    "    train(model_data, 5, f\"{dataset_dir}/checkpoint.butterfly.tb.ep{param[\"idx\"]:02}###.pth\", \n",
    "          break_at_val_acc_diff=param[\"break_at_val_acc_diff\"])"
   ]
  },
  {
   "cell_type": "code",
   "execution_count": 6,
   "id": "1ee4c133-b82a-47fd-a90b-075d582cd37b",
   "metadata": {},
   "outputs": [],
   "source": [
    "model_data = torch.load(f\"{dataset_dir}/checkpoint.butterfly.tb.ep040000.pth\", weights_only=False)"
   ]
  },
  {
   "cell_type": "code",
   "execution_count": 7,
   "id": "7b6fc90d-284e-4905-9a92-b8718b02930a",
   "metadata": {},
   "outputs": [
    {
     "name": "stdout",
     "output_type": "stream",
     "text": [
      "Top   1 accuracy: 123/153 -> 80.39%, genus matched: 143/153 -> 93.46%\n",
      "Top   3 accuracy: 139/153 -> 90.85%, genus matched: 152/153 -> 99.35%\n",
      "Top   5 accuracy: 145/153 -> 94.77%, genus matched: 153/153 -> 100.00%\n",
      "Top  10 accuracy: 148/153 -> 96.73%, genus matched: 153/153 -> 100.00%\n"
     ]
    }
   ],
   "source": [
    "test_top_k(model_data, f\"{dataset_dir}/../butterfly/random-test\", 3, print_preds=False, print_top1_accuracy=True, print_no_match=False)\n",
    "test_top_k(model_data, f\"{dataset_dir}/../butterfly/random-test\", 5, print_preds=False, print_top1_accuracy=False)\n",
    "test_top_k(model_data, f\"{dataset_dir}/../butterfly/random-test\", 10, print_preds=False, print_top1_accuracy=False)"
   ]
  },
  {
   "cell_type": "code",
   "execution_count": 8,
   "id": "3cb4ce25-b70e-414f-a1d7-c75f1ab80232",
   "metadata": {},
   "outputs": [
    {
     "name": "stdout",
     "output_type": "stream",
     "text": [
      "acraea-terpsicore             : \u001b[32macraea-terpsicore\u001b[0m(0.998)  zemeros-flegyas(0.001)  byblia-ilithyia(0.000)  \n",
      "athyma-pravara                : neptis-neptis-spp(0.402)  neptis-hylas(0.375)  neptis-clinia(0.085)  \n",
      "colias-fieldii                : \u001b[32mcolias-fieldii\u001b[0m(0.710)  colias-erate(0.285)  colias-nilagiriensis(0.004)  \n",
      "danaus-melanippus             : \u001b[32mdanaus-melanippus\u001b[0m(0.999)  danaus-genutia(0.001)  danaus-chrysippus(0.000)  \n",
      "delias-descombesi             : \u001b[32mdelias-descombesi\u001b[0m(0.995)  delias-pasithoe(0.001)  danaus-chrysippus(0.001)  \n",
      "euploea-core                  : \u001b[32meuploea-core\u001b[0m(0.984)  euploea-sylvester(0.012)  euploea-klugii(0.002)  \n",
      "graphium-doson                : \u001b[32mgraphium-doson\u001b[0m(0.977)  graphium-eurypylus(0.019)  graphium-chironides(0.002)  \n",
      "hypolimnas-bolina             : \u001b[32mhypolimnas-bolina\u001b[0m(0.997)  hypolimnas-misippus(0.001)  euploea-mulciber(0.000)  \n",
      "kallima-inachus               : \u001b[32mkallima-inachus\u001b[0m(0.998)  kallima-albofasciata(0.001)  doleschallia-bisaltide(0.000)  \n",
      "lethe-verma                   : \u001b[32mlethe-verma\u001b[0m(0.996)  lethe-confusa(0.003)  zipaetis-saitis(0.001)  \n",
      "melanitis-leda                : \u001b[32mmelanitis-leda\u001b[0m(0.956)  melanitis-phedima(0.027)  libythea-lepita(0.007)  \n",
      "papilio-bianor                : papilio-polyctor(0.739)  \u001b[32mpapilio-bianor\u001b[0m(0.248)  papilio-crino(0.009)  \n",
      "papilio-paris                 : papilio-bianor(0.618)  papilio-arcturus(0.281)  papilio-polyctor(0.063)  \n",
      "parantica-sita                : parantica-melaneus(0.945)  \u001b[32mparantica-sita\u001b[0m(0.049)  parantica-pedonga(0.003)  \n",
      "phalanta-phalantha            : \u001b[32mphalanta-phalantha\u001b[0m(1.000)  cupha-erymanthis(0.000)  phalanta-alcippe(0.000)  \n",
      "symbrenthia-lilaea            : \u001b[32msymbrenthia-lilaea\u001b[0m(0.664)  herona-marathus(0.224)  dodona-ouida(0.035)  \n",
      "troides-minos                 : \u001b[32mtroides-minos\u001b[0m(0.947)  troides-helena(0.038)  troides-aeacus(0.014)  \n",
      "vanessa-indica                : \u001b[32mvanessa-indica\u001b[0m(0.952)  sephisa-chandra(0.036)  vanessa-cardui(0.004)  \n",
      "vindula-dejone                : vindula-erota(0.986)  cirrochroa-tyche(0.006)  cirrochroa-aoris(0.003)  \n",
      "zemeros-flegyas               : \u001b[32mzemeros-flegyas\u001b[0m(0.992)  coladenia-indrani(0.001)  celaenorrhinus-pulomaya(0.001)  \n",
      "----------\n",
      "Top   1 accuracy: 15/20 -> 75.00%, genus matched: 19/20 -> 95.00%\n",
      "Top   3 accuracy: 17/20 -> 85.00%, genus matched: 19/20 -> 95.00%\n"
     ]
    }
   ],
   "source": [
    "test_top_k(model_data, f\"{dataset_dir}/../butterfly/my-test\", 3, print_preds=True, print_top1_accuracy=True, print_no_match=False)"
   ]
  },
  {
   "cell_type": "code",
   "execution_count": null,
   "id": "3f8f0e37-c78e-4a19-8403-a00db7ed8b67",
   "metadata": {},
   "outputs": [],
   "source": []
  },
  {
   "cell_type": "code",
   "execution_count": null,
   "id": "9af88320-4d50-4e9a-ac56-9f37b8437d8d",
   "metadata": {},
   "outputs": [],
   "source": []
  },
  {
   "cell_type": "code",
   "execution_count": null,
   "id": "b9ab1921-3799-4c1e-9438-8d9c69882b4c",
   "metadata": {},
   "outputs": [],
   "source": []
  },
  {
   "cell_type": "markdown",
   "id": "361e5422-4103-4257-a707-c7cd6b90707a",
   "metadata": {},
   "source": [
    "### Model C (resnet-152 + early & imago data ++more data)\n",
    "Few imago classes have early stage data mixed now"
   ]
  },
  {
   "cell_type": "code",
   "execution_count": 23,
   "id": "1fb9c59e-351f-4a97-b6de-cf917826672b",
   "metadata": {},
   "outputs": [
    {
     "name": "stdout",
     "output_type": "stream",
     "text": [
      "Phase 1:\n",
      "Epoch    1 /    5  | Train Loss: 2.3034 Acc: 0.5293  | Val Loss: 1.5215 Acc: 0.6235  | Elapsed time: 0:34:16.397226\n",
      "Epoch    2 /    5  | Train Loss: 0.7134 Acc: 0.8082  | Val Loss: 1.3012 Acc: 0.6529  | Elapsed time: 1:04:35.168065\n",
      "Phase 2:\n",
      "Epoch    1 /    5  | Train Loss: 1.5028 Acc: 0.6453  | Val Loss: 1.2197 Acc: 0.6529  | Elapsed time: 0:31:31.495287\n",
      "Epoch    2 /    5  | Train Loss: 1.2492 Acc: 0.6994  | Val Loss: 1.1012 Acc: 0.6941  | Elapsed time: 1:03:07.243495\n",
      "Epoch    3 /    5  | Train Loss: 1.1473 Acc: 0.7219  | Val Loss: 1.1776 Acc: 0.7118  | Elapsed time: 1:34:45.744452\n",
      "Phase 3:\n",
      "Epoch    1 /    5  | Train Loss: 1.1356 Acc: 0.7250  | Val Loss: 1.1200 Acc: 0.6941  | Elapsed time: 0:33:50.405849\n",
      "Epoch    2 /    5  | Train Loss: 1.0774 Acc: 0.7395  | Val Loss: 1.1216 Acc: 0.7235  | Elapsed time: 1:07:04.884406\n",
      "Epoch    3 /    5  | Train Loss: 0.8507 Acc: 0.7969  | Val Loss: 0.9160 Acc: 0.7882  | Elapsed time: 1:39:36.200142\n",
      "Epoch    4 /    5  | Train Loss: 0.7747 Acc: 0.8157  | Val Loss: 0.8683 Acc: 0.7765  | Elapsed time: 2:12:16.732724\n",
      "Phase 4:\n",
      "Epoch    1 /    5  | Train Loss: 0.7999 Acc: 0.8074  | Val Loss: 0.8564 Acc: 0.7882  | Elapsed time: 0:32:11.605525\n",
      "Epoch    2 /    5  | Train Loss: 0.7688 Acc: 0.8156  | Val Loss: 0.8454 Acc: 0.7941  | Elapsed time: 1:05:16.644409\n",
      "Epoch    3 /    5  | Train Loss: 0.7488 Acc: 0.8211  | Val Loss: 0.8284 Acc: 0.8059  | Elapsed time: 1:37:44.031122\n",
      "Epoch    4 /    5  | Train Loss: 0.7306 Acc: 0.8259  | Val Loss: 0.8257 Acc: 0.7941  | Elapsed time: 2:10:34.257388\n",
      "Phase 5:\n",
      "Epoch    1 /    5  | Train Loss: 0.7056 Acc: 0.8311  | Val Loss: 0.8400 Acc: 0.8000  | Elapsed time: 0:33:54.087465\n",
      "Epoch    2 /    5  | Train Loss: 0.6875 Acc: 0.8362  | Val Loss: 0.8192 Acc: 0.8118  | Elapsed time: 1:07:03.684109\n",
      "Epoch    3 /    5  | Train Loss: 0.6892 Acc: 0.8370  | Val Loss: 0.7986 Acc: 0.8176  | Elapsed time: 1:39:07.505744\n",
      "Epoch    4 /    5  | Train Loss: 0.6704 Acc: 0.8404  | Val Loss: 0.8244 Acc: 0.8176  | Elapsed time: 2:13:17.029193\n",
      "Epoch    5 /    5  | Train Loss: 0.6692 Acc: 0.8399  | Val Loss: 0.7986 Acc: 0.8176  | Elapsed time: 2:47:48.196914\n"
     ]
    }
   ],
   "source": [
    "training_params = [\n",
    "    { \"idx\": 1, \"robustness\": 0.2, \"break_at_val_acc_diff\": 0.05},\n",
    "    { \"idx\": 2, \"robustness\": 0.5, \"break_at_val_acc_diff\": 0.02},\n",
    "    { \"idx\": 3, \"robustness\": 1.0, \"break_at_val_acc_diff\": 0.01},\n",
    "    { \"idx\": 4, \"robustness\": 2.0, \"break_at_val_acc_diff\": -0.000001},\n",
    "    { \"idx\": 5, \"robustness\": 2.0, \"break_at_val_acc_diff\": -0.000001}\n",
    "]\n",
    "for param in training_params:\n",
    "    print(f\"Phase {param[\"idx\"]}:\")\n",
    "    if param[\"idx\"] == 1:\n",
    "        model_data = init_model_for_training(f'{dataset_dir}/data', f'{dataset_dir}/val', \n",
    "                                             batch_size=32, arch=\"resnet152\", image_size=224, robustness=param[\"robustness\"],\n",
    "                                             lr=1e-4, weight_decay=1e-4, silent=True)\n",
    "    else:\n",
    "        model_data = prepare_for_retraining(model_data, f'{dataset_dir}/data', f'{dataset_dir}/val', \n",
    "                                            batch_size=32, image_size=224, robustness=param[\"robustness\"], silent=True)\n",
    "    train(model_data, 5, f\"{dataset_dir}/checkpoint.butterfly.tc.ep{param[\"idx\"]:02}###.pth\", \n",
    "          break_at_val_acc_diff=param[\"break_at_val_acc_diff\"])"
   ]
  },
  {
   "cell_type": "code",
   "execution_count": null,
   "id": "060fabed-2f34-4055-b480-380aa4df2338",
   "metadata": {},
   "outputs": [],
   "source": [
    "training_params = [\n",
    "    { \"idx\": 6, \"robustness\": 2.1, \"break_at_val_acc_diff\": -0.000001},\n",
    "    { \"idx\": 7, \"robustness\": 2.2, \"break_at_val_acc_diff\": -0.000001}\n",
    "]\n",
    "for param in training_params:\n",
    "    print(f\"Phase {param[\"idx\"]}:\")\n",
    "    model_data = prepare_for_retraining(model_data, f'{dataset_dir}/data', f'{dataset_dir}/val', \n",
    "                                        batch_size=32, image_size=224, robustness=param[\"robustness\"], silent=True)\n",
    "    train(model_data, 5, f\"{dataset_dir}/checkpoint.butterfly.tc.ep{param[\"idx\"]:02}###.pth\", \n",
    "          break_at_val_acc_diff=param[\"break_at_val_acc_diff\"])"
   ]
  },
  {
   "cell_type": "code",
   "execution_count": 27,
   "id": "351a2967-8cc0-448b-99d6-4f037e0830d7",
   "metadata": {},
   "outputs": [],
   "source": [
    "model_data = torch.load(f\"{dataset_dir}/checkpoint.butterfly.tc.ep050004.pth\", weights_only=False)"
   ]
  },
  {
   "cell_type": "code",
   "execution_count": 30,
   "id": "5fcdb027-494b-44d7-a55b-f710fb1aec93",
   "metadata": {},
   "outputs": [
    {
     "name": "stdout",
     "output_type": "stream",
     "text": [
      "Top   1 accuracy: 125/153 -> 81.70%, genus matched: 143/153 -> 93.46%\n",
      "Top   3 accuracy: 138/153 -> 90.20%, genus matched: 151/153 -> 98.69%\n",
      "Top   5 accuracy: 143/153 -> 93.46%, genus matched: 152/153 -> 99.35%\n",
      "Top  10 accuracy: 148/153 -> 96.73%, genus matched: 153/153 -> 100.00%\n"
     ]
    }
   ],
   "source": [
    "test_top_k(model_data, f\"{dataset_dir}/../butterfly/random-test\", 3, print_preds=False, print_top1_accuracy=True, print_no_match=False)\n",
    "test_top_k(model_data, f\"{dataset_dir}/../butterfly/random-test\", 5, print_preds=False, print_top1_accuracy=False)\n",
    "test_top_k(model_data, f\"{dataset_dir}/../butterfly/random-test\", 10, print_preds=False, print_top1_accuracy=False)"
   ]
  },
  {
   "cell_type": "code",
   "execution_count": 31,
   "id": "cc129d1f-d5f0-4a15-a1ec-14394f84f1e3",
   "metadata": {},
   "outputs": [
    {
     "name": "stdout",
     "output_type": "stream",
     "text": [
      "acraea-terpsicore             : \u001b[32macraea-terpsicore\u001b[0m(0.999)  symphaedra-nais(0.000)  argynnis-hybrida(0.000)  \n",
      "athyma-pravara                : neptis-clinia(0.346)  neptis-nata(0.316)  neptis-soma(0.147)  \n",
      "colias-fieldii                : \u001b[32mcolias-fieldii\u001b[0m(0.974)  colias-erate(0.019)  colias-nilagiriensis(0.005)  \n",
      "danaus-melanippus             : \u001b[32mdanaus-melanippus\u001b[0m(0.963)  danaus-genutia(0.034)  danaus-chrysippus(0.001)  \n",
      "delias-descombesi             : \u001b[32mdelias-descombesi\u001b[0m(0.948)  delias-pasithoe(0.024)  delias-agostina(0.010)  \n",
      "euploea-core                  : \u001b[32meuploea-core\u001b[0m(0.637)  euploea-sylvester(0.344)  euploea-algea(0.007)  \n",
      "graphium-doson                : \u001b[32mgraphium-doson\u001b[0m(0.930)  graphium-sarpedon(0.030)  graphium-teredon(0.020)  \n",
      "hypolimnas-bolina             : \u001b[32mhypolimnas-bolina\u001b[0m(0.999)  hypolimnas-misippus(0.000)  kaniska-canace(0.000)  \n",
      "kallima-inachus               : \u001b[32mkallima-inachus\u001b[0m(0.997)  kallima-albofasciata(0.002)  kallima-horsfieldii(0.000)  \n",
      "lethe-verma                   : \u001b[32mlethe-verma\u001b[0m(0.962)  orsotriaena-medus(0.017)  lethe-confusa(0.009)  \n",
      "melanitis-leda                : \u001b[32mmelanitis-leda\u001b[0m(0.730)  melanitis-zitenius(0.253)  melanitis-phedima(0.014)  \n",
      "papilio-bianor                : papilio-polyctor(0.809)  \u001b[32mpapilio-bianor\u001b[0m(0.186)  papilio-crino(0.001)  \n",
      "papilio-paris                 : papilio-bianor(0.917)  papilio-arcturus(0.041)  \u001b[32mpapilio-paris\u001b[0m(0.024)  \n",
      "parantica-sita                : \u001b[32mparantica-sita\u001b[0m(0.503)  parantica-melaneus(0.436)  parantica-pedonga(0.059)  \n",
      "phalanta-phalantha            : \u001b[32mphalanta-phalantha\u001b[0m(0.984)  argynnis-hybrida(0.009)  argynnis-castetsi(0.003)  \n",
      "symbrenthia-lilaea            : \u001b[32msymbrenthia-lilaea\u001b[0m(0.968)  herona-marathus(0.006)  neptis-radha(0.004)  \n",
      "troides-minos                 : \u001b[32mtroides-minos\u001b[0m(0.922)  troides-aeacus(0.066)  troides-helena(0.007)  \n",
      "vanessa-indica                : \u001b[32mvanessa-indica\u001b[0m(0.730)  vanessa-cardui(0.155)  sephisa-chandra(0.092)  \n",
      "vindula-dejone                : vindula-erota(0.650)  cirrochroa-tyche(0.303)  cirrochroa-thais(0.018)  \n",
      "zemeros-flegyas               : \u001b[32mzemeros-flegyas\u001b[0m(0.997)  arhopala-ammonides(0.000)  junonia-lemonias(0.000)  \n",
      "----------\n",
      "Top   1 accuracy: 16/20 -> 80.00%, genus matched: 19/20 -> 95.00%\n",
      "Top   3 accuracy: 18/20 -> 90.00%, genus matched: 19/20 -> 95.00%\n"
     ]
    }
   ],
   "source": [
    "test_top_k(model_data, f\"{dataset_dir}/../butterfly/my-test\", 3, print_preds=True, print_top1_accuracy=True, print_no_match=False)"
   ]
  },
  {
   "cell_type": "code",
   "execution_count": null,
   "id": "337bbd91-3ba2-41bd-bf3f-73f3f878ccfa",
   "metadata": {},
   "outputs": [],
   "source": []
  }
 ],
 "metadata": {
  "kernelspec": {
   "display_name": "Python 3 (ipykernel)",
   "language": "python",
   "name": "python3"
  },
  "language_info": {
   "codemirror_mode": {
    "name": "ipython",
    "version": 3
   },
   "file_extension": ".py",
   "mimetype": "text/x-python",
   "name": "python",
   "nbconvert_exporter": "python",
   "pygments_lexer": "ipython3",
   "version": "3.12.9"
  }
 },
 "nbformat": 4,
 "nbformat_minor": 5
}
