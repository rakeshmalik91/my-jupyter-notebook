{
 "cells": [
  {
   "cell_type": "code",
   "execution_count": 2,
   "id": "903f7f5a-90e0-4186-bbe6-c93f0c6f9d3a",
   "metadata": {},
   "outputs": [],
   "source": [
    "%load_ext autoreload"
   ]
  },
  {
   "cell_type": "code",
   "execution_count": 3,
   "id": "34ecebfc-84f1-4974-98d9-d04b0a0f8133",
   "metadata": {},
   "outputs": [],
   "source": [
    "%autoreload 2"
   ]
  },
  {
   "cell_type": "code",
   "execution_count": 4,
   "id": "96c19ac8-deda-4f52-b8fe-6c2830a43d84",
   "metadata": {},
   "outputs": [],
   "source": [
    "import mynnlib\n",
    "from mynnlib import *\n",
    "\n",
    "dataset_dir = \"insect-dataset\"\n",
    "models_dir = \"models\"\n",
    "output_dir = \"insect-id-app/app/src/main/assets\""
   ]
  },
  {
   "cell_type": "code",
   "execution_count": 5,
   "id": "9a6a0b20-4c00-4055-a38c-b76675802371",
   "metadata": {},
   "outputs": [],
   "source": [
    "import json\n",
    "\n",
    "for model_name in [\"2025.02.16.butterfly\", \"2025.02.16.moth\", \"2025.02.16.lepidoptera\"]:\n",
    "# for model_name in [\"2025.02.16.butterfly\"]:\n",
    "    model_data = torch.load(f\"{models_dir}/checkpoint.{model_name}.pth\", weights_only=False)\n",
    "    model = model_data['model']\n",
    "    device = torch.device(\"cpu\")\n",
    "    model.to(device)\n",
    "    model.eval()\n",
    "    scripted_model = torch.jit.script(model)\n",
    "    scripted_model.save(f\"{output_dir}/m.checkpoint.{model_name}.pt\")\n",
    "    with open(f\"{output_dir}/classes.{model_name}.json\", \"w\", encoding=\"utf-8\") as file:\n",
    "        json.dump(model_data['class_names'], file, indent=4)"
   ]
  },
  {
   "cell_type": "code",
   "execution_count": null,
   "id": "5b040c74-5bf2-4b7f-ac95-b6f31637c53e",
   "metadata": {},
   "outputs": [],
   "source": []
  }
 ],
 "metadata": {
  "kernelspec": {
   "display_name": "Python 3 (ipykernel)",
   "language": "python",
   "name": "python3"
  },
  "language_info": {
   "codemirror_mode": {
    "name": "ipython",
    "version": 3
   },
   "file_extension": ".py",
   "mimetype": "text/x-python",
   "name": "python",
   "nbconvert_exporter": "python",
   "pygments_lexer": "ipython3",
   "version": "3.12.9"
  }
 },
 "nbformat": 4,
 "nbformat_minor": 5
}
