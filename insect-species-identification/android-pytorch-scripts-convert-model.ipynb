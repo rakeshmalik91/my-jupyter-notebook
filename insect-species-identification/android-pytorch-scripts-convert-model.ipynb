{
 "cells": [
  {
   "cell_type": "code",
   "execution_count": 2,
   "id": "fbcfd71f-61f1-4d09-be1a-3ba522245af4",
   "metadata": {},
   "outputs": [
    {
     "name": "stdout",
     "output_type": "stream",
     "text": [
      "insect-dataset/moth/checkpoint.moth.te.ep050000.pth\n",
      " --> models/m.checkpoint.moth.pt\n",
      " --> models/classes.moth.json\n",
      "insect-dataset/butterfly/checkpoint.butterfly.tc.ep050004.pth\n",
      " --> models/m.checkpoint.butterfly.pt\n",
      " --> models/classes.butterfly.json\n"
     ]
    }
   ],
   "source": [
    "import mynnlib\n",
    "from mynnlib import *\n",
    "import json\n",
    "import os\n",
    "\n",
    "output_dir = \"models\"\n",
    "models = {\n",
    "    \"moth\": \"insect-dataset/moth/checkpoint.moth.te.ep050000.pth\",\n",
    "    \"butterfly\": \"insect-dataset/butterfly/checkpoint.butterfly.tc.ep050004.pth\"\n",
    "}\n",
    "\n",
    "for model_name, model_path in models.items():\n",
    "    if os.path.exists(model_path):\n",
    "        print(f\"{model_path}\")\n",
    "        model_data = torch.load(model_path, weights_only=False)\n",
    "        model = model_data['model']\n",
    "        device = torch.device(\"cpu\")\n",
    "        model.to(device)\n",
    "        model.eval()\n",
    "        scripted_model = torch.jit.script(model)\n",
    "        scripted_model_path = f\"{output_dir}/m.checkpoint.{model_name}.pt\"\n",
    "        scripted_model.save(scripted_model_path)\n",
    "        print(f\" --> {scripted_model_path}\")\n",
    "        class_file_path = f\"{output_dir}/classes.{model_name}.json\"\n",
    "        with open(class_file_path, \"w\", encoding=\"utf-8\") as file:\n",
    "            json.dump(model_data['class_names'], file, indent=4)\n",
    "        print(f\" --> {class_file_path}\")"
   ]
  },
  {
   "cell_type": "code",
   "execution_count": null,
   "id": "5b040c74-5bf2-4b7f-ac95-b6f31637c53e",
   "metadata": {},
   "outputs": [],
   "source": []
  }
 ],
 "metadata": {
  "kernelspec": {
   "display_name": "Python 3 (ipykernel)",
   "language": "python",
   "name": "python3"
  },
  "language_info": {
   "codemirror_mode": {
    "name": "ipython",
    "version": 3
   },
   "file_extension": ".py",
   "mimetype": "text/x-python",
   "name": "python",
   "nbconvert_exporter": "python",
   "pygments_lexer": "ipython3",
   "version": "3.12.9"
  }
 },
 "nbformat": 4,
 "nbformat_minor": 5
}
