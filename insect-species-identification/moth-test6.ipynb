{
 "cells": [
  {
   "cell_type": "code",
   "execution_count": 1,
   "id": "743a5bcd-ec2d-4f10-a100-8b9c1f2f9297",
   "metadata": {},
   "outputs": [],
   "source": [
    "%load_ext autoreload"
   ]
  },
  {
   "cell_type": "code",
   "execution_count": 2,
   "id": "57ef0aa7-547e-4cde-8618-39a602804e11",
   "metadata": {},
   "outputs": [],
   "source": [
    "%autoreload 2"
   ]
  },
  {
   "cell_type": "code",
   "execution_count": 3,
   "id": "5958198e-bbb1-4f80-a13d-781a3b8ec007",
   "metadata": {},
   "outputs": [],
   "source": [
    "import mynnlib\n",
    "from mynnlib import *\n",
    "\n",
    "dataset_dir = \"insect-dataset/moth\"\n",
    "\n",
    "early_regex = r\"^.*-(early)$\"\n",
    "unidentified_regex = r\"^.*-(spp|genera|genera-spp)$\"\n",
    "early_or_unidentified_regex = r\"^.*-(early|spp|genera|genera-spp)$\""
   ]
  },
  {
   "cell_type": "markdown",
   "id": "3bf6c3d2-2da5-410c-95a3-6804d3ea0654",
   "metadata": {},
   "source": [
    "# Count"
   ]
  },
  {
   "cell_type": "code",
   "execution_count": 80,
   "id": "3c3187a0-da01-4e4c-8114-e3fd3798963c",
   "metadata": {},
   "outputs": [
    {
     "name": "stdout",
     "output_type": "stream",
     "text": [
      "Total Class count :   3364 ( Unidentified:    411 / Early-stage:    304 / Identified-adult:   2649 )\n",
      "Total  Data count :  44652 ( Unidentified:  11156 / Early-stage:   3569 / Identified-adult:  29927 )\n"
     ]
    }
   ],
   "source": [
    "classes = { class_dir: len([ img for img in os.listdir(f\"{dataset_dir}/data/{class_dir}\") ]) for class_dir in os.listdir(f\"{dataset_dir}/data\") }\n",
    "early_classes = { class_name: count for class_name, count in classes.items() if re.match(early_regex, class_name) }\n",
    "unidentified_classes = { class_name: count for class_name, count in classes.items() if re.match(unidentified_regex, class_name) }\n",
    "print(f\"Total Class count : {len(classes):6} ( Unidentified: {len(unidentified_classes):6} / Early-stage: {len(early_classes):6} / Identified-adult: {len(classes) - len(unidentified_classes) - len(early_classes):6} )\")\n",
    "print(f\"Total  Data count : {sum(classes.values()):6} ( Unidentified: {sum(unidentified_classes.values()):6} / Early-stage: {sum(early_classes.values()):6} / Identified-adult: {sum(classes.values()) - sum(unidentified_classes.values()) - sum(early_classes.values()):6} )\")"
   ]
  },
  {
   "cell_type": "code",
   "execution_count": 81,
   "id": "8aee22ec-c5c0-4103-8cd1-ac2bb41a88a9",
   "metadata": {},
   "outputs": [
    {
     "name": "stdout",
     "output_type": "stream",
     "text": [
      "   548 classes with <=2 images\n",
      "  1276 classes with <=5 images\n"
     ]
    }
   ],
   "source": [
    "img2_class = []\n",
    "img5_class = []\n",
    "for class_dir in os.listdir(f\"{dataset_dir}/data\"):\n",
    "    if not re.match(early_or_unidentified_regex, class_dir):\n",
    "        img_cnt = sum([1 for file in os.listdir(f\"{dataset_dir}/data/{class_dir}\")])\n",
    "        img2_class += [class_dir] if img_cnt <= 2 else []\n",
    "        img5_class += [class_dir] if img_cnt <= 5 else []\n",
    "print(f\"{len(img2_class):6} classes with <=2 images\")\n",
    "print(f\"{len(img5_class):6} classes with <=5 images\")"
   ]
  },
  {
   "cell_type": "code",
   "execution_count": 91,
   "id": "0d6f43da-aec9-4f5e-85a0-c86ac11d5cd6",
   "metadata": {},
   "outputs": [
    {
     "name": "stdout",
     "output_type": "stream",
     "text": [
      "Genera count: 1462\n"
     ]
    }
   ],
   "source": [
    "generas = set()\n",
    "for class_name in classes:\n",
    "    generas.add(class_name.split('-')[0])\n",
    "print(f\"Genera count: {len(generas)}\")"
   ]
  },
  {
   "cell_type": "markdown",
   "id": "30ed1e0d-9fa8-4423-806f-353a254106ce",
   "metadata": {},
   "source": [
    "# Add more data"
   ]
  },
  {
   "cell_type": "code",
   "execution_count": 32,
   "id": "c409ff34-b635-4c7c-8f80-a946d01dc9d6",
   "metadata": {},
   "outputs": [],
   "source": [
    "def copy_data_from(sources, add_early=False):\n",
    "    class_cnt = 0\n",
    "    img_cnt = 0\n",
    "    for more_data_dir in sources:\n",
    "        for class_dir in os.listdir(f\"{dataset_dir}/data\"):\n",
    "            if os.path.exists(f\"{more_data_dir}/{class_dir}\"):\n",
    "                # print(f\"Copying data for {class_dir}...\")\n",
    "                class_cnt += 1\n",
    "                for file in os.listdir(f\"{more_data_dir}/{class_dir}\"):\n",
    "                    shutil.copy2(f\"{more_data_dir}/{class_dir}/{file}\", f\"{dataset_dir}/data/{class_dir}/{file}\")\n",
    "                    img_cnt += 1\n",
    "            if add_early and os.path.exists(f\"{more_data_dir}/{class_dir}-early\"):\n",
    "                # print(f\"Copying data for {class_dir}-early...\")\n",
    "                class_cnt += 1\n",
    "                os.makedirs(f\"{dataset_dir}/data/{class_dir}-early/{file}\")\n",
    "                for file in os.listdir(f\"{more_data_dir}/{class_dir}-early\"):\n",
    "                    shutil.copy2(f\"{more_data_dir}/{class_dir}-early/{file}\", f\"{dataset_dir}/data/{class_dir}-early/{file}\")\n",
    "                    img_cnt += 1\n",
    "    print(f\"{img_cnt} images added into {class_cnt} classes\")"
   ]
  },
  {
   "cell_type": "code",
   "execution_count": 27,
   "id": "e2bb0def-7a97-4a1a-95f4-313b0800a15b",
   "metadata": {},
   "outputs": [
    {
     "data": {
      "text/plain": [
       "'insect-dataset/moth/data'"
      ]
     },
     "execution_count": 27,
     "metadata": {},
     "output_type": "execute_result"
    }
   ],
   "source": [
    "# copy all from mothsofindia\n",
    "if os.path.exists(f\"{dataset_dir}/data\"):\n",
    "    shutil.rmtree(f\"{dataset_dir}/data\")\n",
    "shutil.copytree(\"insect-dataset/src/mothsodindia.org\", f\"{dataset_dir}/data\")"
   ]
  },
  {
   "cell_type": "code",
   "execution_count": 28,
   "id": "16aa4a7e-dc79-4444-a648-c9b35aefd951",
   "metadata": {},
   "outputs": [
    {
     "name": "stdout",
     "output_type": "stream",
     "text": [
      "1958 images added into 587 classes\n"
     ]
    }
   ],
   "source": [
    "copy_data_from([\"insect-dataset/src/indiabiodiversity.org\"], add_early=True)"
   ]
  },
  {
   "cell_type": "code",
   "execution_count": 29,
   "id": "347be907-0973-402d-b00d-da2f3f5d2abf",
   "metadata": {},
   "outputs": [
    {
     "name": "stdout",
     "output_type": "stream",
     "text": [
      "1260 images added into 1064 classes\n"
     ]
    }
   ],
   "source": [
    "copy_data_from([\"insect-dataset/src/wikipedia.org\"], add_early=True)"
   ]
  },
  {
   "cell_type": "code",
   "execution_count": 30,
   "id": "840aef0a-5a54-45cd-bf70-9f966ce6b721",
   "metadata": {},
   "outputs": [
    {
     "name": "stdout",
     "output_type": "stream",
     "text": [
      "1201 images added into 395 classes\n"
     ]
    }
   ],
   "source": [
    "copy_data_from([\"insect-dataset/src/insecta.pro\"], add_early=True)"
   ]
  },
  {
   "cell_type": "code",
   "execution_count": 33,
   "id": "c60d8d87-6976-4b50-8cd5-b3cec9ed0344",
   "metadata": {},
   "outputs": [
    {
     "name": "stdout",
     "output_type": "stream",
     "text": [
      "138953 images added into 2591 classes\n"
     ]
    }
   ],
   "source": [
    "copy_data_from([\"insect-dataset/src/inaturalist.org\"], add_early=True)"
   ]
  },
  {
   "cell_type": "code",
   "execution_count": 34,
   "id": "66cfc9ec-db22-417d-b3ea-3672e5d5299c",
   "metadata": {},
   "outputs": [],
   "source": [
    "# # remove early classes\n",
    "# for class_dir in os.listdir(f\"{dataset_dir}/data\"):\n",
    "#     if class_dir.endswith(\"-early\"):\n",
    "#         shutil.rmtree(f\"{dataset_dir}/data/{class_dir}\")"
   ]
  },
  {
   "cell_type": "code",
   "execution_count": 35,
   "id": "68b63931-9392-4878-a1d9-345cd0940efb",
   "metadata": {},
   "outputs": [
    {
     "name": "stdout",
     "output_type": "stream",
     "text": [
      "Total Class count :   3483 ( Unidentified:    411 / Early-stage:    423 / Identified-adult:   2649 )\n",
      "Total  Data count : 187378 ( Unidentified:  11156 / Early-stage:   6695 / Identified-adult: 169527 )\n"
     ]
    }
   ],
   "source": [
    "classes = { class_dir: len([ img for img in os.listdir(f\"{dataset_dir}/data/{class_dir}\") ]) for class_dir in os.listdir(f\"{dataset_dir}/data\") }\n",
    "early_classes = { class_name: count for class_name, count in classes.items() if re.match(early_regex, class_name) }\n",
    "unidentified_classes = { class_name: count for class_name, count in classes.items() if re.match(unidentified_regex, class_name) }\n",
    "print(f\"Total Class count : {len(classes):6} ( Unidentified: {len(unidentified_classes):6} / Early-stage: {len(early_classes):6} / Identified-adult: {len(classes) - len(unidentified_classes) - len(early_classes):6} )\")\n",
    "print(f\"Total  Data count : {sum(classes.values()):6} ( Unidentified: {sum(unidentified_classes.values()):6} / Early-stage: {sum(early_classes.values()):6} / Identified-adult: {sum(classes.values()) - sum(unidentified_classes.values()) - sum(early_classes.values()):6} )\")"
   ]
  },
  {
   "cell_type": "code",
   "execution_count": 36,
   "id": "c6237c77-ef2a-4ff1-ac4f-6375c0290f33",
   "metadata": {},
   "outputs": [
    {
     "name": "stdout",
     "output_type": "stream",
     "text": [
      "   129 classes with <=2 images\n",
      "   350 classes with <=5 images\n"
     ]
    }
   ],
   "source": [
    "img2_class = []\n",
    "img5_class = []\n",
    "for class_dir in os.listdir(f\"{dataset_dir}/data\"):\n",
    "    if not re.match(early_or_unidentified_regex, class_dir):\n",
    "        img_cnt = sum([1 for file in os.listdir(f\"{dataset_dir}/data/{class_dir}\")])\n",
    "        img2_class += [class_dir] if img_cnt <= 2 else []\n",
    "        img5_class += [class_dir] if img_cnt <= 5 else []\n",
    "print(f\"{len(img2_class):6} classes with <=2 images\")\n",
    "print(f\"{len(img5_class):6} classes with <=5 images\")"
   ]
  },
  {
   "cell_type": "markdown",
   "id": "b173fd59-82eb-4971-9004-9825a8927360",
   "metadata": {},
   "source": [
    "# Train"
   ]
  },
  {
   "cell_type": "markdown",
   "id": "54d95476-b6b2-4cca-bfcf-5adb0e03419f",
   "metadata": {},
   "source": [
    "### Model A (resnet-101 + only imago data)"
   ]
  },
  {
   "cell_type": "code",
   "execution_count": 5,
   "id": "6d9ef33b-d081-4e46-8a2e-669c64c223a8",
   "metadata": {},
   "outputs": [
    {
     "name": "stdout",
     "output_type": "stream",
     "text": [
      "Epoch    1 /    5  | Train Loss: 3.5788 Acc: 0.4362  | Val Loss: 1.6324 Acc: 0.5844  | Elapsed time: 0:13:59.920457\n",
      "Epoch    2 /    5  | Train Loss: 0.7470 Acc: 0.8189  | Val Loss: 1.2188 Acc: 0.7143  | Elapsed time: 0:28:33.046725\n",
      "Epoch    3 /    5  | Train Loss: 0.3673 Acc: 0.9033  | Val Loss: 1.3251 Acc: 0.7013  | Elapsed time: 0:43:07.716677\n",
      "Epoch    1 /    5  | Train Loss: 1.3027 Acc: 0.7161  | Val Loss: 1.1361 Acc: 0.7143  | Elapsed time: 0:15:17.443942\n",
      "Epoch    2 /    5  | Train Loss: 1.0163 Acc: 0.7729  | Val Loss: 1.0305 Acc: 0.7273  | Elapsed time: 0:30:44.161012\n",
      "Epoch    1 /    5  | Train Loss: 0.9890 Acc: 0.7799  | Val Loss: 1.1097 Acc: 0.7403  | Elapsed time: 0:15:18.878553\n",
      "Epoch    2 /    5  | Train Loss: 0.9098 Acc: 0.7968  | Val Loss: 1.0986 Acc: 0.7338  | Elapsed time: 0:30:49.874986\n",
      "Epoch    1 /    5  | Train Loss: 0.8090 Acc: 0.8220  | Val Loss: 0.9465 Acc: 0.7597  | Elapsed time: 0:15:31.187134\n",
      "Epoch    2 /    5  | Train Loss: 0.7119 Acc: 0.8429  | Val Loss: 0.9149 Acc: 0.7597  | Elapsed time: 0:30:59.259808\n"
     ]
    }
   ],
   "source": [
    "training_params = [\n",
    "    { \"idx\": \"01\", \"robustness\": 0.2, \"break_at_val_acc_diff\": 0.05},\n",
    "    { \"idx\": \"02\", \"robustness\": 0.5, \"break_at_val_acc_diff\": 0.02},\n",
    "    { \"idx\": \"03\", \"robustness\": 1.0, \"break_at_val_acc_diff\": 0.01},\n",
    "    { \"idx\": \"04\", \"robustness\": 2.0, \"break_at_val_acc_diff\": 0.005}\n",
    "]\n",
    "for param in training_params:\n",
    "    if param[\"idx\"] == \"01\":\n",
    "        model_data = init_model_for_training(f'{dataset_dir}/data', f'{dataset_dir}/val', \n",
    "                                             batch_size=32, arch=\"resnet101\", image_size=224, robustness=0.2,\n",
    "                                             lr=1e-4, weight_decay=1e-4, silent=True)\n",
    "    else:\n",
    "        model_data = prepare_for_retraining(model_data, f'{dataset_dir}/data', f'{dataset_dir}/val', \n",
    "                                            batch_size=32, image_size=224, robustness=param[\"robustness\"], silent=True)\n",
    "    train(model_data, 5, f\"{dataset_dir}/checkpoint.moth.ta.ep{param[\"idx\"]}###.pth\", \n",
    "          break_at_val_acc_diff=param[\"break_at_val_acc_diff\"])"
   ]
  },
  {
   "cell_type": "code",
   "execution_count": 6,
   "id": "e0ecb533-6abe-497d-9937-b92845bfe0f5",
   "metadata": {},
   "outputs": [
    {
     "name": "stdout",
     "output_type": "stream",
     "text": [
      "Epoch    1 /    5  | Train Loss: 0.6779 Acc: 0.8503  | Val Loss: 0.9450 Acc: 0.7597  | Elapsed time: 0:15:18.200399\n",
      "Epoch    2 /    5  | Train Loss: 0.6501 Acc: 0.8551  | Val Loss: 0.9046 Acc: 0.7792  | Elapsed time: 0:30:41.719849\n",
      "Epoch    3 /    5  | Train Loss: 0.6312 Acc: 0.8615  | Val Loss: 0.9144 Acc: 0.7662  | Elapsed time: 0:45:59.829237\n"
     ]
    }
   ],
   "source": [
    "train(model_data, 5, f\"{dataset_dir}/checkpoint.moth.ta.ep05###.pth\", break_at_val_acc_diff=0.005)"
   ]
  },
  {
   "cell_type": "code",
   "execution_count": 8,
   "id": "73f38bbc-5873-4ac6-9d13-3a333d988b2c",
   "metadata": {},
   "outputs": [],
   "source": [
    "model_data = torch.load(f\"{dataset_dir}/checkpoint.moth.ta.ep050001.pth\", weights_only=False)"
   ]
  },
  {
   "cell_type": "code",
   "execution_count": 9,
   "id": "d4ba9530-1a32-4c90-8bda-37b94d42b58b",
   "metadata": {},
   "outputs": [
    {
     "name": "stdout",
     "output_type": "stream",
     "text": [
      "Top   1 accuracy: 120/152 -> 78.95%, genus matched: 138/152 -> 90.79%\n",
      "Top   3 accuracy: 142/152 -> 93.42%, genus matched: 146/152 -> 96.05%\n",
      "Top   5 accuracy: 143/152 -> 94.08%, genus matched: 147/152 -> 96.71%\n",
      "Top  10 accuracy: 146/152 -> 96.05%, genus matched: 148/152 -> 97.37%\n"
     ]
    }
   ],
   "source": [
    "test_top_k(model_data, f\"{dataset_dir}/../moth/random-test\", 3, print_preds=False, print_top1_accuracy=True, print_no_match=False)\n",
    "test_top_k(model_data, f\"{dataset_dir}/../moth/random-test\", 5, print_preds=False, print_top1_accuracy=False)\n",
    "test_top_k(model_data, f\"{dataset_dir}/../moth/random-test\", 10, print_preds=False, print_top1_accuracy=False)"
   ]
  },
  {
   "cell_type": "code",
   "execution_count": 10,
   "id": "73344530-3b10-4246-9534-de11118de0ca",
   "metadata": {},
   "outputs": [
    {
     "name": "stdout",
     "output_type": "stream",
     "text": [
      "apona-spp                     : polyptychus-dentatus(0.889)  apona-caschmirensis(0.017)  polyptychus-trilineatus(0.010)  \n",
      "dysphania-percota             : \u001b[32mdysphania-percota\u001b[0m(0.956)  nyctemera-cenis(0.033)  nyctemera-adversata(0.002)  \n",
      "eupterote-undata              : \u001b[32meupterote-undata\u001b[0m(0.619)  eupterote-spp(0.306)  speiredonia-obscura(0.017)  \n",
      "hippotion-rosetta-2           : cechetra-minor(0.517)  hippotion-boerhaviae(0.429)  hippotion-spp(0.023)  \n",
      "hippotion-rosetta             : theretra-clotho(0.566)  hippotion-boerhaviae(0.168)  theretra-alecto(0.092)  \n",
      "----------\n",
      "Top   1 accuracy: 2/5 -> 40.00%, genus matched: 2/5 -> 40.00%\n",
      "Top   3 accuracy: 2/5 -> 40.00%, genus matched: 5/5 -> 100.00%\n"
     ]
    }
   ],
   "source": [
    "test_top_k(model_data, f\"{dataset_dir}/../moth/my-test\", 3, print_preds=True, print_top1_accuracy=True, print_no_match=False)"
   ]
  },
  {
   "cell_type": "code",
   "execution_count": null,
   "id": "f67c648e-caa9-4f01-8b51-ee200caaa548",
   "metadata": {},
   "outputs": [],
   "source": []
  },
  {
   "cell_type": "code",
   "execution_count": null,
   "id": "503fd0ac-854e-44b4-a023-e08e8c6f72ce",
   "metadata": {},
   "outputs": [],
   "source": []
  },
  {
   "cell_type": "code",
   "execution_count": null,
   "id": "382f882a-e656-488e-a990-00cc93d58fc9",
   "metadata": {},
   "outputs": [],
   "source": []
  },
  {
   "cell_type": "markdown",
   "id": "a8133d71-60a4-4c72-a2eb-98ce258650f7",
   "metadata": {},
   "source": [
    "### Model B (resnet-152 + only imago data)"
   ]
  },
  {
   "cell_type": "code",
   "execution_count": 7,
   "id": "0e9b87fe-5401-4295-88eb-6d65bceee17b",
   "metadata": {},
   "outputs": [
    {
     "name": "stdout",
     "output_type": "stream",
     "text": [
      "Phase 1:\n",
      "Epoch    1 /    5  | Train Loss: 3.4490 Acc: 0.4536  | Val Loss: 1.2743 Acc: 0.7143  | Elapsed time: 0:23:41.109599\n",
      "Epoch    2 /    5  | Train Loss: 0.7013 Acc: 0.8308  | Val Loss: 1.0904 Acc: 0.7338  | Elapsed time: 0:46:33.587867\n",
      "Phase 2:\n",
      "Epoch    1 /    5  | Train Loss: 1.3652 Acc: 0.7025  | Val Loss: 1.1198 Acc: 0.7273  | Elapsed time: 0:29:04.944446\n",
      "Epoch    2 /    5  | Train Loss: 1.0813 Acc: 0.7609  | Val Loss: 1.1452 Acc: 0.6948  | Elapsed time: 0:58:09.405522\n",
      "Phase 3:\n",
      "Epoch    1 /    5  | Train Loss: 1.0206 Acc: 0.7728  | Val Loss: 1.3211 Acc: 0.6753  | Elapsed time: 0:29:01.511832\n",
      "Epoch    2 /    5  | Train Loss: 0.9465 Acc: 0.7882  | Val Loss: 1.0752 Acc: 0.7143  | Elapsed time: 0:58:04.772749\n",
      "Epoch    3 /    5  | Train Loss: 0.8844 Acc: 0.8031  | Val Loss: 1.1184 Acc: 0.7468  | Elapsed time: 1:27:08.319044\n",
      "Epoch    4 /    5  | Train Loss: 0.6824 Acc: 0.8479  | Val Loss: 1.0367 Acc: 0.7338  | Elapsed time: 1:56:10.911668\n",
      "Phase 4:\n",
      "Epoch    1 /    5  | Train Loss: 0.6935 Acc: 0.8475  | Val Loss: 0.9991 Acc: 0.7403  | Elapsed time: 0:29:04.240438\n",
      "Epoch    2 /    5  | Train Loss: 0.6334 Acc: 0.8604  | Val Loss: 1.0512 Acc: 0.7273  | Elapsed time: 0:58:09.211593\n"
     ]
    }
   ],
   "source": [
    "training_params = [\n",
    "    { \"idx\": 1, \"robustness\": 0.2, \"break_at_val_acc_diff\": 0.05},\n",
    "    { \"idx\": 2, \"robustness\": 0.5, \"break_at_val_acc_diff\": 0.02},\n",
    "    { \"idx\": 3, \"robustness\": 1.0, \"break_at_val_acc_diff\": 0.01},\n",
    "    { \"idx\": 4, \"robustness\": 2.0, \"break_at_val_acc_diff\": -0.000001}\n",
    "]\n",
    "for param in training_params:\n",
    "    print(f\"Phase {param[\"idx\"]}:\")\n",
    "    if param[\"idx\"] == 1:\n",
    "        model_data = init_model_for_training(f'{dataset_dir}/data', f'{dataset_dir}/val', \n",
    "                                             batch_size=32, arch=\"resnet152\", image_size=224, robustness=param[\"robustness\"],\n",
    "                                             lr=1e-4, weight_decay=1e-4, silent=True)\n",
    "    else:\n",
    "        model_data = prepare_for_retraining(model_data, f'{dataset_dir}/data', f'{dataset_dir}/val', \n",
    "                                            batch_size=32, image_size=224, robustness=param[\"robustness\"], silent=True)\n",
    "    train(model_data, 5, f\"{dataset_dir}/checkpoint.moth.tb.ep{param[\"idx\"]:02}###.pth\", \n",
    "          break_at_val_acc_diff=param[\"break_at_val_acc_diff\"])"
   ]
  },
  {
   "cell_type": "code",
   "execution_count": null,
   "id": "3f39a4e6-f31a-4bc2-ad6d-5b59d452c2bd",
   "metadata": {},
   "outputs": [],
   "source": []
  },
  {
   "cell_type": "code",
   "execution_count": null,
   "id": "afdcf07e-e06e-4ac7-b730-8f9ab4302923",
   "metadata": {},
   "outputs": [],
   "source": []
  },
  {
   "cell_type": "code",
   "execution_count": null,
   "id": "deed1ae2-549c-43ac-a4c6-4c48bd971c06",
   "metadata": {},
   "outputs": [],
   "source": []
  },
  {
   "cell_type": "markdown",
   "id": "e0c0b7aa-9694-4eff-a49a-96770ebc7a14",
   "metadata": {},
   "source": [
    "### Model C (resnet-101 + only imago data + varying data-aug on each epoch)"
   ]
  },
  {
   "cell_type": "code",
   "execution_count": 11,
   "id": "582cf98a-8099-48b3-9817-23a62e101865",
   "metadata": {},
   "outputs": [
    {
     "name": "stdout",
     "output_type": "stream",
     "text": [
      "Phase 1 | Epoch    1 /    1  | Train Loss: 3.6296 Acc: 0.4300  | Val Loss: 1.6104 Acc: 0.6169  | Elapsed time: 0:14:21.780614\n",
      "Phase 1 | Epoch    1 /    1  | Train Loss: 3.7336 Acc: 0.4152  | Val Loss: 1.5916 Acc: 0.6169  | Elapsed time: 0:14:20.053484\n",
      "Phase 2 | Epoch    1 /    1  | Train Loss: 1.8255 Acc: 0.6229  | Val Loss: 1.4139 Acc: 0.6623  | Elapsed time: 0:14:57.136417\n",
      "Phase 2 | Epoch    1 /    1  | Train Loss: 1.4776 Acc: 0.6870  | Val Loss: 1.3455 Acc: 0.6948  | Elapsed time: 0:14:57.246749\n",
      "Phase 2 | Epoch    1 /    1  | Train Loss: 1.3237 Acc: 0.7177  | Val Loss: 1.3458 Acc: 0.6753  | Elapsed time: 0:14:51.528282\n",
      "Phase 3 | Epoch    1 /    1  | Train Loss: 1.2543 Acc: 0.7326  | Val Loss: 1.0736 Acc: 0.7468  | Elapsed time: 0:15:13.321988\n",
      "Phase 3 | Epoch    1 /    1  | Train Loss: 1.1608 Acc: 0.7492  | Val Loss: 1.3039 Acc: 0.6948  | Elapsed time: 0:15:11.214581\n",
      "Phase 4 | Epoch    1 /    1  | Train Loss: 1.1896 Acc: 0.7452  | Val Loss: 1.2562 Acc: 0.6883  | Elapsed time: 0:18:12.583342\n"
     ]
    }
   ],
   "source": [
    "training_params = [\n",
    "    { \"idx\": 1, \"robustness\": 0.2, \"break_at_val_acc_diff\": 0.05},\n",
    "    { \"idx\": 2, \"robustness\": 0.5, \"break_at_val_acc_diff\": 0.02},\n",
    "    { \"idx\": 3, \"robustness\": 1.0, \"break_at_val_acc_diff\": 0.01},\n",
    "    { \"idx\": 4, \"robustness\": 2.0, \"break_at_val_acc_diff\": -0.000001}\n",
    "]\n",
    "last_val_acc = None\n",
    "response = None\n",
    "idx = 1\n",
    "epoch = 1\n",
    "while True:\n",
    "    param = training_params[idx - 1]\n",
    "    print(f\"Phase {param[\"idx\"]} |\", end=' ')\n",
    "    if idx == 1:\n",
    "        model_data = init_model_for_training(f'{dataset_dir}/data', f'{dataset_dir}/val', \n",
    "                                             batch_size=32, arch=\"resnet101\", image_size=224, robustness=param[\"robustness\"],\n",
    "                                             lr=1e-4, weight_decay=1e-4, silent=True)\n",
    "    else:\n",
    "        model_data = prepare_for_retraining(model_data, f'{dataset_dir}/data', f'{dataset_dir}/val', \n",
    "                                            batch_size=32, image_size=224, robustness=param[\"robustness\"], silent=True)\n",
    "    response = train(model_data, 1, f\"{dataset_dir}/checkpoint.moth.tc.ep{epoch:04}.pth\")\n",
    "    if last_val_acc and response[\"val_acc\"] - last_val_acc < param[\"break_at_val_acc_diff\"]:\n",
    "        idx += 1\n",
    "        if idx == len(training_params) + 1:\n",
    "            break\n",
    "    last_val_acc = response[\"val_acc\"]\n",
    "    epoch += 1"
   ]
  },
  {
   "cell_type": "code",
   "execution_count": null,
   "id": "ffcca49f-735e-4366-a923-d164a8c46277",
   "metadata": {},
   "outputs": [],
   "source": []
  },
  {
   "cell_type": "code",
   "execution_count": null,
   "id": "c02bca7b-85e0-4379-b3c4-1d22a172e2e8",
   "metadata": {},
   "outputs": [],
   "source": []
  },
  {
   "cell_type": "code",
   "execution_count": null,
   "id": "dd098c06-9baa-48fe-9f7f-c27e8a544ba1",
   "metadata": {},
   "outputs": [],
   "source": []
  },
  {
   "cell_type": "markdown",
   "id": "51aaeb02-7677-4f52-a939-77a29e8d0abd",
   "metadata": {},
   "source": [
    "### Model D (resnet-101 + only imago data + more data)"
   ]
  },
  {
   "cell_type": "code",
   "execution_count": 4,
   "id": "714890ff-37ba-41ba-90c2-06d33cf98bb5",
   "metadata": {},
   "outputs": [
    {
     "name": "stdout",
     "output_type": "stream",
     "text": [
      "Phase 1:\n",
      "Epoch    1 /    5  | Train Loss: 3.2987 Acc: 0.4659  | Val Loss: 1.1944 Acc: 0.6883  | Elapsed time: 0:16:40.142756\n",
      "Epoch    2 /    5  | Train Loss: 0.7143 Acc: 0.8254  | Val Loss: 1.3508 Acc: 0.5909  | Elapsed time: 0:32:51.244716\n",
      "Phase 2:\n",
      "Epoch    1 /    5  | Train Loss: 1.3547 Acc: 0.7079  | Val Loss: 0.9934 Acc: 0.7468  | Elapsed time: 0:17:05.113645\n",
      "Epoch    2 /    5  | Train Loss: 1.0779 Acc: 0.7609  | Val Loss: 0.9176 Acc: 0.7922  | Elapsed time: 0:34:15.341175\n",
      "Epoch    3 /    5  | Train Loss: 0.9853 Acc: 0.7806  | Val Loss: 0.9466 Acc: 0.7792  | Elapsed time: 0:51:27.096290\n",
      "Phase 3:\n",
      "Epoch    1 /    5  | Train Loss: 0.9681 Acc: 0.7854  | Val Loss: 0.9841 Acc: 0.7273  | Elapsed time: 0:17:12.350080\n",
      "Epoch    2 /    5  | Train Loss: 0.9086 Acc: 0.7976  | Val Loss: 1.0493 Acc: 0.7468  | Elapsed time: 0:34:25.654337\n",
      "Epoch    3 /    5  | Train Loss: 0.7181 Acc: 0.8425  | Val Loss: 0.8768 Acc: 0.7987  | Elapsed time: 0:51:43.238765\n",
      "Epoch    4 /    5  | Train Loss: 0.6420 Acc: 0.8595  | Val Loss: 0.9122 Acc: 0.7922  | Elapsed time: 1:09:01.632838\n",
      "Phase 4:\n",
      "Epoch    1 /    5  | Train Loss: 0.7029 Acc: 0.8454  | Val Loss: 0.8807 Acc: 0.7922  | Elapsed time: 0:17:12.988412\n",
      "Epoch    2 /    5  | Train Loss: 0.6717 Acc: 0.8536  | Val Loss: 0.8872 Acc: 0.7987  | Elapsed time: 0:34:28.097651\n",
      "Epoch    3 /    5  | Train Loss: 0.6516 Acc: 0.8577  | Val Loss: 0.8873 Acc: 0.7792  | Elapsed time: 0:51:42.415138\n"
     ]
    }
   ],
   "source": [
    "training_params = [\n",
    "    { \"idx\": 1, \"robustness\": 0.2, \"break_at_val_acc_diff\": 0.05},\n",
    "    { \"idx\": 2, \"robustness\": 0.5, \"break_at_val_acc_diff\": 0.02},\n",
    "    { \"idx\": 3, \"robustness\": 1.0, \"break_at_val_acc_diff\": 0.01},\n",
    "    { \"idx\": 4, \"robustness\": 2.0, \"break_at_val_acc_diff\": -0.000001}\n",
    "]\n",
    "for param in training_params:\n",
    "    print(f\"Phase {param[\"idx\"]}:\")\n",
    "    if param[\"idx\"] == 1:\n",
    "        model_data = init_model_for_training(f'{dataset_dir}/data', f'{dataset_dir}/val', \n",
    "                                             batch_size=32, arch=\"resnet101\", image_size=224, robustness=param[\"robustness\"],\n",
    "                                             lr=1e-4, weight_decay=1e-4, silent=True)\n",
    "    else:\n",
    "        model_data = prepare_for_retraining(model_data, f'{dataset_dir}/data', f'{dataset_dir}/val', \n",
    "                                            batch_size=32, image_size=224, robustness=param[\"robustness\"], silent=True)\n",
    "    train(model_data, 5, f\"{dataset_dir}/checkpoint.moth.td.ep{param[\"idx\"]:02}###.pth\", \n",
    "          break_at_val_acc_diff=param[\"break_at_val_acc_diff\"])"
   ]
  },
  {
   "cell_type": "code",
   "execution_count": 11,
   "id": "69a07b6d-0893-4c74-8a21-29b3e9c269cb",
   "metadata": {},
   "outputs": [],
   "source": [
    "model_data = torch.load(f\"{dataset_dir}/checkpoint.moth.td.ep040001.pth\", weights_only=False)"
   ]
  },
  {
   "cell_type": "code",
   "execution_count": 12,
   "id": "90f8f325-cd3c-4eaa-bd30-61ab4cffd275",
   "metadata": {},
   "outputs": [
    {
     "name": "stdout",
     "output_type": "stream",
     "text": [
      "Top   1 accuracy: 119/152 -> 78.29%, genus matched: 138/152 -> 90.79%\n",
      "Top   3 accuracy: 139/152 -> 91.45%, genus matched: 145/152 -> 95.39%\n",
      "Top   5 accuracy: 143/152 -> 94.08%, genus matched: 147/152 -> 96.71%\n",
      "Top  10 accuracy: 146/152 -> 96.05%, genus matched: 147/152 -> 96.71%\n"
     ]
    }
   ],
   "source": [
    "test_top_k(model_data, f\"{dataset_dir}/../moth/random-test\", 3, print_preds=False, print_top1_accuracy=True, print_no_match=False)\n",
    "test_top_k(model_data, f\"{dataset_dir}/../moth/random-test\", 5, print_preds=False, print_top1_accuracy=False)\n",
    "test_top_k(model_data, f\"{dataset_dir}/../moth/random-test\", 10, print_preds=False, print_top1_accuracy=False)"
   ]
  },
  {
   "cell_type": "code",
   "execution_count": 13,
   "id": "4a29841c-8c65-4b17-945c-34774c3e9f6a",
   "metadata": {},
   "outputs": [
    {
     "name": "stdout",
     "output_type": "stream",
     "text": [
      "apona-spp                     : polyptychus-dentatus(0.392)  thyas-juno(0.060)  polyptychus-trilineatus(0.052)  \n",
      "dysphania-percota             : \u001b[32mdysphania-percota\u001b[0m(0.871)  nyctemera-cenis(0.099)  nyctemera-carissima(0.013)  \n",
      "eupterote-undata              : \u001b[32meupterote-undata\u001b[0m(0.996)  eupterote-spp(0.003)  hypopyra-vespertilio(0.000)  \n",
      "hippotion-rosetta-2           : \u001b[32mhippotion-rosetta\u001b[0m(0.621)  hippotion-boerhaviae(0.226)  cechetra-minor(0.127)  \n",
      "hippotion-rosetta             : hippotion-boerhaviae(0.282)  \u001b[32mhippotion-rosetta\u001b[0m(0.206)  cechetra-minor(0.196)  \n",
      "----------\n",
      "Top   1 accuracy: 3/5 -> 60.00%, genus matched: 4/5 -> 80.00%\n",
      "Top   3 accuracy: 4/5 -> 80.00%, genus matched: 4/5 -> 80.00%\n"
     ]
    }
   ],
   "source": [
    "test_top_k(model_data, f\"{dataset_dir}/../moth/my-test\", 3, print_preds=True, print_top1_accuracy=True, print_no_match=False)"
   ]
  },
  {
   "cell_type": "code",
   "execution_count": null,
   "id": "0b00e773-e944-461d-b21e-f0eee78b78ef",
   "metadata": {},
   "outputs": [],
   "source": []
  },
  {
   "cell_type": "code",
   "execution_count": null,
   "id": "9ff4db32-8a5e-44f2-8707-8a04ffe5b5e1",
   "metadata": {},
   "outputs": [],
   "source": []
  },
  {
   "cell_type": "code",
   "execution_count": null,
   "id": "59603f2b-bac2-4e8e-83e9-ccbfedc786b4",
   "metadata": {},
   "outputs": [],
   "source": []
  },
  {
   "cell_type": "markdown",
   "id": "f95acba5-9e35-4870-b75f-0fdee651586d",
   "metadata": {},
   "source": [
    "### Model E (resnet-101 + early & imago data ++more data)\n",
    "Few imago classes have early stage data mixed now"
   ]
  },
  {
   "cell_type": "code",
   "execution_count": 39,
   "id": "7ae7fd3b-997b-4dbe-9ba9-1c5d6e74c196",
   "metadata": {},
   "outputs": [
    {
     "name": "stdout",
     "output_type": "stream",
     "text": [
      "Phase 1:\n",
      "Epoch    1 /    5  | Train Loss: 2.3807 Acc: 0.5738  | Val Loss: 0.8659 Acc: 0.7727  | Elapsed time: 0:40:55.912502\n",
      "Epoch    2 /    5  | Train Loss: 0.7553 Acc: 0.8157  | Val Loss: 0.8122 Acc: 0.8442  | Elapsed time: 1:21:18.042499\n",
      "Epoch    3 /    5  | Train Loss: 0.5209 Acc: 0.8662  | Val Loss: 0.7873 Acc: 0.8831  | Elapsed time: 1:59:31.558426\n",
      "Phase 2:\n",
      "Epoch    1 /    5  | Train Loss: 1.2878 Acc: 0.7286  | Val Loss: 0.7719 Acc: 0.8377  | Elapsed time: 0:40:21.693424\n",
      "Epoch    2 /    5  | Train Loss: 1.0948 Acc: 0.7660  | Val Loss: 0.7964 Acc: 0.8182  | Elapsed time: 1:22:50.093711\n",
      "Phase 3:\n",
      "Epoch    1 /    5  | Train Loss: 1.0765 Acc: 0.7684  | Val Loss: 0.6974 Acc: 0.8506  | Elapsed time: 0:40:58.693259\n",
      "Epoch    2 /    5  | Train Loss: 1.0323 Acc: 0.7781  | Val Loss: 0.7410 Acc: 0.8442  | Elapsed time: 1:21:44.937611\n",
      "Phase 4:\n",
      "Epoch    1 /    5  | Train Loss: 0.8803 Acc: 0.8103  | Val Loss: 0.6835 Acc: 0.8571  | Elapsed time: 0:40:39.551101\n",
      "Epoch    2 /    5  | Train Loss: 0.7915 Acc: 0.8298  | Val Loss: 0.6833 Acc: 0.8442  | Elapsed time: 1:18:54.665533\n",
      "Phase 5:\n",
      "Epoch    1 /    5  | Train Loss: 0.7573 Acc: 0.8362  | Val Loss: 0.6763 Acc: 0.8701  | Elapsed time: 0:37:36.255824\n",
      "Epoch    2 /    5  | Train Loss: 0.7289 Acc: 0.8434  | Val Loss: 0.6404 Acc: 0.8636  | Elapsed time: 1:15:12.030246\n"
     ]
    }
   ],
   "source": [
    "training_params = [\n",
    "    { \"idx\": 1, \"robustness\": 0.2, \"break_at_val_acc_diff\": 0.05},\n",
    "    { \"idx\": 2, \"robustness\": 0.5, \"break_at_val_acc_diff\": 0.02},\n",
    "    { \"idx\": 3, \"robustness\": 1.0, \"break_at_val_acc_diff\": 0.01},\n",
    "    { \"idx\": 4, \"robustness\": 2.0, \"break_at_val_acc_diff\": -0.000001},\n",
    "    { \"idx\": 5, \"robustness\": 2.0, \"break_at_val_acc_diff\": -0.000001}\n",
    "]\n",
    "for param in training_params:\n",
    "    print(f\"Phase {param[\"idx\"]}:\")\n",
    "    if param[\"idx\"] == 1:\n",
    "        model_data = init_model_for_training(f'{dataset_dir}/data', f'{dataset_dir}/val', \n",
    "                                             batch_size=32, arch=\"resnet101\", image_size=224, robustness=param[\"robustness\"],\n",
    "                                             lr=1e-4, weight_decay=1e-4, silent=True)\n",
    "    else:\n",
    "        model_data = prepare_for_retraining(model_data, f'{dataset_dir}/data', f'{dataset_dir}/val', \n",
    "                                            batch_size=32, image_size=224, robustness=param[\"robustness\"], silent=True)\n",
    "    train(model_data, 5, f\"{dataset_dir}/checkpoint.moth.te.ep{param[\"idx\"]:02}###.pth\", \n",
    "          break_at_val_acc_diff=param[\"break_at_val_acc_diff\"])"
   ]
  },
  {
   "cell_type": "code",
   "execution_count": 56,
   "id": "ebac7a9e-5c04-42f7-85b7-2fda8ca9f680",
   "metadata": {},
   "outputs": [],
   "source": [
    "model_data = torch.load(f\"{dataset_dir}/checkpoint.moth.te.ep050000.pth\", weights_only=False)"
   ]
  },
  {
   "cell_type": "code",
   "execution_count": 57,
   "id": "8a20e941-c62d-429d-a277-cba36e107500",
   "metadata": {},
   "outputs": [
    {
     "name": "stdout",
     "output_type": "stream",
     "text": [
      "Top   1 accuracy: 130/152 -> 85.53%, genus matched: 145/152 -> 95.39%\n",
      "Top   3 accuracy: 147/152 -> 96.71%, genus matched: 148/152 -> 97.37%\n",
      "Top   5 accuracy: 147/152 -> 96.71%, genus matched: 148/152 -> 97.37%\n",
      "Top  10 accuracy: 148/152 -> 97.37%, genus matched: 148/152 -> 97.37%\n"
     ]
    }
   ],
   "source": [
    "test_top_k(model_data, f\"{dataset_dir}/../moth/random-test\", 3, print_preds=False, print_top1_accuracy=True, print_no_match=False)\n",
    "test_top_k(model_data, f\"{dataset_dir}/../moth/random-test\", 5, print_preds=False, print_top1_accuracy=False)\n",
    "test_top_k(model_data, f\"{dataset_dir}/../moth/random-test\", 10, print_preds=False, print_top1_accuracy=False)"
   ]
  },
  {
   "cell_type": "code",
   "execution_count": 58,
   "id": "1142b82e-f586-42df-bc69-510e620b12b5",
   "metadata": {},
   "outputs": [
    {
     "name": "stdout",
     "output_type": "stream",
     "text": [
      "apona-spp                     : polyptychus-dentatus(0.359)  polyptychus-trilineatus(0.197)  marumba-cristata(0.154)  \n",
      "dysphania-percota             : \u001b[32mdysphania-percota\u001b[0m(0.993)  dysphania-palmyra(0.001)  nyctemera-cenis(0.001)  \n",
      "eupterote-undata              : \u001b[32meupterote-undata\u001b[0m(0.998)  eupterote-spp(0.001)  antheraea-frithi(0.000)  \n",
      "hippotion-rosetta-2           : \u001b[32mhippotion-rosetta\u001b[0m(0.422)  hippotion-boerhaviae(0.398)  cechetra-minor(0.130)  \n",
      "hippotion-rosetta             : \u001b[32mhippotion-rosetta\u001b[0m(0.419)  hippotion-boerhaviae(0.214)  cechetra-minor(0.134)  \n",
      "----------\n",
      "Top   1 accuracy: 4/5 -> 80.00%, genus matched: 4/5 -> 80.00%\n",
      "Top   3 accuracy: 4/5 -> 80.00%, genus matched: 4/5 -> 80.00%\n"
     ]
    }
   ],
   "source": [
    "test_top_k(model_data, f\"{dataset_dir}/../moth/my-test\", 3, print_preds=True, print_top1_accuracy=True, print_no_match=False)"
   ]
  },
  {
   "cell_type": "code",
   "execution_count": null,
   "id": "b9b2bae5-6fe3-419c-9ace-82012e075cb1",
   "metadata": {},
   "outputs": [],
   "source": []
  },
  {
   "cell_type": "code",
   "execution_count": null,
   "id": "1cf920fc-e20d-4f3c-be93-bd8b11ca06f9",
   "metadata": {},
   "outputs": [],
   "source": []
  },
  {
   "cell_type": "code",
   "execution_count": null,
   "id": "f5379cfa-394d-4b60-a1f1-de73071f45db",
   "metadata": {},
   "outputs": [],
   "source": []
  },
  {
   "cell_type": "markdown",
   "id": "b917f8b8-7146-438a-a76f-059eb55a1a97",
   "metadata": {},
   "source": [
    "### Model F (resnet-152 + early & imago data ++more data)\n",
    "Few imago classes have early stage data mixed"
   ]
  },
  {
   "cell_type": "code",
   "execution_count": 46,
   "id": "eec80347-f595-43a0-a4bb-daab1b3d7930",
   "metadata": {},
   "outputs": [
    {
     "name": "stdout",
     "output_type": "stream",
     "text": [
      "Phase 1:\n",
      "Epoch    1 /    5  | Train Loss: 2.2407 Acc: 0.5923  | Val Loss: 0.7868 Acc: 0.8182  | Elapsed time: 0:45:06.168741\n",
      "Epoch    2 /    5  | Train Loss: 0.7329 Acc: 0.8204  | Val Loss: 0.8211 Acc: 0.7857  | Elapsed time: 1:29:59.231360\n",
      "Phase 2:\n",
      "Epoch    1 /    5  | Train Loss: 1.3194 Acc: 0.7225  | Val Loss: 0.8192 Acc: 0.8117  | Elapsed time: 0:46:24.276674\n",
      "Epoch    2 /    5  | Train Loss: 1.1254 Acc: 0.7590  | Val Loss: 0.7811 Acc: 0.7987  | Elapsed time: 1:32:44.225132\n",
      "Phase 3:\n",
      "Epoch    1 /    5  | Train Loss: 1.0869 Acc: 0.7655  | Val Loss: 0.7336 Acc: 0.8377  | Elapsed time: 0:46:25.491660\n",
      "Epoch    2 /    5  | Train Loss: 1.0394 Acc: 0.7773  | Val Loss: 0.7838 Acc: 0.7987  | Elapsed time: 1:32:46.558563\n",
      "Phase 4:\n",
      "Epoch    1 /    5  | Train Loss: 1.0764 Acc: 0.7684  | Val Loss: 0.7295 Acc: 0.8117  | Elapsed time: 0:46:08.965056\n",
      "Epoch    2 /    5  | Train Loss: 0.8263 Acc: 0.8230  | Val Loss: 0.6484 Acc: 0.8571  | Elapsed time: 1:35:55.934073\n",
      "Epoch    3 /    5  | Train Loss: 0.7494 Acc: 0.8387  | Val Loss: 0.6521 Acc: 0.8571  | Elapsed time: 2:24:42.559445\n",
      "Epoch    4 /    5  | Train Loss: 0.7104 Acc: 0.8478  | Val Loss: 0.6352 Acc: 0.8571  | Elapsed time: 3:12:03.562749\n",
      "Epoch    5 /    5  | Train Loss: 0.6859 Acc: 0.8528  | Val Loss: 0.6672 Acc: 0.8442  | Elapsed time: 3:59:02.602078\n",
      "Phase 5:\n",
      "Epoch    1 /    5  | Train Loss: 0.6669 Acc: 0.8573  | Val Loss: 0.6035 Acc: 0.8571  | Elapsed time: 0:54:12.070399\n",
      "Epoch    2 /    5  | Train Loss: 0.6495 Acc: 0.8612  | Val Loss: 0.6206 Acc: 0.8506  | Elapsed time: 1:49:42.262023\n"
     ]
    }
   ],
   "source": [
    "training_params = [\n",
    "    { \"idx\": 1, \"robustness\": 0.2, \"break_at_val_acc_diff\": 0.05},\n",
    "    { \"idx\": 2, \"robustness\": 0.5, \"break_at_val_acc_diff\": 0.02},\n",
    "    { \"idx\": 3, \"robustness\": 1.0, \"break_at_val_acc_diff\": 0.01},\n",
    "    { \"idx\": 4, \"robustness\": 2.0, \"break_at_val_acc_diff\": -0.000001},\n",
    "    { \"idx\": 5, \"robustness\": 2.0, \"break_at_val_acc_diff\": -0.000001}\n",
    "]\n",
    "for param in training_params:\n",
    "    print(f\"Phase {param[\"idx\"]}:\")\n",
    "    if param[\"idx\"] == 1:\n",
    "        model_data = init_model_for_training(f'{dataset_dir}/data', f'{dataset_dir}/val', \n",
    "                                             batch_size=32, arch=\"resnet152\", image_size=224, robustness=param[\"robustness\"],\n",
    "                                             lr=1e-4, weight_decay=1e-4, silent=True)\n",
    "    else:\n",
    "        model_data = prepare_for_retraining(model_data, f'{dataset_dir}/data', f'{dataset_dir}/val', \n",
    "                                            batch_size=32, image_size=224, robustness=param[\"robustness\"], silent=True)\n",
    "    train(model_data, 5, f\"{dataset_dir}/checkpoint.moth.tf.ep{param[\"idx\"]:02}###.pth\", \n",
    "          break_at_val_acc_diff=param[\"break_at_val_acc_diff\"])"
   ]
  },
  {
   "cell_type": "code",
   "execution_count": 53,
   "id": "d4ce3a8f-b139-4ae9-a739-e87a007d114f",
   "metadata": {},
   "outputs": [],
   "source": [
    "model_data = torch.load(f\"{dataset_dir}/checkpoint.moth.tf.ep050000.pth\", weights_only=False)"
   ]
  },
  {
   "cell_type": "code",
   "execution_count": 54,
   "id": "30a32fba-45a8-4e26-9186-08d9d1e3623f",
   "metadata": {},
   "outputs": [
    {
     "name": "stdout",
     "output_type": "stream",
     "text": [
      "Top   1 accuracy: 130/152 -> 85.53%, genus matched: 146/152 -> 96.05%\n",
      "Top   3 accuracy: 147/152 -> 96.71%, genus matched: 147/152 -> 96.71%\n",
      "Top   5 accuracy: 147/152 -> 96.71%, genus matched: 147/152 -> 96.71%\n",
      "Top  10 accuracy: 148/152 -> 97.37%, genus matched: 148/152 -> 97.37%\n"
     ]
    }
   ],
   "source": [
    "test_top_k(model_data, f\"{dataset_dir}/../moth/random-test\", 3, print_preds=False, print_top1_accuracy=True, print_no_match=False)\n",
    "test_top_k(model_data, f\"{dataset_dir}/../moth/random-test\", 5, print_preds=False, print_top1_accuracy=False)\n",
    "test_top_k(model_data, f\"{dataset_dir}/../moth/random-test\", 10, print_preds=False, print_top1_accuracy=False)"
   ]
  },
  {
   "cell_type": "code",
   "execution_count": 55,
   "id": "27521650-6609-4667-aaca-f75fbd1a7e50",
   "metadata": {},
   "outputs": [
    {
     "name": "stdout",
     "output_type": "stream",
     "text": [
      "apona-spp                     : apona-caschmirensis(0.438)  polyptychus-dentatus(0.387)  chilkasa-falcata(0.062)  \n",
      "dysphania-percota             : \u001b[32mdysphania-percota\u001b[0m(0.999)  dysphania-percota-early(0.000)  speiredonia-mutabilis(0.000)  \n",
      "eupterote-undata              : \u001b[32meupterote-undata\u001b[0m(0.987)  eupterote-spp(0.010)  eupterote-mollifera(0.001)  \n",
      "hippotion-rosetta-2           : hippotion-boerhaviae(0.451)  \u001b[32mhippotion-rosetta\u001b[0m(0.414)  cechetra-minor(0.047)  \n",
      "hippotion-rosetta             : \u001b[32mhippotion-rosetta\u001b[0m(0.579)  hippotion-boerhaviae(0.335)  hippotion-spp(0.052)  \n",
      "----------\n",
      "Top   1 accuracy: 3/5 -> 60.00%, genus matched: 5/5 -> 100.00%\n",
      "Top   3 accuracy: 4/5 -> 80.00%, genus matched: 5/5 -> 100.00%\n"
     ]
    }
   ],
   "source": [
    "test_top_k(model_data, f\"{dataset_dir}/../moth/my-test\", 3, print_preds=True, print_top1_accuracy=True, print_no_match=False)"
   ]
  },
  {
   "cell_type": "code",
   "execution_count": null,
   "id": "b3ec6ca1-2b90-442b-92fe-9ffa9b73d014",
   "metadata": {},
   "outputs": [],
   "source": []
  },
  {
   "cell_type": "code",
   "execution_count": null,
   "id": "03d88c26-6740-4759-86dd-23ee487888ff",
   "metadata": {},
   "outputs": [],
   "source": []
  },
  {
   "cell_type": "code",
   "execution_count": null,
   "id": "e09a5c06-2d44-4e98-b424-40d7eb1d85cd",
   "metadata": {},
   "outputs": [],
   "source": []
  }
 ],
 "metadata": {
  "kernelspec": {
   "display_name": "Python 3 (ipykernel)",
   "language": "python",
   "name": "python3"
  },
  "language_info": {
   "codemirror_mode": {
    "name": "ipython",
    "version": 3
   },
   "file_extension": ".py",
   "mimetype": "text/x-python",
   "name": "python",
   "nbconvert_exporter": "python",
   "pygments_lexer": "ipython3",
   "version": "3.12.9"
  }
 },
 "nbformat": 4,
 "nbformat_minor": 5
}
