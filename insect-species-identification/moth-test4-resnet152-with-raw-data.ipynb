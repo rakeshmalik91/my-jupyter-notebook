{
 "cells": [
  {
   "cell_type": "code",
   "execution_count": 1,
   "id": "83030a28-df29-49db-9a28-b766af6a551c",
   "metadata": {},
   "outputs": [],
   "source": [
    "import mynnlib\n",
    "from mynnlib import *\n",
    "\n",
    "dataset_dir = \"insect-dataset/moth\""
   ]
  },
  {
   "cell_type": "markdown",
   "id": "32220553-a483-4f85-94c1-72b696f3b688",
   "metadata": {},
   "source": [
    "# Train & test"
   ]
  },
  {
   "cell_type": "code",
   "execution_count": 2,
   "id": "0d61ba07-a94d-40e8-9849-13f17ce29a5b",
   "metadata": {},
   "outputs": [
    {
     "name": "stdout",
     "output_type": "stream",
     "text": [
      "train class count: 3051\n",
      "val class count: 1497\n",
      "feature count: 2048\n",
      "device: cuda:0\n"
     ]
    }
   ],
   "source": [
    "model_data = init_model_for_training(f'{dataset_dir}/data', f'{dataset_dir}/splits/val', batch_size=32, arch=\"resnet152\", image_size=224)"
   ]
  },
  {
   "cell_type": "code",
   "execution_count": 3,
   "id": "3c35d962-362e-4d50-893a-6514f85a6f14",
   "metadata": {
    "scrolled": true
   },
   "outputs": [
    {
     "name": "stdout",
     "output_type": "stream",
     "text": [
      "Epoch    1 /   25  | Train Loss: 6.8551 Acc: 0.0318  | Val Loss: 5.6266 Acc: 0.0815  | Elapsed time: 0:11:33.020300\n",
      "Epoch    2 /   25  | Train Loss: 5.2096 Acc: 0.1283  | Val Loss: 3.8881 Acc: 0.2448  | Elapsed time: 0:23:03.702244\n",
      "Epoch    3 /   25  | Train Loss: 3.8108 Acc: 0.2681  | Val Loss: 2.5315 Acc: 0.4354  | Elapsed time: 0:34:32.235173\n",
      "Epoch    4 /   25  | Train Loss: 2.6684 Acc: 0.4173  | Val Loss: 1.6549 Acc: 0.6035  | Elapsed time: 0:46:19.655714\n",
      "Epoch    5 /   25  | Train Loss: 1.9047 Acc: 0.5501  | Val Loss: 1.1752 Acc: 0.7171  | Elapsed time: 0:58:03.014095\n",
      "Epoch    6 /   25  | Train Loss: 1.3674 Acc: 0.6605  | Val Loss: 0.7903 Acc: 0.7946  | Elapsed time: 1:09:38.823870\n",
      "Epoch    7 /   25  | Train Loss: 0.9689 Acc: 0.7471  | Val Loss: 0.4904 Acc: 0.8636  | Elapsed time: 1:21:12.557240\n",
      "Epoch    8 /   25  | Train Loss: 0.4566 Acc: 0.8811  | Val Loss: 0.2029 Acc: 0.9528  | Elapsed time: 1:33:22.520869\n",
      "Epoch    9 /   25  | Train Loss: 0.3310 Acc: 0.9164  | Val Loss: 0.1525 Acc: 0.9651  | Elapsed time: 1:50:18.639379\n",
      "Epoch   10 /   25  | Train Loss: 0.2734 Acc: 0.9305  | Val Loss: 0.1179 Acc: 0.9729  | Elapsed time: 2:01:51.777423\n",
      "Epoch   11 /   25  | Train Loss: 0.2307 Acc: 0.9423  | Val Loss: 0.0919 Acc: 0.9809  | Elapsed time: 2:13:41.017435\n",
      "Epoch   12 /   25  | Train Loss: 0.1967 Acc: 0.9512  | Val Loss: 0.0771 Acc: 0.9842  | Elapsed time: 2:25:46.558569\n",
      "Epoch   13 /   25  | Train Loss: 0.1657 Acc: 0.9599  | Val Loss: 0.0645 Acc: 0.9890  | Elapsed time: 2:37:37.489276\n",
      "Epoch   14 /   25  | Train Loss: 0.1403 Acc: 0.9663  | Val Loss: 0.0454 Acc: 0.9930  | Elapsed time: 2:49:17.735495\n",
      "Epoch   15 /   25  | Train Loss: 0.1034 Acc: 0.9780  | Val Loss: 0.0434 Acc: 0.9930  | Elapsed time: 3:00:59.546338\n",
      "Epoch   16 /   25  | Train Loss: 0.1005 Acc: 0.9795  | Val Loss: 0.0400 Acc: 0.9935  | Elapsed time: 3:12:33.461266\n",
      "Epoch   17 /   25  | Train Loss: 0.0961 Acc: 0.9812  | Val Loss: 0.0393 Acc: 0.9942  | Elapsed time: 3:24:01.026118\n",
      "Epoch   18 /   25  | Train Loss: 0.0927 Acc: 0.9810  | Val Loss: 0.0361 Acc: 0.9960  | Elapsed time: 3:35:38.798234\n",
      "Epoch   19 /   25  | Train Loss: 0.0885 Acc: 0.9830  | Val Loss: 0.0372 Acc: 0.9945  | Elapsed time: 3:47:04.592146\n",
      "Epoch   20 /   25  | Train Loss: 0.0879 Acc: 0.9830  | Val Loss: 0.0378 Acc: 0.9952  | Elapsed time: 3:58:32.195289\n",
      "Epoch   21 /   25  | Train Loss: 0.0849 Acc: 0.9829  | Val Loss: 0.0332 Acc: 0.9955  | Elapsed time: 4:10:00.318284\n",
      "Epoch   22 /   25  | Train Loss: 0.0814 Acc: 0.9847  | Val Loss: 0.0315 Acc: 0.9967  | Elapsed time: 4:21:28.686377\n",
      "Epoch   23 /   25  | Train Loss: 0.0795 Acc: 0.9851  | Val Loss: 0.0336 Acc: 0.9962  | Elapsed time: 4:32:54.486203\n",
      "Epoch   24 /   25  | Train Loss: 0.0806 Acc: 0.9845  | Val Loss: 0.0334 Acc: 0.9957  | Elapsed time: 4:44:19.301195\n",
      "Epoch   25 /   25  | Train Loss: 0.0787 Acc: 0.9852  | Val Loss: 0.0314 Acc: 0.9960  | Elapsed time: 4:55:48.748731\n"
     ]
    }
   ],
   "source": [
    "train(model_data, 25, f\"{dataset_dir}/checkpoint_latest.pth\")"
   ]
  },
  {
   "cell_type": "code",
   "execution_count": 4,
   "id": "1de1fda2-f873-4fd4-8220-8442224772b6",
   "metadata": {},
   "outputs": [
    {
     "data": {
      "text/plain": [
       "'insect-dataset/moth/checkpoint.resnet152.2025.01.31.mothsofindia.raw.25x100%.pth'"
      ]
     },
     "execution_count": 4,
     "metadata": {},
     "output_type": "execute_result"
    }
   ],
   "source": [
    "shutil.copy(f\"{dataset_dir}/checkpoint_latest.pth\", \n",
    "            f\"{dataset_dir}/checkpoint.{datetime.datetime.now().strftime(\"%Y.%m.%d\")}.resnet152.mothsofindia.raw.25x100%.pth\")"
   ]
  },
  {
   "cell_type": "code",
   "execution_count": 21,
   "id": "e70535f8-7483-4363-96d9-787a5e086b60",
   "metadata": {},
   "outputs": [],
   "source": [
    "model_data = torch.load(f\"{dataset_dir}/checkpoint.2025.01.31.resnet152.mothsofindia.raw.25x100%.pth\", weights_only=False)"
   ]
  },
  {
   "cell_type": "code",
   "execution_count": 16,
   "id": "4405f37f-92e9-4fdd-89a6-100c9339e457",
   "metadata": {},
   "outputs": [
    {
     "name": "stdout",
     "output_type": "stream",
     "text": [
      "Top   1 accuracy: 82/167 -> 49.10%, genus matched: 102/167 -> 61.08%\n",
      "Top   3 accuracy: 107/167 -> 64.07%, genus matched: 129/167 -> 77.25%\n",
      "Top   5 accuracy: 120/167 -> 71.86%, genus matched: 140/167 -> 83.83%\n",
      "Top  10 accuracy: 130/167 -> 77.84%, genus matched: 150/167 -> 89.82%\n"
     ]
    }
   ],
   "source": [
    "test_top_k(model_data, f\"{dataset_dir}/random-test\", 3, print_preds=False)\n",
    "test_top_k(model_data, f\"{dataset_dir}/random-test\", 5, print_preds=False, print_top1_accuracy=False)\n",
    "test_top_k(model_data, f\"{dataset_dir}/random-test\", 10, print_preds=False, print_top1_accuracy=False)"
   ]
  },
  {
   "cell_type": "markdown",
   "id": "00eb836f-c2ff-42ca-af11-afbf66ef2cba",
   "metadata": {},
   "source": [
    "-----------\n",
    "\n",
    "This came out even worse than cured data. <strong>checkpoint.2025.01.28.resnet152.mothsofindia.raw.25x70%+10x100%.pth</strong> is best so far. Somehow randomly picked 70% raw data was better than cured data."
   ]
  },
  {
   "cell_type": "markdown",
   "id": "32e359b4-a90f-4809-938a-f2a3f8bf7bb9",
   "metadata": {},
   "source": [
    "## Compare with model from test3"
   ]
  },
  {
   "cell_type": "code",
   "execution_count": 25,
   "id": "d1c330b7-fc6c-4d2a-83c8-d9b16697de51",
   "metadata": {},
   "outputs": [],
   "source": [
    "model_data = torch.load(f\"{dataset_dir}/checkpoint.2025.01.30.resnet152.mothsofindia.cured.25x100%.pth\", weights_only=False)"
   ]
  },
  {
   "cell_type": "code",
   "execution_count": 14,
   "id": "8ae4cfa9-5e0c-421e-bec2-672a6528c8a5",
   "metadata": {},
   "outputs": [
    {
     "name": "stdout",
     "output_type": "stream",
     "text": [
      "Top   1 accuracy: 88/167 -> 52.69%, genus matched: 113/167 -> 67.66%\n",
      "Top   3 accuracy: 111/167 -> 66.47%, genus matched: 135/167 -> 80.84%\n",
      "Top   5 accuracy: 119/167 -> 71.26%, genus matched: 140/167 -> 83.83%\n",
      "Top  10 accuracy: 128/167 -> 76.65%, genus matched: 147/167 -> 88.02%\n"
     ]
    }
   ],
   "source": [
    "test_top_k(model_data, f\"{dataset_dir}/random-test\", 3, print_preds=False)\n",
    "test_top_k(model_data, f\"{dataset_dir}/random-test\", 5, print_preds=False, print_top1_accuracy=False)\n",
    "test_top_k(model_data, f\"{dataset_dir}/random-test\", 10, print_preds=False, print_top1_accuracy=False)"
   ]
  },
  {
   "cell_type": "markdown",
   "id": "79b796e2-ec5c-4bdf-b547-4a8d439680e8",
   "metadata": {},
   "source": [
    "## Compare with model from test2"
   ]
  },
  {
   "cell_type": "code",
   "execution_count": 2,
   "id": "60eac226-b237-461d-855d-8e9162d04802",
   "metadata": {},
   "outputs": [],
   "source": [
    "model_data = torch.load(f\"{dataset_dir}/checkpoint.2025.01.28.resnet152.mothsofindia.raw.25x70%+10x100%.pth\", weights_only=False)"
   ]
  },
  {
   "cell_type": "code",
   "execution_count": 11,
   "id": "d0ca190a-eda2-4f51-ba35-cb99901a3997",
   "metadata": {},
   "outputs": [
    {
     "name": "stdout",
     "output_type": "stream",
     "text": [
      "Top   1 accuracy: 101/167 -> 60.48%, genus matched: 120/167 -> 71.86%\n",
      "Top   3 accuracy: 121/167 -> 72.46%, genus matched: 142/167 -> 85.03%\n",
      "Top   5 accuracy: 130/167 -> 77.84%, genus matched: 147/167 -> 88.02%\n",
      "Top  10 accuracy: 134/167 -> 80.24%, genus matched: 152/167 -> 91.02%\n"
     ]
    }
   ],
   "source": [
    "test_top_k(model_data, f\"{dataset_dir}/random-test\", 3, print_preds=False)\n",
    "test_top_k(model_data, f\"{dataset_dir}/random-test\", 5, print_preds=False, print_top1_accuracy=False)\n",
    "test_top_k(model_data, f\"{dataset_dir}/random-test\", 10, print_preds=False, print_top1_accuracy=False)"
   ]
  },
  {
   "cell_type": "code",
   "execution_count": 9,
   "id": "f872f75f-f183-4f7e-bfb2-7a8ad51dc4d2",
   "metadata": {},
   "outputs": [
    {
     "name": "stdout",
     "output_type": "stream",
     "text": [
      "apona-spp                     : noreia-ajaia(0.516)  albara-reversaria(0.183)  thosea-spp(0.102)  \n",
      "dysphania-percota             : dysphania-percota(1.000)  achaea-janata(0.000)  zeuzerini-genera-spp(0.000)  \n",
      "eupterote-undata              : eupterote-undata(0.502)  lymantria-spp(0.346)  lymantria-ampla(0.046)  \n",
      "hippotion-rosetta-2           : hippotion-spp(0.537)  theretra-clotho(0.137)  phalera-combusta(0.062)  \n",
      "hippotion-rosetta             : hippotion-spp(0.450)  theretra-clotho(0.283)  theretra-lucasii(0.126)  \n",
      "----------\n",
      "Top   1 accuracy: 2/5 -> 40.00%, genus matched: 4/5 -> 80.00%\n",
      "Top   3 accuracy: 2/5 -> 40.00%, genus matched: 4/5 -> 80.00%\n"
     ]
    }
   ],
   "source": [
    "test_top_k(model_data, f\"{dataset_dir}/my-test\", 3, print_preds=True)"
   ]
  },
  {
   "cell_type": "code",
   "execution_count": null,
   "id": "9f2ddf10-38d2-4bbe-beff-7acb544a693c",
   "metadata": {},
   "outputs": [],
   "source": []
  }
 ],
 "metadata": {
  "kernelspec": {
   "display_name": "Python 3 (ipykernel)",
   "language": "python",
   "name": "python3"
  },
  "language_info": {
   "codemirror_mode": {
    "name": "ipython",
    "version": 3
   },
   "file_extension": ".py",
   "mimetype": "text/x-python",
   "name": "python",
   "nbconvert_exporter": "python",
   "pygments_lexer": "ipython3",
   "version": "3.12.9"
  }
 },
 "nbformat": 4,
 "nbformat_minor": 5
}
