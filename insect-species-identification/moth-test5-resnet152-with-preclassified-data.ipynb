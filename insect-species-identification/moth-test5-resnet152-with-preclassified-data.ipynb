{
 "cells": [
  {
   "cell_type": "markdown",
   "id": "0b4f77bd-bce9-42d6-9a83-dd51a1243fd0",
   "metadata": {},
   "source": [
    "> 1. Rescraped all mothsofindia data with adult and early stage preclassified\n",
    "> 2. Stop training when val acc not improving\n",
    "> 3. Use incremental training data augmentation (random flip/jitter/crop/rotation) based on val loss/acc\n",
    "> 4. Compare resnet-152 vs resnet-50"
   ]
  },
  {
   "cell_type": "code",
   "execution_count": 1,
   "id": "e95d402e-09e9-47f3-9079-a2d37f13bd9c",
   "metadata": {},
   "outputs": [],
   "source": [
    "%load_ext autoreload"
   ]
  },
  {
   "cell_type": "code",
   "execution_count": 2,
   "id": "2461347b-7041-43d8-b04f-c533303cf807",
   "metadata": {},
   "outputs": [],
   "source": [
    "%autoreload 2"
   ]
  },
  {
   "cell_type": "code",
   "execution_count": 3,
   "id": "0af8e12f-a06f-493b-98b5-a4fd4f294c26",
   "metadata": {},
   "outputs": [],
   "source": [
    "import mynnlib\n",
    "from mynnlib import *\n",
    "\n",
    "dataset_dir = \"insect-dataset/moth\""
   ]
  },
  {
   "cell_type": "code",
   "execution_count": 4,
   "id": "1aea556a-4412-48b6-a7b5-c3477a330939",
   "metadata": {},
   "outputs": [
    {
     "name": "stdout",
     "output_type": "stream",
     "text": [
      "Adult class count: 3060\n",
      "Early class count: 304\n"
     ]
    }
   ],
   "source": [
    "adult_class_cnt = 0\n",
    "early_class_cnt = 0\n",
    "for species_dir in Path(f\"{dataset_dir}/data\").iterdir():\n",
    "    if species_dir.is_dir() and species_dir.name.endswith('-early'):\n",
    "        early_class_cnt += 1\n",
    "    else:\n",
    "        adult_class_cnt += 1\n",
    "print(f\"Adult class count: {adult_class_cnt}\")\n",
    "print(f\"Early class count: {early_class_cnt}\")"
   ]
  },
  {
   "cell_type": "markdown",
   "id": "7da72e96-d0c0-4753-b69c-e14007b7f1c2",
   "metadata": {},
   "source": [
    "-------------------\n",
    "# A. Train with subset of data (resnet-152)"
   ]
  },
  {
   "cell_type": "code",
   "execution_count": 13,
   "id": "77acbbb2-6ead-41d0-9913-5cb6a0482492",
   "metadata": {},
   "outputs": [
    {
     "name": "stdout",
     "output_type": "stream",
     "text": [
      "Class count: 563\n",
      "Total data count: 7462\n",
      "Training data count: 5316\n",
      "Validation data count: 1432\n",
      "Test data count: 714\n"
     ]
    }
   ],
   "source": [
    "split_data_for_train_and_val(f\"{dataset_dir}/data\", \n",
    "                             f\"{dataset_dir}/splits/test\", f\"{dataset_dir}/splits/val\", f\"{dataset_dir}/splits/train\", \n",
    "                             test_data_weight=0.1, val_data_weight=0.2, min_file_cnt_for_val=4, \n",
    "                             class_name_filter_regex=r\"^[a-b].*$\")"
   ]
  },
  {
   "cell_type": "code",
   "execution_count": 14,
   "id": "2e9e470a-fee1-4752-a443-421cef21572c",
   "metadata": {},
   "outputs": [
    {
     "name": "stdout",
     "output_type": "stream",
     "text": [
      "train class count: 562\n",
      "val class count: 338\n",
      "feature count: 2048\n",
      "device: cuda:0\n"
     ]
    }
   ],
   "source": [
    "model_data = init_model_for_training(f'{dataset_dir}/splits/train', f'{dataset_dir}/splits/val', \n",
    "                                     batch_size=32, arch=\"resnet152\", image_size=224, robustness=0.2)"
   ]
  },
  {
   "cell_type": "code",
   "execution_count": 15,
   "id": "88f09f44-8957-49aa-9eaa-61e2344489bd",
   "metadata": {},
   "outputs": [
    {
     "name": "stdout",
     "output_type": "stream",
     "text": [
      "Epoch    1 /    5  | Train Loss: 4.9768 Acc: 0.1597  | Val Loss: 4.0166 Acc: 0.2491  | Elapsed time: 0:01:29.476975\n",
      "Epoch    2 /    5  | Train Loss: 2.9961 Acc: 0.3751  | Val Loss: 2.5786 Acc: 0.4367  | Elapsed time: 0:03:02.378254\n",
      "Epoch    3 /    5  | Train Loss: 1.7350 Acc: 0.5730  | Val Loss: 2.2609 Acc: 0.4913  | Elapsed time: 0:04:35.874849\n",
      "Epoch    4 /    5  | Train Loss: 0.9903 Acc: 0.7314  | Val Loss: 1.9076 Acc: 0.5773  | Elapsed time: 0:06:11.255499\n",
      "Epoch    5 /    5  | Train Loss: 0.5720 Acc: 0.8431  | Val Loss: 2.0063 Acc: 0.6004  | Elapsed time: 0:07:46.011206\n"
     ]
    }
   ],
   "source": [
    "train(model_data, 5, f\"{dataset_dir}/checkpoint.moth.subset.resnet152.pth\", break_at_val_acc_diff=0.05)"
   ]
  },
  {
   "cell_type": "code",
   "execution_count": 16,
   "id": "2002cd95-4835-412d-8f03-fba12caa9b78",
   "metadata": {},
   "outputs": [
    {
     "name": "stdout",
     "output_type": "stream",
     "text": [
      "train class count: 562\n",
      "val class count: 338\n",
      "0 new classes added: []\n",
      "feature count: 2048\n",
      "device: cuda:0\n"
     ]
    }
   ],
   "source": [
    "model_data = prepare_for_retraining(model_data, f'{dataset_dir}/splits/train', f'{dataset_dir}/splits/val', \n",
    "                                    batch_size=32, image_size=224, robustness=0.5)"
   ]
  },
  {
   "cell_type": "code",
   "execution_count": 17,
   "id": "5c0e29eb-ae33-4ddd-b747-6f8e8749e5df",
   "metadata": {},
   "outputs": [
    {
     "name": "stdout",
     "output_type": "stream",
     "text": [
      "Epoch    1 /    5  | Train Loss: 1.8550 Acc: 0.5476  | Val Loss: 2.0817 Acc: 0.5409  | Elapsed time: 0:01:37.310603\n",
      "Epoch    2 /    5  | Train Loss: 1.3617 Acc: 0.6567  | Val Loss: 2.1331 Acc: 0.5346  | Elapsed time: 0:03:17.067274\n"
     ]
    }
   ],
   "source": [
    "train(model_data, 5, f\"{dataset_dir}/checkpoint.moth.subset.resnet152.pth\", break_at_val_acc_diff=0.05)"
   ]
  },
  {
   "cell_type": "code",
   "execution_count": 18,
   "id": "64a7b675-6288-4c5d-bc2c-188da36dd17b",
   "metadata": {},
   "outputs": [
    {
     "name": "stdout",
     "output_type": "stream",
     "text": [
      "train class count: 562\n",
      "val class count: 338\n",
      "0 new classes added: []\n",
      "feature count: 2048\n",
      "device: cuda:0\n"
     ]
    }
   ],
   "source": [
    "model_data = prepare_for_retraining(model_data, f'{dataset_dir}/splits/train', f'{dataset_dir}/splits/val', \n",
    "                                    batch_size=32, image_size=224, robustness=1.0)"
   ]
  },
  {
   "cell_type": "code",
   "execution_count": 19,
   "id": "2af96155-4d0f-4d04-80af-b9d451c1b224",
   "metadata": {},
   "outputs": [
    {
     "name": "stdout",
     "output_type": "stream",
     "text": [
      "Epoch    1 /    5  | Train Loss: 1.0073 Acc: 0.7504  | Val Loss: 1.6719 Acc: 0.6312  | Elapsed time: 0:01:34.806586\n",
      "Epoch    2 /    5  | Train Loss: 0.8469 Acc: 0.7884  | Val Loss: 1.6418 Acc: 0.6445  | Elapsed time: 0:03:13.180104\n"
     ]
    }
   ],
   "source": [
    "train(model_data, 5, f\"{dataset_dir}/checkpoint.moth.subset.resnet152.pth\", break_at_val_acc_diff=0.02)"
   ]
  },
  {
   "cell_type": "code",
   "execution_count": 20,
   "id": "e8e60206-cff2-4805-ab2a-4501fa716916",
   "metadata": {},
   "outputs": [
    {
     "name": "stdout",
     "output_type": "stream",
     "text": [
      "train class count: 562\n",
      "val class count: 338\n",
      "0 new classes added: []\n",
      "feature count: 2048\n",
      "device: cuda:0\n"
     ]
    }
   ],
   "source": [
    "model_data = prepare_for_retraining(model_data, f'{dataset_dir}/splits/train', f'{dataset_dir}/splits/val', \n",
    "                                    batch_size=32, image_size=224, robustness=2.0)"
   ]
  },
  {
   "cell_type": "code",
   "execution_count": 21,
   "id": "e3e7fe07-b769-49b8-bbe3-0d0897d59c0c",
   "metadata": {},
   "outputs": [
    {
     "name": "stdout",
     "output_type": "stream",
     "text": [
      "Epoch    1 /    5  | Train Loss: 0.9584 Acc: 0.7547  | Val Loss: 1.5644 Acc: 0.6557  | Elapsed time: 0:01:37.917885\n",
      "Epoch    2 /    5  | Train Loss: 0.8952 Acc: 0.7688  | Val Loss: 1.5491 Acc: 0.6550  | Elapsed time: 0:03:17.831415\n"
     ]
    }
   ],
   "source": [
    "train(model_data, 5, f\"{dataset_dir}/checkpoint.moth.subset.resnet152.pth\", break_at_val_acc_diff=0.01)"
   ]
  },
  {
   "cell_type": "code",
   "execution_count": null,
   "id": "db3cc05a-d129-44f2-9ef5-f320a88dccf7",
   "metadata": {},
   "outputs": [],
   "source": []
  },
  {
   "cell_type": "code",
   "execution_count": null,
   "id": "6aea9dc5-2c39-403b-a7fb-a15d5674f543",
   "metadata": {},
   "outputs": [],
   "source": []
  },
  {
   "cell_type": "code",
   "execution_count": null,
   "id": "81d912ff-455c-4dcc-912e-9a0312b7e214",
   "metadata": {},
   "outputs": [],
   "source": []
  },
  {
   "cell_type": "code",
   "execution_count": null,
   "id": "d89c23ed-aab6-48d2-8e4e-9387d51b0d12",
   "metadata": {},
   "outputs": [],
   "source": []
  },
  {
   "cell_type": "code",
   "execution_count": null,
   "id": "6138f7cc-f419-41f5-bf97-5f98515d5dd3",
   "metadata": {},
   "outputs": [],
   "source": []
  },
  {
   "cell_type": "markdown",
   "id": "a49d5ba2-d583-46e3-8a78-851cd65e1862",
   "metadata": {},
   "source": [
    "-------------------\n",
    "# B. Train with subset of data (resnet-50)"
   ]
  },
  {
   "cell_type": "code",
   "execution_count": null,
   "id": "2e87b97a-b461-4126-b7e7-90c973a55294",
   "metadata": {},
   "outputs": [],
   "source": [
    "split_data_for_train_and_val(f\"{dataset_dir}/data\", \n",
    "                             f\"{dataset_dir}/splits/test\", f\"{dataset_dir}/splits/val\", f\"{dataset_dir}/splits/train\", \n",
    "                             test_data_weight=0.1, val_data_weight=0.2, min_file_cnt_for_val=4, \n",
    "                             class_name_filter_regex=r\"^[a-b].*$\")"
   ]
  },
  {
   "cell_type": "code",
   "execution_count": 22,
   "id": "224eb3d3-2fcc-4d1a-b62f-f4783430efb5",
   "metadata": {},
   "outputs": [
    {
     "name": "stdout",
     "output_type": "stream",
     "text": [
      "train class count: 562\n",
      "val class count: 338\n",
      "feature count: 2048\n",
      "device: cuda:0\n"
     ]
    }
   ],
   "source": [
    "model_data = init_model_for_training(f'{dataset_dir}/splits/train', f'{dataset_dir}/splits/val', \n",
    "                                     batch_size=32, arch=\"resnet50\", image_size=224, robustness=0.2)"
   ]
  },
  {
   "cell_type": "code",
   "execution_count": 23,
   "id": "12211510-ed4b-4bb6-abf5-454cff55a799",
   "metadata": {
    "scrolled": true
   },
   "outputs": [
    {
     "name": "stdout",
     "output_type": "stream",
     "text": [
      "Epoch    1 /    5  | Train Loss: 4.8470 Acc: 0.1810  | Val Loss: 3.7415 Acc: 0.3037  | Elapsed time: 0:01:03.664671\n",
      "Epoch    2 /    5  | Train Loss: 2.5913 Acc: 0.4434  | Val Loss: 3.4489 Acc: 0.3135  | Elapsed time: 0:02:09.849688\n"
     ]
    }
   ],
   "source": [
    "train(model_data, 5, f\"{dataset_dir}/checkpoint.moth.subset.resnet50.pth\", break_at_val_acc_diff=0.05)"
   ]
  },
  {
   "cell_type": "code",
   "execution_count": 24,
   "id": "64d2573d-b1f4-4dbf-82cf-3d999ad98953",
   "metadata": {},
   "outputs": [
    {
     "name": "stdout",
     "output_type": "stream",
     "text": [
      "train class count: 562\n",
      "val class count: 338\n",
      "0 new classes added: []\n",
      "feature count: 2048\n",
      "device: cuda:0\n"
     ]
    }
   ],
   "source": [
    "model_data = prepare_for_retraining(model_data, f'{dataset_dir}/splits/train', f'{dataset_dir}/splits/val', \n",
    "                                    batch_size=32, image_size=224, robustness=0.5)"
   ]
  },
  {
   "cell_type": "code",
   "execution_count": 25,
   "id": "2187386f-afe8-4947-8af6-e317f4bff76b",
   "metadata": {},
   "outputs": [
    {
     "name": "stdout",
     "output_type": "stream",
     "text": [
      "Epoch    1 /    5  | Train Loss: 2.5383 Acc: 0.4359  | Val Loss: 2.8731 Acc: 0.3961  | Elapsed time: 0:01:06.370756\n",
      "Epoch    2 /    5  | Train Loss: 2.1050 Acc: 0.5211  | Val Loss: 2.3647 Acc: 0.4633  | Elapsed time: 0:02:14.084290\n",
      "Epoch    3 /    5  | Train Loss: 1.8672 Acc: 0.5690  | Val Loss: 2.4005 Acc: 0.4920  | Elapsed time: 0:03:21.361272\n"
     ]
    }
   ],
   "source": [
    "train(model_data, 5, f\"{dataset_dir}/checkpoint.moth.subset.resnet50.pth\", break_at_val_acc_diff=0.05)"
   ]
  },
  {
   "cell_type": "code",
   "execution_count": 26,
   "id": "ef9320b7-a2ad-49e5-aaf1-c40a2a0f83b6",
   "metadata": {},
   "outputs": [
    {
     "name": "stdout",
     "output_type": "stream",
     "text": [
      "train class count: 562\n",
      "val class count: 338\n",
      "0 new classes added: []\n",
      "feature count: 2048\n",
      "device: cuda:0\n"
     ]
    }
   ],
   "source": [
    "model_data = prepare_for_retraining(model_data, f'{dataset_dir}/splits/train', f'{dataset_dir}/splits/val', \n",
    "                                    batch_size=32, image_size=224, robustness=1.0)"
   ]
  },
  {
   "cell_type": "code",
   "execution_count": 27,
   "id": "e307ed64-4db9-40e6-a24d-3e6fb5939ef7",
   "metadata": {},
   "outputs": [
    {
     "name": "stdout",
     "output_type": "stream",
     "text": [
      "Epoch    1 /    5  | Train Loss: 1.7735 Acc: 0.5820  | Val Loss: 2.2034 Acc: 0.5115  | Elapsed time: 0:01:05.048174\n",
      "Epoch    2 /    5  | Train Loss: 1.6616 Acc: 0.6072  | Val Loss: 1.9613 Acc: 0.5626  | Elapsed time: 0:02:11.802270\n",
      "Epoch    3 /    5  | Train Loss: 1.2905 Acc: 0.6906  | Val Loss: 1.6487 Acc: 0.6333  | Elapsed time: 0:03:18.619823\n",
      "Epoch    4 /    5  | Train Loss: 1.1620 Acc: 0.7233  | Val Loss: 1.6278 Acc: 0.6382  | Elapsed time: 0:04:25.413536\n"
     ]
    }
   ],
   "source": [
    "train(model_data, 5, f\"{dataset_dir}/checkpoint.moth.subset.resnet50.pth\", break_at_val_acc_diff=0.02)"
   ]
  },
  {
   "cell_type": "code",
   "execution_count": 28,
   "id": "f279f484-e5d8-438b-a410-4178de95ec54",
   "metadata": {},
   "outputs": [
    {
     "name": "stdout",
     "output_type": "stream",
     "text": [
      "train class count: 562\n",
      "val class count: 338\n",
      "0 new classes added: []\n",
      "feature count: 2048\n",
      "device: cuda:0\n"
     ]
    }
   ],
   "source": [
    "model_data = prepare_for_retraining(model_data, f'{dataset_dir}/splits/train', f'{dataset_dir}/splits/val', \n",
    "                                    batch_size=32, image_size=224, robustness=2.0)"
   ]
  },
  {
   "cell_type": "code",
   "execution_count": 29,
   "id": "55915c64-a640-462f-8179-dfc41516ee93",
   "metadata": {},
   "outputs": [
    {
     "name": "stdout",
     "output_type": "stream",
     "text": [
      "Epoch    1 /    5  | Train Loss: 1.2651 Acc: 0.6996  | Val Loss: 1.6203 Acc: 0.6508  | Elapsed time: 0:01:06.696871\n",
      "Epoch    2 /    5  | Train Loss: 1.1380 Acc: 0.7289  | Val Loss: 1.6567 Acc: 0.6480  | Elapsed time: 0:02:13.532850\n"
     ]
    }
   ],
   "source": [
    "train(model_data, 5, f\"{dataset_dir}/checkpoint.moth.subset.resnet50.pth\", break_at_val_acc_diff=0.01)"
   ]
  },
  {
   "cell_type": "code",
   "execution_count": null,
   "id": "034ad690-3e5b-49bd-9f04-7dbe6086e090",
   "metadata": {},
   "outputs": [],
   "source": []
  },
  {
   "cell_type": "code",
   "execution_count": null,
   "id": "1a9ecf10-7bce-45db-b5f1-dcb287757763",
   "metadata": {},
   "outputs": [],
   "source": []
  },
  {
   "cell_type": "code",
   "execution_count": null,
   "id": "4e14c764-820c-4086-811d-3dd285dc08f6",
   "metadata": {},
   "outputs": [],
   "source": []
  },
  {
   "cell_type": "code",
   "execution_count": null,
   "id": "8f1ddaf9-6ddd-4a8e-a315-b165aa8c49f3",
   "metadata": {},
   "outputs": [],
   "source": []
  },
  {
   "cell_type": "code",
   "execution_count": null,
   "id": "46d9ff0b-ded5-447e-bcf9-7309a87be082",
   "metadata": {},
   "outputs": [],
   "source": []
  },
  {
   "cell_type": "markdown",
   "id": "c07d4fbe-a957-4712-99c4-e968fb040392",
   "metadata": {},
   "source": [
    "-------------------\n",
    "# C. Train with all data (resnet-152)"
   ]
  },
  {
   "cell_type": "code",
   "execution_count": 5,
   "id": "a67a1cbb-0935-4c12-a04d-38bf98166447",
   "metadata": {},
   "outputs": [
    {
     "name": "stdout",
     "output_type": "stream",
     "text": [
      "train class count: 3364\n",
      "val class count: 77\n",
      "feature count: 2048\n",
      "device: cuda:0\n"
     ]
    }
   ],
   "source": [
    "model_data = init_model_for_training(f'{dataset_dir}/data', f'{dataset_dir}/val', batch_size=32, arch=\"resnet152\", image_size=224, robustness=0.2)"
   ]
  },
  {
   "cell_type": "code",
   "execution_count": 6,
   "id": "5378e746-74c7-45e7-9fcb-4b74f3a55d3a",
   "metadata": {},
   "outputs": [
    {
     "name": "stdout",
     "output_type": "stream",
     "text": [
      "Epoch    1 /    2  | Train Loss: 7.2551 Acc: 0.0159  | Val Loss: 7.2020 Acc: 0.0000  | Elapsed time: 0:11:52.671395\n",
      "Epoch    2 /    2  | Train Loss: 5.8480 Acc: 0.0958  | Val Loss: 6.0298 Acc: 0.1019  | Elapsed time: 0:23:39.239393\n"
     ]
    }
   ],
   "source": [
    "train(model_data, 2, f\"{dataset_dir}/checkpoint.moth.all.pth\")"
   ]
  },
  {
   "cell_type": "code",
   "execution_count": 7,
   "id": "0be54976-307e-4f58-8953-81c97250328d",
   "metadata": {},
   "outputs": [
    {
     "name": "stdout",
     "output_type": "stream",
     "text": [
      "Epoch    1 /    8  | Train Loss: 3.9186 Acc: 0.2953  | Val Loss: 5.1269 Acc: 0.1529  | Elapsed time: 0:11:42.638736\n",
      "Epoch    2 /    8  | Train Loss: 2.3980 Acc: 0.4946  | Val Loss: 4.3604 Acc: 0.2038  | Elapsed time: 0:23:43.985563\n",
      "Epoch    3 /    8  | Train Loss: 1.5703 Acc: 0.6352  | Val Loss: 4.3406 Acc: 0.1911  | Elapsed time: 0:35:33.907545\n"
     ]
    }
   ],
   "source": [
    "train(model_data, 8, f\"{dataset_dir}/checkpoint.moth.all.pth\", break_at_val_acc_diff=0.05)"
   ]
  },
  {
   "cell_type": "code",
   "execution_count": 8,
   "id": "d26dc0fb-1ee0-4201-8908-4814b3968268",
   "metadata": {},
   "outputs": [
    {
     "name": "stdout",
     "output_type": "stream",
     "text": [
      "train class count: 3364\n",
      "val class count: 77\n",
      "0 new classes added: []\n",
      "feature count: 2048\n",
      "device: cuda:0\n"
     ]
    }
   ],
   "source": [
    "model_data = prepare_for_retraining(model_data, f'{dataset_dir}/data', f'{dataset_dir}/val', \n",
    "                                    batch_size=32, image_size=224, robustness=0.5)"
   ]
  },
  {
   "cell_type": "code",
   "execution_count": 9,
   "id": "9199a5b2-38bb-4054-9af2-184ea2b59651",
   "metadata": {},
   "outputs": [
    {
     "name": "stdout",
     "output_type": "stream",
     "text": [
      "Epoch    1 /    3  | Train Loss: 4.0943 Acc: 0.2233  | Val Loss: 4.5808 Acc: 0.2166  | Elapsed time: 0:12:00.497177\n",
      "Epoch    2 /    3  | Train Loss: 3.6330 Acc: 0.2838  | Val Loss: 4.2664 Acc: 0.2803  | Elapsed time: 0:24:23.325251\n",
      "Epoch    3 /    3  | Train Loss: 3.1738 Acc: 0.3500  | Val Loss: 4.0287 Acc: 0.2866  | Elapsed time: 0:36:43.906610\n"
     ]
    }
   ],
   "source": [
    "train(model_data, 3, f\"{dataset_dir}/checkpoint.moth.all.pth\", break_at_val_acc_diff=0.05)"
   ]
  },
  {
   "cell_type": "code",
   "execution_count": 10,
   "id": "2d1605bb-e023-465f-8405-775fabb72faf",
   "metadata": {},
   "outputs": [
    {
     "name": "stdout",
     "output_type": "stream",
     "text": [
      "train class count: 3364\n",
      "val class count: 77\n",
      "0 new classes added: []\n",
      "feature count: 2048\n",
      "device: cuda:0\n"
     ]
    }
   ],
   "source": [
    "model_data = prepare_for_retraining(model_data, f'{dataset_dir}/data', f'{dataset_dir}/val', \n",
    "                                    batch_size=32, image_size=224, robustness=1.0)"
   ]
  },
  {
   "cell_type": "code",
   "execution_count": 11,
   "id": "c8f29118-6097-4c68-b898-5de94e94c8ca",
   "metadata": {},
   "outputs": [
    {
     "name": "stdout",
     "output_type": "stream",
     "text": [
      "Epoch    1 /    3  | Train Loss: 3.1796 Acc: 0.3524  | Val Loss: 4.0977 Acc: 0.2611  | Elapsed time: 0:12:01.241858\n",
      "Epoch    2 /    3  | Train Loss: 3.0767 Acc: 0.3718  | Val Loss: 3.9524 Acc: 0.3121  | Elapsed time: 0:24:18.471353\n",
      "Epoch    3 /    3  | Train Loss: 3.0169 Acc: 0.3781  | Val Loss: 3.9728 Acc: 0.2994  | Elapsed time: 0:36:33.760276\n"
     ]
    }
   ],
   "source": [
    "train(model_data, 3, f\"{dataset_dir}/checkpoint.moth.all.pth\", break_at_val_acc_diff=0.05)"
   ]
  },
  {
   "cell_type": "code",
   "execution_count": null,
   "id": "81fe81fa-cdf9-4c4f-92e1-818ee8f45ccc",
   "metadata": {},
   "outputs": [],
   "source": [
    "model_data = prepare_for_retraining(model_data, f'{dataset_dir}/data', f'{dataset_dir}/val', \n",
    "                                    batch_size=32, image_size=224, robustness=2.0)"
   ]
  },
  {
   "cell_type": "code",
   "execution_count": null,
   "id": "86c3f561-f691-41d6-8e22-527aca9951a3",
   "metadata": {},
   "outputs": [],
   "source": [
    "train(model_data, 3, f\"{dataset_dir}/checkpoint.moth.all.pth\", break_at_val_acc_diff=0.05)"
   ]
  },
  {
   "cell_type": "code",
   "execution_count": null,
   "id": "cd87c065-6696-4687-aeaf-54a0ff84fc73",
   "metadata": {},
   "outputs": [],
   "source": []
  },
  {
   "cell_type": "code",
   "execution_count": null,
   "id": "02a95669-c969-452d-8b18-280252fee767",
   "metadata": {},
   "outputs": [],
   "source": []
  },
  {
   "cell_type": "code",
   "execution_count": null,
   "id": "896f29ba-3ac5-478b-8f3a-218c1509ce21",
   "metadata": {},
   "outputs": [],
   "source": []
  },
  {
   "cell_type": "code",
   "execution_count": null,
   "id": "df184968-b546-41a7-a3c9-06bd5ca73ee9",
   "metadata": {},
   "outputs": [],
   "source": []
  },
  {
   "cell_type": "code",
   "execution_count": null,
   "id": "7b512a9e-1a46-4982-9a2d-43ce6d5a7abf",
   "metadata": {},
   "outputs": [],
   "source": []
  },
  {
   "cell_type": "markdown",
   "id": "9a1355e3-3337-44a7-84b0-c7eb924dc128",
   "metadata": {},
   "source": [
    "------------------------\n",
    "# Test"
   ]
  },
  {
   "cell_type": "code",
   "execution_count": null,
   "id": "e85e2ba7-c02c-457b-9aec-640040a7b026",
   "metadata": {},
   "outputs": [],
   "source": [
    "test_top_k(model_data, f\"{dataset_dir}/random-test\", 3, print_preds=False)\n",
    "test_top_k(model_data, f\"{dataset_dir}/random-test\", 5, print_preds=False, print_top1_accuracy=False)\n",
    "test_top_k(model_data, f\"{dataset_dir}/random-test\", 10, print_preds=False, print_top1_accuracy=False)"
   ]
  },
  {
   "cell_type": "code",
   "execution_count": null,
   "id": "c0c274c7-faf0-495f-9028-4864af3e54f9",
   "metadata": {},
   "outputs": [],
   "source": [
    "test_top_k(model_data, f\"{dataset_dir}/my-test\", 3, print_preds=True)"
   ]
  },
  {
   "cell_type": "code",
   "execution_count": null,
   "id": "d239a1b4-03dc-446d-821c-52a025f3baad",
   "metadata": {},
   "outputs": [],
   "source": []
  },
  {
   "cell_type": "code",
   "execution_count": null,
   "id": "09b89cf3-be62-4ca9-bf24-ab9e958d23db",
   "metadata": {},
   "outputs": [],
   "source": []
  },
  {
   "cell_type": "code",
   "execution_count": null,
   "id": "b828e9e6-8a20-4566-8691-67f0ecc7f47e",
   "metadata": {},
   "outputs": [],
   "source": []
  },
  {
   "cell_type": "code",
   "execution_count": null,
   "id": "1b7501ad-23d1-46c1-82c5-5298c508888e",
   "metadata": {},
   "outputs": [],
   "source": []
  },
  {
   "cell_type": "code",
   "execution_count": null,
   "id": "c74f0abc-edf8-47b6-affc-6295358ffb0b",
   "metadata": {},
   "outputs": [],
   "source": []
  }
 ],
 "metadata": {
  "kernelspec": {
   "display_name": "Python 3 (ipykernel)",
   "language": "python",
   "name": "python3"
  },
  "language_info": {
   "codemirror_mode": {
    "name": "ipython",
    "version": 3
   },
   "file_extension": ".py",
   "mimetype": "text/x-python",
   "name": "python",
   "nbconvert_exporter": "python",
   "pygments_lexer": "ipython3",
   "version": "3.12.9"
  }
 },
 "nbformat": 4,
 "nbformat_minor": 5
}
