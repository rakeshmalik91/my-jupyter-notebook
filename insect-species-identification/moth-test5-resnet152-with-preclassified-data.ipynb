{
 "cells": [
  {
   "cell_type": "markdown",
   "id": "0b4f77bd-bce9-42d6-9a83-dd51a1243fd0",
   "metadata": {},
   "source": [
    "> 1. Rescraped all mothsofindia data with adult and early stage preclassified\n",
    "> 2. Stop training when val acc not improving\n",
    "> 3. Use incremental training data augmentation (random flip/jitter/crop/rotation) based on val loss/acc\n",
    "> 4. Compare resnet-152 vs resnet-50"
   ]
  },
  {
   "cell_type": "code",
   "execution_count": 1,
   "id": "e95d402e-09e9-47f3-9079-a2d37f13bd9c",
   "metadata": {},
   "outputs": [],
   "source": [
    "%load_ext autoreload"
   ]
  },
  {
   "cell_type": "code",
   "execution_count": 2,
   "id": "2461347b-7041-43d8-b04f-c533303cf807",
   "metadata": {},
   "outputs": [],
   "source": [
    "%autoreload 2"
   ]
  },
  {
   "cell_type": "code",
   "execution_count": 3,
   "id": "0af8e12f-a06f-493b-98b5-a4fd4f294c26",
   "metadata": {},
   "outputs": [],
   "source": [
    "import mynnlib\n",
    "from mynnlib import *\n",
    "\n",
    "dataset_dir = \"insect-dataset/moth\""
   ]
  },
  {
   "cell_type": "code",
   "execution_count": 4,
   "id": "1aea556a-4412-48b6-a7b5-c3477a330939",
   "metadata": {},
   "outputs": [
    {
     "name": "stdout",
     "output_type": "stream",
     "text": [
      "Adult class count: 3060\n",
      "Early class count: 304\n"
     ]
    }
   ],
   "source": [
    "adult_class_cnt = 0\n",
    "early_class_cnt = 0\n",
    "for species_dir in Path(f\"{dataset_dir}/data\").iterdir():\n",
    "    if species_dir.is_dir() and species_dir.name.endswith('-early'):\n",
    "        early_class_cnt += 1\n",
    "    else:\n",
    "        adult_class_cnt += 1\n",
    "print(f\"Adult class count: {adult_class_cnt}\")\n",
    "print(f\"Early class count: {early_class_cnt}\")"
   ]
  },
  {
   "cell_type": "markdown",
   "id": "7ea8a510-8d9c-4a10-963b-743be8942864",
   "metadata": {},
   "source": [
    "------------\n",
    "# Older best model test result"
   ]
  },
  {
   "cell_type": "code",
   "execution_count": 5,
   "id": "e19f5eb0-1fb4-4605-b2a1-223b4ce2252d",
   "metadata": {},
   "outputs": [
    {
     "name": "stdout",
     "output_type": "stream",
     "text": [
      "Top   1 accuracy: 101/152 -> 66.45%, genus matched: 116/152 -> 76.32%\n",
      "Top   3 accuracy: 120/152 -> 78.95%, genus matched: 134/152 -> 88.16%\n",
      "Top   5 accuracy: 129/152 -> 84.87%, genus matched: 138/152 -> 90.79%\n",
      "Top  10 accuracy: 133/152 -> 87.50%, genus matched: 140/152 -> 92.11%\n"
     ]
    }
   ],
   "source": [
    "model_data = torch.load(f\"{dataset_dir}/checkpoint.2025.01.28.resnet152.mothsofindia.raw.25x70%+10x100%.pth\", weights_only=False)\n",
    "test_top_k(model_data, f\"{dataset_dir}/random-test\", 3, print_preds=False, print_top1_accuracy=True)\n",
    "test_top_k(model_data, f\"{dataset_dir}/random-test\", 5, print_preds=False, print_top1_accuracy=False)\n",
    "test_top_k(model_data, f\"{dataset_dir}/random-test\", 10, print_preds=False, print_top1_accuracy=False)"
   ]
  },
  {
   "cell_type": "markdown",
   "id": "7da72e96-d0c0-4753-b69c-e14007b7f1c2",
   "metadata": {},
   "source": [
    "-------------------\n",
    "# A.1. Subset of data / RESNET-152"
   ]
  },
  {
   "cell_type": "code",
   "execution_count": 13,
   "id": "77acbbb2-6ead-41d0-9913-5cb6a0482492",
   "metadata": {},
   "outputs": [
    {
     "name": "stdout",
     "output_type": "stream",
     "text": [
      "Class count: 563\n",
      "Total data count: 7462\n",
      "Training data count: 5316\n",
      "Validation data count: 1432\n",
      "Test data count: 714\n"
     ]
    }
   ],
   "source": [
    "split_data_for_train_and_val(f\"{dataset_dir}/data\", \n",
    "                             f\"{dataset_dir}/splits/test\", f\"{dataset_dir}/splits/val\", f\"{dataset_dir}/splits/train\", \n",
    "                             test_data_weight=0.1, val_data_weight=0.2, min_file_cnt_for_val=4, \n",
    "                             class_name_filter_regex=r\"^[a-b].*$\")"
   ]
  },
  {
   "cell_type": "code",
   "execution_count": 14,
   "id": "2e9e470a-fee1-4752-a443-421cef21572c",
   "metadata": {},
   "outputs": [
    {
     "name": "stdout",
     "output_type": "stream",
     "text": [
      "train class count: 562\n",
      "val class count: 338\n",
      "feature count: 2048\n",
      "device: cuda:0\n"
     ]
    }
   ],
   "source": [
    "model_data = init_model_for_training(f'{dataset_dir}/splits/train', f'{dataset_dir}/splits/val', \n",
    "                                     batch_size=32, arch=\"resnet152\", image_size=224, robustness=0.2)"
   ]
  },
  {
   "cell_type": "code",
   "execution_count": 15,
   "id": "88f09f44-8957-49aa-9eaa-61e2344489bd",
   "metadata": {},
   "outputs": [
    {
     "name": "stdout",
     "output_type": "stream",
     "text": [
      "Epoch    1 /    5  | Train Loss: 4.9768 Acc: 0.1597  | Val Loss: 4.0166 Acc: 0.2491  | Elapsed time: 0:01:29.476975\n",
      "Epoch    2 /    5  | Train Loss: 2.9961 Acc: 0.3751  | Val Loss: 2.5786 Acc: 0.4367  | Elapsed time: 0:03:02.378254\n",
      "Epoch    3 /    5  | Train Loss: 1.7350 Acc: 0.5730  | Val Loss: 2.2609 Acc: 0.4913  | Elapsed time: 0:04:35.874849\n",
      "Epoch    4 /    5  | Train Loss: 0.9903 Acc: 0.7314  | Val Loss: 1.9076 Acc: 0.5773  | Elapsed time: 0:06:11.255499\n",
      "Epoch    5 /    5  | Train Loss: 0.5720 Acc: 0.8431  | Val Loss: 2.0063 Acc: 0.6004  | Elapsed time: 0:07:46.011206\n"
     ]
    }
   ],
   "source": [
    "train(model_data, 5, f\"{dataset_dir}/checkpoint.moth.subset.resnet152.pth\", break_at_val_acc_diff=0.05)"
   ]
  },
  {
   "cell_type": "code",
   "execution_count": 16,
   "id": "2002cd95-4835-412d-8f03-fba12caa9b78",
   "metadata": {},
   "outputs": [
    {
     "name": "stdout",
     "output_type": "stream",
     "text": [
      "train class count: 562\n",
      "val class count: 338\n",
      "0 new classes added: []\n",
      "feature count: 2048\n",
      "device: cuda:0\n"
     ]
    }
   ],
   "source": [
    "model_data = prepare_for_retraining(model_data, f'{dataset_dir}/splits/train', f'{dataset_dir}/splits/val', \n",
    "                                    batch_size=32, image_size=224, robustness=0.5)"
   ]
  },
  {
   "cell_type": "code",
   "execution_count": 17,
   "id": "5c0e29eb-ae33-4ddd-b747-6f8e8749e5df",
   "metadata": {},
   "outputs": [
    {
     "name": "stdout",
     "output_type": "stream",
     "text": [
      "Epoch    1 /    5  | Train Loss: 1.8550 Acc: 0.5476  | Val Loss: 2.0817 Acc: 0.5409  | Elapsed time: 0:01:37.310603\n",
      "Epoch    2 /    5  | Train Loss: 1.3617 Acc: 0.6567  | Val Loss: 2.1331 Acc: 0.5346  | Elapsed time: 0:03:17.067274\n"
     ]
    }
   ],
   "source": [
    "train(model_data, 5, f\"{dataset_dir}/checkpoint.moth.subset.resnet152.pth\", break_at_val_acc_diff=0.05)"
   ]
  },
  {
   "cell_type": "code",
   "execution_count": 18,
   "id": "64a7b675-6288-4c5d-bc2c-188da36dd17b",
   "metadata": {},
   "outputs": [
    {
     "name": "stdout",
     "output_type": "stream",
     "text": [
      "train class count: 562\n",
      "val class count: 338\n",
      "0 new classes added: []\n",
      "feature count: 2048\n",
      "device: cuda:0\n"
     ]
    }
   ],
   "source": [
    "model_data = prepare_for_retraining(model_data, f'{dataset_dir}/splits/train', f'{dataset_dir}/splits/val', \n",
    "                                    batch_size=32, image_size=224, robustness=1.0)"
   ]
  },
  {
   "cell_type": "code",
   "execution_count": 19,
   "id": "2af96155-4d0f-4d04-80af-b9d451c1b224",
   "metadata": {},
   "outputs": [
    {
     "name": "stdout",
     "output_type": "stream",
     "text": [
      "Epoch    1 /    5  | Train Loss: 1.0073 Acc: 0.7504  | Val Loss: 1.6719 Acc: 0.6312  | Elapsed time: 0:01:34.806586\n",
      "Epoch    2 /    5  | Train Loss: 0.8469 Acc: 0.7884  | Val Loss: 1.6418 Acc: 0.6445  | Elapsed time: 0:03:13.180104\n"
     ]
    }
   ],
   "source": [
    "train(model_data, 5, f\"{dataset_dir}/checkpoint.moth.subset.resnet152.pth\", break_at_val_acc_diff=0.02)"
   ]
  },
  {
   "cell_type": "code",
   "execution_count": 20,
   "id": "e8e60206-cff2-4805-ab2a-4501fa716916",
   "metadata": {},
   "outputs": [
    {
     "name": "stdout",
     "output_type": "stream",
     "text": [
      "train class count: 562\n",
      "val class count: 338\n",
      "0 new classes added: []\n",
      "feature count: 2048\n",
      "device: cuda:0\n"
     ]
    }
   ],
   "source": [
    "model_data = prepare_for_retraining(model_data, f'{dataset_dir}/splits/train', f'{dataset_dir}/splits/val', \n",
    "                                    batch_size=32, image_size=224, robustness=2.0)"
   ]
  },
  {
   "cell_type": "code",
   "execution_count": 21,
   "id": "e3e7fe07-b769-49b8-bbe3-0d0897d59c0c",
   "metadata": {},
   "outputs": [
    {
     "name": "stdout",
     "output_type": "stream",
     "text": [
      "Epoch    1 /    5  | Train Loss: 0.9584 Acc: 0.7547  | Val Loss: 1.5644 Acc: 0.6557  | Elapsed time: 0:01:37.917885\n",
      "Epoch    2 /    5  | Train Loss: 0.8952 Acc: 0.7688  | Val Loss: 1.5491 Acc: 0.6550  | Elapsed time: 0:03:17.831415\n"
     ]
    }
   ],
   "source": [
    "train(model_data, 5, f\"{dataset_dir}/checkpoint.moth.subset.resnet152.pth\", break_at_val_acc_diff=0.01)"
   ]
  },
  {
   "cell_type": "code",
   "execution_count": null,
   "id": "db3cc05a-d129-44f2-9ef5-f320a88dccf7",
   "metadata": {},
   "outputs": [],
   "source": []
  },
  {
   "cell_type": "code",
   "execution_count": null,
   "id": "6aea9dc5-2c39-403b-a7fb-a15d5674f543",
   "metadata": {},
   "outputs": [],
   "source": []
  },
  {
   "cell_type": "code",
   "execution_count": null,
   "id": "81d912ff-455c-4dcc-912e-9a0312b7e214",
   "metadata": {},
   "outputs": [],
   "source": []
  },
  {
   "cell_type": "code",
   "execution_count": null,
   "id": "d89c23ed-aab6-48d2-8e4e-9387d51b0d12",
   "metadata": {},
   "outputs": [],
   "source": []
  },
  {
   "cell_type": "code",
   "execution_count": null,
   "id": "6138f7cc-f419-41f5-bf97-5f98515d5dd3",
   "metadata": {},
   "outputs": [],
   "source": []
  },
  {
   "cell_type": "markdown",
   "id": "a49d5ba2-d583-46e3-8a78-851cd65e1862",
   "metadata": {},
   "source": [
    "-------------------\n",
    "# A.2. Subset of data / RESNET-50"
   ]
  },
  {
   "cell_type": "code",
   "execution_count": null,
   "id": "2e87b97a-b461-4126-b7e7-90c973a55294",
   "metadata": {},
   "outputs": [],
   "source": [
    "split_data_for_train_and_val(f\"{dataset_dir}/data\", \n",
    "                             f\"{dataset_dir}/splits/test\", f\"{dataset_dir}/splits/val\", f\"{dataset_dir}/splits/train\", \n",
    "                             test_data_weight=0.1, val_data_weight=0.2, min_file_cnt_for_val=4, \n",
    "                             class_name_filter_regex=r\"^[a-b].*$\")"
   ]
  },
  {
   "cell_type": "code",
   "execution_count": 22,
   "id": "224eb3d3-2fcc-4d1a-b62f-f4783430efb5",
   "metadata": {},
   "outputs": [
    {
     "name": "stdout",
     "output_type": "stream",
     "text": [
      "train class count: 562\n",
      "val class count: 338\n",
      "feature count: 2048\n",
      "device: cuda:0\n"
     ]
    }
   ],
   "source": [
    "model_data = init_model_for_training(f'{dataset_dir}/splits/train', f'{dataset_dir}/splits/val', \n",
    "                                     batch_size=32, arch=\"resnet50\", image_size=224, robustness=0.2)"
   ]
  },
  {
   "cell_type": "code",
   "execution_count": 23,
   "id": "12211510-ed4b-4bb6-abf5-454cff55a799",
   "metadata": {
    "scrolled": true
   },
   "outputs": [
    {
     "name": "stdout",
     "output_type": "stream",
     "text": [
      "Epoch    1 /    5  | Train Loss: 4.8470 Acc: 0.1810  | Val Loss: 3.7415 Acc: 0.3037  | Elapsed time: 0:01:03.664671\n",
      "Epoch    2 /    5  | Train Loss: 2.5913 Acc: 0.4434  | Val Loss: 3.4489 Acc: 0.3135  | Elapsed time: 0:02:09.849688\n"
     ]
    }
   ],
   "source": [
    "train(model_data, 5, f\"{dataset_dir}/checkpoint.moth.subset.resnet50.pth\", break_at_val_acc_diff=0.05)"
   ]
  },
  {
   "cell_type": "code",
   "execution_count": 24,
   "id": "64d2573d-b1f4-4dbf-82cf-3d999ad98953",
   "metadata": {},
   "outputs": [
    {
     "name": "stdout",
     "output_type": "stream",
     "text": [
      "train class count: 562\n",
      "val class count: 338\n",
      "0 new classes added: []\n",
      "feature count: 2048\n",
      "device: cuda:0\n"
     ]
    }
   ],
   "source": [
    "model_data = prepare_for_retraining(model_data, f'{dataset_dir}/splits/train', f'{dataset_dir}/splits/val', \n",
    "                                    batch_size=32, image_size=224, robustness=0.5)"
   ]
  },
  {
   "cell_type": "code",
   "execution_count": 25,
   "id": "2187386f-afe8-4947-8af6-e317f4bff76b",
   "metadata": {},
   "outputs": [
    {
     "name": "stdout",
     "output_type": "stream",
     "text": [
      "Epoch    1 /    5  | Train Loss: 2.5383 Acc: 0.4359  | Val Loss: 2.8731 Acc: 0.3961  | Elapsed time: 0:01:06.370756\n",
      "Epoch    2 /    5  | Train Loss: 2.1050 Acc: 0.5211  | Val Loss: 2.3647 Acc: 0.4633  | Elapsed time: 0:02:14.084290\n",
      "Epoch    3 /    5  | Train Loss: 1.8672 Acc: 0.5690  | Val Loss: 2.4005 Acc: 0.4920  | Elapsed time: 0:03:21.361272\n"
     ]
    }
   ],
   "source": [
    "train(model_data, 5, f\"{dataset_dir}/checkpoint.moth.subset.resnet50.pth\", break_at_val_acc_diff=0.05)"
   ]
  },
  {
   "cell_type": "code",
   "execution_count": 26,
   "id": "ef9320b7-a2ad-49e5-aaf1-c40a2a0f83b6",
   "metadata": {},
   "outputs": [
    {
     "name": "stdout",
     "output_type": "stream",
     "text": [
      "train class count: 562\n",
      "val class count: 338\n",
      "0 new classes added: []\n",
      "feature count: 2048\n",
      "device: cuda:0\n"
     ]
    }
   ],
   "source": [
    "model_data = prepare_for_retraining(model_data, f'{dataset_dir}/splits/train', f'{dataset_dir}/splits/val', \n",
    "                                    batch_size=32, image_size=224, robustness=1.0)"
   ]
  },
  {
   "cell_type": "code",
   "execution_count": 27,
   "id": "e307ed64-4db9-40e6-a24d-3e6fb5939ef7",
   "metadata": {},
   "outputs": [
    {
     "name": "stdout",
     "output_type": "stream",
     "text": [
      "Epoch    1 /    5  | Train Loss: 1.7735 Acc: 0.5820  | Val Loss: 2.2034 Acc: 0.5115  | Elapsed time: 0:01:05.048174\n",
      "Epoch    2 /    5  | Train Loss: 1.6616 Acc: 0.6072  | Val Loss: 1.9613 Acc: 0.5626  | Elapsed time: 0:02:11.802270\n",
      "Epoch    3 /    5  | Train Loss: 1.2905 Acc: 0.6906  | Val Loss: 1.6487 Acc: 0.6333  | Elapsed time: 0:03:18.619823\n",
      "Epoch    4 /    5  | Train Loss: 1.1620 Acc: 0.7233  | Val Loss: 1.6278 Acc: 0.6382  | Elapsed time: 0:04:25.413536\n"
     ]
    }
   ],
   "source": [
    "train(model_data, 5, f\"{dataset_dir}/checkpoint.moth.subset.resnet50.pth\", break_at_val_acc_diff=0.02)"
   ]
  },
  {
   "cell_type": "code",
   "execution_count": 28,
   "id": "f279f484-e5d8-438b-a410-4178de95ec54",
   "metadata": {},
   "outputs": [
    {
     "name": "stdout",
     "output_type": "stream",
     "text": [
      "train class count: 562\n",
      "val class count: 338\n",
      "0 new classes added: []\n",
      "feature count: 2048\n",
      "device: cuda:0\n"
     ]
    }
   ],
   "source": [
    "model_data = prepare_for_retraining(model_data, f'{dataset_dir}/splits/train', f'{dataset_dir}/splits/val', \n",
    "                                    batch_size=32, image_size=224, robustness=2.0)"
   ]
  },
  {
   "cell_type": "code",
   "execution_count": 29,
   "id": "55915c64-a640-462f-8179-dfc41516ee93",
   "metadata": {},
   "outputs": [
    {
     "name": "stdout",
     "output_type": "stream",
     "text": [
      "Epoch    1 /    5  | Train Loss: 1.2651 Acc: 0.6996  | Val Loss: 1.6203 Acc: 0.6508  | Elapsed time: 0:01:06.696871\n",
      "Epoch    2 /    5  | Train Loss: 1.1380 Acc: 0.7289  | Val Loss: 1.6567 Acc: 0.6480  | Elapsed time: 0:02:13.532850\n"
     ]
    }
   ],
   "source": [
    "train(model_data, 5, f\"{dataset_dir}/checkpoint.moth.subset.resnet50.pth\", break_at_val_acc_diff=0.01)"
   ]
  },
  {
   "cell_type": "code",
   "execution_count": 5,
   "id": "034ad690-3e5b-49bd-9f04-7dbe6086e090",
   "metadata": {},
   "outputs": [],
   "source": [
    "model_data = torch.load(f\"{dataset_dir}/checkpoint.moth.subset.resnet50.pth\", weights_only=False)"
   ]
  },
  {
   "cell_type": "code",
   "execution_count": 6,
   "id": "1a9ecf10-7bce-45db-b5f1-dcb287757763",
   "metadata": {},
   "outputs": [
    {
     "name": "stdout",
     "output_type": "stream",
     "text": [
      "Epoch    1 /    5  | Train Loss: 1.0920 Acc: 0.7389  | Val Loss: 1.5884 Acc: 0.6613  | Elapsed time: 0:01:05.241559\n",
      "Epoch    2 /    5  | Train Loss: 1.0638 Acc: 0.7479  | Val Loss: 1.6001 Acc: 0.6641  | Elapsed time: 0:02:10.892381\n"
     ]
    }
   ],
   "source": [
    "train(model_data, 5, f\"{dataset_dir}/checkpoint.moth.subset.resnet50.pth\", break_at_val_acc_diff=0.01)"
   ]
  },
  {
   "cell_type": "code",
   "execution_count": 7,
   "id": "4e14c764-820c-4086-811d-3dd285dc08f6",
   "metadata": {},
   "outputs": [
    {
     "name": "stdout",
     "output_type": "stream",
     "text": [
      "Epoch    1 /    5  | Train Loss: 1.0614 Acc: 0.7472  | Val Loss: 1.5473 Acc: 0.6690  | Elapsed time: 0:01:05.373823\n",
      "Epoch    2 /    5  | Train Loss: 0.9963 Acc: 0.7611  | Val Loss: 1.5577 Acc: 0.6627  | Elapsed time: 0:02:14.917107\n"
     ]
    }
   ],
   "source": [
    "train(model_data, 5, f\"{dataset_dir}/checkpoint.moth.subset.resnet50.pth\", break_at_val_acc_diff=0.005)"
   ]
  },
  {
   "cell_type": "code",
   "execution_count": null,
   "id": "8f1ddaf9-6ddd-4a8e-a315-b165aa8c49f3",
   "metadata": {},
   "outputs": [],
   "source": []
  },
  {
   "cell_type": "code",
   "execution_count": null,
   "id": "705ed13f-f75b-4805-84bc-19c3aad9839a",
   "metadata": {},
   "outputs": [],
   "source": []
  },
  {
   "cell_type": "code",
   "execution_count": null,
   "id": "d1c20aa7-c6d5-491f-8ce9-ae1358846d0a",
   "metadata": {},
   "outputs": [],
   "source": []
  },
  {
   "cell_type": "code",
   "execution_count": null,
   "id": "1f1a67a1-7b70-4bfc-84e8-e7fce51c9110",
   "metadata": {},
   "outputs": [],
   "source": []
  },
  {
   "cell_type": "code",
   "execution_count": null,
   "id": "46d9ff0b-ded5-447e-bcf9-7309a87be082",
   "metadata": {},
   "outputs": [],
   "source": []
  },
  {
   "cell_type": "markdown",
   "id": "c07d4fbe-a957-4712-99c4-e968fb040392",
   "metadata": {},
   "source": [
    "-------------------\n",
    "# B.1. All data / RESNET-152"
   ]
  },
  {
   "cell_type": "code",
   "execution_count": 5,
   "id": "a67a1cbb-0935-4c12-a04d-38bf98166447",
   "metadata": {},
   "outputs": [
    {
     "name": "stdout",
     "output_type": "stream",
     "text": [
      "train class count: 3364\n",
      "val class count: 77\n",
      "feature count: 2048\n",
      "device: cuda:0\n"
     ]
    }
   ],
   "source": [
    "model_data = init_model_for_training(f'{dataset_dir}/data', f'{dataset_dir}/val', batch_size=32, arch=\"resnet152\", image_size=224, robustness=0.2)"
   ]
  },
  {
   "cell_type": "code",
   "execution_count": 6,
   "id": "5378e746-74c7-45e7-9fcb-4b74f3a55d3a",
   "metadata": {},
   "outputs": [
    {
     "name": "stdout",
     "output_type": "stream",
     "text": [
      "Epoch    1 /    2  | Train Loss: 7.2551 Acc: 0.0159  | Val Loss: 7.2020 Acc: 0.0000  | Elapsed time: 0:11:52.671395\n",
      "Epoch    2 /    2  | Train Loss: 5.8480 Acc: 0.0958  | Val Loss: 6.0298 Acc: 0.1019  | Elapsed time: 0:23:39.239393\n"
     ]
    }
   ],
   "source": [
    "train(model_data, 2, f\"{dataset_dir}/checkpoint.moth.all.pth\")"
   ]
  },
  {
   "cell_type": "code",
   "execution_count": 7,
   "id": "0be54976-307e-4f58-8953-81c97250328d",
   "metadata": {},
   "outputs": [
    {
     "name": "stdout",
     "output_type": "stream",
     "text": [
      "Epoch    1 /    8  | Train Loss: 3.9186 Acc: 0.2953  | Val Loss: 5.1269 Acc: 0.1529  | Elapsed time: 0:11:42.638736\n",
      "Epoch    2 /    8  | Train Loss: 2.3980 Acc: 0.4946  | Val Loss: 4.3604 Acc: 0.2038  | Elapsed time: 0:23:43.985563\n",
      "Epoch    3 /    8  | Train Loss: 1.5703 Acc: 0.6352  | Val Loss: 4.3406 Acc: 0.1911  | Elapsed time: 0:35:33.907545\n"
     ]
    }
   ],
   "source": [
    "train(model_data, 8, f\"{dataset_dir}/checkpoint.moth.all.pth\", break_at_val_acc_diff=0.05)"
   ]
  },
  {
   "cell_type": "code",
   "execution_count": 8,
   "id": "d26dc0fb-1ee0-4201-8908-4814b3968268",
   "metadata": {},
   "outputs": [
    {
     "name": "stdout",
     "output_type": "stream",
     "text": [
      "train class count: 3364\n",
      "val class count: 77\n",
      "0 new classes added: []\n",
      "feature count: 2048\n",
      "device: cuda:0\n"
     ]
    }
   ],
   "source": [
    "model_data = prepare_for_retraining(model_data, f'{dataset_dir}/data', f'{dataset_dir}/val', \n",
    "                                    batch_size=32, image_size=224, robustness=0.5)"
   ]
  },
  {
   "cell_type": "code",
   "execution_count": 9,
   "id": "9199a5b2-38bb-4054-9af2-184ea2b59651",
   "metadata": {},
   "outputs": [
    {
     "name": "stdout",
     "output_type": "stream",
     "text": [
      "Epoch    1 /    3  | Train Loss: 4.0943 Acc: 0.2233  | Val Loss: 4.5808 Acc: 0.2166  | Elapsed time: 0:12:00.497177\n",
      "Epoch    2 /    3  | Train Loss: 3.6330 Acc: 0.2838  | Val Loss: 4.2664 Acc: 0.2803  | Elapsed time: 0:24:23.325251\n",
      "Epoch    3 /    3  | Train Loss: 3.1738 Acc: 0.3500  | Val Loss: 4.0287 Acc: 0.2866  | Elapsed time: 0:36:43.906610\n"
     ]
    }
   ],
   "source": [
    "train(model_data, 3, f\"{dataset_dir}/checkpoint.moth.all.pth\", break_at_val_acc_diff=0.05)"
   ]
  },
  {
   "cell_type": "code",
   "execution_count": 10,
   "id": "2d1605bb-e023-465f-8405-775fabb72faf",
   "metadata": {},
   "outputs": [
    {
     "name": "stdout",
     "output_type": "stream",
     "text": [
      "train class count: 3364\n",
      "val class count: 77\n",
      "0 new classes added: []\n",
      "feature count: 2048\n",
      "device: cuda:0\n"
     ]
    }
   ],
   "source": [
    "model_data = prepare_for_retraining(model_data, f'{dataset_dir}/data', f'{dataset_dir}/val', \n",
    "                                    batch_size=32, image_size=224, robustness=1.0)"
   ]
  },
  {
   "cell_type": "code",
   "execution_count": 11,
   "id": "c8f29118-6097-4c68-b898-5de94e94c8ca",
   "metadata": {},
   "outputs": [
    {
     "name": "stdout",
     "output_type": "stream",
     "text": [
      "Epoch    1 /    3  | Train Loss: 3.1796 Acc: 0.3524  | Val Loss: 4.0977 Acc: 0.2611  | Elapsed time: 0:12:01.241858\n",
      "Epoch    2 /    3  | Train Loss: 3.0767 Acc: 0.3718  | Val Loss: 3.9524 Acc: 0.3121  | Elapsed time: 0:24:18.471353\n",
      "Epoch    3 /    3  | Train Loss: 3.0169 Acc: 0.3781  | Val Loss: 3.9728 Acc: 0.2994  | Elapsed time: 0:36:33.760276\n"
     ]
    }
   ],
   "source": [
    "train(model_data, 3, f\"{dataset_dir}/checkpoint.moth.all.pth\", break_at_val_acc_diff=0.05)"
   ]
  },
  {
   "cell_type": "code",
   "execution_count": null,
   "id": "81fe81fa-cdf9-4c4f-92e1-818ee8f45ccc",
   "metadata": {},
   "outputs": [],
   "source": [
    "model_data = prepare_for_retraining(model_data, f'{dataset_dir}/data', f'{dataset_dir}/val', \n",
    "                                    batch_size=32, image_size=224, robustness=2.0)"
   ]
  },
  {
   "cell_type": "code",
   "execution_count": null,
   "id": "86c3f561-f691-41d6-8e22-527aca9951a3",
   "metadata": {},
   "outputs": [],
   "source": [
    "train(model_data, 3, f\"{dataset_dir}/checkpoint.moth.all.pth\", break_at_val_acc_diff=0.05)"
   ]
  },
  {
   "cell_type": "code",
   "execution_count": null,
   "id": "cd87c065-6696-4687-aeaf-54a0ff84fc73",
   "metadata": {},
   "outputs": [],
   "source": []
  },
  {
   "cell_type": "code",
   "execution_count": null,
   "id": "02a95669-c969-452d-8b18-280252fee767",
   "metadata": {},
   "outputs": [],
   "source": []
  },
  {
   "cell_type": "code",
   "execution_count": null,
   "id": "896f29ba-3ac5-478b-8f3a-218c1509ce21",
   "metadata": {},
   "outputs": [],
   "source": []
  },
  {
   "cell_type": "code",
   "execution_count": null,
   "id": "df184968-b546-41a7-a3c9-06bd5ca73ee9",
   "metadata": {},
   "outputs": [],
   "source": []
  },
  {
   "cell_type": "markdown",
   "id": "94412114-20ca-4ef1-93d6-5deda57ae5a7",
   "metadata": {},
   "source": [
    "-------------------\n",
    "# B.2. All data / RESNET-50"
   ]
  },
  {
   "cell_type": "code",
   "execution_count": 8,
   "id": "513332ef-1aa8-4aea-aad2-130d90a775ef",
   "metadata": {},
   "outputs": [
    {
     "name": "stdout",
     "output_type": "stream",
     "text": [
      "train class count: 3364\n",
      "val class count: 77\n",
      "feature count: 2048\n",
      "device: cuda:0\n"
     ]
    }
   ],
   "source": [
    "model_data = init_model_for_training(f'{dataset_dir}/data', f'{dataset_dir}/val', batch_size=32, arch=\"resnet50\", image_size=224, robustness=0.2)"
   ]
  },
  {
   "cell_type": "code",
   "execution_count": 9,
   "id": "8cf43ff1-f77d-4aa0-97a7-fed3ad85d18c",
   "metadata": {},
   "outputs": [
    {
     "name": "stdout",
     "output_type": "stream",
     "text": [
      "Epoch    1 /    5  | Train Loss: 6.2677 Acc: 0.0863  | Val Loss: 5.4708 Acc: 0.0955  | Elapsed time: 0:07:42.284758\n",
      "Epoch    2 /    5  | Train Loss: 3.8290 Acc: 0.2928  | Val Loss: 3.7242 Acc: 0.3057  | Elapsed time: 0:15:49.543558\n",
      "Epoch    3 /    5  | Train Loss: 2.1800 Acc: 0.5179  | Val Loss: 3.4832 Acc: 0.3631  | Elapsed time: 0:23:36.841112\n",
      "Epoch    4 /    5  | Train Loss: 1.2167 Acc: 0.7005  | Val Loss: 3.5489 Acc: 0.3503  | Elapsed time: 0:31:20.105807\n"
     ]
    }
   ],
   "source": [
    "train(model_data, 5, f\"{dataset_dir}/checkpoint.moth.all.resnet50.pth\", break_at_val_acc_diff=0.05)"
   ]
  },
  {
   "cell_type": "code",
   "execution_count": 10,
   "id": "6950a01c-540a-4424-8bda-1e9365749e2d",
   "metadata": {},
   "outputs": [
    {
     "name": "stdout",
     "output_type": "stream",
     "text": [
      "train class count: 3364\n",
      "val class count: 77\n",
      "0 new classes added: []\n",
      "feature count: 2048\n",
      "device: cuda:0\n"
     ]
    }
   ],
   "source": [
    "model_data = prepare_for_retraining(model_data, f'{dataset_dir}/data', f'{dataset_dir}/val', \n",
    "                                    batch_size=32, image_size=224, robustness=0.5)"
   ]
  },
  {
   "cell_type": "code",
   "execution_count": 11,
   "id": "227bf580-eca9-4ad6-8712-ef7da2456f3e",
   "metadata": {},
   "outputs": [
    {
     "name": "stdout",
     "output_type": "stream",
     "text": [
      "Epoch    1 /    5  | Train Loss: 3.0689 Acc: 0.3726  | Val Loss: 3.6250 Acc: 0.3694  | Elapsed time: 0:08:04.857608\n",
      "Epoch    2 /    5  | Train Loss: 2.5841 Acc: 0.4527  | Val Loss: 3.6225 Acc: 0.3758  | Elapsed time: 0:16:14.383217\n"
     ]
    }
   ],
   "source": [
    "train(model_data, 5, f\"{dataset_dir}/checkpoint.moth.all.resnet50.pth\", break_at_val_acc_diff=0.05)"
   ]
  },
  {
   "cell_type": "code",
   "execution_count": 12,
   "id": "3b33a5f6-9b4d-4841-b237-cebe39ae4693",
   "metadata": {},
   "outputs": [
    {
     "name": "stdout",
     "output_type": "stream",
     "text": [
      "train class count: 3364\n",
      "val class count: 77\n",
      "0 new classes added: []\n",
      "feature count: 2048\n",
      "device: cuda:0\n"
     ]
    }
   ],
   "source": [
    "model_data = prepare_for_retraining(model_data, f'{dataset_dir}/data', f'{dataset_dir}/val', \n",
    "                                    batch_size=32, image_size=224, robustness=1.0)"
   ]
  },
  {
   "cell_type": "code",
   "execution_count": 13,
   "id": "d459bc5c-2647-4dce-96a7-da682f4f3528",
   "metadata": {},
   "outputs": [
    {
     "name": "stdout",
     "output_type": "stream",
     "text": [
      "Epoch    1 /    5  | Train Loss: 2.5059 Acc: 0.4675  | Val Loss: 3.7412 Acc: 0.3758  | Elapsed time: 0:07:59.326741\n",
      "Epoch    2 /    5  | Train Loss: 2.0714 Acc: 0.5473  | Val Loss: 3.4152 Acc: 0.4522  | Elapsed time: 0:16:18.214413\n",
      "Epoch    3 /    5  | Train Loss: 1.9222 Acc: 0.5765  | Val Loss: 3.4045 Acc: 0.4522  | Elapsed time: 0:24:26.618603\n"
     ]
    }
   ],
   "source": [
    "train(model_data, 5, f\"{dataset_dir}/checkpoint.moth.all.resnet50.pth\", break_at_val_acc_diff=0.02)"
   ]
  },
  {
   "cell_type": "code",
   "execution_count": 14,
   "id": "ad27a5c4-cd6f-44a5-a8a5-7b12b56f4f1f",
   "metadata": {},
   "outputs": [
    {
     "name": "stdout",
     "output_type": "stream",
     "text": [
      "train class count: 3364\n",
      "val class count: 77\n",
      "0 new classes added: []\n",
      "feature count: 2048\n",
      "device: cuda:0\n"
     ]
    }
   ],
   "source": [
    "model_data = prepare_for_retraining(model_data, f'{dataset_dir}/data', f'{dataset_dir}/val', \n",
    "                                    batch_size=32, image_size=224, robustness=2.0)"
   ]
  },
  {
   "cell_type": "code",
   "execution_count": 15,
   "id": "930c6171-a708-4dc3-8ede-a24bb26a1bb2",
   "metadata": {},
   "outputs": [
    {
     "name": "stdout",
     "output_type": "stream",
     "text": [
      "Epoch    1 /    5  | Train Loss: 2.1012 Acc: 0.5433  | Val Loss: 3.4946 Acc: 0.4586  | Elapsed time: 0:08:05.222918\n",
      "Epoch    2 /    5  | Train Loss: 2.0074 Acc: 0.5604  | Val Loss: 3.3728 Acc: 0.4076  | Elapsed time: 0:16:12.126195\n"
     ]
    }
   ],
   "source": [
    "train(model_data, 5, f\"{dataset_dir}/checkpoint.moth.all.resnet50.pth\", break_at_val_acc_diff=0.01)"
   ]
  },
  {
   "cell_type": "code",
   "execution_count": null,
   "id": "c2d5d6c9-445a-4d7f-a47d-85166795ea3e",
   "metadata": {},
   "outputs": [],
   "source": []
  },
  {
   "cell_type": "code",
   "execution_count": null,
   "id": "8263ca2b-685c-4e26-9c48-d0ce92a7b376",
   "metadata": {},
   "outputs": [],
   "source": []
  },
  {
   "cell_type": "code",
   "execution_count": null,
   "id": "936e110b-e7f1-4326-a9a9-5b2ee8f1222d",
   "metadata": {},
   "outputs": [],
   "source": []
  },
  {
   "cell_type": "code",
   "execution_count": null,
   "id": "92f5d77b-7baa-48c2-a16f-8fa9af921b86",
   "metadata": {},
   "outputs": [],
   "source": []
  },
  {
   "cell_type": "markdown",
   "id": "4d51477f-0c56-47ea-a450-4953cc44589d",
   "metadata": {},
   "source": [
    "-------------------\n",
    "# B.3. All data / RESNET-101"
   ]
  },
  {
   "cell_type": "code",
   "execution_count": 7,
   "id": "9d99f21f-cbe9-42bc-bb1d-5a18fe8b5d9f",
   "metadata": {},
   "outputs": [
    {
     "name": "stdout",
     "output_type": "stream",
     "text": [
      "train class count: 3364\n",
      "val class count: 77\n",
      "feature count: 2048\n",
      "device: cuda:0\n"
     ]
    }
   ],
   "source": [
    "model_data = init_model_for_training(f'{dataset_dir}/data', f'{dataset_dir}/val', batch_size=32, arch=\"resnet101\", image_size=224, robustness=0.2)"
   ]
  },
  {
   "cell_type": "code",
   "execution_count": 8,
   "id": "6c859a1b-5caa-487e-a6bf-f127da1be87c",
   "metadata": {},
   "outputs": [
    {
     "name": "stdout",
     "output_type": "stream",
     "text": [
      "Epoch    1 /    5  | Train Loss: 6.5646 Acc: 0.0581  | Val Loss: 5.8650 Acc: 0.0701  | Elapsed time: 0:10:07.799175\n",
      "Epoch    2 /    5  | Train Loss: 4.3815 Acc: 0.2238  | Val Loss: 4.1190 Acc: 0.2166  | Elapsed time: 0:19:51.832664\n",
      "Epoch    3 /    5  | Train Loss: 2.7922 Acc: 0.4128  | Val Loss: 3.5310 Acc: 0.2930  | Elapsed time: 0:29:24.888368\n"
     ]
    }
   ],
   "source": [
    "train(model_data, 5, f\"{dataset_dir}/checkpoint.moth.all.resnet101.pth\", break_at_val_acc_diff=0.1)"
   ]
  },
  {
   "cell_type": "code",
   "execution_count": 9,
   "id": "9b308712-4c0d-4cab-ad21-25aa7b0fd821",
   "metadata": {},
   "outputs": [
    {
     "name": "stdout",
     "output_type": "stream",
     "text": [
      "Epoch    1 /    5  | Train Loss: 1.6961 Acc: 0.5996  | Val Loss: 3.3233 Acc: 0.3567  | Elapsed time: 0:09:37.553048\n",
      "Epoch    2 /    5  | Train Loss: 0.9894 Acc: 0.7461  | Val Loss: 3.1645 Acc: 0.4204  | Elapsed time: 0:19:19.723084\n",
      "Epoch    3 /    5  | Train Loss: 0.6054 Acc: 0.8380  | Val Loss: 3.6362 Acc: 0.3822  | Elapsed time: 0:29:03.860096\n"
     ]
    }
   ],
   "source": [
    "train(model_data, 5, f\"{dataset_dir}/checkpoint.moth.all.resnet101.pth\", break_at_val_acc_diff=0.02)"
   ]
  },
  {
   "cell_type": "code",
   "execution_count": 10,
   "id": "1aa684f0-697c-49f5-8021-6ff09f3a1663",
   "metadata": {},
   "outputs": [
    {
     "name": "stdout",
     "output_type": "stream",
     "text": [
      "train class count: 3364\n",
      "val class count: 77\n",
      "0 new classes added: []\n",
      "feature count: 2048\n",
      "device: cuda:0\n"
     ]
    }
   ],
   "source": [
    "model_data = prepare_for_retraining(model_data, f'{dataset_dir}/data', f'{dataset_dir}/val', \n",
    "                                    batch_size=32, image_size=224, robustness=0.5)"
   ]
  },
  {
   "cell_type": "code",
   "execution_count": 11,
   "id": "eae05480-ae51-4879-9065-6beb7a65f888",
   "metadata": {},
   "outputs": [
    {
     "name": "stdout",
     "output_type": "stream",
     "text": [
      "Epoch    1 /    5  | Train Loss: 2.7386 Acc: 0.4242  | Val Loss: 4.0871 Acc: 0.3885  | Elapsed time: 0:10:10.156613\n",
      "Epoch    2 /    5  | Train Loss: 1.9922 Acc: 0.5535  | Val Loss: 3.5272 Acc: 0.4522  | Elapsed time: 0:20:20.213853\n",
      "Epoch    3 /    5  | Train Loss: 1.8260 Acc: 0.5861  | Val Loss: 3.5699 Acc: 0.4586  | Elapsed time: 0:30:32.199546\n"
     ]
    }
   ],
   "source": [
    "train(model_data, 5, f\"{dataset_dir}/checkpoint.moth.all.resnet101.pth\", break_at_val_acc_diff=0.05)"
   ]
  },
  {
   "cell_type": "code",
   "execution_count": 12,
   "id": "77583771-f701-4470-89d6-d87c160a50c1",
   "metadata": {},
   "outputs": [
    {
     "name": "stdout",
     "output_type": "stream",
     "text": [
      "train class count: 3364\n",
      "val class count: 77\n",
      "0 new classes added: []\n",
      "feature count: 2048\n",
      "device: cuda:0\n"
     ]
    }
   ],
   "source": [
    "model_data = prepare_for_retraining(model_data, f'{dataset_dir}/data', f'{dataset_dir}/val', \n",
    "                                    batch_size=32, image_size=224, robustness=1)"
   ]
  },
  {
   "cell_type": "code",
   "execution_count": 13,
   "id": "3a7263a4-bf4a-447c-83c1-826cc252078d",
   "metadata": {},
   "outputs": [
    {
     "name": "stdout",
     "output_type": "stream",
     "text": [
      "Epoch    1 /    5  | Train Loss: 1.8969 Acc: 0.5730  | Val Loss: 3.5339 Acc: 0.4650  | Elapsed time: 0:10:13.936755\n",
      "Epoch    2 /    5  | Train Loss: 1.8057 Acc: 0.5922  | Val Loss: 3.5144 Acc: 0.4650  | Elapsed time: 0:20:28.995722\n"
     ]
    }
   ],
   "source": [
    "train(model_data, 5, f\"{dataset_dir}/checkpoint.moth.all.resnet101.pth\", break_at_val_acc_diff=0.01)"
   ]
  },
  {
   "cell_type": "code",
   "execution_count": 14,
   "id": "fc8aecb8-0e25-4da4-9d73-1797e8fdcac1",
   "metadata": {},
   "outputs": [
    {
     "name": "stdout",
     "output_type": "stream",
     "text": [
      "train class count: 3364\n",
      "val class count: 77\n",
      "0 new classes added: []\n",
      "feature count: 2048\n",
      "device: cuda:0\n"
     ]
    }
   ],
   "source": [
    "model_data = prepare_for_retraining(model_data, f'{dataset_dir}/data', f'{dataset_dir}/val', \n",
    "                                    batch_size=32, image_size=224, robustness=2)"
   ]
  },
  {
   "cell_type": "code",
   "execution_count": 15,
   "id": "a9126178-6f46-4070-8409-079f88d1cebf",
   "metadata": {},
   "outputs": [
    {
     "name": "stdout",
     "output_type": "stream",
     "text": [
      "Epoch    1 /    5  | Train Loss: 2.0457 Acc: 0.5463  | Val Loss: 3.6438 Acc: 0.4841  | Elapsed time: 0:09:56.973981\n",
      "Epoch    2 /    5  | Train Loss: 1.9617 Acc: 0.5617  | Val Loss: 3.7655 Acc: 0.4650  | Elapsed time: 0:19:46.627363\n"
     ]
    }
   ],
   "source": [
    "train(model_data, 5, f\"{dataset_dir}/checkpoint.moth.all.resnet101.pth\", break_at_val_acc_diff=0.005)"
   ]
  },
  {
   "cell_type": "code",
   "execution_count": null,
   "id": "80f9a8b9-cd5c-414c-b122-acf762e2ea8d",
   "metadata": {},
   "outputs": [],
   "source": []
  },
  {
   "cell_type": "code",
   "execution_count": null,
   "id": "7bbf1ee2-58cf-4ab5-a526-ff250fc80214",
   "metadata": {},
   "outputs": [],
   "source": []
  },
  {
   "cell_type": "code",
   "execution_count": null,
   "id": "cbd46b5e-0f94-4c62-91ab-72c5ce5b24e4",
   "metadata": {},
   "outputs": [],
   "source": []
  },
  {
   "cell_type": "code",
   "execution_count": null,
   "id": "0fbfed13-c899-42ee-ae1a-02dada5f2820",
   "metadata": {},
   "outputs": [],
   "source": []
  },
  {
   "cell_type": "code",
   "execution_count": null,
   "id": "09653a17-3750-4a3c-9f77-7cb4f921db00",
   "metadata": {},
   "outputs": [],
   "source": []
  },
  {
   "cell_type": "markdown",
   "id": "f95d19d9-9817-4c76-80d7-32d1011852a3",
   "metadata": {},
   "source": [
    "-------------------\n",
    "# B.4. All data / RESNET-101 / lr=1e-4 / weight_decay=1e-4"
   ]
  },
  {
   "cell_type": "code",
   "execution_count": 6,
   "id": "3acb5223-c231-4ced-956c-cf3dbfd7c02a",
   "metadata": {},
   "outputs": [
    {
     "name": "stdout",
     "output_type": "stream",
     "text": [
      "train class count: 3364\n",
      "val class count: 77\n",
      "feature count: 2048\n",
      "device: cuda:0\n"
     ]
    }
   ],
   "source": [
    "model_data = init_model_for_training(f'{dataset_dir}/data', f'{dataset_dir}/val', \n",
    "                                     batch_size=32, arch=\"resnet101\", image_size=224, robustness=0.2,\n",
    "                                     lr=1e-4, weight_decay=1e-4)"
   ]
  },
  {
   "cell_type": "code",
   "execution_count": 7,
   "id": "6dd3b6ef-0baa-481c-9131-ad4ebc1add86",
   "metadata": {},
   "outputs": [
    {
     "name": "stdout",
     "output_type": "stream",
     "text": [
      "Epoch    1 /   10  | Train Loss: 5.0013 Acc: 0.2588  | Val Loss: 2.4143 Acc: 0.5223  | Elapsed time: 0:09:46.110901\n",
      "Epoch    2 /   10  | Train Loss: 1.3971 Acc: 0.7002  | Val Loss: 1.3305 Acc: 0.7006  | Elapsed time: 0:19:42.796351\n",
      "Epoch    3 /   10  | Train Loss: 0.5226 Acc: 0.8714  | Val Loss: 1.3848 Acc: 0.6879  | Elapsed time: 0:29:49.464276\n"
     ]
    }
   ],
   "source": [
    "train(model_data, 10, f\"{dataset_dir}/checkpoint.moth.all.resnet101.pth\", break_at_val_acc_diff=0.05)"
   ]
  },
  {
   "cell_type": "code",
   "execution_count": 8,
   "id": "d147363a-f7c1-4e92-bec6-f86500e0f530",
   "metadata": {},
   "outputs": [
    {
     "name": "stdout",
     "output_type": "stream",
     "text": [
      "train class count: 3364\n",
      "val class count: 77\n",
      "0 new classes added: []\n",
      "feature count: 2048\n",
      "device: cuda:0\n"
     ]
    }
   ],
   "source": [
    "model_data = prepare_for_retraining(model_data, f'{dataset_dir}/data', f'{dataset_dir}/val', \n",
    "                                    batch_size=32, image_size=224, robustness=0.5)"
   ]
  },
  {
   "cell_type": "code",
   "execution_count": 9,
   "id": "1a4e457e-9ae8-4ff0-9d9a-0c48d83126e2",
   "metadata": {},
   "outputs": [
    {
     "name": "stdout",
     "output_type": "stream",
     "text": [
      "Epoch    1 /   10  | Train Loss: 1.4425 Acc: 0.6791  | Val Loss: 1.5007 Acc: 0.6561  | Elapsed time: 0:10:24.610263\n",
      "Epoch    2 /   10  | Train Loss: 1.1326 Acc: 0.7440  | Val Loss: 1.4989 Acc: 0.6688  | Elapsed time: 0:20:48.724198\n"
     ]
    }
   ],
   "source": [
    "train(model_data, 10, f\"{dataset_dir}/checkpoint.moth.all.resnet101.pth\", break_at_val_acc_diff=0.02)"
   ]
  },
  {
   "cell_type": "code",
   "execution_count": 10,
   "id": "ca34eba4-2e0f-49a4-a17d-57911984bf35",
   "metadata": {},
   "outputs": [
    {
     "name": "stdout",
     "output_type": "stream",
     "text": [
      "train class count: 3364\n",
      "val class count: 77\n",
      "0 new classes added: []\n",
      "feature count: 2048\n",
      "device: cuda:0\n"
     ]
    }
   ],
   "source": [
    "model_data = prepare_for_retraining(model_data, f'{dataset_dir}/data', f'{dataset_dir}/val', \n",
    "                                    batch_size=32, image_size=224, robustness=1.0)"
   ]
  },
  {
   "cell_type": "code",
   "execution_count": 11,
   "id": "8de04416-c63c-47e9-a1ae-4a2a20fb3c94",
   "metadata": {},
   "outputs": [
    {
     "name": "stdout",
     "output_type": "stream",
     "text": [
      "Epoch    1 /   10  | Train Loss: 1.0751 Acc: 0.7609  | Val Loss: 1.5235 Acc: 0.6688  | Elapsed time: 0:10:29.370202\n",
      "Epoch    2 /   10  | Train Loss: 0.9748 Acc: 0.7783  | Val Loss: 1.4534 Acc: 0.6306  | Elapsed time: 0:21:05.792031\n"
     ]
    }
   ],
   "source": [
    "train(model_data, 10, f\"{dataset_dir}/checkpoint.moth.all.resnet101.pth\", break_at_val_acc_diff=0.01)"
   ]
  },
  {
   "cell_type": "code",
   "execution_count": 12,
   "id": "448a604d-6089-4d96-bd7a-f2c67156249c",
   "metadata": {},
   "outputs": [
    {
     "name": "stdout",
     "output_type": "stream",
     "text": [
      "train class count: 3364\n",
      "val class count: 77\n",
      "0 new classes added: []\n",
      "feature count: 2048\n",
      "device: cuda:0\n"
     ]
    }
   ],
   "source": [
    "model_data = prepare_for_retraining(model_data, f'{dataset_dir}/data', f'{dataset_dir}/val', \n",
    "                                    batch_size=32, image_size=224, robustness=2.0)"
   ]
  },
  {
   "cell_type": "code",
   "execution_count": 13,
   "id": "aacf503c-30b3-4c1d-8d2e-8748ce335245",
   "metadata": {},
   "outputs": [
    {
     "name": "stdout",
     "output_type": "stream",
     "text": [
      "Epoch    1 /   10  | Train Loss: 0.8871 Acc: 0.8044  | Val Loss: 1.3888 Acc: 0.6688  | Elapsed time: 0:10:18.721319\n",
      "Epoch    2 /   10  | Train Loss: 0.7811 Acc: 0.8243  | Val Loss: 1.3549 Acc: 0.6815  | Elapsed time: 0:20:34.866378\n",
      "Epoch    3 /   10  | Train Loss: 0.7445 Acc: 0.8364  | Val Loss: 1.3308 Acc: 0.6879  | Elapsed time: 0:30:56.437728\n",
      "Epoch    4 /   10  | Train Loss: 0.7195 Acc: 0.8429  | Val Loss: 1.3686 Acc: 0.7006  | Elapsed time: 0:41:15.316705\n",
      "Epoch    5 /   10  | Train Loss: 0.6880 Acc: 0.8491  | Val Loss: 1.2834 Acc: 0.7006  | Elapsed time: 0:51:36.171163\n"
     ]
    }
   ],
   "source": [
    "train(model_data, 10, f\"{dataset_dir}/checkpoint.moth.all.resnet101.pth\", break_at_val_acc_diff=0.005)"
   ]
  },
  {
   "cell_type": "code",
   "execution_count": 12,
   "id": "fc94b21c-41ac-4285-a069-63f78451278d",
   "metadata": {},
   "outputs": [
    {
     "name": "stdout",
     "output_type": "stream",
     "text": [
      "Top   1 accuracy: 107/152 -> 70.39%, genus matched: 134/152 -> 88.16%\n",
      "Top   3 accuracy: 136/152 -> 89.47%, genus matched: 144/152 -> 94.74%\n",
      "Top   5 accuracy: 141/152 -> 92.76%, genus matched: 146/152 -> 96.05%\n",
      "Top  10 accuracy: 145/152 -> 95.39%, genus matched: 146/152 -> 96.05%\n"
     ]
    }
   ],
   "source": [
    "model_data = torch.load(f\"{dataset_dir}/checkpoint.moth.all.resnet101.tb4.ep13.pth\", weights_only=False)\n",
    "test_top_k(model_data, f\"{dataset_dir}/random-test\", 3, print_preds=False, print_top1_accuracy=True)\n",
    "test_top_k(model_data, f\"{dataset_dir}/random-test\", 5, print_preds=False, print_top1_accuracy=False)\n",
    "test_top_k(model_data, f\"{dataset_dir}/random-test\", 10, print_preds=False, print_top1_accuracy=False)"
   ]
  },
  {
   "cell_type": "code",
   "execution_count": null,
   "id": "d1c7e151-2325-4532-9ccf-20a060ad3390",
   "metadata": {},
   "outputs": [],
   "source": []
  },
  {
   "cell_type": "code",
   "execution_count": null,
   "id": "4f860bef-8e2b-4d65-808b-16076e52e61f",
   "metadata": {},
   "outputs": [],
   "source": []
  },
  {
   "cell_type": "code",
   "execution_count": null,
   "id": "74a1bc9d-ff89-42c0-b3c7-0465293cccc5",
   "metadata": {},
   "outputs": [],
   "source": []
  },
  {
   "cell_type": "code",
   "execution_count": null,
   "id": "179ce094-227f-4de4-96a3-862cd60fb95e",
   "metadata": {},
   "outputs": [],
   "source": []
  },
  {
   "cell_type": "code",
   "execution_count": null,
   "id": "4a7b9282-f568-4ac0-a285-4ab251d2cc37",
   "metadata": {},
   "outputs": [],
   "source": []
  },
  {
   "cell_type": "code",
   "execution_count": null,
   "id": "cc070687-60d9-4532-b148-dbe800e69b11",
   "metadata": {},
   "outputs": [],
   "source": []
  },
  {
   "cell_type": "markdown",
   "id": "e724d1cc-e672-4ed2-8343-76683ad86c71",
   "metadata": {},
   "source": [
    "-------------------\n",
    "# B.5. Adult stage data / RESNET-101 / lr=1e-4 / weight_decay=1e-4"
   ]
  },
  {
   "cell_type": "code",
   "execution_count": 12,
   "id": "51294f51-5024-4c5e-a6da-09433cfaa175",
   "metadata": {},
   "outputs": [
    {
     "name": "stdout",
     "output_type": "stream",
     "text": [
      "Adult class count: 3060\n",
      "Early class count: 304\n"
     ]
    }
   ],
   "source": [
    "adult_class_cnt = 0\n",
    "early_class_cnt = 0\n",
    "adult_data_dir = f\"{dataset_dir}/adult-data\"\n",
    "\n",
    "if os.path.exists(adult_data_dir):\n",
    "        shutil.rmtree(adult_data_dir)\n",
    "\n",
    "for species_dir in Path(f\"{dataset_dir}/data\").iterdir():\n",
    "    if species_dir.is_dir() and species_dir.name.endswith('-early'):\n",
    "        early_class_cnt += 1\n",
    "    else:\n",
    "        shutil.copytree(species_dir, f\"{adult_data_dir}/{species_dir.name}\")\n",
    "        adult_class_cnt += 1\n",
    "\n",
    "print(f\"Adult class count: {adult_class_cnt}\")\n",
    "print(f\"Early class count: {early_class_cnt}\")"
   ]
  },
  {
   "cell_type": "code",
   "execution_count": 14,
   "id": "5a2e8117-f88d-489e-a26b-a04a4e010889",
   "metadata": {},
   "outputs": [
    {
     "name": "stdout",
     "output_type": "stream",
     "text": [
      "train class count: 3060\n",
      "val class count: 77\n",
      "feature count: 2048\n",
      "device: cuda:0\n"
     ]
    }
   ],
   "source": [
    "model_data = init_model_for_training(f'{dataset_dir}/adult-data', f'{dataset_dir}/val', \n",
    "                                     batch_size=32, arch=\"resnet101\", image_size=224, robustness=0.2,\n",
    "                                     lr=1e-4, weight_decay=1e-4)"
   ]
  },
  {
   "cell_type": "code",
   "execution_count": 15,
   "id": "a12ac065-9b1f-46c8-ab24-c1b09f4bd75c",
   "metadata": {},
   "outputs": [
    {
     "name": "stdout",
     "output_type": "stream",
     "text": [
      "Epoch    1 /   10  | Train Loss: 4.8680 Acc: 0.2715  | Val Loss: 2.5715 Acc: 0.4841  | Elapsed time: 0:08:24.062429\n",
      "Epoch    2 /   10  | Train Loss: 1.4315 Acc: 0.6806  | Val Loss: 1.4375 Acc: 0.6242  | Elapsed time: 0:17:13.144536\n",
      "Epoch    3 /   10  | Train Loss: 0.5212 Acc: 0.8691  | Val Loss: 1.3478 Acc: 0.7134  | Elapsed time: 0:26:05.155536\n",
      "Epoch    4 /   10  | Train Loss: 0.2556 Acc: 0.9346  | Val Loss: 1.3103 Acc: 0.7197  | Elapsed time: 0:34:56.461554\n"
     ]
    }
   ],
   "source": [
    "train(model_data, 10, f\"{dataset_dir}/checkpoint.moth.adult.resnet101.tb5.ep01###.pth\", break_at_val_acc_diff=0.05)"
   ]
  },
  {
   "cell_type": "code",
   "execution_count": 16,
   "id": "29b76d42-b3f0-42a1-b9bf-acf80dbb3054",
   "metadata": {},
   "outputs": [
    {
     "name": "stdout",
     "output_type": "stream",
     "text": [
      "train class count: 3060\n",
      "val class count: 77\n",
      "0 new classes added: []\n",
      "feature count: 2048\n",
      "device: cuda:0\n"
     ]
    }
   ],
   "source": [
    "model_data = prepare_for_retraining(model_data, f'{dataset_dir}/adult-data', f'{dataset_dir}/val', \n",
    "                                    batch_size=32, image_size=224, robustness=0.5)"
   ]
  },
  {
   "cell_type": "code",
   "execution_count": 17,
   "id": "64622e6a-ed12-4888-a02d-aeac57e60fb6",
   "metadata": {},
   "outputs": [
    {
     "name": "stdout",
     "output_type": "stream",
     "text": [
      "Epoch    1 /   10  | Train Loss: 1.2829 Acc: 0.7143  | Val Loss: 1.6023 Acc: 0.6561  | Elapsed time: 0:09:16.569803\n",
      "Epoch    2 /   10  | Train Loss: 0.9818 Acc: 0.7784  | Val Loss: 1.2800 Acc: 0.6752  | Elapsed time: 0:18:25.752396\n"
     ]
    }
   ],
   "source": [
    "train(model_data, 10, f\"{dataset_dir}/checkpoint.moth.adult.resnet101.tb5.ep02###.pth\", break_at_val_acc_diff=0.05)"
   ]
  },
  {
   "cell_type": "code",
   "execution_count": 18,
   "id": "b25f302d-ab21-4b93-92f5-f5fe93b68ab0",
   "metadata": {},
   "outputs": [
    {
     "name": "stdout",
     "output_type": "stream",
     "text": [
      "train class count: 3060\n",
      "val class count: 77\n",
      "0 new classes added: []\n",
      "feature count: 2048\n",
      "device: cuda:0\n"
     ]
    }
   ],
   "source": [
    "model_data = prepare_for_retraining(model_data, f'{dataset_dir}/adult-data', f'{dataset_dir}/val', \n",
    "                                    batch_size=32, image_size=224, robustness=1.0)"
   ]
  },
  {
   "cell_type": "code",
   "execution_count": 19,
   "id": "e1587afc-6e03-43eb-a0e1-eef096c18e36",
   "metadata": {},
   "outputs": [
    {
     "name": "stdout",
     "output_type": "stream",
     "text": [
      "Epoch    1 /   10  | Train Loss: 0.9466 Acc: 0.7861  | Val Loss: 1.4976 Acc: 0.6306  | Elapsed time: 0:09:13.020004\n",
      "Epoch    2 /   10  | Train Loss: 0.7333 Acc: 0.8385  | Val Loss: 1.3204 Acc: 0.6943  | Elapsed time: 0:18:23.584267\n",
      "Epoch    3 /   10  | Train Loss: 0.6612 Acc: 0.8548  | Val Loss: 1.2898 Acc: 0.7070  | Elapsed time: 0:28:02.805919\n"
     ]
    }
   ],
   "source": [
    "train(model_data, 10, f\"{dataset_dir}/checkpoint.moth.adult.resnet101.tb5.ep03###.pth\", break_at_val_acc_diff=0.05)"
   ]
  },
  {
   "cell_type": "code",
   "execution_count": 20,
   "id": "d063e944-5732-46e9-bbb1-d68dd261b6d3",
   "metadata": {},
   "outputs": [
    {
     "name": "stdout",
     "output_type": "stream",
     "text": [
      "train class count: 3060\n",
      "val class count: 77\n",
      "0 new classes added: []\n",
      "feature count: 2048\n",
      "device: cuda:0\n"
     ]
    }
   ],
   "source": [
    "model_data = prepare_for_retraining(model_data, f'{dataset_dir}/adult-data', f'{dataset_dir}/val', \n",
    "                                    batch_size=32, image_size=224, robustness=2.0)"
   ]
  },
  {
   "cell_type": "code",
   "execution_count": 21,
   "id": "9a6ba45a-2f21-4adb-b677-349142d36bf9",
   "metadata": {},
   "outputs": [
    {
     "name": "stdout",
     "output_type": "stream",
     "text": [
      "Epoch    1 /   10  | Train Loss: 0.7357 Acc: 0.8358  | Val Loss: 1.3163 Acc: 0.7197  | Elapsed time: 0:09:17.898283\n",
      "Epoch    2 /   10  | Train Loss: 0.6888 Acc: 0.8509  | Val Loss: 1.3478 Acc: 0.7070  | Elapsed time: 0:18:28.631519\n"
     ]
    }
   ],
   "source": [
    "train(model_data, 10, f\"{dataset_dir}/checkpoint.moth.adult.resnet101.tb5.ep04###.pth\", break_at_val_acc_diff=0.05)"
   ]
  },
  {
   "cell_type": "code",
   "execution_count": 11,
   "id": "7d8b65c6-a379-4d57-bc5f-00c79282498f",
   "metadata": {},
   "outputs": [
    {
     "name": "stdout",
     "output_type": "stream",
     "text": [
      "Top   1 accuracy: 110/152 -> 72.37%, genus matched: 134/152 -> 88.16%\n",
      "Top   3 accuracy: 131/152 -> 86.18%, genus matched: 141/152 -> 92.76%\n",
      "Top   5 accuracy: 138/152 -> 90.79%, genus matched: 145/152 -> 95.39%\n",
      "Top  10 accuracy: 144/152 -> 94.74%, genus matched: 148/152 -> 97.37%\n"
     ]
    }
   ],
   "source": [
    "model_data = torch.load(f\"{dataset_dir}/checkpoint.moth.adult.resnet101.tb5.ep040001.pth\", weights_only=False)\n",
    "test_top_k(model_data, f\"{dataset_dir}/random-test\", 3, print_preds=False, print_top1_accuracy=True)\n",
    "test_top_k(model_data, f\"{dataset_dir}/random-test\", 5, print_preds=False, print_top1_accuracy=False)\n",
    "test_top_k(model_data, f\"{dataset_dir}/random-test\", 10, print_preds=False, print_top1_accuracy=False)"
   ]
  },
  {
   "cell_type": "code",
   "execution_count": null,
   "id": "947182b3-a7ab-4283-a3a3-33a35b9dad4e",
   "metadata": {},
   "outputs": [],
   "source": []
  },
  {
   "cell_type": "code",
   "execution_count": null,
   "id": "734cb1f0-caea-4c07-99e6-eda9866acda4",
   "metadata": {},
   "outputs": [],
   "source": []
  },
  {
   "cell_type": "code",
   "execution_count": null,
   "id": "33c2d757-2df7-4bb8-9401-d26a990958de",
   "metadata": {},
   "outputs": [],
   "source": []
  },
  {
   "cell_type": "code",
   "execution_count": null,
   "id": "bc139a6c-a61c-4dcc-b531-0386ffe2266c",
   "metadata": {},
   "outputs": [],
   "source": []
  },
  {
   "cell_type": "code",
   "execution_count": null,
   "id": "471c3e71-ab2f-4dde-a02f-ea1538012558",
   "metadata": {},
   "outputs": [],
   "source": []
  },
  {
   "cell_type": "markdown",
   "id": "9a1355e3-3337-44a7-84b0-c7eb924dc128",
   "metadata": {},
   "source": [
    "------------------------\n",
    "# Test"
   ]
  },
  {
   "cell_type": "code",
   "execution_count": 6,
   "id": "f8c0b9c3-f159-43c4-b412-63027d4e725e",
   "metadata": {},
   "outputs": [],
   "source": [
    "# model_data = torch.load(f\"{dataset_dir}/checkpoint.moth.all.resnet101.ep13.pth\", weights_only=False)\n",
    "model_data = torch.load(f\"{dataset_dir}/checkpoint.moth.adult.resnet101.tb5.ep040001.pth\", weights_only=False)"
   ]
  },
  {
   "cell_type": "code",
   "execution_count": 7,
   "id": "e85e2ba7-c02c-457b-9aec-640040a7b026",
   "metadata": {
    "scrolled": true
   },
   "outputs": [
    {
     "name": "stdout",
     "output_type": "stream",
     "text": [
      "acidon-nigrobasis             : miaromima-cornucopia(0.583)  westermannia-argentea(0.129)  dichromia-sagitta(0.083)  \n",
      "acosmeryx-anceus              : \u001b[32macosmeryx-anceus\u001b[0m(0.909)  acosmeryx-pseudonaga(0.057)  acosmeryx-sericeus(0.013)  \n",
      "Adoxophyes-privatana          : adoxophyes-spp(0.940)  adoxophyes-privatana(0.025)  tortricidae-genera-spp(0.017)  \n",
      "agnidra-vinacea               : \u001b[32magnidra-vinacea\u001b[0m(0.937)  callidrepana-argenteola(0.032)  callidrepana-patrana(0.006)  \n",
      "alcanola-speideli             : alcanola-tympanistis(0.966)  \u001b[32malcanola-speideli\u001b[0m(0.018)  beana-terminigera(0.006)  \n",
      "alcanola-tympanistis-2        : \u001b[32malcanola-tympanistis\u001b[0m(0.469)  maliattha-spp(0.240)  nolinae-genera-spp(0.125)  \n",
      "alcanola-tympanistis          : alcanola-speideli(0.888)  \u001b[32malcanola-tympanistis\u001b[0m(0.075)  casminola-spp(0.017)  \n",
      "angonyx-krishna-2             : daphnis-nerii(0.621)  cechenena-mirabilis(0.055)  eupanacra-busiris(0.051)  \n",
      "angonyx-krishna               : \u001b[32mangonyx-krishna\u001b[0m(0.770)  angonyx-testacea(0.166)  callambulyx-rubricosa(0.009)  \n",
      "apona-caschmirensis-2         : \u001b[32mapona-caschmirensis\u001b[0m(0.275)  limacodinae-genera-spp(0.125)  sacada-pallescens(0.090)  \n",
      "apona-caschmirensis           : bastilla-amygdalis(0.262)  bastilla-maturescens(0.196)  pseudojana-incandescens(0.069)  \n",
      "artena-dotata-2               : \u001b[32martena-dotata\u001b[0m(0.986)  ophiusa-spp(0.003)  odontopera-bilinearia(0.002)  \n",
      "artena-dotata                 : \u001b[32martena-dotata\u001b[0m(0.945)  bastilla-fulvotaenia(0.004)  poaphilini-genera-spp(0.004)  \n",
      "artena-submira-2              : \u001b[32martena-submira\u001b[0m(0.755)  thyas-coronata(0.160)  thyas-juno(0.013)  \n",
      "artena-submira                : thyas-coronata(0.485)  \u001b[32martena-submira\u001b[0m(0.407)  artena-dotata(0.011)  \n",
      "attacus-atlas-2               : attacus-taprobanis(0.980)  \u001b[32mattacus-atlas\u001b[0m(0.014)  archaeoattacus-edwardsii(0.002)  \n",
      "attacus-atlas-3               : attacus-taprobanis(0.934)  \u001b[32mattacus-atlas\u001b[0m(0.058)  archaeoattacus-edwardsii(0.006)  \n",
      "attacus-atlas                 : attacus-taprobanis(0.944)  \u001b[32mattacus-atlas\u001b[0m(0.052)  archaeoattacus-edwardsii(0.001)  \n",
      "attacus-taprobanis-2          : \u001b[32mattacus-taprobanis\u001b[0m(0.982)  attacus-atlas(0.015)  samia-canningii(0.001)  \n",
      "attacus-taprobanis            : \u001b[32mattacus-taprobanis\u001b[0m(0.977)  samia-canningii(0.007)  attacus-atlas(0.005)  \n",
      "buzara-onelia-2               : \u001b[32mbuzara-onelia\u001b[0m(0.997)  poaphilini-genera-spp(0.001)  hipoepa-fractalis(0.001)  \n",
      "buzara-onelia                 : \u001b[32mbuzara-onelia\u001b[0m(0.311)  hipoepa-biasalis(0.229)  acosmeryx-anceus(0.122)  \n",
      "carea-angulata-2              : \u001b[32mcarea-angulata\u001b[0m(0.996)  polyptychus-trilineatus(0.001)  anomis-mesogona(0.001)  \n",
      "carea-angulata-3              : \u001b[32mcarea-angulata\u001b[0m(0.987)  siculifer-bilineatus(0.007)  carea-varipes(0.002)  \n",
      "carea-angulata-4              : \u001b[32mcarea-angulata\u001b[0m(1.000)  hyblaea-firmamentum(0.000)  siculifer-bilineatus(0.000)  \n",
      "carea-angulata-5              : \u001b[32mcarea-angulata\u001b[0m(0.999)  siculifer-bilineatus(0.000)  anomis-mesogona(0.000)  \n",
      "carea-angulata-6              : \u001b[32mcarea-angulata\u001b[0m(0.998)  siculifer-bilineatus(0.001)  carea-varipes(0.000)  \n",
      "carea-angulata-7              : \u001b[32mcarea-angulata\u001b[0m(0.993)  carea-varipes(0.002)  xanthodes-albago(0.001)  \n",
      "carea-angulata                : \u001b[32mcarea-angulata\u001b[0m(0.638)  odontopera-bilinearia(0.159)  anomis-mesogona(0.026)  \n",
      "chalciope-mygdon-2            : \u001b[32mchalciope-mygdon\u001b[0m(0.856)  trigonodes-hyppasia(0.133)  mocis-frugalis(0.003)  \n",
      "chalciope-mygdon-3            : trigonodes-hyppasia(0.702)  \u001b[32mchalciope-mygdon\u001b[0m(0.267)  grammodes-geometrica(0.006)  \n",
      "chalciope-mygdon-4            : \u001b[32mchalciope-mygdon\u001b[0m(0.975)  grammodes-geometrica(0.011)  trigonodes-hyppasia(0.009)  \n",
      "chalciope-mygdon-5            : \u001b[32mchalciope-mygdon\u001b[0m(0.960)  trigonodes-hyppasia(0.011)  grammodes-geometrica(0.005)  \n",
      "chalciope-mygdon              : \u001b[32mchalciope-mygdon\u001b[0m(0.997)  grammodes-geometrica(0.001)  fodina-stola(0.000)  \n",
      "chrysopera-combinans          : \u001b[32mchrysopera-combinans\u001b[0m(0.960)  hemichloridia-euprepia(0.005)  sidyma-apicalis(0.003)  \n",
      "clanis-bilineata-2            : clanis-undulosa(0.274)  clanis-phalaris(0.197)  acosmerycoides-harterti(0.117)  \n",
      "clanis-bilineata-3            : clanis-undulosa(0.473)  theretra-clotho(0.150)  acosmeryx-sinjaevi(0.112)  \n",
      "clanis-bilineata-4            : clanis-undulosa(0.202)  ampelophaga-rubiginosa(0.122)  clanis-titan(0.114)  \n",
      "clanis-bilineata-5            : clanis-phalaris(0.218)  nephele-hespera(0.191)  clanis-deucalion(0.142)  \n",
      "clanis-bilineata              : theretra-clotho(0.390)  clanis-phalaris(0.228)  nephele-hespera(0.087)  \n",
      "clanis-phalaris-2             : \u001b[32mclanis-phalaris\u001b[0m(0.278)  nephele-hespera(0.157)  acosmeryx-pseudonaga(0.129)  \n",
      "clanis-phalaris               : clanis-bilineata(0.435)  \u001b[32mclanis-phalaris\u001b[0m(0.127)  clanis-titan(0.100)  \n",
      "clanis-undulosa               : \u001b[32mclanis-undulosa\u001b[0m(0.804)  elibia-dolichoides(0.043)  theretra-clotho(0.032)  \n",
      "conogethes-punctiferalis      : conogethes-spp(0.991)  \u001b[32mconogethes-punctiferalis\u001b[0m(0.006)  sameodes-cancellalis(0.001)  \n",
      "conogethes-sahyadriensis-3    : conogethes-spp(0.983)  conogethes-punctiferalis(0.009)  miltochrista-semifascia(0.001)  \n",
      "conogethes-sahyadriensis-4    : conogethes-spp(0.997)  conogethes-punctiferalis(0.001)  crambidae-genera-spp(0.000)  \n",
      "conogethes-sahyadriensis      : conogethes-spp(0.826)  conogethes-punctiferalis(0.138)  argina-astrea(0.006)  \n",
      "corcobara-angulipennis        : loepa-schintlmeisteri(0.322)  loepa-spp(0.284)  antheraea-paphia(0.081)  \n",
      "daphnis-nerii-2               : \u001b[32mdaphnis-nerii\u001b[0m(1.000)  daphnis-hypothous(0.000)  trigonodes-hyppasia(0.000)  \n",
      "daphnis-nerii-3               : \u001b[32mdaphnis-nerii\u001b[0m(0.933)  daphnis-hypothous(0.003)  actias-selene(0.002)  \n",
      "daphnis-nerii-4               : \u001b[32mdaphnis-nerii\u001b[0m(0.968)  daphnis-hypothous(0.011)  craspedortha-porphyria(0.001)  \n",
      "daphnis-nerii-5               : \u001b[32mdaphnis-nerii\u001b[0m(0.998)  daphnis-hypothous(0.001)  trigonodes-hyppasia(0.000)  \n",
      "daphnis-nerii                 : \u001b[32mdaphnis-nerii\u001b[0m(0.996)  agathia-spp(0.001)  daphnis-hypothous(0.000)  \n",
      "eudocima-homaena-2            : \u001b[32meudocima-homaena\u001b[0m(0.970)  hemichloridia-euprepia(0.006)  eudocima-phalonia(0.004)  \n",
      "eudocima-homaena-3            : \u001b[32meudocima-homaena\u001b[0m(0.995)  eudocima-phalonia(0.001)  polyphena-herbifera(0.001)  \n",
      "eudocima-homaena-4            : \u001b[32meudocima-homaena\u001b[0m(0.998)  cyphanta-xanthochlora(0.001)  hemichloridia-euprepia(0.000)  \n",
      "eudocima-homaena              : \u001b[32meudocima-homaena\u001b[0m(0.962)  eudocima-phalonia(0.028)  agathia-hemithearia(0.001)  \n",
      "eudocima-phalonia-2           : \u001b[32meudocima-phalonia\u001b[0m(0.997)  eudocima-homaena(0.001)  eudocima-materna(0.000)  \n",
      "eudocima-phalonia-3           : \u001b[32meudocima-phalonia\u001b[0m(0.985)  chrysodeixis-permissa(0.002)  xestia-c-nigrum(0.001)  \n",
      "eudocima-phalonia             : \u001b[32meudocima-phalonia\u001b[0m(0.983)  plusiopalpa-adrasta(0.005)  eudocima-homaena(0.001)  \n",
      "eupterote-undata-2            : \u001b[32meupterote-undata\u001b[0m(0.501)  eupterote-spp(0.442)  rhodostrophia-spp(0.019)  \n",
      "eupterote-undata              : \u001b[32meupterote-undata\u001b[0m(0.681)  eupterote-spp(0.316)  eupterote-mollifera(0.001)  \n",
      "fascellina-inornata           : paramaxates-taiwana(0.360)  agathia-codina(0.126)  notodontella-viridinota(0.059)  \n",
      "fascellina-plagiata           : \u001b[32mfascellina-plagiata\u001b[0m(0.982)  parasa-lepida(0.005)  agathia-laetata(0.003)  \n",
      "hemichloridia-euprepia        : \u001b[32mhemichloridia-euprepia\u001b[0m(0.799)  cretonia-spp(0.043)  chrysopera-combinans(0.012)  \n",
      "herdonia-gigantea             : herdonia-thaiensis(0.596)  herdonia-osacesalis(0.242)  \u001b[32mherdonia-gigantea\u001b[0m(0.091)  \n",
      "hippotion-celerio-2           : \u001b[32mhippotion-celerio\u001b[0m(0.977)  theretra-oldenlandiae(0.011)  euclasta-spp(0.006)  \n",
      "hippotion-celerio-3           : \u001b[32mhippotion-celerio\u001b[0m(0.972)  tarsolepis-fulgurifera(0.005)  euclasta-spp(0.003)  \n",
      "hippotion-celerio             : \u001b[32mhippotion-celerio\u001b[0m(0.462)  theretra-oldenlandiae(0.399)  cechetra-lineosa(0.021)  \n",
      "hippotion-rosetta-2           : hippotion-spp(0.564)  \u001b[32mhippotion-rosetta\u001b[0m(0.361)  theretra-oldenlandiae(0.014)  \n",
      "hippotion-rosetta-3           : hippotion-spp(0.300)  theretra-lycetus(0.242)  theretra-alecto(0.114)  \n",
      "hippotion-rosetta-4           : theretra-alecto(0.287)  theretra-oldenlandiae(0.243)  hippotion-spp(0.198)  \n",
      "hippotion-rosetta-5           : hippotion-spp(0.858)  \u001b[32mhippotion-rosetta\u001b[0m(0.045)  theretra-lycetus(0.015)  \n",
      "hippotion-rosetta             : \u001b[32mhippotion-rosetta\u001b[0m(0.711)  hippotion-spp(0.243)  theretra-alecto(0.013)  \n",
      "hyles-livornica-2             : \u001b[32mhyles-livornica\u001b[0m(0.994)  eudocima-materna(0.001)  tarsolepis-fulgurifera(0.001)  \n",
      "hyles-livornica-3             : \u001b[32mhyles-livornica\u001b[0m(0.973)  eustroma-inextricata(0.004)  tarsolepis-fulgurifera(0.003)  \n",
      "hyles-livornica-4             : \u001b[32mhyles-livornica\u001b[0m(0.965)  spilarctia-leopardina(0.011)  areas-imperialis(0.003)  \n",
      "hyles-livornica-5             : hippotion-celerio(0.847)  spirama-spp(0.027)  agrius-convolvuli(0.025)  \n",
      "hyles-livornica               : \u001b[32mhyles-livornica\u001b[0m(0.660)  trigonodes-hyppasia(0.098)  tarsolepis-fulgurifera(0.035)  \n",
      "ilema-chloroptera             : \u001b[32milema-chloroptera\u001b[0m(0.944)  notodontidae-genera-spp(0.018)  netria-spp(0.014)  \n",
      "lebeda-nobilis-2              : elibia-dolichoides(0.474)  ampelophaga-rubiginosa(0.130)  palirisa-cervina(0.111)  \n",
      "lebeda-nobilis                : \u001b[32mlebeda-nobilis\u001b[0m(0.991)  metanastria-spp(0.002)  metanastria-hyrtaca(0.001)  \n",
      "lymantria-fuliginosa-2        : lymantria-spp(0.282)  \u001b[32mlymantria-fuliginosa\u001b[0m(0.175)  digama-marchalii(0.166)  \n",
      "lymantria-fuliginosa-3        : \u001b[32mlymantria-fuliginosa\u001b[0m(0.955)  lymantria-spp(0.026)  lymantria-concolor(0.013)  \n",
      "lymantria-fuliginosa-4        : \u001b[32mlymantria-fuliginosa\u001b[0m(0.806)  lymantria-spp(0.087)  lymantria-marginata(0.042)  \n",
      "lymantria-fuliginosa-5        : lymantria-concolor(0.582)  \u001b[32mlymantria-fuliginosa\u001b[0m(0.407)  biston-falcata(0.004)  \n",
      "lymantria-fuliginosa          : \u001b[32mlymantria-fuliginosa\u001b[0m(0.882)  lymantria-spp(0.060)  lymantria-concolor(0.018)  \n",
      "macroglossum-gyrans           : \u001b[32mmacroglossum-gyrans\u001b[0m(0.837)  macroglossum-nycteris(0.026)  filodes-fulvidorsalis(0.014)  \n",
      "marumba-indicus               : bombyx-huttoni(0.329)  \u001b[32mmarumba-indicus\u001b[0m(0.169)  marumba-dyras(0.114)  \n",
      "marumba-nympha-2              : \u001b[32mmarumba-nympha\u001b[0m(0.975)  penicillaria-jocosatrix(0.005)  acosmeryx-pseudonaga(0.003)  \n",
      "marumba-nympha-3              : marumba-irata(0.331)  \u001b[32mmarumba-nympha\u001b[0m(0.250)  marumba-spectabilis(0.183)  \n",
      "marumba-nympha                : \u001b[32mmarumba-nympha\u001b[0m(0.554)  antheraea-assamensis(0.217)  bastilla-absentimacula(0.038)  \n",
      "metanastria-hyrtaca           : \u001b[32mmetanastria-hyrtaca\u001b[0m(0.901)  metanastria-spp(0.088)  paralebeda-plagifera(0.003)  \n",
      "mocis-undata                  : \u001b[32mmocis-undata\u001b[0m(0.845)  mocis-discios(0.060)  thyas-coronata(0.016)  \n",
      "neopheosia-fasciata-2         : \u001b[32mneopheosia-fasciata\u001b[0m(0.896)  lymantria-grandis(0.039)  lymantria-spp(0.018)  \n",
      "neopheosia-fasciata           : diphtherocome-spp(0.536)  hermonassa-incisa(0.099)  ortopla-lindsayi(0.066)  \n",
      "nephele-hespera-2             : \u001b[32mnephele-hespera\u001b[0m(0.999)  hipoepa-fractalis(0.000)  acosmeryx-akanshi(0.000)  \n",
      "nephele-hespera               : \u001b[32mnephele-hespera\u001b[0m(0.998)  egnasia-ephyrodalis(0.000)  artena-submira(0.000)  \n",
      "olene-mendosa-2               : netria-viridescens(0.729)  \u001b[32molene-mendosa\u001b[0m(0.045)  dasychira-postfusca(0.021)  \n",
      "olene-mendosa                 : \u001b[32molene-mendosa\u001b[0m(0.948)  orgyia-postica(0.023)  orgyiini-genera-spp(0.004)  \n",
      "omiza-miliaria-2              : \u001b[32momiza-miliaria\u001b[0m(0.796)  hypochrosis-hyadaria-complex(0.105)  eupterote-spp(0.028)  \n",
      "omiza-miliaria                : \u001b[32momiza-miliaria\u001b[0m(0.215)  apha-floralis(0.162)  hypopyra-spp(0.127)  \n",
      "oraesia-emarginata-2          : \u001b[32moraesia-emarginata\u001b[0m(0.596)  clostera-restitura(0.138)  zonoplusia-ochreata(0.049)  \n",
      "oraesia-emarginata            : \u001b[32moraesia-emarginata\u001b[0m(0.998)  eudocima-spp(0.000)  plusiodonta-coelonota(0.000)  \n",
      "orudiza-protheclaria-2        : \u001b[32morudiza-protheclaria\u001b[0m(0.555)  achrosis-rondelaria(0.102)  tiruvaca-hollowayi(0.080)  \n",
      "orudiza-protheclaria-3        : \u001b[32morudiza-protheclaria\u001b[0m(1.000)  nyctemera-coleta(0.000)  achelura-bifasciata(0.000)  \n",
      "orudiza-protheclaria-4        : \u001b[32morudiza-protheclaria\u001b[0m(0.887)  ourapteryx-convergens(0.017)  amblychia-pardicelata(0.008)  \n",
      "orudiza-protheclaria-5        : \u001b[32morudiza-protheclaria\u001b[0m(0.992)  episparis-costistriga(0.001)  rhombophylla-rectimarginata(0.001)  \n",
      "orudiza-protheclaria          : \u001b[32morudiza-protheclaria\u001b[0m(0.988)  hyposidra-talaca(0.001)  scopula-mecysma(0.001)  \n",
      "paralebeda-plagifera-2        : \u001b[32mparalebeda-plagifera\u001b[0m(0.771)  metanastria-spp(0.112)  metanastria-hyrtaca(0.045)  \n",
      "paralebeda-plagifera-3        : \u001b[32mparalebeda-plagifera\u001b[0m(0.599)  hyblaea-firmamentum(0.257)  dichromia-sagitta(0.108)  \n",
      "paralebeda-plagifera          : \u001b[32mparalebeda-plagifera\u001b[0m(0.460)  metanastria-spp(0.442)  metanastria-hyrtaca(0.028)  \n",
      "phyllodes-eyndhovii-2         : \u001b[32mphyllodes-eyndhovii\u001b[0m(0.897)  xylophylla-punctifascia(0.037)  eudocima-sikhimensis(0.014)  \n",
      "phyllodes-eyndhovii-3         : \u001b[32mphyllodes-eyndhovii\u001b[0m(0.912)  calyptra-spp(0.027)  eudocima-sikhimensis(0.022)  \n",
      "phyllodes-eyndhovii           : \u001b[32mphyllodes-eyndhovii\u001b[0m(0.942)  eudocima-homaena(0.017)  thyas-coronata(0.008)  \n",
      "prophantis-adusta-2           : \u001b[32mprophantis-adusta\u001b[0m(0.870)  heterocnephes-lymphatalis(0.059)  eressa-aperiens(0.006)  \n",
      "prophantis-adusta-3           : \u001b[32mprophantis-adusta\u001b[0m(0.885)  cotachena-pubescens(0.034)  nosophora-spp(0.024)  \n",
      "prophantis-adusta             : \u001b[32mprophantis-adusta\u001b[0m(0.217)  maruca-vitrata(0.217)  herpetogramma-spp(0.178)  \n",
      "pseudojana-incandescens-2     : \u001b[32mpseudojana-incandescens\u001b[0m(0.946)  palirisa-cervina(0.015)  asta-quadrilinea(0.009)  \n",
      "pseudojana-incandescens       : \u001b[32mpseudojana-incandescens\u001b[0m(0.809)  palirisa-cervina(0.094)  asta-quadrilinea(0.035)  \n",
      "pycnarmon-cribrata-2          : \u001b[32mpycnarmon-cribrata\u001b[0m(0.861)  pycnarmon-meritalis(0.067)  pycnarmon-lactiferalis(0.017)  \n",
      "pycnarmon-cribrata            : \u001b[32mpycnarmon-cribrata\u001b[0m(0.310)  naxa-textilis(0.091)  pycnarmon-meritalis(0.064)  \n",
      "rectipalpula-billeti-2        : nosophora-semitritalis(0.114)  sympis-rufibasis(0.103)  asota-ficus(0.090)  \n",
      "rectipalpula-billeti-3        : \u001b[32mrectipalpula-billeti\u001b[0m(0.335)  crambidae-genera-spp(0.241)  nosophora-semitritalis(0.059)  \n",
      "rectipalpula-billeti          : \u001b[32mrectipalpula-billeti\u001b[0m(0.118)  heterocnephes-lymphatalis(0.104)  orybina-plangonalis(0.078)  \n",
      "samia-canningii               : \u001b[32msamia-canningii\u001b[0m(0.974)  antheraea-paphia(0.009)  archaeoattacus-edwardsii(0.008)  \n",
      "samia-cynthia                 : samia-canningii(0.975)  attacus-taprobanis(0.004)  \u001b[32msamia-cynthia\u001b[0m(0.004)  \n",
      "somatina-rosacea              : \u001b[32msomatina-rosacea\u001b[0m(0.999)  eublemma-roseonivea(0.000)  eublemma-amabilis(0.000)  \n",
      "streblote-siva-2              : \u001b[32mstreblote-siva\u001b[0m(0.973)  samia-canningii(0.007)  lithosiini-genera-spp(0.002)  \n",
      "streblote-siva                : \u001b[32mstreblote-siva\u001b[0m(0.995)  chilena-similis(0.003)  somena-scintillans(0.001)  \n",
      "theretra-alecto               : \u001b[32mtheretra-alecto\u001b[0m(0.854)  theretra-pallicosta(0.093)  theretra-clotho(0.013)  \n",
      "theretra-suffusa-2            : theretra-lycetus(0.658)  \u001b[32mtheretra-suffusa\u001b[0m(0.225)  theretra-oldenlandiae(0.021)  \n",
      "theretra-suffusa              : theretra-lycetus(0.483)  \u001b[32mtheretra-suffusa\u001b[0m(0.169)  hippotion-rosetta(0.114)  \n",
      "thyas-coronata-2              : \u001b[32mthyas-coronata\u001b[0m(0.977)  ophiusa-spp(0.006)  ophiusa-olista(0.001)  \n",
      "thyas-coronata-3              : \u001b[32mthyas-coronata\u001b[0m(0.978)  ophiusa-olista(0.004)  ophiusa-spp(0.003)  \n",
      "thyas-coronata-4              : \u001b[32mthyas-coronata\u001b[0m(0.936)  thyas-juno(0.015)  ophiusa-olista(0.009)  \n",
      "thyas-coronata-5              : \u001b[32mthyas-coronata\u001b[0m(0.965)  ophiusa-olista(0.004)  ophiusa-spp(0.003)  \n",
      "thyas-coronata                : \u001b[32mthyas-coronata\u001b[0m(0.984)  ophiusa-tirhaca(0.003)  ophiusa-olista(0.002)  \n",
      "trabala-vishnou               : \u001b[32mtrabala-vishnou\u001b[0m(0.587)  trabala-spp(0.387)  artaxa-guttata(0.004)  \n",
      "westermannia-superba-2        : \u001b[32mwestermannia-superba\u001b[0m(0.993)  westermannia-argentea(0.004)  miaromima-coelisigna(0.001)  \n",
      "westermannia-superba-3        : \u001b[32mwestermannia-superba\u001b[0m(0.781)  streblote-siva(0.158)  relluna-nurella(0.010)  \n",
      "westermannia-superba-4        : \u001b[32mwestermannia-superba\u001b[0m(0.994)  westermannia-argentea(0.005)  miaromima-cornucopia(0.000)  \n",
      "westermannia-superba          : \u001b[32mwestermannia-superba\u001b[0m(0.998)  westermannia-argentea(0.001)  dyrzela-plagiata(0.000)  \n",
      "xanthodes-albago-2            : \u001b[32mxanthodes-albago\u001b[0m(0.914)  xanthodes-transversa(0.061)  perina-nuda(0.004)  \n",
      "xanthodes-albago-3            : \u001b[32mxanthodes-albago\u001b[0m(0.302)  cyclosiella-dulcicula(0.288)  perina-nuda(0.146)  \n",
      "xanthodes-albago-4            : \u001b[32mxanthodes-albago\u001b[0m(0.464)  lithosiini-genera-spp(0.244)  xanthodes-intersepta(0.098)  \n",
      "xanthodes-albago-5            : \u001b[32mxanthodes-albago\u001b[0m(0.328)  xanthodes-transversa(0.140)  perina-nuda(0.127)  \n",
      "xanthodes-albago-6            : lithosiini-genera-spp(0.473)  \u001b[32mxanthodes-albago\u001b[0m(0.414)  dolgoma-angulifera(0.061)  \n",
      "xanthodes-albago              : ophiusa-disjungens(0.271)  ophiusa-tirhaca(0.125)  sphragifera-rejecta(0.114)  \n",
      "xanthodes-transversa-2        : \u001b[32mxanthodes-transversa\u001b[0m(0.993)  xanthodes-albago(0.003)  eupterote-spp(0.001)  \n",
      "xanthodes-transversa-3        : \u001b[32mxanthodes-transversa\u001b[0m(0.973)  perina-nuda(0.013)  xanthodes-albago(0.004)  \n",
      "xanthodes-transversa          : \u001b[32mxanthodes-transversa\u001b[0m(0.983)  xanthodes-intersepta(0.003)  sagariphora-magnificalis(0.002)  \n",
      "----------\n",
      "Top   1 accuracy: 110/152 -> 72.37%, genus matched: 134/152 -> 88.16%\n",
      "Top   3 accuracy: 131/152 -> 86.18%, genus matched: 141/152 -> 92.76%\n",
      "Top   5 accuracy: 138/152 -> 90.79%, genus matched: 145/152 -> 95.39%\n",
      "Top  10 accuracy: 144/152 -> 94.74%, genus matched: 148/152 -> 97.37%\n"
     ]
    }
   ],
   "source": [
    "test_top_k(model_data, f\"{dataset_dir}/random-test\", 3, print_preds=True, print_top1_accuracy=True)\n",
    "test_top_k(model_data, f\"{dataset_dir}/random-test\", 5, print_preds=False, print_top1_accuracy=False)\n",
    "test_top_k(model_data, f\"{dataset_dir}/random-test\", 10, print_preds=False, print_top1_accuracy=False)"
   ]
  },
  {
   "cell_type": "code",
   "execution_count": 8,
   "id": "c0c274c7-faf0-495f-9028-4864af3e54f9",
   "metadata": {},
   "outputs": [
    {
     "name": "stdout",
     "output_type": "stream",
     "text": [
      "apona-spp                     : phazaca-spp(0.159)  apona-caschmirensis(0.104)  phazaca-leucocera(0.085)  \n",
      "dysphania-percota             : \u001b[32mdysphania-percota\u001b[0m(0.997)  nyctemera-cenis(0.001)  catocala-prolifica(0.000)  \n",
      "eupterote-undata              : \u001b[32meupterote-undata\u001b[0m(0.787)  eupterote-spp(0.211)  ganisa-spp(0.000)  \n",
      "hippotion-rosetta-2           : hippotion-spp(0.816)  theretra-oldenlandiae(0.071)  \u001b[32mhippotion-rosetta\u001b[0m(0.048)  \n",
      "hippotion-rosetta             : theretra-alecto(0.577)  hippotion-spp(0.267)  theretra-clotho(0.052)  \n",
      "----------\n",
      "Top   1 accuracy: 2/5 -> 40.00%, genus matched: 3/5 -> 60.00%\n",
      "Top   3 accuracy: 3/5 -> 60.00%, genus matched: 5/5 -> 100.00%\n",
      "Top   5 accuracy: 3/5 -> 60.00%, genus matched: 5/5 -> 100.00%\n",
      "Top  10 accuracy: 4/5 -> 80.00%, genus matched: 5/5 -> 100.00%\n"
     ]
    }
   ],
   "source": [
    "test_top_k(model_data, f\"{dataset_dir}/my-test\", 3, print_preds=True, print_top1_accuracy=True)\n",
    "test_top_k(model_data, f\"{dataset_dir}/my-test\", 5, print_preds=False, print_top1_accuracy=False)\n",
    "test_top_k(model_data, f\"{dataset_dir}/my-test\", 10, print_preds=False, print_top1_accuracy=False)"
   ]
  },
  {
   "cell_type": "code",
   "execution_count": 9,
   "id": "7fbb9c49-681b-4488-aad6-7b74588ef5c8",
   "metadata": {
    "scrolled": true
   },
   "outputs": [
    {
     "name": "stdout",
     "output_type": "stream",
     "text": [
      "Adoxophyes-privatana: \n",
      "\t \u001b[31madoxophyes-spp\u001b[0m(0.940)  \u001b[31madoxophyes-privatana\u001b[0m(0.025)  \u001b[31mtortricidae-genera-spp\u001b[0m(0.017)  \u001b[31mherdonia-thaiensis\u001b[0m(0.009)  \n",
      "\t \u001b[31mgariga-mirabilis\u001b[0m(0.001)  \u001b[31mchoreutis-taprobanes\u001b[0m(0.001)  \u001b[31mgalleria-mellonella\u001b[0m(0.001)  \u001b[31mrivula-spp\u001b[0m(0.000)  \n",
      "\t \u001b[31matosia-himalayana\u001b[0m(0.000)  \u001b[31marchips-spp\u001b[0m(0.000)  \n",
      "apona-caschmirensis: \n",
      "\t \u001b[33mbastilla-amygdalis\u001b[0m(0.262)  \u001b[33mbastilla-maturescens\u001b[0m(0.196)  \u001b[33mpseudojana-incandescens\u001b[0m(0.069)  \u001b[33mpoaphilini-genera-spp\u001b[0m(0.052)  \n",
      "\t \u001b[33mganisa-similis\u001b[0m(0.034)  \u001b[33mmocis-discios\u001b[0m(0.033)  \u001b[33manonychia-diversilinea\u001b[0m(0.028)  \u001b[33mapona-shevaroyensis\u001b[0m(0.027)  \n",
      "\t \u001b[33mhadennia-incongruens\u001b[0m(0.023)  \u001b[33mpalirisa-cervina\u001b[0m(0.014)  \n",
      "clanis-bilineata-4: \n",
      "\t \u001b[33mclanis-undulosa\u001b[0m(0.202)  \u001b[33mampelophaga-rubiginosa\u001b[0m(0.122)  \u001b[33mclanis-titan\u001b[0m(0.114)  \u001b[33mpolyptychus-trilineatus\u001b[0m(0.113)  \n",
      "\t \u001b[33mclanis-phalaris\u001b[0m(0.069)  \u001b[33mclanis-hyperion\u001b[0m(0.063)  \u001b[33magnosia-microta\u001b[0m(0.044)  \u001b[33macosmeryx-sinjaevi\u001b[0m(0.029)  \n",
      "\t \u001b[33mpoaphilini-genera-spp\u001b[0m(0.025)  \u001b[33mdaphnis-minima\u001b[0m(0.024)  \n",
      "clanis-bilineata: \n",
      "\t \u001b[33mtheretra-clotho\u001b[0m(0.390)  \u001b[33mclanis-phalaris\u001b[0m(0.228)  \u001b[33mnephele-hespera\u001b[0m(0.087)  \u001b[33mclanis-undulosa\u001b[0m(0.083)  \n",
      "\t \u001b[33mclanis-deucalion\u001b[0m(0.049)  \u001b[33mclanidopsis-exusta\u001b[0m(0.019)  \u001b[33mhippotion-spp\u001b[0m(0.015)  \u001b[33mcypa-enodis\u001b[0m(0.014)  \n",
      "\t \u001b[33mcechenena-aegrota\u001b[0m(0.012)  \u001b[33mtheretra-lucasii\u001b[0m(0.012)  \n",
      "conogethes-sahyadriensis-3: \n",
      "\t \u001b[33mconogethes-spp\u001b[0m(0.983)  \u001b[33mconogethes-punctiferalis\u001b[0m(0.009)  \u001b[33mmiltochrista-semifascia\u001b[0m(0.001)  \u001b[33mdichocrocis-bistrigalis\u001b[0m(0.001)  \n",
      "\t \u001b[33mcrambidae-genera-spp\u001b[0m(0.001)  \u001b[33masura-miltochrista-group-spp\u001b[0m(0.000)  \u001b[33msyllepte-nigriflava\u001b[0m(0.000)  \u001b[33momiodes-indicata\u001b[0m(0.000)  \n",
      "\t \u001b[33mischnurges-luteomarginalis\u001b[0m(0.000)  \u001b[33margina-astrea\u001b[0m(0.000)  \n",
      "corcobara-angulipennis: \n",
      "\t \u001b[31mloepa-schintlmeisteri\u001b[0m(0.322)  \u001b[31mloepa-spp\u001b[0m(0.284)  \u001b[31mantheraea-paphia\u001b[0m(0.081)  \u001b[31mantheraea-helferi\u001b[0m(0.022)  \n",
      "\t \u001b[31mloepa-diffunoccidentalis\u001b[0m(0.017)  \u001b[31mtrabala-spp\u001b[0m(0.016)  \u001b[31mloepa-katinka\u001b[0m(0.013)  \u001b[31msinobirma-myanmarensis\u001b[0m(0.010)  \n",
      "\t \u001b[31mtrabala-vishnou\u001b[0m(0.009)  \u001b[31mspilarctia-spp\u001b[0m(0.008)  \n",
      "fascellina-inornata: \n",
      "\t \u001b[31mparamaxates-taiwana\u001b[0m(0.360)  \u001b[31magathia-codina\u001b[0m(0.126)  \u001b[31mnotodontella-viridinota\u001b[0m(0.059)  \u001b[31mdoloessa-viridis\u001b[0m(0.040)  \n",
      "\t \u001b[31meucyclodes-semialba\u001b[0m(0.037)  \u001b[31magathia-hemithearia\u001b[0m(0.025)  \u001b[31mchadisra-bipars\u001b[0m(0.023)  \u001b[31mthysanoplusia-intermixta\u001b[0m(0.020)  \n",
      "\t \u001b[31menispa-vinacea\u001b[0m(0.018)  \u001b[31mchloromianta-ferruginata\u001b[0m(0.017)  \n",
      "neopheosia-fasciata: \n",
      "\t \u001b[31mdiphtherocome-spp\u001b[0m(0.536)  \u001b[31mhermonassa-incisa\u001b[0m(0.099)  \u001b[31mortopla-lindsayi\u001b[0m(0.066)  \u001b[31mtrachea-auriplena\u001b[0m(0.053)  \n",
      "\t \u001b[31mxenotrachea-albidisca\u001b[0m(0.045)  \u001b[31mchecupa-fortissima\u001b[0m(0.029)  \u001b[31msauris-spp\u001b[0m(0.024)  \u001b[31mherochroma-ochreipicta\u001b[0m(0.008)  \n",
      "\t \u001b[31mlocastra-crassipennis\u001b[0m(0.008)  \u001b[31msomera-viridifusca\u001b[0m(0.007)  \n",
      "Top  10 accuracy: 144/152 -> 94.74%, genus matched: 148/152 -> 97.37%\n"
     ]
    }
   ],
   "source": [
    "test_top_k(model_data, f\"{dataset_dir}/random-test\", 10, print_preds=False, print_top1_accuracy=False, print_no_match=True)"
   ]
  },
  {
   "cell_type": "code",
   "execution_count": 10,
   "id": "d239a1b4-03dc-446d-821c-52a025f3baad",
   "metadata": {},
   "outputs": [
    {
     "name": "stdout",
     "output_type": "stream",
     "text": [
      "apona-spp: \n",
      "\t \u001b[33mphazaca-spp\u001b[0m(0.159)  \u001b[33mapona-caschmirensis\u001b[0m(0.104)  \u001b[33mphazaca-leucocera\u001b[0m(0.085)  \u001b[33mbombyx-huttoni\u001b[0m(0.058)  \n",
      "\t \u001b[33mambulyx-aglaia\u001b[0m(0.049)  \u001b[33mmarumba-dyras\u001b[0m(0.040)  \u001b[33mepipleminae-genera-spp\u001b[0m(0.035)  \u001b[33mtraminda-aventiaria\u001b[0m(0.032)  \n",
      "\t \u001b[33mmonobolodes-simulans\u001b[0m(0.027)  \u001b[33manonychia-grisea\u001b[0m(0.027)  \n",
      "Top  10 accuracy: 4/5 -> 80.00%, genus matched: 5/5 -> 100.00%\n"
     ]
    }
   ],
   "source": [
    "test_top_k(model_data, f\"{dataset_dir}/my-test\", 10, print_preds=False, print_top1_accuracy=False, print_no_match=True)"
   ]
  },
  {
   "cell_type": "code",
   "execution_count": null,
   "id": "09b89cf3-be62-4ca9-bf24-ab9e958d23db",
   "metadata": {},
   "outputs": [],
   "source": []
  },
  {
   "cell_type": "code",
   "execution_count": null,
   "id": "b828e9e6-8a20-4566-8691-67f0ecc7f47e",
   "metadata": {},
   "outputs": [],
   "source": []
  },
  {
   "cell_type": "code",
   "execution_count": null,
   "id": "1b7501ad-23d1-46c1-82c5-5298c508888e",
   "metadata": {},
   "outputs": [],
   "source": []
  },
  {
   "cell_type": "code",
   "execution_count": null,
   "id": "c74f0abc-edf8-47b6-affc-6295358ffb0b",
   "metadata": {},
   "outputs": [],
   "source": []
  }
 ],
 "metadata": {
  "kernelspec": {
   "display_name": "Python 3 (ipykernel)",
   "language": "python",
   "name": "python3"
  },
  "language_info": {
   "codemirror_mode": {
    "name": "ipython",
    "version": 3
   },
   "file_extension": ".py",
   "mimetype": "text/x-python",
   "name": "python",
   "nbconvert_exporter": "python",
   "pygments_lexer": "ipython3",
   "version": "3.12.9"
  }
 },
 "nbformat": 4,
 "nbformat_minor": 5
}
