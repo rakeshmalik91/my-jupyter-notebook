{
 "cells": [
  {
   "cell_type": "code",
   "execution_count": 6,
   "id": "75b98daf-7cea-49f8-9aae-15c5c299c5ff",
   "metadata": {},
   "outputs": [],
   "source": [
    "# !pip install python-Levenshtein"
   ]
  },
  {
   "cell_type": "code",
   "execution_count": 2,
   "id": "629f05f7-c748-43a9-8862-66734fa9e592",
   "metadata": {},
   "outputs": [],
   "source": [
    "import shutil\n",
    "import os\n",
    "import time\n",
    "import datetime\n",
    "import re\n",
    "from pathlib import Path\n",
    "from PIL import Image\n",
    "import Levenshtein"
   ]
  },
  {
   "cell_type": "code",
   "execution_count": 6,
   "id": "50386b93-e321-4a8f-9c27-70c1806f07cc",
   "metadata": {},
   "outputs": [],
   "source": [
    "# copy flat test directory to hierarchical test directory\n",
    "\n",
    "def flat_to_hierarchical_test_dir(src_dir, target_dir):\n",
    "    for file in Path(src_dir).iterdir():\n",
    "        if file.is_file():\n",
    "            species_name = re.sub(r\".(jpg|png|jpeg)$\", \"\", file.name)\n",
    "            species_name = re.sub(r\"__|(-[0-9]+$)\", \"\", species_name)\n",
    "            # print(species_name)\n",
    "            species_dir = f\"{target_dir}/{species_name.lower()}\"\n",
    "            if not os.path.exists(species_dir):\n",
    "                os.makedirs(species_dir)\n",
    "            shutil.copy(file, species_dir)\n",
    "\n",
    "for family in [\"moth\", \"butterfly\"]:\n",
    "    target_dir = f\"insect-dataset/{family}/val\"\n",
    "    if os.path.exists(target_dir):\n",
    "            shutil.rmtree(target_dir)\n",
    "    for src in [\"random-test\", \"my-test\"]:\n",
    "        flat_to_hierarchical_test_dir(f\"insect-dataset/{family}/{src}\", target_dir)"
   ]
  },
  {
   "cell_type": "code",
   "execution_count": 2,
   "id": "d39f1dd3-5d57-4543-9cd6-612e2a78f96e",
   "metadata": {},
   "outputs": [],
   "source": [
    "def rename_and_merge_folder(src, dst):\n",
    "    if os.path.exists(dst):\n",
    "        for item in os.listdir(src):\n",
    "            src_path = os.path.join(src, item)\n",
    "            dst_path = os.path.join(dst, item)\n",
    "            if os.path.isdir(src_path):\n",
    "                rename_and_merge_folder(src_path, dst_path)\n",
    "            else:\n",
    "                shutil.move(src_path, dst_path)\n",
    "        os.rmdir(src)\n",
    "    else:\n",
    "        shutil.move(src, dst)"
   ]
  },
  {
   "cell_type": "code",
   "execution_count": 45,
   "id": "40b1bd82-30fe-486e-a9dc-e064138b8c35",
   "metadata": {},
   "outputs": [],
   "source": [
    "# find classes with -spp2 or -genera-spp\n",
    "\n",
    "for dataset_dir in [f\"insect-dataset/lepidoptera/data\"]:\n",
    "    for file in Path(dataset_dir).iterdir():\n",
    "        if file.is_dir() and (file.name.endswith(\"-spp2\") or file.name.endswith(\"-genera-spp\")):\n",
    "            renamed = re.sub(r\"-(spp2|genera-spp)$\", \"-spp\", file.name)\n",
    "            print(f\"Renaming {file.name} to {renamed}\")\n",
    "            rename_and_merge_folder(file, f\"{dataset_dir}/{renamed}\")"
   ]
  },
  {
   "cell_type": "code",
   "execution_count": 19,
   "id": "8db42115-80a8-45cc-a8d2-3572d3942253",
   "metadata": {},
   "outputs": [
    {
     "name": "stdout",
     "output_type": "stream",
     "text": [
      "achaea-spp (4) <------> acraea-spp (3)\n",
      "arna-spp (1) <------> aroa-spp (3)\n",
      "barasa-spp (0) <------> parasa-spp (7)\n",
      "burara-spp (7) <------> buzara-spp (1)\n",
      "cyana-spp (21) <------> tyana-spp (5)\n",
      "idaea-spp (10) <------> idea-spp (2)\n",
      "idea-spp (2) <------> udea-spp (2)\n",
      "\n",
      "charaxes-dolon <------> charaxes-solon\n",
      "lethe-dura <------> lethe-sura\n",
      "neptis-nana <------> neptis-nata\n",
      "parotis-marginata <------> parotis-marinata\n"
     ]
    }
   ],
   "source": [
    "# find classes with possible typo\n",
    "\n",
    "def num_classes_match_genus(class1, files):\n",
    "    genus = class1.split('-')[0]\n",
    "    return len([ file.name for file in files if file.name.startswith(genus) ])\n",
    "\n",
    "threshold = 1\n",
    "for dataset_dir in [f\"insect-dataset/lepidoptera/data\"]:\n",
    "    genus_classes = [ file for file in Path(dataset_dir).iterdir() if file.is_dir() and file.name.endswith(\"-spp\") ]\n",
    "    species_classes = [ file for file in Path(dataset_dir).iterdir() if file.is_dir() and not file.name.endswith(\"-spp\") ]\n",
    "    for i1 in range(0, len(genus_classes)):\n",
    "        for i2 in range(i1 + 1, len(genus_classes)):\n",
    "            dist = Levenshtein.distance(genus_classes[i1].name, genus_classes[i2].name)\n",
    "            if dist <= threshold and not (genus_classes[i1].name.endswith(\"dae-spp\") and genus_classes[i2].name.endswith(\"nae-spp\")):\n",
    "                match1 = num_classes_match_genus(genus_classes[i1].name, species_classes)\n",
    "                match2 = num_classes_match_genus(genus_classes[i2].name, species_classes)\n",
    "                print(f\"{genus_classes[i1].name} ({match1}) <------> {genus_classes[i2].name} ({match2})\")\n",
    "    print()\n",
    "    for i1 in range(0, len(species_classes)):\n",
    "        for i2 in range(i1 + 1, len(species_classes)):\n",
    "            dist = Levenshtein.distance(species_classes[i1].name, species_classes[i2].name)\n",
    "            if dist <= threshold:\n",
    "                if species_classes[i1].name.split('-')[0] == species_classes[i2].name.split('-')[0]:\n",
    "                    print(f\"{species_classes[i1].name} <------> {species_classes[i2].name}\")\n",
    "                else:\n",
    "                    match1 = num_classes_match_genus(species_classes[i1].name, species_classes)\n",
    "                    match2 = num_classes_match_genus(species_classes[i2].name, species_classes)\n",
    "                    print(f\"{species_classes[i1].name} ({match1}) <------> {species_classes[i2].name} ({match2})\")"
   ]
  },
  {
   "cell_type": "code",
   "execution_count": 18,
   "id": "fc546afb-6381-4a7a-b683-062245750644",
   "metadata": {},
   "outputs": [],
   "source": [
    "to_rename = {\n",
    "    # \"lymantrinae-spp\": \"lymantriinae-spp\",\n",
    "    \"acraea-terpsichore\": \"acraea-terpsicore\",\n",
    "    \"appias-lyncinda\": \"appias-lyncida\",\n",
    "    \"callopistria-pulchrillinea\": \"callopistria-pulchrilinea\",\n",
    "    \"catapoecilma-major\": \"catapaecilma-major\",\n",
    "    \"chasmina-cadida\": \"chasmina-candida\",\n",
    "    \"conogethes-puntiferalis\": \"conogethes-punctiferalis\",\n",
    "    \"earias-vittella\": \"earias-vitella\",\n",
    "    \"elymnias-peali\": \"elymnias-pealii\",\n",
    "    \"eurema-andersonii\": \"eurema-andersoni\",\n",
    "    \"gesonia-obeiditalis\": \"gesonia-obeditalis\",\n",
    "    \"homodes-propitia\": \"hamodes-propitia\",\n",
    "    \"hyalobathra-opheltisalis\": \"hyalobathra-opheltesalis\",\n",
    "    \"hypomecis-reparata\": \"hypomecis-separata\",\n",
    "    \"leucophlebia-lineate\": \"leucophlebia-lineata\",\n",
    "    \"orvasca-subnotota\": \"orvasca-subnotata\",\n",
    "    \"polydesma-boarmioides\": \"polydesma-boarmoides\",\n",
    "    \"spalgis-epeus\": \"spalgis-epius\",\n",
    "    \"ypthima-chenu\": \"ypthima-chenui\",\n",
    "}\n",
    "\n",
    "for dataset_dir in [f\"insect-dataset/lepidoptera/data\"]:\n",
    "    for src, dst in to_rename.items():\n",
    "        # print(f\"Renaming {dataset_dir}/{src} to {dataset_dir}/{dst}\")\n",
    "        rename_and_merge_folder(f\"{dataset_dir}/{src}\", f\"{dataset_dir}/{dst}\")"
   ]
  },
  {
   "cell_type": "code",
   "execution_count": null,
   "id": "213987cd-7a3f-4dfc-b28c-44040ba8a997",
   "metadata": {},
   "outputs": [],
   "source": []
  }
 ],
 "metadata": {
  "kernelspec": {
   "display_name": "Python 3 (ipykernel)",
   "language": "python",
   "name": "python3"
  },
  "language_info": {
   "codemirror_mode": {
    "name": "ipython",
    "version": 3
   },
   "file_extension": ".py",
   "mimetype": "text/x-python",
   "name": "python",
   "nbconvert_exporter": "python",
   "pygments_lexer": "ipython3",
   "version": "3.12.9"
  }
 },
 "nbformat": 4,
 "nbformat_minor": 5
}
