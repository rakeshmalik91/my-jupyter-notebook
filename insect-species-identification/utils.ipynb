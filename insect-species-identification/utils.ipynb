{
 "cells": [
  {
   "cell_type": "code",
   "execution_count": 6,
   "id": "629f05f7-c748-43a9-8862-66734fa9e592",
   "metadata": {},
   "outputs": [],
   "source": [
    "import shutil\n",
    "import os\n",
    "import time\n",
    "import datetime\n",
    "import re\n",
    "from pathlib import Path\n",
    "from PIL import Image"
   ]
  },
  {
   "cell_type": "code",
   "execution_count": 9,
   "id": "50386b93-e321-4a8f-9c27-70c1806f07cc",
   "metadata": {},
   "outputs": [],
   "source": [
    "# copy flat test directory to hierarchical test directory\n",
    "\n",
    "def flat_to_hierarchical_test_dir(src_dir, target_dir):\n",
    "    for file in Path(src_dir).iterdir():\n",
    "        if file.is_file():\n",
    "            species_name = re.sub(r\".(jpg|png|jpeg)$\", \"\", file.name)\n",
    "            species_name = re.sub(r\"__|(-[0-9]+$)\", \"\", species_name)\n",
    "            # print(species_name)\n",
    "            species_dir = f\"{target_dir}/{species_name}\"\n",
    "            if not os.path.exists(species_dir):\n",
    "                os.makedirs(species_dir)\n",
    "            shutil.copy(file, species_dir)\n",
    "\n",
    "for family in [\"moth\", \"butterfly\"]:\n",
    "    target_dir = f\"insect-dataset/{family}/val\"\n",
    "    if os.path.exists(target_dir):\n",
    "            shutil.rmtree(target_dir)\n",
    "    for src in [\"random-test\", \"my-test\"]:\n",
    "        flat_to_hierarchical_test_dir(f\"insect-dataset/{family}/{src}\", target_dir)"
   ]
  },
  {
   "cell_type": "code",
   "execution_count": null,
   "id": "8db42115-80a8-45cc-a8d2-3572d3942253",
   "metadata": {},
   "outputs": [],
   "source": []
  }
 ],
 "metadata": {
  "kernelspec": {
   "display_name": "Python 3 (ipykernel)",
   "language": "python",
   "name": "python3"
  },
  "language_info": {
   "codemirror_mode": {
    "name": "ipython",
    "version": 3
   },
   "file_extension": ".py",
   "mimetype": "text/x-python",
   "name": "python",
   "nbconvert_exporter": "python",
   "pygments_lexer": "ipython3",
   "version": "3.12.9"
  }
 },
 "nbformat": 4,
 "nbformat_minor": 5
}
